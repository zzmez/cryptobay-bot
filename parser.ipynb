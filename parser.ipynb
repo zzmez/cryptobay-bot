{
 "cells": [
  {
   "cell_type": "code",
   "execution_count": 52,
   "source": [
    "import pandas as pd\r\n",
    "import numpy as np"
   ],
   "outputs": [],
   "metadata": {}
  },
  {
   "cell_type": "code",
   "execution_count": 121,
   "source": [
    "header = ['transaction_id', 'ship_id', 'ship_class', 'ship_durability', 'ship_owner', \\\r\n",
    "        'ship_attr_space', 'ship_attr_speed', 'ship_attr_skill', 'ship_attr_defence', 'ship_attr_attack', 'ship_attr_morale', \\\r\n",
    "        'ship_parts_keel', 'ship_parts_sail', 'ship_parts_side', 'ship_parts_bow', 'ship_parts_cabin', 'ship_parts_stern', \\\r\n",
    "        'ship_sold_price']\r\n",
    "\r\n",
    "sold_df = pd.DataFrame(columns=header)\r\n"
   ],
   "outputs": [],
   "metadata": {}
  },
  {
   "cell_type": "code",
   "execution_count": 83,
   "source": [
    "sold_df = pd.read_csv('db/extracted_sold.csv', names=header)\r\n",
    "sold_df"
   ],
   "outputs": [
    {
     "output_type": "execute_result",
     "data": {
      "text/html": [
       "<div>\n",
       "<style scoped>\n",
       "    .dataframe tbody tr th:only-of-type {\n",
       "        vertical-align: middle;\n",
       "    }\n",
       "\n",
       "    .dataframe tbody tr th {\n",
       "        vertical-align: top;\n",
       "    }\n",
       "\n",
       "    .dataframe thead th {\n",
       "        text-align: right;\n",
       "    }\n",
       "</style>\n",
       "<table border=\"1\" class=\"dataframe\">\n",
       "  <thead>\n",
       "    <tr style=\"text-align: right;\">\n",
       "      <th></th>\n",
       "      <th>transaction_id</th>\n",
       "      <th>ship_id</th>\n",
       "      <th>ship_class</th>\n",
       "      <th>ship_durability</th>\n",
       "      <th>ship_owner</th>\n",
       "      <th>ship_attr_space</th>\n",
       "      <th>ship_attr_speed</th>\n",
       "      <th>ship_attr_skill</th>\n",
       "      <th>ship_attr_defence</th>\n",
       "      <th>ship_attr_attack</th>\n",
       "      <th>ship_attr_morale</th>\n",
       "      <th>ship_parts_keel</th>\n",
       "      <th>ship_parts_sail</th>\n",
       "      <th>ship_parts_side</th>\n",
       "      <th>ship_parts_bow</th>\n",
       "      <th>ship_parts_cabin</th>\n",
       "      <th>ship_parts_stern</th>\n",
       "      <th>ship_sold_price</th>\n",
       "    </tr>\n",
       "  </thead>\n",
       "  <tbody>\n",
       "    <tr>\n",
       "      <th>0</th>\n",
       "      <td>86</td>\n",
       "      <td>18014</td>\n",
       "      <td>Warship</td>\n",
       "      <td>12</td>\n",
       "      <td>0x6399fd5f8e89300833c4E2709DbC26B294721B1f</td>\n",
       "      <td>7</td>\n",
       "      <td>13</td>\n",
       "      <td>12</td>\n",
       "      <td>11</td>\n",
       "      <td>15</td>\n",
       "      <td>6</td>\n",
       "      <td>Tienshanosaurus'spine</td>\n",
       "      <td>Edmontosaurus'sail</td>\n",
       "      <td>Elasmosaurus'leg</td>\n",
       "      <td>Archaeopteryx'skull</td>\n",
       "      <td>Tenontosaurus'ribs</td>\n",
       "      <td>Aegyptosaurus'tail</td>\n",
       "      <td>999.5</td>\n",
       "    </tr>\n",
       "  </tbody>\n",
       "</table>\n",
       "</div>"
      ],
      "text/plain": [
       "   transaction_id  ship_id ship_class  ship_durability  \\\n",
       "0              86    18014    Warship               12   \n",
       "\n",
       "                                   ship_owner  ship_attr_space  \\\n",
       "0  0x6399fd5f8e89300833c4E2709DbC26B294721B1f                7   \n",
       "\n",
       "   ship_attr_speed  ship_attr_skill  ship_attr_defence  ship_attr_attack  \\\n",
       "0               13               12                 11                15   \n",
       "\n",
       "   ship_attr_morale        ship_parts_keel     ship_parts_sail  \\\n",
       "0                 6  Tienshanosaurus'spine  Edmontosaurus'sail   \n",
       "\n",
       "    ship_parts_side       ship_parts_bow    ship_parts_cabin  \\\n",
       "0  Elasmosaurus'leg  Archaeopteryx'skull  Tenontosaurus'ribs   \n",
       "\n",
       "     ship_parts_stern  ship_sold_price  \n",
       "0  Aegyptosaurus'tail            999.5  "
      ]
     },
     "metadata": {},
     "execution_count": 83
    }
   ],
   "metadata": {}
  },
  {
   "cell_type": "code",
   "execution_count": 122,
   "source": [
    "aaa = \"86,18014,Warship,12,0x6399fd5f8e89300833c4E2709DbC26B294721B1f,7,13,12,11,15,6,Tienshanosaurus'spine,Edmontosaurus'sail,Elasmosaurus'leg,Archaeopteryx'skull,Tenontosaurus'ribs,Aegyptosaurus'tail,0\""
   ],
   "outputs": [],
   "metadata": {}
  },
  {
   "cell_type": "code",
   "execution_count": 125,
   "source": [
    "zzlist = aaa.split(',')\r\n",
    "zzlist"
   ],
   "outputs": [
    {
     "output_type": "execute_result",
     "data": {
      "text/plain": [
       "['86',\n",
       " '18014',\n",
       " 'Warship',\n",
       " '12',\n",
       " '0x6399fd5f8e89300833c4E2709DbC26B294721B1f',\n",
       " '7',\n",
       " '13',\n",
       " '12',\n",
       " '11',\n",
       " '15',\n",
       " '6',\n",
       " \"Tienshanosaurus'spine\",\n",
       " \"Edmontosaurus'sail\",\n",
       " \"Elasmosaurus'leg\",\n",
       " \"Archaeopteryx'skull\",\n",
       " \"Tenontosaurus'ribs\",\n",
       " \"Aegyptosaurus'tail\",\n",
       " '0']"
      ]
     },
     "metadata": {},
     "execution_count": 125
    }
   ],
   "metadata": {}
  },
  {
   "cell_type": "code",
   "execution_count": 136,
   "source": [
    "zzdf = pd.DataFrame([zzlist], columns=header)\r\n",
    "zzdf"
   ],
   "outputs": [
    {
     "output_type": "execute_result",
     "data": {
      "text/html": [
       "<div>\n",
       "<style scoped>\n",
       "    .dataframe tbody tr th:only-of-type {\n",
       "        vertical-align: middle;\n",
       "    }\n",
       "\n",
       "    .dataframe tbody tr th {\n",
       "        vertical-align: top;\n",
       "    }\n",
       "\n",
       "    .dataframe thead th {\n",
       "        text-align: right;\n",
       "    }\n",
       "</style>\n",
       "<table border=\"1\" class=\"dataframe\">\n",
       "  <thead>\n",
       "    <tr style=\"text-align: right;\">\n",
       "      <th></th>\n",
       "      <th>transaction_id</th>\n",
       "      <th>ship_id</th>\n",
       "      <th>ship_class</th>\n",
       "      <th>ship_durability</th>\n",
       "      <th>ship_owner</th>\n",
       "      <th>ship_attr_space</th>\n",
       "      <th>ship_attr_speed</th>\n",
       "      <th>ship_attr_skill</th>\n",
       "      <th>ship_attr_defence</th>\n",
       "      <th>ship_attr_attack</th>\n",
       "      <th>ship_attr_morale</th>\n",
       "      <th>ship_parts_keel</th>\n",
       "      <th>ship_parts_sail</th>\n",
       "      <th>ship_parts_side</th>\n",
       "      <th>ship_parts_bow</th>\n",
       "      <th>ship_parts_cabin</th>\n",
       "      <th>ship_parts_stern</th>\n",
       "      <th>ship_sold_price</th>\n",
       "    </tr>\n",
       "  </thead>\n",
       "  <tbody>\n",
       "    <tr>\n",
       "      <th>0</th>\n",
       "      <td>86</td>\n",
       "      <td>18014</td>\n",
       "      <td>Warship</td>\n",
       "      <td>12</td>\n",
       "      <td>0x6399fd5f8e89300833c4E2709DbC26B294721B1f</td>\n",
       "      <td>7</td>\n",
       "      <td>13</td>\n",
       "      <td>12</td>\n",
       "      <td>11</td>\n",
       "      <td>15</td>\n",
       "      <td>6</td>\n",
       "      <td>Tienshanosaurus'spine</td>\n",
       "      <td>Edmontosaurus'sail</td>\n",
       "      <td>Elasmosaurus'leg</td>\n",
       "      <td>Archaeopteryx'skull</td>\n",
       "      <td>Tenontosaurus'ribs</td>\n",
       "      <td>Aegyptosaurus'tail</td>\n",
       "      <td>0</td>\n",
       "    </tr>\n",
       "  </tbody>\n",
       "</table>\n",
       "</div>"
      ],
      "text/plain": [
       "  transaction_id ship_id ship_class ship_durability  \\\n",
       "0             86   18014    Warship              12   \n",
       "\n",
       "                                   ship_owner ship_attr_space ship_attr_speed  \\\n",
       "0  0x6399fd5f8e89300833c4E2709DbC26B294721B1f               7              13   \n",
       "\n",
       "  ship_attr_skill ship_attr_defence ship_attr_attack ship_attr_morale  \\\n",
       "0              12                11               15                6   \n",
       "\n",
       "         ship_parts_keel     ship_parts_sail   ship_parts_side  \\\n",
       "0  Tienshanosaurus'spine  Edmontosaurus'sail  Elasmosaurus'leg   \n",
       "\n",
       "        ship_parts_bow    ship_parts_cabin    ship_parts_stern ship_sold_price  \n",
       "0  Archaeopteryx'skull  Tenontosaurus'ribs  Aegyptosaurus'tail               0  "
      ]
     },
     "metadata": {},
     "execution_count": 136
    }
   ],
   "metadata": {}
  },
  {
   "cell_type": "code",
   "execution_count": 138,
   "source": [
    "sold_df.append(zzdf)\r\n",
    "#pd.concat(sold_df, zzdf)\r\n",
    "\r\n",
    "#sold_df"
   ],
   "outputs": [
    {
     "output_type": "execute_result",
     "data": {
      "text/html": [
       "<div>\n",
       "<style scoped>\n",
       "    .dataframe tbody tr th:only-of-type {\n",
       "        vertical-align: middle;\n",
       "    }\n",
       "\n",
       "    .dataframe tbody tr th {\n",
       "        vertical-align: top;\n",
       "    }\n",
       "\n",
       "    .dataframe thead th {\n",
       "        text-align: right;\n",
       "    }\n",
       "</style>\n",
       "<table border=\"1\" class=\"dataframe\">\n",
       "  <thead>\n",
       "    <tr style=\"text-align: right;\">\n",
       "      <th></th>\n",
       "      <th>transaction_id</th>\n",
       "      <th>ship_id</th>\n",
       "      <th>ship_class</th>\n",
       "      <th>ship_durability</th>\n",
       "      <th>ship_owner</th>\n",
       "      <th>ship_attr_space</th>\n",
       "      <th>ship_attr_speed</th>\n",
       "      <th>ship_attr_skill</th>\n",
       "      <th>ship_attr_defence</th>\n",
       "      <th>ship_attr_attack</th>\n",
       "      <th>ship_attr_morale</th>\n",
       "      <th>ship_parts_keel</th>\n",
       "      <th>ship_parts_sail</th>\n",
       "      <th>ship_parts_side</th>\n",
       "      <th>ship_parts_bow</th>\n",
       "      <th>ship_parts_cabin</th>\n",
       "      <th>ship_parts_stern</th>\n",
       "      <th>ship_sold_price</th>\n",
       "    </tr>\n",
       "  </thead>\n",
       "  <tbody>\n",
       "    <tr>\n",
       "      <th>0</th>\n",
       "      <td>86</td>\n",
       "      <td>18014</td>\n",
       "      <td>Warship</td>\n",
       "      <td>12</td>\n",
       "      <td>0x6399fd5f8e89300833c4E2709DbC26B294721B1f</td>\n",
       "      <td>7</td>\n",
       "      <td>13</td>\n",
       "      <td>12</td>\n",
       "      <td>11</td>\n",
       "      <td>15</td>\n",
       "      <td>6</td>\n",
       "      <td>Tienshanosaurus'spine</td>\n",
       "      <td>Edmontosaurus'sail</td>\n",
       "      <td>Elasmosaurus'leg</td>\n",
       "      <td>Archaeopteryx'skull</td>\n",
       "      <td>Tenontosaurus'ribs</td>\n",
       "      <td>Aegyptosaurus'tail</td>\n",
       "      <td>0</td>\n",
       "    </tr>\n",
       "  </tbody>\n",
       "</table>\n",
       "</div>"
      ],
      "text/plain": [
       "  transaction_id ship_id ship_class ship_durability  \\\n",
       "0             86   18014    Warship              12   \n",
       "\n",
       "                                   ship_owner ship_attr_space ship_attr_speed  \\\n",
       "0  0x6399fd5f8e89300833c4E2709DbC26B294721B1f               7              13   \n",
       "\n",
       "  ship_attr_skill ship_attr_defence ship_attr_attack ship_attr_morale  \\\n",
       "0              12                11               15                6   \n",
       "\n",
       "         ship_parts_keel     ship_parts_sail   ship_parts_side  \\\n",
       "0  Tienshanosaurus'spine  Edmontosaurus'sail  Elasmosaurus'leg   \n",
       "\n",
       "        ship_parts_bow    ship_parts_cabin    ship_parts_stern ship_sold_price  \n",
       "0  Archaeopteryx'skull  Tenontosaurus'ribs  Aegyptosaurus'tail               0  "
      ]
     },
     "metadata": {},
     "execution_count": 138
    }
   ],
   "metadata": {}
  },
  {
   "cell_type": "code",
   "execution_count": 139,
   "source": [
    "a = \"1,21608,Cruiser,92,0xa6d1f1c0A78Ea1d17aa065657Ec7D9c0d6D7b759,12,12,14,9,13,7,Struthiomimus'spine,Elasmosaurus'sail,Labocania'leg,Struthiomimus'skull,Elosaurus 'ribs,Nanosaurus'tail,367.44\""
   ],
   "outputs": [],
   "metadata": {}
  },
  {
   "cell_type": "code",
   "execution_count": 151,
   "source": [
    "with open(\"db/extracted_sold.csv\", mode=\"a+\") as f:\r\n",
    "    f.write(\"test5\\n\")"
   ],
   "outputs": [],
   "metadata": {}
  },
  {
   "cell_type": "code",
   "execution_count": 141,
   "source": [
    "f.close()"
   ],
   "outputs": [],
   "metadata": {}
  },
  {
   "cell_type": "code",
   "execution_count": 10,
   "source": [
    "with open('db/extracted_sold.csv', mode='a+', buffering=1) as s:\r\n",
    "    for count, line in enumerate(s):\r\n",
    "        pass\r\n",
    "\r\n",
    "count\r\n"
   ],
   "outputs": [
    {
     "output_type": "execute_result",
     "data": {
      "text/plain": [
       "137"
      ]
     },
     "metadata": {},
     "execution_count": 10
    }
   ],
   "metadata": {}
  },
  {
   "cell_type": "code",
   "execution_count": 11,
   "source": [
    "int(count/10)"
   ],
   "outputs": [
    {
     "output_type": "execute_result",
     "data": {
      "text/plain": [
       "13"
      ]
     },
     "metadata": {},
     "execution_count": 11
    }
   ],
   "metadata": {}
  },
  {
   "cell_type": "code",
   "execution_count": null,
   "source": [],
   "outputs": [],
   "metadata": {}
  }
 ],
 "metadata": {
  "orig_nbformat": 4,
  "language_info": {
   "name": "python",
   "version": "3.8.8",
   "mimetype": "text/x-python",
   "codemirror_mode": {
    "name": "ipython",
    "version": 3
   },
   "pygments_lexer": "ipython3",
   "nbconvert_exporter": "python",
   "file_extension": ".py"
  },
  "kernelspec": {
   "name": "python3",
   "display_name": "Python 3.8.8 64-bit ('base': conda)"
  },
  "interpreter": {
   "hash": "63a3210ed32c8c5e8c5daf40c6fb71e88ea33494b3eaa8a6f1212a2d7aa3f0ac"
  }
 },
 "nbformat": 4,
 "nbformat_minor": 2
}