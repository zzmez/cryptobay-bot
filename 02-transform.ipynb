{
 "cells": [
  {
   "cell_type": "code",
   "execution_count": 2,
   "source": [
    "import numpy as np\r\n",
    "import pandas as pd\r\n",
    "from sklearn.linear_model import Lasso, Ridge\r\n",
    "from sklearn.linear_model import LinearRegression\r\n",
    "from sklearn.model_selection import train_test_split, cross_val_score\r\n",
    "from sklearn.metrics import mean_squared_error\r\n",
    "import seaborn as sns\r\n",
    "import  matplotlib.pyplot as plt\r\n",
    "import pickle"
   ],
   "outputs": [],
   "metadata": {}
  },
  {
   "cell_type": "code",
   "execution_count": 3,
   "source": [
    "# RAW DF ingestion\r\n",
    "columns = ['transaction_id', 'ship_id', 'ship_class', 'ship_durability', 'ship_owner', \\\r\n",
    "        'ship_attr_space', 'ship_attr_speed', 'ship_attr_skill', 'ship_attr_defence', 'ship_attr_attack', 'ship_attr_morale', \\\r\n",
    "        'ship_parts_keel', 'ship_parts_sail', 'ship_parts_side', 'ship_parts_bow', 'ship_parts_cabin', 'ship_parts_stern', \\\r\n",
    "        'ship_sold_price']\r\n",
    "raw_df = pd.read_csv(\"db/extracted_sold.csv\", names=columns)\r\n",
    "\r\n",
    "##\r\n",
    "\r\n",
    "raw_df = raw_df.drop_duplicates(subset=['transaction_id', 'ship_id'], keep='last').reset_index()"
   ],
   "outputs": [],
   "metadata": {}
  },
  {
   "cell_type": "code",
   "execution_count": 4,
   "source": [
    "raw_df.head()"
   ],
   "outputs": [
    {
     "output_type": "execute_result",
     "data": {
      "text/html": [
       "<div>\n",
       "<style scoped>\n",
       "    .dataframe tbody tr th:only-of-type {\n",
       "        vertical-align: middle;\n",
       "    }\n",
       "\n",
       "    .dataframe tbody tr th {\n",
       "        vertical-align: top;\n",
       "    }\n",
       "\n",
       "    .dataframe thead th {\n",
       "        text-align: right;\n",
       "    }\n",
       "</style>\n",
       "<table border=\"1\" class=\"dataframe\">\n",
       "  <thead>\n",
       "    <tr style=\"text-align: right;\">\n",
       "      <th></th>\n",
       "      <th>index</th>\n",
       "      <th>transaction_id</th>\n",
       "      <th>ship_id</th>\n",
       "      <th>ship_class</th>\n",
       "      <th>ship_durability</th>\n",
       "      <th>ship_owner</th>\n",
       "      <th>ship_attr_space</th>\n",
       "      <th>ship_attr_speed</th>\n",
       "      <th>ship_attr_skill</th>\n",
       "      <th>ship_attr_defence</th>\n",
       "      <th>ship_attr_attack</th>\n",
       "      <th>ship_attr_morale</th>\n",
       "      <th>ship_parts_keel</th>\n",
       "      <th>ship_parts_sail</th>\n",
       "      <th>ship_parts_side</th>\n",
       "      <th>ship_parts_bow</th>\n",
       "      <th>ship_parts_cabin</th>\n",
       "      <th>ship_parts_stern</th>\n",
       "      <th>ship_sold_price</th>\n",
       "    </tr>\n",
       "  </thead>\n",
       "  <tbody>\n",
       "    <tr>\n",
       "      <th>0</th>\n",
       "      <td>18</td>\n",
       "      <td>1</td>\n",
       "      <td>21608</td>\n",
       "      <td>Cruiser</td>\n",
       "      <td>92</td>\n",
       "      <td>0xa6d1f1c0A78Ea1d17aa065657Ec7D9c0d6D7b759</td>\n",
       "      <td>12</td>\n",
       "      <td>12</td>\n",
       "      <td>14</td>\n",
       "      <td>9</td>\n",
       "      <td>13</td>\n",
       "      <td>7</td>\n",
       "      <td>Struthiomimus'spine</td>\n",
       "      <td>Elasmosaurus'sail</td>\n",
       "      <td>Labocania'leg</td>\n",
       "      <td>Struthiomimus'skull</td>\n",
       "      <td>Elosaurus 'ribs</td>\n",
       "      <td>Nanosaurus'tail</td>\n",
       "      <td>372.12</td>\n",
       "    </tr>\n",
       "    <tr>\n",
       "      <th>1</th>\n",
       "      <td>19</td>\n",
       "      <td>86</td>\n",
       "      <td>18014</td>\n",
       "      <td>Warship</td>\n",
       "      <td>12</td>\n",
       "      <td>0x6399fd5f8e89300833c4E2709DbC26B294721B1f</td>\n",
       "      <td>7</td>\n",
       "      <td>13</td>\n",
       "      <td>12</td>\n",
       "      <td>11</td>\n",
       "      <td>15</td>\n",
       "      <td>6</td>\n",
       "      <td>Tienshanosaurus'spine</td>\n",
       "      <td>Edmontosaurus'sail</td>\n",
       "      <td>Elasmosaurus'leg</td>\n",
       "      <td>Archaeopteryx'skull</td>\n",
       "      <td>Tenontosaurus'ribs</td>\n",
       "      <td>Aegyptosaurus'tail</td>\n",
       "      <td>74.42</td>\n",
       "    </tr>\n",
       "    <tr>\n",
       "      <th>2</th>\n",
       "      <td>20</td>\n",
       "      <td>170</td>\n",
       "      <td>7759</td>\n",
       "      <td>Destroyer</td>\n",
       "      <td>88</td>\n",
       "      <td>0x5e48D4d52E3A47e1eECB6ad655Da0d70EFbe36C5</td>\n",
       "      <td>6</td>\n",
       "      <td>15</td>\n",
       "      <td>9</td>\n",
       "      <td>7</td>\n",
       "      <td>14</td>\n",
       "      <td>13</td>\n",
       "      <td>Iguanodon'spine</td>\n",
       "      <td>Pterodactylus'sail</td>\n",
       "      <td>Lycorhinus'leg</td>\n",
       "      <td>Chasmosaurus'skull</td>\n",
       "      <td>Corythosaurus'ribs</td>\n",
       "      <td>Cryptoclidus'tail</td>\n",
       "      <td>70.70</td>\n",
       "    </tr>\n",
       "    <tr>\n",
       "      <th>3</th>\n",
       "      <td>21</td>\n",
       "      <td>218</td>\n",
       "      <td>2731</td>\n",
       "      <td>Cruiser</td>\n",
       "      <td>13</td>\n",
       "      <td>0xA848E2AfaA57665316F9b61938A76fDb7663Bf20</td>\n",
       "      <td>12</td>\n",
       "      <td>6</td>\n",
       "      <td>13</td>\n",
       "      <td>5</td>\n",
       "      <td>7</td>\n",
       "      <td>6</td>\n",
       "      <td>Enigmosaurus'spine</td>\n",
       "      <td>Giganotosaurus'sail</td>\n",
       "      <td>Ornitholestes'leg</td>\n",
       "      <td>Scelidosaurus'skull</td>\n",
       "      <td>Aragosaurus'ribs</td>\n",
       "      <td>Allosaurus'tail</td>\n",
       "      <td>40.93</td>\n",
       "    </tr>\n",
       "    <tr>\n",
       "      <th>4</th>\n",
       "      <td>22</td>\n",
       "      <td>203</td>\n",
       "      <td>13389</td>\n",
       "      <td>Destroyer</td>\n",
       "      <td>70</td>\n",
       "      <td>0x5DB3556bd7b4502E1104994f5a3e71aE5A88a8a1</td>\n",
       "      <td>15</td>\n",
       "      <td>15</td>\n",
       "      <td>11</td>\n",
       "      <td>7</td>\n",
       "      <td>11</td>\n",
       "      <td>15</td>\n",
       "      <td>Argentinosaurus'spine</td>\n",
       "      <td>Triceratops'sail</td>\n",
       "      <td>Criorhynchus'leg</td>\n",
       "      <td>Psittacosaurus'skull</td>\n",
       "      <td>Monoclonius'ribs</td>\n",
       "      <td>Compsognathus'tail</td>\n",
       "      <td>100.47</td>\n",
       "    </tr>\n",
       "  </tbody>\n",
       "</table>\n",
       "</div>"
      ],
      "text/plain": [
       "   index  transaction_id  ship_id ship_class  ship_durability  \\\n",
       "0     18               1    21608    Cruiser               92   \n",
       "1     19              86    18014    Warship               12   \n",
       "2     20             170     7759  Destroyer               88   \n",
       "3     21             218     2731    Cruiser               13   \n",
       "4     22             203    13389  Destroyer               70   \n",
       "\n",
       "                                   ship_owner  ship_attr_space  \\\n",
       "0  0xa6d1f1c0A78Ea1d17aa065657Ec7D9c0d6D7b759               12   \n",
       "1  0x6399fd5f8e89300833c4E2709DbC26B294721B1f                7   \n",
       "2  0x5e48D4d52E3A47e1eECB6ad655Da0d70EFbe36C5                6   \n",
       "3  0xA848E2AfaA57665316F9b61938A76fDb7663Bf20               12   \n",
       "4  0x5DB3556bd7b4502E1104994f5a3e71aE5A88a8a1               15   \n",
       "\n",
       "   ship_attr_speed  ship_attr_skill  ship_attr_defence  ship_attr_attack  \\\n",
       "0               12               14                  9                13   \n",
       "1               13               12                 11                15   \n",
       "2               15                9                  7                14   \n",
       "3                6               13                  5                 7   \n",
       "4               15               11                  7                11   \n",
       "\n",
       "   ship_attr_morale        ship_parts_keel      ship_parts_sail  \\\n",
       "0                 7    Struthiomimus'spine    Elasmosaurus'sail   \n",
       "1                 6  Tienshanosaurus'spine   Edmontosaurus'sail   \n",
       "2                13        Iguanodon'spine   Pterodactylus'sail   \n",
       "3                 6     Enigmosaurus'spine  Giganotosaurus'sail   \n",
       "4                15  Argentinosaurus'spine     Triceratops'sail   \n",
       "\n",
       "     ship_parts_side        ship_parts_bow    ship_parts_cabin  \\\n",
       "0      Labocania'leg   Struthiomimus'skull     Elosaurus 'ribs   \n",
       "1   Elasmosaurus'leg   Archaeopteryx'skull  Tenontosaurus'ribs   \n",
       "2     Lycorhinus'leg    Chasmosaurus'skull  Corythosaurus'ribs   \n",
       "3  Ornitholestes'leg   Scelidosaurus'skull    Aragosaurus'ribs   \n",
       "4   Criorhynchus'leg  Psittacosaurus'skull    Monoclonius'ribs   \n",
       "\n",
       "     ship_parts_stern  ship_sold_price  \n",
       "0     Nanosaurus'tail           372.12  \n",
       "1  Aegyptosaurus'tail            74.42  \n",
       "2   Cryptoclidus'tail            70.70  \n",
       "3     Allosaurus'tail            40.93  \n",
       "4  Compsognathus'tail           100.47  "
      ]
     },
     "metadata": {},
     "execution_count": 4
    }
   ],
   "metadata": {}
  },
  {
   "cell_type": "code",
   "execution_count": 5,
   "source": [
    "# CLEAN UP 1 AND UP TO 99 PERCENTILE\r\n",
    "raw_df = raw_df[(raw_df['ship_sold_price'] >= raw_df['ship_sold_price'].quantile(0.01)) & (raw_df['ship_sold_price'] <= raw_df['ship_sold_price'].quantile(0.99))]"
   ],
   "outputs": [],
   "metadata": {}
  },
  {
   "cell_type": "code",
   "execution_count": 6,
   "source": [
    "raw_df.describe()"
   ],
   "outputs": [
    {
     "output_type": "execute_result",
     "data": {
      "text/html": [
       "<div>\n",
       "<style scoped>\n",
       "    .dataframe tbody tr th:only-of-type {\n",
       "        vertical-align: middle;\n",
       "    }\n",
       "\n",
       "    .dataframe tbody tr th {\n",
       "        vertical-align: top;\n",
       "    }\n",
       "\n",
       "    .dataframe thead th {\n",
       "        text-align: right;\n",
       "    }\n",
       "</style>\n",
       "<table border=\"1\" class=\"dataframe\">\n",
       "  <thead>\n",
       "    <tr style=\"text-align: right;\">\n",
       "      <th></th>\n",
       "      <th>index</th>\n",
       "      <th>transaction_id</th>\n",
       "      <th>ship_id</th>\n",
       "      <th>ship_durability</th>\n",
       "      <th>ship_attr_space</th>\n",
       "      <th>ship_attr_speed</th>\n",
       "      <th>ship_attr_skill</th>\n",
       "      <th>ship_attr_defence</th>\n",
       "      <th>ship_attr_attack</th>\n",
       "      <th>ship_attr_morale</th>\n",
       "      <th>ship_sold_price</th>\n",
       "    </tr>\n",
       "  </thead>\n",
       "  <tbody>\n",
       "    <tr>\n",
       "      <th>count</th>\n",
       "      <td>3672.000000</td>\n",
       "      <td>3672.000000</td>\n",
       "      <td>3672.000000</td>\n",
       "      <td>3672.000000</td>\n",
       "      <td>3672.000000</td>\n",
       "      <td>3672.000000</td>\n",
       "      <td>3672.000000</td>\n",
       "      <td>3672.000000</td>\n",
       "      <td>3672.000000</td>\n",
       "      <td>3672.000000</td>\n",
       "      <td>3672.000000</td>\n",
       "    </tr>\n",
       "    <tr>\n",
       "      <th>mean</th>\n",
       "      <td>2050.570261</td>\n",
       "      <td>8270.288671</td>\n",
       "      <td>16910.422930</td>\n",
       "      <td>50.757353</td>\n",
       "      <td>9.637255</td>\n",
       "      <td>10.541394</td>\n",
       "      <td>10.173203</td>\n",
       "      <td>10.086329</td>\n",
       "      <td>9.721405</td>\n",
       "      <td>10.308007</td>\n",
       "      <td>72.408654</td>\n",
       "    </tr>\n",
       "    <tr>\n",
       "      <th>std</th>\n",
       "      <td>1155.933006</td>\n",
       "      <td>4574.991526</td>\n",
       "      <td>11045.594428</td>\n",
       "      <td>28.379730</td>\n",
       "      <td>3.063961</td>\n",
       "      <td>3.394345</td>\n",
       "      <td>3.226569</td>\n",
       "      <td>3.071367</td>\n",
       "      <td>3.297308</td>\n",
       "      <td>3.122865</td>\n",
       "      <td>38.562020</td>\n",
       "    </tr>\n",
       "    <tr>\n",
       "      <th>min</th>\n",
       "      <td>19.000000</td>\n",
       "      <td>86.000000</td>\n",
       "      <td>6.000000</td>\n",
       "      <td>0.000000</td>\n",
       "      <td>5.000000</td>\n",
       "      <td>5.000000</td>\n",
       "      <td>5.000000</td>\n",
       "      <td>5.000000</td>\n",
       "      <td>5.000000</td>\n",
       "      <td>5.000000</td>\n",
       "      <td>23.650000</td>\n",
       "    </tr>\n",
       "    <tr>\n",
       "      <th>25%</th>\n",
       "      <td>1047.750000</td>\n",
       "      <td>4428.750000</td>\n",
       "      <td>9142.000000</td>\n",
       "      <td>27.000000</td>\n",
       "      <td>7.000000</td>\n",
       "      <td>8.000000</td>\n",
       "      <td>7.000000</td>\n",
       "      <td>8.000000</td>\n",
       "      <td>7.000000</td>\n",
       "      <td>8.000000</td>\n",
       "      <td>48.097500</td>\n",
       "    </tr>\n",
       "    <tr>\n",
       "      <th>50%</th>\n",
       "      <td>2066.500000</td>\n",
       "      <td>8053.500000</td>\n",
       "      <td>15150.500000</td>\n",
       "      <td>51.000000</td>\n",
       "      <td>10.000000</td>\n",
       "      <td>11.000000</td>\n",
       "      <td>10.000000</td>\n",
       "      <td>10.000000</td>\n",
       "      <td>10.000000</td>\n",
       "      <td>11.000000</td>\n",
       "      <td>64.565000</td>\n",
       "    </tr>\n",
       "    <tr>\n",
       "      <th>75%</th>\n",
       "      <td>3065.250000</td>\n",
       "      <td>12389.250000</td>\n",
       "      <td>23701.000000</td>\n",
       "      <td>75.000000</td>\n",
       "      <td>12.000000</td>\n",
       "      <td>13.000000</td>\n",
       "      <td>13.000000</td>\n",
       "      <td>13.000000</td>\n",
       "      <td>13.000000</td>\n",
       "      <td>13.000000</td>\n",
       "      <td>85.287500</td>\n",
       "    </tr>\n",
       "    <tr>\n",
       "      <th>max</th>\n",
       "      <td>4021.000000</td>\n",
       "      <td>16895.000000</td>\n",
       "      <td>52475.000000</td>\n",
       "      <td>100.000000</td>\n",
       "      <td>17.000000</td>\n",
       "      <td>16.000000</td>\n",
       "      <td>17.000000</td>\n",
       "      <td>16.000000</td>\n",
       "      <td>17.000000</td>\n",
       "      <td>21.000000</td>\n",
       "      <td>315.700000</td>\n",
       "    </tr>\n",
       "  </tbody>\n",
       "</table>\n",
       "</div>"
      ],
      "text/plain": [
       "             index  transaction_id       ship_id  ship_durability  \\\n",
       "count  3672.000000     3672.000000   3672.000000      3672.000000   \n",
       "mean   2050.570261     8270.288671  16910.422930        50.757353   \n",
       "std    1155.933006     4574.991526  11045.594428        28.379730   \n",
       "min      19.000000       86.000000      6.000000         0.000000   \n",
       "25%    1047.750000     4428.750000   9142.000000        27.000000   \n",
       "50%    2066.500000     8053.500000  15150.500000        51.000000   \n",
       "75%    3065.250000    12389.250000  23701.000000        75.000000   \n",
       "max    4021.000000    16895.000000  52475.000000       100.000000   \n",
       "\n",
       "       ship_attr_space  ship_attr_speed  ship_attr_skill  ship_attr_defence  \\\n",
       "count      3672.000000      3672.000000      3672.000000        3672.000000   \n",
       "mean          9.637255        10.541394        10.173203          10.086329   \n",
       "std           3.063961         3.394345         3.226569           3.071367   \n",
       "min           5.000000         5.000000         5.000000           5.000000   \n",
       "25%           7.000000         8.000000         7.000000           8.000000   \n",
       "50%          10.000000        11.000000        10.000000          10.000000   \n",
       "75%          12.000000        13.000000        13.000000          13.000000   \n",
       "max          17.000000        16.000000        17.000000          16.000000   \n",
       "\n",
       "       ship_attr_attack  ship_attr_morale  ship_sold_price  \n",
       "count       3672.000000       3672.000000      3672.000000  \n",
       "mean           9.721405         10.308007        72.408654  \n",
       "std            3.297308          3.122865        38.562020  \n",
       "min            5.000000          5.000000        23.650000  \n",
       "25%            7.000000          8.000000        48.097500  \n",
       "50%           10.000000         11.000000        64.565000  \n",
       "75%           13.000000         13.000000        85.287500  \n",
       "max           17.000000         21.000000       315.700000  "
      ]
     },
     "metadata": {},
     "execution_count": 6
    }
   ],
   "metadata": {}
  },
  {
   "cell_type": "code",
   "execution_count": 7,
   "source": [
    "wo_cat_columns = ['ship_attr_space','ship_attr_speed','ship_attr_skill','ship_attr_defence','ship_attr_attack','ship_attr_morale', 'ship_sold_price']\r\n",
    "\r\n",
    "wo_cat_df = raw_df[wo_cat_columns]\r\n",
    "wo_cat_df.head()\r\n",
    "\r\n",
    "wo_cat_X = wo_cat_df.drop('ship_sold_price', axis = 1)\r\n",
    "wo_cat_y = wo_cat_df['ship_sold_price']"
   ],
   "outputs": [],
   "metadata": {}
  },
  {
   "cell_type": "code",
   "execution_count": 8,
   "source": [
    "# Training of the data\r\n",
    "X_train, X_test, y_train, y_test = train_test_split(wo_cat_X, wo_cat_y, test_size=0.3, random_state=42)\r\n",
    "reg = LinearRegression()\r\n",
    "reg.fit(X_train, y_train)"
   ],
   "outputs": [
    {
     "output_type": "execute_result",
     "data": {
      "text/plain": [
       "LinearRegression()"
      ]
     },
     "metadata": {},
     "execution_count": 8
    }
   ],
   "metadata": {}
  },
  {
   "cell_type": "code",
   "execution_count": 9,
   "source": [
    "# Predict on TEST dataset\r\n",
    "y_pred = reg.predict(X_test)\r\n",
    "reg.score(X_test, y_test)"
   ],
   "outputs": [
    {
     "output_type": "execute_result",
     "data": {
      "text/plain": [
       "0.3801740724889595"
      ]
     },
     "metadata": {},
     "execution_count": 9
    }
   ],
   "metadata": {}
  },
  {
   "cell_type": "code",
   "execution_count": 10,
   "source": [
    "# LINIAR REGRESSION\r\n",
    "cv_scores = cross_val_score(reg, wo_cat_X, wo_cat_y, cv=5)\r\n",
    "np.mean(cv_scores)"
   ],
   "outputs": [
    {
     "output_type": "execute_result",
     "data": {
      "text/plain": [
       "0.21620947006552965"
      ]
     },
     "metadata": {},
     "execution_count": 10
    }
   ],
   "metadata": {}
  },
  {
   "cell_type": "code",
   "execution_count": 11,
   "source": [
    "np.sqrt(mean_squared_error(y_test, y_pred))"
   ],
   "outputs": [
    {
     "output_type": "execute_result",
     "data": {
      "text/plain": [
       "30.64768375885892"
      ]
     },
     "metadata": {},
     "execution_count": 11
    }
   ],
   "metadata": {}
  },
  {
   "cell_type": "code",
   "execution_count": 12,
   "source": [
    "# USING L2 REGULARIZATION a - ridge\r\n",
    "\r\n",
    "ridge = Ridge(alpha=0.1, normalize=True)\r\n",
    "ridge_coef = ridge.fit(X_train, y_train).coef_\r\n",
    "ridge_pred = ridge.predict(X_test)\r\n",
    "ridge.score(X_test, y_test)\r\n",
    "\r\n",
    "cv_scores_ridge = cross_val_score(ridge, wo_cat_X, wo_cat_y, cv=5)\r\n",
    "np.mean(cv_scores_ridge)\r\n"
   ],
   "outputs": [
    {
     "output_type": "execute_result",
     "data": {
      "text/plain": [
       "0.2164308635029178"
      ]
     },
     "metadata": {},
     "execution_count": 12
    }
   ],
   "metadata": {}
  },
  {
   "cell_type": "code",
   "execution_count": 13,
   "source": [
    "np.sqrt(mean_squared_error(y_test, ridge_pred))"
   ],
   "outputs": [
    {
     "output_type": "execute_result",
     "data": {
      "text/plain": [
       "30.744378557313194"
      ]
     },
     "metadata": {},
     "execution_count": 13
    }
   ],
   "metadata": {}
  },
  {
   "cell_type": "code",
   "execution_count": 14,
   "source": [
    "# USING L1 regularization\r\n",
    "\r\n",
    "lasso = Lasso(alpha=0.99)\r\n",
    "lasso_coef = lasso.fit(X_train, y_train).coef_\r\n",
    "lasso_pred = lasso.predict(X_test)\r\n",
    "\r\n",
    "lasso.score(X_test, y_test)\r\n",
    "\r\n",
    "cv_scores_lasso = cross_val_score(lasso, wo_cat_X, wo_cat_y, cv=5)\r\n",
    "np.mean(cv_scores_lasso)\r\n"
   ],
   "outputs": [
    {
     "output_type": "execute_result",
     "data": {
      "text/plain": [
       "0.21669705678924753"
      ]
     },
     "metadata": {},
     "execution_count": 14
    }
   ],
   "metadata": {}
  },
  {
   "cell_type": "code",
   "execution_count": 15,
   "source": [
    "np.sqrt(mean_squared_error(y_test, lasso_pred))"
   ],
   "outputs": [
    {
     "output_type": "execute_result",
     "data": {
      "text/plain": [
       "30.676797277641906"
      ]
     },
     "metadata": {},
     "execution_count": 15
    }
   ],
   "metadata": {}
  },
  {
   "cell_type": "code",
   "execution_count": 16,
   "source": [
    "# Check the coefficient for penalization\r\n",
    "\r\n",
    "names = wo_cat_df.drop('ship_sold_price', axis=1).columns\r\n",
    "_ = plt.plot(range(len(names)), ridge_coef)\r\n",
    "_ = plt.xticks(range(len(names)), names, rotation=60)\r\n",
    "_ = plt.ylabel('Coefficients')\r\n",
    "plt.show()"
   ],
   "outputs": [
    {
     "output_type": "display_data",
     "data": {
      "image/png": "[encoded data removed]",
      "text/plain": [
       "<Figure size 432x288 with 1 Axes>"
      ]
     },
     "metadata": {
      "needs_background": "light"
     }
    }
   ],
   "metadata": {}
  },
  {
   "cell_type": "code",
   "execution_count": 17,
   "source": [
    "# SINGLE PREDICTION\r\n",
    "# zztest = np.array([8,8,11,8,5,8])\r\n",
    "zztest = np.array([5,13,15,6,11,5])\r\n",
    "zztest = zztest.reshape(1, -1)\r\n",
    "\r\n",
    "lasso.predict(zztest)\r\n",
    "## actual 34"
   ],
   "outputs": [
    {
     "output_type": "execute_result",
     "data": {
      "text/plain": [
       "array([61.35054854])"
      ]
     },
     "metadata": {},
     "execution_count": 17
    }
   ],
   "metadata": {}
  },
  {
   "cell_type": "code",
   "execution_count": 18,
   "source": [
    "#sns.histplot(raw_df['ship_sold_price'])"
   ],
   "outputs": [],
   "metadata": {}
  },
  {
   "cell_type": "code",
   "execution_count": 19,
   "source": [
    "raw_df[['ship_id', 'ship_sold_price']]"
   ],
   "outputs": [
    {
     "output_type": "execute_result",
     "data": {
      "text/html": [
       "<div>\n",
       "<style scoped>\n",
       "    .dataframe tbody tr th:only-of-type {\n",
       "        vertical-align: middle;\n",
       "    }\n",
       "\n",
       "    .dataframe tbody tr th {\n",
       "        vertical-align: top;\n",
       "    }\n",
       "\n",
       "    .dataframe thead th {\n",
       "        text-align: right;\n",
       "    }\n",
       "</style>\n",
       "<table border=\"1\" class=\"dataframe\">\n",
       "  <thead>\n",
       "    <tr style=\"text-align: right;\">\n",
       "      <th></th>\n",
       "      <th>ship_id</th>\n",
       "      <th>ship_sold_price</th>\n",
       "    </tr>\n",
       "  </thead>\n",
       "  <tbody>\n",
       "    <tr>\n",
       "      <th>1</th>\n",
       "      <td>18014</td>\n",
       "      <td>74.42</td>\n",
       "    </tr>\n",
       "    <tr>\n",
       "      <th>2</th>\n",
       "      <td>7759</td>\n",
       "      <td>70.70</td>\n",
       "    </tr>\n",
       "    <tr>\n",
       "      <th>3</th>\n",
       "      <td>2731</td>\n",
       "      <td>40.93</td>\n",
       "    </tr>\n",
       "    <tr>\n",
       "      <th>4</th>\n",
       "      <td>13389</td>\n",
       "      <td>100.47</td>\n",
       "    </tr>\n",
       "    <tr>\n",
       "      <th>5</th>\n",
       "      <td>17494</td>\n",
       "      <td>78.29</td>\n",
       "    </tr>\n",
       "    <tr>\n",
       "      <th>...</th>\n",
       "      <td>...</td>\n",
       "      <td>...</td>\n",
       "    </tr>\n",
       "    <tr>\n",
       "      <th>3743</th>\n",
       "      <td>16100</td>\n",
       "      <td>62.59</td>\n",
       "    </tr>\n",
       "    <tr>\n",
       "      <th>3744</th>\n",
       "      <td>28404</td>\n",
       "      <td>23.65</td>\n",
       "    </tr>\n",
       "    <tr>\n",
       "      <th>3745</th>\n",
       "      <td>2196</td>\n",
       "      <td>27.79</td>\n",
       "    </tr>\n",
       "    <tr>\n",
       "      <th>3746</th>\n",
       "      <td>18131</td>\n",
       "      <td>31.26</td>\n",
       "    </tr>\n",
       "    <tr>\n",
       "      <th>3747</th>\n",
       "      <td>18434</td>\n",
       "      <td>34.74</td>\n",
       "    </tr>\n",
       "  </tbody>\n",
       "</table>\n",
       "<p>3672 rows × 2 columns</p>\n",
       "</div>"
      ],
      "text/plain": [
       "      ship_id  ship_sold_price\n",
       "1       18014            74.42\n",
       "2        7759            70.70\n",
       "3        2731            40.93\n",
       "4       13389           100.47\n",
       "5       17494            78.29\n",
       "...       ...              ...\n",
       "3743    16100            62.59\n",
       "3744    28404            23.65\n",
       "3745     2196            27.79\n",
       "3746    18131            31.26\n",
       "3747    18434            34.74\n",
       "\n",
       "[3672 rows x 2 columns]"
      ]
     },
     "metadata": {},
     "execution_count": 19
    }
   ],
   "metadata": {}
  },
  {
   "cell_type": "code",
   "execution_count": 20,
   "source": [
    "raw_df[['ship_id', 'ship_sold_price']].groupby(['ship_id'], as_index=False).agg(['count', 'mean']).sort_values(('ship_sold_price', 'count'), ascending=False)"
   ],
   "outputs": [
    {
     "output_type": "execute_result",
     "data": {
      "text/html": [
       "<div>\n",
       "<style scoped>\n",
       "    .dataframe tbody tr th:only-of-type {\n",
       "        vertical-align: middle;\n",
       "    }\n",
       "\n",
       "    .dataframe tbody tr th {\n",
       "        vertical-align: top;\n",
       "    }\n",
       "\n",
       "    .dataframe thead tr th {\n",
       "        text-align: left;\n",
       "    }\n",
       "\n",
       "    .dataframe thead tr:last-of-type th {\n",
       "        text-align: right;\n",
       "    }\n",
       "</style>\n",
       "<table border=\"1\" class=\"dataframe\">\n",
       "  <thead>\n",
       "    <tr>\n",
       "      <th></th>\n",
       "      <th colspan=\"2\" halign=\"left\">ship_sold_price</th>\n",
       "    </tr>\n",
       "    <tr>\n",
       "      <th></th>\n",
       "      <th>count</th>\n",
       "      <th>mean</th>\n",
       "    </tr>\n",
       "    <tr>\n",
       "      <th>ship_id</th>\n",
       "      <th></th>\n",
       "      <th></th>\n",
       "    </tr>\n",
       "  </thead>\n",
       "  <tbody>\n",
       "    <tr>\n",
       "      <th>45123</th>\n",
       "      <td>9</td>\n",
       "      <td>52.193333</td>\n",
       "    </tr>\n",
       "    <tr>\n",
       "      <th>14970</th>\n",
       "      <td>8</td>\n",
       "      <td>48.945000</td>\n",
       "    </tr>\n",
       "    <tr>\n",
       "      <th>6714</th>\n",
       "      <td>7</td>\n",
       "      <td>56.741429</td>\n",
       "    </tr>\n",
       "    <tr>\n",
       "      <th>26811</th>\n",
       "      <td>7</td>\n",
       "      <td>46.785714</td>\n",
       "    </tr>\n",
       "    <tr>\n",
       "      <th>11484</th>\n",
       "      <td>6</td>\n",
       "      <td>52.336667</td>\n",
       "    </tr>\n",
       "    <tr>\n",
       "      <th>...</th>\n",
       "      <td>...</td>\n",
       "      <td>...</td>\n",
       "    </tr>\n",
       "    <tr>\n",
       "      <th>13118</th>\n",
       "      <td>1</td>\n",
       "      <td>66.020000</td>\n",
       "    </tr>\n",
       "    <tr>\n",
       "      <th>13107</th>\n",
       "      <td>1</td>\n",
       "      <td>161.580000</td>\n",
       "    </tr>\n",
       "    <tr>\n",
       "      <th>13071</th>\n",
       "      <td>1</td>\n",
       "      <td>54.230000</td>\n",
       "    </tr>\n",
       "    <tr>\n",
       "      <th>13040</th>\n",
       "      <td>1</td>\n",
       "      <td>36.200000</td>\n",
       "    </tr>\n",
       "    <tr>\n",
       "      <th>52475</th>\n",
       "      <td>1</td>\n",
       "      <td>90.620000</td>\n",
       "    </tr>\n",
       "  </tbody>\n",
       "</table>\n",
       "<p>2254 rows × 2 columns</p>\n",
       "</div>"
      ],
      "text/plain": [
       "        ship_sold_price            \n",
       "                  count        mean\n",
       "ship_id                            \n",
       "45123                 9   52.193333\n",
       "14970                 8   48.945000\n",
       "6714                  7   56.741429\n",
       "26811                 7   46.785714\n",
       "11484                 6   52.336667\n",
       "...                 ...         ...\n",
       "13118                 1   66.020000\n",
       "13107                 1  161.580000\n",
       "13071                 1   54.230000\n",
       "13040                 1   36.200000\n",
       "52475                 1   90.620000\n",
       "\n",
       "[2254 rows x 2 columns]"
      ]
     },
     "metadata": {},
     "execution_count": 20
    }
   ],
   "metadata": {}
  },
  {
   "cell_type": "code",
   "execution_count": 21,
   "source": [
    "times_sold = raw_df[['ship_id', 'ship_sold_price']].groupby('ship_id')['ship_sold_price'].apply(list).reset_index(name='ship_sold_price').agg({'ship_sold_price': lambda x: len(x)})\r\n",
    "\r\n",
    "new_df = raw_df[['ship_id', 'ship_sold_price']].groupby('ship_id')['ship_sold_price'].apply(list).reset_index(name='ship_sold_price')\r\n",
    "new_df['times_sold'] = times_sold\r\n",
    "new_df.sort_values('times_sold', ascending=False, inplace=True)\r\n",
    "\r\n",
    "multiple_sold = new_df[new_df['times_sold'] > 1]\r\n",
    "\r\n",
    "multiple_sold"
   ],
   "outputs": [
    {
     "output_type": "execute_result",
     "data": {
      "text/html": [
       "<div>\n",
       "<style scoped>\n",
       "    .dataframe tbody tr th:only-of-type {\n",
       "        vertical-align: middle;\n",
       "    }\n",
       "\n",
       "    .dataframe tbody tr th {\n",
       "        vertical-align: top;\n",
       "    }\n",
       "\n",
       "    .dataframe thead th {\n",
       "        text-align: right;\n",
       "    }\n",
       "</style>\n",
       "<table border=\"1\" class=\"dataframe\">\n",
       "  <thead>\n",
       "    <tr style=\"text-align: right;\">\n",
       "      <th></th>\n",
       "      <th>ship_id</th>\n",
       "      <th>ship_sold_price</th>\n",
       "      <th>times_sold</th>\n",
       "    </tr>\n",
       "  </thead>\n",
       "  <tbody>\n",
       "    <tr>\n",
       "      <th>2188</th>\n",
       "      <td>45123</td>\n",
       "      <td>[66.17, 59.1, 63.27, 44.15, 48.1, 34.05, 32.27...</td>\n",
       "      <td>9</td>\n",
       "    </tr>\n",
       "    <tr>\n",
       "      <th>1114</th>\n",
       "      <td>14970</td>\n",
       "      <td>[40.32, 49.12, 52.93, 40.44, 51.37, 40.36, 48....</td>\n",
       "      <td>8</td>\n",
       "    </tr>\n",
       "    <tr>\n",
       "      <th>390</th>\n",
       "      <td>6714</td>\n",
       "      <td>[59.29, 48.19, 50.76, 66.52, 70.42, 46.72, 55.29]</td>\n",
       "      <td>7</td>\n",
       "    </tr>\n",
       "    <tr>\n",
       "      <th>1862</th>\n",
       "      <td>26811</td>\n",
       "      <td>[59.58, 68.77, 53.02, 39.01, 40.84, 33.71, 32.57]</td>\n",
       "      <td>7</td>\n",
       "    </tr>\n",
       "    <tr>\n",
       "      <th>774</th>\n",
       "      <td>11484</td>\n",
       "      <td>[55.32, 62.06, 78.02, 37.6, 39.38, 41.64]</td>\n",
       "      <td>6</td>\n",
       "    </tr>\n",
       "    <tr>\n",
       "      <th>...</th>\n",
       "      <td>...</td>\n",
       "      <td>...</td>\n",
       "      <td>...</td>\n",
       "    </tr>\n",
       "    <tr>\n",
       "      <th>282</th>\n",
       "      <td>3532</td>\n",
       "      <td>[35.83, 28.02]</td>\n",
       "      <td>2</td>\n",
       "    </tr>\n",
       "    <tr>\n",
       "      <th>2080</th>\n",
       "      <td>33613</td>\n",
       "      <td>[62.68, 76.44]</td>\n",
       "      <td>2</td>\n",
       "    </tr>\n",
       "    <tr>\n",
       "      <th>272</th>\n",
       "      <td>3481</td>\n",
       "      <td>[68.26, 65.07]</td>\n",
       "      <td>2</td>\n",
       "    </tr>\n",
       "    <tr>\n",
       "      <th>633</th>\n",
       "      <td>10030</td>\n",
       "      <td>[35.99, 35.72]</td>\n",
       "      <td>2</td>\n",
       "    </tr>\n",
       "    <tr>\n",
       "      <th>180</th>\n",
       "      <td>3003</td>\n",
       "      <td>[68.58, 61.48]</td>\n",
       "      <td>2</td>\n",
       "    </tr>\n",
       "  </tbody>\n",
       "</table>\n",
       "<p>914 rows × 3 columns</p>\n",
       "</div>"
      ],
      "text/plain": [
       "      ship_id                                    ship_sold_price  times_sold\n",
       "2188    45123  [66.17, 59.1, 63.27, 44.15, 48.1, 34.05, 32.27...           9\n",
       "1114    14970  [40.32, 49.12, 52.93, 40.44, 51.37, 40.36, 48....           8\n",
       "390      6714  [59.29, 48.19, 50.76, 66.52, 70.42, 46.72, 55.29]           7\n",
       "1862    26811  [59.58, 68.77, 53.02, 39.01, 40.84, 33.71, 32.57]           7\n",
       "774     11484          [55.32, 62.06, 78.02, 37.6, 39.38, 41.64]           6\n",
       "...       ...                                                ...         ...\n",
       "282      3532                                     [35.83, 28.02]           2\n",
       "2080    33613                                     [62.68, 76.44]           2\n",
       "272      3481                                     [68.26, 65.07]           2\n",
       "633     10030                                     [35.99, 35.72]           2\n",
       "180      3003                                     [68.58, 61.48]           2\n",
       "\n",
       "[914 rows x 3 columns]"
      ]
     },
     "metadata": {},
     "execution_count": 21
    }
   ],
   "metadata": {}
  },
  {
   "cell_type": "code",
   "execution_count": 22,
   "source": [
    "# SAVE MODEL\r\n",
    "\r\n",
    "model_lasso = pickle.dump(lasso, open(\"db/model_USD.sav\", 'wb'))\r\n",
    "\r\n"
   ],
   "outputs": [],
   "metadata": {}
  },
  {
   "cell_type": "code",
   "execution_count": null,
   "source": [],
   "outputs": [],
   "metadata": {}
  }
 ],
 "metadata": {
  "orig_nbformat": 4,
  "language_info": {
   "name": "python",
   "version": "3.8.8",
   "mimetype": "text/x-python",
   "codemirror_mode": {
    "name": "ipython",
    "version": 3
   },
   "pygments_lexer": "ipython3",
   "nbconvert_exporter": "python",
   "file_extension": ".py"
  },
  "kernelspec": {
   "name": "python3",
   "display_name": "Python 3.8.8 64-bit ('base': conda)"
  },
  "interpreter": {
   "hash": "63a3210ed32c8c5e8c5daf40c6fb71e88ea33494b3eaa8a6f1212a2d7aa3f0ac"
  }
 },
 "nbformat": 4,
 "nbformat_minor": 2
}