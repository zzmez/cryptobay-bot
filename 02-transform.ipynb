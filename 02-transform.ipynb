{
 "cells": [
  {
   "cell_type": "code",
   "execution_count": 21,
   "metadata": {},
   "outputs": [],
   "source": [
    "import numpy as np\n",
    "import pandas as pd\n",
    "from sklearn.linear_model import Lasso, Ridge\n",
    "from sklearn.linear_model import LinearRegression\n",
    "from sklearn.model_selection import train_test_split, cross_val_score\n",
    "from sklearn.metrics import mean_squared_error\n",
    "# import  matplotlib.pyplot as plt\n",
    "import pickle"
   ]
  },
  {
   "cell_type": "code",
   "execution_count": 22,
   "metadata": {},
   "outputs": [],
   "source": [
    "#USED FOR AIRFLOW\n",
    "try:\n",
    "    relative_location\n",
    "except NameError:\n",
    "    relative_location = \"\""
   ]
  },
  {
   "cell_type": "code",
   "execution_count": 23,
   "metadata": {},
   "outputs": [],
   "source": [
    "# RAW DF ingestion\n",
    "columns = ['transaction_id', 'ship_id', 'ship_class', 'ship_durability', 'ship_owner', \\\n",
    "        'ship_attr_space', 'ship_attr_speed', 'ship_attr_skill', 'ship_attr_defence', 'ship_attr_attack', 'ship_attr_morale', \\\n",
    "        'ship_parts_keel', 'ship_parts_sail', 'ship_parts_side', 'ship_parts_bow', 'ship_parts_cabin', 'ship_parts_stern', \\\n",
    "        'ship_sold_price']\n",
    "raw_df = pd.read_csv(f\"{relative_location}db/extracted_sold_USD.csv\", names=columns)\n",
    "raw_df_bnb = pd.read_csv(f\"{relative_location}db/extracted_sold_BNB.csv\", names=columns)\n",
    "##\n",
    "\n",
    "raw_df = raw_df.drop_duplicates(subset=['transaction_id', 'ship_id'], keep='last').reset_index()\n",
    "raw_df_bnb = raw_df_bnb.drop_duplicates(subset=['transaction_id', 'ship_id'], keep='last').reset_index()"
   ]
  },
  {
   "cell_type": "code",
   "execution_count": 24,
   "metadata": {},
   "outputs": [],
   "source": [
    "#GET ONLY LAST 500\n",
    "raw_df = raw_df.tail(1000)\n",
    "raw_df_bnb = raw_df_bnb.tail(1000)"
   ]
  },
  {
   "cell_type": "code",
   "execution_count": 25,
   "metadata": {},
   "outputs": [],
   "source": [
    "# CLEAN UP 1 AND UP TO 99 PERCENTILE\n",
    "raw_df = raw_df[(raw_df['ship_sold_price'] >= raw_df['ship_sold_price'].quantile(0.01)) & (raw_df['ship_sold_price'] <= raw_df['ship_sold_price'].quantile(0.99))]\n",
    "raw_df_bnb = raw_df_bnb[(raw_df_bnb['ship_sold_price'] >= raw_df_bnb['ship_sold_price'].quantile(0.01)) & (raw_df_bnb['ship_sold_price'] <= raw_df_bnb['ship_sold_price'].quantile(0.99))]"
   ]
  },
  {
   "cell_type": "code",
   "execution_count": 26,
   "metadata": {},
   "outputs": [],
   "source": [
    "wo_cat_columns = ['ship_attr_space','ship_attr_speed','ship_attr_skill','ship_attr_defence','ship_attr_attack','ship_attr_morale', 'ship_sold_price']\n",
    "\n",
    "wo_cat_df = raw_df[wo_cat_columns]\n",
    "wo_cat_df_bnb = raw_df_bnb[wo_cat_columns]\n",
    "#wo_cat_df.head()\n",
    "\n",
    "wo_cat_X = wo_cat_df.drop('ship_sold_price', axis = 1)\n",
    "wo_cat_X_bnb = wo_cat_df_bnb.drop('ship_sold_price', axis = 1)\n",
    "wo_cat_y = wo_cat_df['ship_sold_price']\n",
    "wo_cat_y_bnb = wo_cat_df_bnb['ship_sold_price']"
   ]
  },
  {
   "cell_type": "code",
   "execution_count": 27,
   "metadata": {},
   "outputs": [
    {
     "data": {
      "text/plain": [
       "LinearRegression()"
      ]
     },
     "execution_count": 27,
     "metadata": {},
     "output_type": "execute_result"
    }
   ],
   "source": [
    "# Training of the data\n",
    "X_train, X_test, y_train, y_test = train_test_split(wo_cat_X, wo_cat_y, test_size=0.3, random_state=42)\n",
    "reg = LinearRegression()\n",
    "reg.fit(X_train, y_train)\n",
    "\n",
    "X_train_bnb, X_test_bnb, y_train_bnb, y_test_bnb = train_test_split(wo_cat_X_bnb, wo_cat_y_bnb, test_size=0.3, random_state=42)\n",
    "reg_bnb = LinearRegression()\n",
    "reg_bnb.fit(X_train_bnb, y_train_bnb)"
   ]
  },
  {
   "cell_type": "code",
   "execution_count": 28,
   "metadata": {},
   "outputs": [
    {
     "data": {
      "text/plain": [
       "0.34313246247856166"
      ]
     },
     "execution_count": 28,
     "metadata": {},
     "output_type": "execute_result"
    }
   ],
   "source": [
    "# Predict on TEST dataset\n",
    "y_pred = reg.predict(X_test)\n",
    "y_pred_bnb = reg_bnb.predict(X_test_bnb)\n",
    "reg_bnb.score(X_test_bnb, y_test_bnb)"
   ]
  },
  {
   "cell_type": "code",
   "execution_count": 29,
   "metadata": {},
   "outputs": [],
   "source": [
    "# zztest = np.array([5,13,5,6,11,5])\n",
    "# zztest = zztest.reshape(1, -1)\n",
    "\n",
    "# lasso_usd.predict(zztest)"
   ]
  },
  {
   "cell_type": "code",
   "execution_count": 30,
   "metadata": {},
   "outputs": [
    {
     "data": {
      "text/plain": [
       "array([0.00631289, 0.00471487, 0.00580127, 0.00390704, 0.00817038,\n",
       "       0.00459616])"
      ]
     },
     "execution_count": 30,
     "metadata": {},
     "output_type": "execute_result"
    }
   ],
   "source": [
    "reg_bnb.fit(X_train_bnb, y_train_bnb).coef_"
   ]
  },
  {
   "cell_type": "code",
   "execution_count": 31,
   "metadata": {},
   "outputs": [
    {
     "data": {
      "text/plain": [
       "0.43928316912235965"
      ]
     },
     "execution_count": 31,
     "metadata": {},
     "output_type": "execute_result"
    }
   ],
   "source": [
    "# LINIAR REGRESSION\n",
    "cv_scores = cross_val_score(reg, wo_cat_X, wo_cat_y, cv=5)\n",
    "cv_scores_bnb = cross_val_score(reg_bnb, wo_cat_X_bnb, wo_cat_y_bnb, cv=5)\n",
    "\n",
    "np.mean(cv_scores)\n",
    "#np.mean(cv_scores_bnb)"
   ]
  },
  {
   "cell_type": "code",
   "execution_count": 32,
   "metadata": {},
   "outputs": [
    {
     "data": {
      "text/plain": [
       "21.441694538318806"
      ]
     },
     "execution_count": 32,
     "metadata": {},
     "output_type": "execute_result"
    }
   ],
   "source": [
    "np.sqrt(mean_squared_error(y_test, y_pred))"
   ]
  },
  {
   "cell_type": "code",
   "execution_count": 33,
   "metadata": {},
   "outputs": [],
   "source": [
    "# # USING L2 REGULARIZATION - ridge\n",
    "\n",
    "# ridge = Ridge(alpha=0.1, normalize=True)\n",
    "# ridge_coef = ridge.fit(X_train, y_train).coef_\n",
    "# ridge_pred = ridge.predict(X_test)\n",
    "# ridge.score(X_test, y_test)\n",
    "\n",
    "# cv_scores_ridge = cross_val_score(ridge, wo_cat_X, wo_cat_y, cv=5)\n",
    "# np.mean(cv_scores_ridge)\n"
   ]
  },
  {
   "cell_type": "code",
   "execution_count": 34,
   "metadata": {},
   "outputs": [],
   "source": [
    "# np.sqrt(mean_squared_error(y_test, ridge_pred))"
   ]
  },
  {
   "cell_type": "code",
   "execution_count": 35,
   "metadata": {},
   "outputs": [
    {
     "data": {
      "text/plain": [
       "0.4395153587135673"
      ]
     },
     "execution_count": 35,
     "metadata": {},
     "output_type": "execute_result"
    }
   ],
   "source": [
    "# USING L1 regularization USD\n",
    "\n",
    "lasso_usd = Lasso(alpha=0.6)\n",
    "lasso_usd_coef = lasso_usd.fit(X_train, y_train).coef_\n",
    "lasso_pred_usd = lasso_usd.predict(X_test)\n",
    "\n",
    "lasso_usd.score(X_test, y_test)\n",
    "\n",
    "cv_scores_lasso_usd = cross_val_score(lasso_usd, wo_cat_X, wo_cat_y, cv=5)\n",
    "np.mean(cv_scores_lasso_usd)\n"
   ]
  },
  {
   "cell_type": "code",
   "execution_count": 36,
   "metadata": {},
   "outputs": [
    {
     "data": {
      "text/plain": [
       "array([2.20960586, 2.44328838, 1.90630118, 2.00842144, 2.81724383,\n",
       "       1.79418332])"
      ]
     },
     "execution_count": 36,
     "metadata": {},
     "output_type": "execute_result"
    }
   ],
   "source": [
    "lasso_usd_coef"
   ]
  },
  {
   "cell_type": "code",
   "execution_count": 37,
   "metadata": {},
   "outputs": [],
   "source": [
    "# USING L1 regularization BNB\n",
    "\n",
    "# lasso_bnb = Lasso(alpha=1)\n",
    "# lasso_bnb_coef = lasso_bnb.fit(X_train_bnb, y_train_bnb).coef_\n",
    "# lasso_pred_bnb = lasso_bnb.predict(X_test_bnb)\n",
    "\n",
    "# lasso_bnb.score(X_test_bnb, y_test_bnb)\n",
    "\n",
    "# cv_scores_lasso_bnb = cross_val_score(lasso_bnb, wo_cat_X_bnb, wo_cat_y_bnb, cv=5)\n",
    "# np.mean(cv_scores_lasso_bnb)"
   ]
  },
  {
   "cell_type": "code",
   "execution_count": null,
   "metadata": {},
   "outputs": [],
   "source": []
  },
  {
   "cell_type": "code",
   "execution_count": 38,
   "metadata": {},
   "outputs": [],
   "source": [
    "#np.sqrt(mean_squared_error(y_test, lasso_pred_usd))"
   ]
  },
  {
   "cell_type": "code",
   "execution_count": 39,
   "metadata": {},
   "outputs": [
    {
     "ename": "NameError",
     "evalue": "name 'ridge_coef' is not defined",
     "output_type": "error",
     "traceback": [
      "\u001b[1;31m---------------------------------------------------------------------------\u001b[0m",
      "\u001b[1;31mNameError\u001b[0m                                 Traceback (most recent call last)",
      "\u001b[1;32mC:\\Temp/ipykernel_16796/3587209087.py\u001b[0m in \u001b[0;36m<module>\u001b[1;34m\u001b[0m\n\u001b[0;32m      2\u001b[0m \u001b[1;33m\u001b[0m\u001b[0m\n\u001b[0;32m      3\u001b[0m \u001b[0mnames\u001b[0m \u001b[1;33m=\u001b[0m \u001b[0mwo_cat_df\u001b[0m\u001b[1;33m.\u001b[0m\u001b[0mdrop\u001b[0m\u001b[1;33m(\u001b[0m\u001b[1;34m'ship_sold_price'\u001b[0m\u001b[1;33m,\u001b[0m \u001b[0maxis\u001b[0m\u001b[1;33m=\u001b[0m\u001b[1;36m1\u001b[0m\u001b[1;33m)\u001b[0m\u001b[1;33m.\u001b[0m\u001b[0mcolumns\u001b[0m\u001b[1;33m\u001b[0m\u001b[1;33m\u001b[0m\u001b[0m\n\u001b[1;32m----> 4\u001b[1;33m \u001b[0m_\u001b[0m \u001b[1;33m=\u001b[0m \u001b[0mplt\u001b[0m\u001b[1;33m.\u001b[0m\u001b[0mplot\u001b[0m\u001b[1;33m(\u001b[0m\u001b[0mrange\u001b[0m\u001b[1;33m(\u001b[0m\u001b[0mlen\u001b[0m\u001b[1;33m(\u001b[0m\u001b[0mnames\u001b[0m\u001b[1;33m)\u001b[0m\u001b[1;33m)\u001b[0m\u001b[1;33m,\u001b[0m \u001b[0mridge_coef\u001b[0m\u001b[1;33m)\u001b[0m\u001b[1;33m\u001b[0m\u001b[1;33m\u001b[0m\u001b[0m\n\u001b[0m\u001b[0;32m      5\u001b[0m \u001b[0m_\u001b[0m \u001b[1;33m=\u001b[0m \u001b[0mplt\u001b[0m\u001b[1;33m.\u001b[0m\u001b[0mxticks\u001b[0m\u001b[1;33m(\u001b[0m\u001b[0mrange\u001b[0m\u001b[1;33m(\u001b[0m\u001b[0mlen\u001b[0m\u001b[1;33m(\u001b[0m\u001b[0mnames\u001b[0m\u001b[1;33m)\u001b[0m\u001b[1;33m)\u001b[0m\u001b[1;33m,\u001b[0m \u001b[0mnames\u001b[0m\u001b[1;33m,\u001b[0m \u001b[0mrotation\u001b[0m\u001b[1;33m=\u001b[0m\u001b[1;36m60\u001b[0m\u001b[1;33m)\u001b[0m\u001b[1;33m\u001b[0m\u001b[1;33m\u001b[0m\u001b[0m\n\u001b[0;32m      6\u001b[0m \u001b[0m_\u001b[0m \u001b[1;33m=\u001b[0m \u001b[0mplt\u001b[0m\u001b[1;33m.\u001b[0m\u001b[0mylabel\u001b[0m\u001b[1;33m(\u001b[0m\u001b[1;34m'Coefficients'\u001b[0m\u001b[1;33m)\u001b[0m\u001b[1;33m\u001b[0m\u001b[1;33m\u001b[0m\u001b[0m\n",
      "\u001b[1;31mNameError\u001b[0m: name 'ridge_coef' is not defined"
     ]
    }
   ],
   "source": [
    "# Check the coefficient for penalization\n",
    "\n",
    "# names = wo_cat_df.drop('ship_sold_price', axis=1).columns\n",
    "# _ = plt.plot(range(len(names)), ridge_coef)\n",
    "# _ = plt.xticks(range(len(names)), names, rotation=60)\n",
    "# _ = plt.ylabel('Coefficients')\n",
    "# plt.show()"
   ]
  },
  {
   "cell_type": "code",
   "execution_count": null,
   "metadata": {},
   "outputs": [
    {
     "data": {
      "text/plain": [
       "array([43.04214384])"
      ]
     },
     "execution_count": 19,
     "metadata": {},
     "output_type": "execute_result"
    }
   ],
   "source": [
    "# SINGLE PREDICTION\n",
    "# zztest = np.array([8,8,11,8,5,8])\n",
    "# zztest = np.array([5,13,15,6,11,5])\n",
    "# zztest = zztest.reshape(1, -1)\n",
    "\n",
    "# lasso_usd.predict(zztest)\n",
    "## actual 34"
   ]
  },
  {
   "cell_type": "code",
   "execution_count": null,
   "metadata": {},
   "outputs": [
    {
     "data": {
      "text/html": [
       "<div>\n",
       "<style scoped>\n",
       "    .dataframe tbody tr th:only-of-type {\n",
       "        vertical-align: middle;\n",
       "    }\n",
       "\n",
       "    .dataframe tbody tr th {\n",
       "        vertical-align: top;\n",
       "    }\n",
       "\n",
       "    .dataframe thead tr th {\n",
       "        text-align: left;\n",
       "    }\n",
       "\n",
       "    .dataframe thead tr:last-of-type th {\n",
       "        text-align: right;\n",
       "    }\n",
       "</style>\n",
       "<table border=\"1\" class=\"dataframe\">\n",
       "  <thead>\n",
       "    <tr>\n",
       "      <th></th>\n",
       "      <th colspan=\"2\" halign=\"left\">ship_sold_price</th>\n",
       "    </tr>\n",
       "    <tr>\n",
       "      <th></th>\n",
       "      <th>count</th>\n",
       "      <th>mean</th>\n",
       "    </tr>\n",
       "    <tr>\n",
       "      <th>ship_id</th>\n",
       "      <th></th>\n",
       "      <th></th>\n",
       "    </tr>\n",
       "  </thead>\n",
       "  <tbody>\n",
       "    <tr>\n",
       "      <th>11702</th>\n",
       "      <td>5</td>\n",
       "      <td>0.088000</td>\n",
       "    </tr>\n",
       "    <tr>\n",
       "      <th>8991</th>\n",
       "      <td>3</td>\n",
       "      <td>0.123333</td>\n",
       "    </tr>\n",
       "    <tr>\n",
       "      <th>27993</th>\n",
       "      <td>3</td>\n",
       "      <td>0.093333</td>\n",
       "    </tr>\n",
       "    <tr>\n",
       "      <th>11484</th>\n",
       "      <td>3</td>\n",
       "      <td>0.123333</td>\n",
       "    </tr>\n",
       "    <tr>\n",
       "      <th>11205</th>\n",
       "      <td>3</td>\n",
       "      <td>0.103333</td>\n",
       "    </tr>\n",
       "    <tr>\n",
       "      <th>...</th>\n",
       "      <td>...</td>\n",
       "      <td>...</td>\n",
       "    </tr>\n",
       "    <tr>\n",
       "      <th>13491</th>\n",
       "      <td>1</td>\n",
       "      <td>0.200000</td>\n",
       "    </tr>\n",
       "    <tr>\n",
       "      <th>13492</th>\n",
       "      <td>1</td>\n",
       "      <td>0.130000</td>\n",
       "    </tr>\n",
       "    <tr>\n",
       "      <th>13522</th>\n",
       "      <td>1</td>\n",
       "      <td>0.110000</td>\n",
       "    </tr>\n",
       "    <tr>\n",
       "      <th>13546</th>\n",
       "      <td>1</td>\n",
       "      <td>0.080000</td>\n",
       "    </tr>\n",
       "    <tr>\n",
       "      <th>17304</th>\n",
       "      <td>1</td>\n",
       "      <td>0.080000</td>\n",
       "    </tr>\n",
       "  </tbody>\n",
       "</table>\n",
       "<p>826 rows × 2 columns</p>\n",
       "</div>"
      ],
      "text/plain": [
       "        ship_sold_price          \n",
       "                  count      mean\n",
       "ship_id                          \n",
       "11702                 5  0.088000\n",
       "8991                  3  0.123333\n",
       "27993                 3  0.093333\n",
       "11484                 3  0.123333\n",
       "11205                 3  0.103333\n",
       "...                 ...       ...\n",
       "13491                 1  0.200000\n",
       "13492                 1  0.130000\n",
       "13522                 1  0.110000\n",
       "13546                 1  0.080000\n",
       "17304                 1  0.080000\n",
       "\n",
       "[826 rows x 2 columns]"
      ]
     },
     "execution_count": 20,
     "metadata": {},
     "output_type": "execute_result"
    }
   ],
   "source": [
    "raw_df_bnb[['ship_id', 'ship_sold_price']].groupby(['ship_id'], as_index=False).agg(['count', 'mean']).sort_values(('ship_sold_price', 'count'), ascending=False)"
   ]
  },
  {
   "cell_type": "code",
   "execution_count": null,
   "metadata": {},
   "outputs": [],
   "source": [
    "# times_sold = raw_df[['ship_id', 'ship_sold_price']].groupby('ship_id')['ship_sold_price'].apply(list).reset_index(name='ship_sold_price').agg({'ship_sold_price': lambda x: len(x)})\n",
    "\n",
    "# new_df = raw_df[['ship_id', 'ship_sold_price']].groupby('ship_id')['ship_sold_price'].apply(list).reset_index(name='ship_sold_price')\n",
    "# new_df['times_sold'] = times_sold\n",
    "# new_df.sort_values('times_sold', ascending=False, inplace=True)\n",
    "\n",
    "# multiple_sold = new_df[new_df['times_sold'] > 1]\n",
    "\n",
    "# multiple_sold"
   ]
  },
  {
   "cell_type": "code",
   "execution_count": null,
   "metadata": {},
   "outputs": [],
   "source": [
    "# SAVE MODEL\n",
    "\n",
    "pickle.dump(lasso_usd, open(f\"{relative_location}db/model_USD.sav\", 'wb'))\n",
    "pickle.dump(reg_bnb, open(f\"{relative_location}db/model_BNB.sav\", 'wb'))\n",
    "\n"
   ]
  },
  {
   "cell_type": "code",
   "execution_count": null,
   "metadata": {},
   "outputs": [],
   "source": []
  }
 ],
 "metadata": {
  "interpreter": {
   "hash": "63a3210ed32c8c5e8c5daf40c6fb71e88ea33494b3eaa8a6f1212a2d7aa3f0ac"
  },
  "kernelspec": {
   "display_name": "Python 3.8.8 64-bit ('base': conda)",
   "name": "python3"
  },
  "language_info": {
   "codemirror_mode": {
    "name": "ipython",
    "version": 3
   },
   "file_extension": ".py",
   "mimetype": "text/x-python",
   "name": "python",
   "nbconvert_exporter": "python",
   "pygments_lexer": "ipython3",
   "version": "3.8.8"
  },
  "orig_nbformat": 4
 },
 "nbformat": 4,
 "nbformat_minor": 2
}
