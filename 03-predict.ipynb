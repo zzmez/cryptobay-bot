{
 "cells": [
  {
   "cell_type": "code",
   "execution_count": 99,
   "source": [
    "import pickle\r\n",
    "# import json\r\n",
    "import requests\r\n",
    "# import numpy as np\r\n",
    "import pandas as pd\r\n",
    "from datetime import datetime, timezone\r\n",
    "# from sklearn.linear_model import Lasso"
   ],
   "outputs": [],
   "metadata": {}
  },
  {
   "cell_type": "code",
   "execution_count": 100,
   "source": [
    "number_of_entries = 300\r\n",
    "link = f\"https://api.cryptobay.io/bay/cryptobaygetauctionlist?\\\r\n",
    "data=%7B%22object%22%3A%7B%7D%2C%22token_type%22%3A1%2C%22state%22%3A%220%22%2C%22\\\r\n",
    "order_by%22%3A%222%22%2C%22page_num%22%3A0%2C%22page_size%22%3A{number_of_entries}%7D\"\r\n",
    "\r\n",
    "try:\r\n",
    "    rel_location\r\n",
    "except NameError:\r\n",
    "    rel_location = \"\"\r\n",
    "\r\n",
    "r = requests.get(link)\r\n",
    "\r\n",
    "raw_json = r.json()"
   ],
   "outputs": [],
   "metadata": {}
  },
  {
   "cell_type": "code",
   "execution_count": 101,
   "source": [
    "def get_binance_price_coinograph() -> int:\r\n",
    "    \"\"\"\r\n",
    "    Example\r\n",
    "            {\r\n",
    "        \"exchange\": \"binance\",\r\n",
    "        \"pair\": \"bnbusdt\",\r\n",
    "        \"price\": 335.8,\r\n",
    "        \"ask\": 335.8,\r\n",
    "        \"bid\": 335.7\r\n",
    "        }\r\n",
    "    \"\"\"\r\n",
    "    price_json = requests.get(\"https://coinograph.io/ticker/?symbol=binance:bnbusdt\").json()\r\n",
    "    return price_json['price']\r\n"
   ],
   "outputs": [],
   "metadata": {}
  },
  {
   "cell_type": "code",
   "execution_count": 102,
   "source": [
    "def get_binance_price_coingecko() -> float:\r\n",
    "    \"\"\"\r\n",
    "    Example\r\n",
    "{'id': 'binancecoin',\r\n",
    " 'symbol': 'bnb',\r\n",
    " 'name': 'Binance Coin',\r\n",
    " 'image': 'https://assets.coingecko.com/coins/images/825/large/binance-coin-logo.png?1547034615',\r\n",
    " 'current_price': 400.07,\r\n",
    " 'market_cap': 61889077351,\r\n",
    " 'market_cap_rank': 5,\r\n",
    " 'fully_diluted_valuation': 68296906490,\r\n",
    " 'total_volume': 1565273152,\r\n",
    " 'high_24h': 401.01,\r\n",
    " 'low_24h': 372.01,\r\n",
    " 'price_change_24h': 25.8,\r\n",
    " 'price_change_percentage_24h': 6.89444,\r\n",
    " 'market_cap_change_24h': 3991379311,\r\n",
    " 'market_cap_change_percentage_24h': 6.89385,\r\n",
    " 'circulating_supply': 154533651.9,\r\n",
    " 'total_supply': 170533651.9,\r\n",
    " 'max_supply': 170533651.9,\r\n",
    " 'ath': 686.31,\r\n",
    " 'ath_change_percentage': -41.64571,\r\n",
    " 'ath_date': '2021-05-10T07:24:17.097Z',\r\n",
    " 'atl': 0.0398177,\r\n",
    " 'atl_change_percentage': 1005707.34064,\r\n",
    " 'atl_date': '2017-10-19T00:00:00.000Z',\r\n",
    " 'roi': None,\r\n",
    " 'last_updated': '2021-10-01T08:23:03.665Z'}\r\n",
    "    \"\"\"\r\n",
    "    url = \"https://api.coingecko.com/api/v3/coins/markets?vs_currency=usd&ids=binancecoin\"\r\n",
    "    price_json = requests.get(url).json()[0]['current_price']\r\n",
    "    return price_json"
   ],
   "outputs": [],
   "metadata": {}
  },
  {
   "cell_type": "code",
   "execution_count": 103,
   "source": [
    "def get_ship_stats_selling(bnb_price: float):\r\n",
    "    ship_id_list = pd.DataFrame([element['token_id'] for element in raw_json['data']['auctions']])\r\n",
    "    tranzaction_id_list = pd.DataFrame([element['idx'] for element in raw_json['data']['auctions']])\r\n",
    "    ship_class_list = pd.DataFrame([element['class'] for element in raw_json['data']['auctions']])\r\n",
    "    ship_price_list_BNB = pd.DataFrame([ round(int(element['buyout_price']) / 1000000000, 3) for element in raw_json['data']['auctions'] ])\r\n",
    "    ship_price_list_USD = pd.DataFrame([ round(int(element['buyout_price']) / 1000000000 * bnb_price, 2) for element in raw_json['data']['auctions'] ])\r\n",
    "\r\n",
    "    boat_space_list = pd.DataFrame([ element['raw_space'] for element in raw_json['data']['auctions']])\r\n",
    "    boat_speed_list = pd.DataFrame([ element['raw_speed'] for element in raw_json['data']['auctions']])\r\n",
    "    boat_skill_list = pd.DataFrame([ element['raw_skill'] for element in raw_json['data']['auctions']])\r\n",
    "    boat_defence_list = pd.DataFrame([ element['raw_defence'] for element in raw_json['data']['auctions']])\r\n",
    "    boat_attack_list = pd.DataFrame([ element['raw_attack'] for element in raw_json['data']['auctions']])\r\n",
    "    boat_morale_list = pd.DataFrame([ element['raw_morale'] for element in raw_json['data']['auctions']])\r\n",
    "    \r\n",
    "    concat_DF = pd.concat([ship_id_list, tranzaction_id_list, ship_class_list, \\\r\n",
    "                        boat_space_list, boat_speed_list, boat_skill_list, \\\r\n",
    "                        boat_defence_list, boat_attack_list, boat_morale_list,\\\r\n",
    "                        ship_price_list_USD, ship_price_list_BNB], axis=1)\r\n",
    "    \r\n",
    "    concat_DF.columns\r\n",
    "    \r\n",
    "    return concat_DF"
   ],
   "outputs": [],
   "metadata": {}
  },
  {
   "cell_type": "code",
   "execution_count": 104,
   "source": [
    "# IMPORT MODELS\r\n",
    "model_USD = pickle.load(open(f\"{rel_location}db/model_USD.sav\", 'rb'))\r\n",
    "model_BNB = pickle.load(open(f\"{rel_location}db/model_BNB.sav\", 'rb'))\r\n",
    "\r\n",
    "# zztest = np.array([5,13,15,6,11,5])\r\n",
    "# zztest = zztest.reshape(1, -1)\r\n",
    "\r\n",
    "# model_BNB.predict(zztest)\r\n"
   ],
   "outputs": [],
   "metadata": {}
  },
  {
   "cell_type": "code",
   "execution_count": 105,
   "source": [
    "columns = ['transaction_id', 'ship_id', 'ship_class', 'ship_durability', 'ship_owner', \\\r\n",
    "        'ship_attr_space', 'ship_attr_speed', 'ship_attr_skill', 'ship_attr_defence', 'ship_attr_attack', 'ship_attr_morale', \\\r\n",
    "        'ship_parts_keel', 'ship_parts_sail', 'ship_parts_side', 'ship_parts_bow', 'ship_parts_cabin', 'ship_parts_stern', \\\r\n",
    "        'ship_sold_price']"
   ],
   "outputs": [],
   "metadata": {}
  },
  {
   "cell_type": "code",
   "execution_count": 106,
   "source": [
    "#ship_price_list = [ round(int(element['buyout_price']) / 1000000000 * bnb_price, 2) for element in raw_json['data']['auctions']]"
   ],
   "outputs": [],
   "metadata": {}
  },
  {
   "cell_type": "code",
   "execution_count": 107,
   "source": [
    "type(get_binance_price_coingecko())"
   ],
   "outputs": [
    {
     "output_type": "execute_result",
     "data": {
      "text/plain": [
       "float"
      ]
     },
     "metadata": {},
     "execution_count": 107
    }
   ],
   "metadata": {}
  },
  {
   "cell_type": "code",
   "execution_count": 108,
   "source": [
    "try:\r\n",
    "    bnb_price\r\n",
    "except NameError:\r\n",
    "    bnb_price = get_binance_price_coingecko()\r\n",
    "\r\n",
    "# Force refresh for bnb_price \r\n",
    "#bnb_price = get_binance_price_coingecko()\r\n",
    "\r\n",
    "stats_df = get_ship_stats_selling(bnb_price)\r\n",
    "stats_df.columns = ['ship_id', 'transaction_id', 'ship_class','ship_attr_space', \\\r\n",
    "    'ship_attr_speed', 'ship_attr_skill', 'ship_attr_defence', \\\r\n",
    "    'ship_attr_attack', 'ship_attr_morale', 'selling_price_USD', 'selling_price_BNB']\r\n",
    "#stats_df.head(2)"
   ],
   "outputs": [],
   "metadata": {}
  },
  {
   "cell_type": "code",
   "execution_count": 109,
   "source": [
    "pred_columns = ['ship_attr_space', 'ship_attr_speed', 'ship_attr_skill', \\\r\n",
    "                'ship_attr_defence', 'ship_attr_attack', 'ship_attr_morale']\r\n",
    "\r\n",
    "X = stats_df[pred_columns]\r\n",
    "\r\n",
    "#X.head()"
   ],
   "outputs": [],
   "metadata": {}
  },
  {
   "cell_type": "code",
   "execution_count": 110,
   "source": [
    "y_pred_USD = model_USD.predict(X)\r\n",
    "y_pred_USD = pd.Series(y_pred_USD)\r\n",
    "y_pred_USD = y_pred_USD.round(2)"
   ],
   "outputs": [],
   "metadata": {}
  },
  {
   "cell_type": "code",
   "execution_count": 111,
   "source": [
    "y_pred_BNB = model_BNB.predict(X)\r\n",
    "y_pred_BNB = pd.Series(y_pred_BNB)\r\n",
    "y_pred_BNB = y_pred_BNB.round(3)"
   ],
   "outputs": [],
   "metadata": {}
  },
  {
   "cell_type": "code",
   "execution_count": 112,
   "source": [
    "_df = pd.concat([stats_df, y_pred_USD, y_pred_BNB], axis=1)\r\n",
    "_df.rename(columns={0: 'predicted_price_USD', 1: 'predicted_price_BNB'}, inplace=True)\r\n",
    "_df['flip_ratio'] = _df['predicted_price_BNB'] / _df['selling_price_BNB']\r\n",
    "_df['flip_ratio'] = _df['flip_ratio'].round(2)\r\n",
    "gold_df = _df[['ship_id', 'transaction_id', 'selling_price_USD', 'predicted_price_USD', 'selling_price_BNB', 'predicted_price_BNB', 'flip_ratio']]"
   ],
   "outputs": [],
   "metadata": {}
  },
  {
   "cell_type": "code",
   "execution_count": 113,
   "source": [
    "#_df.head()"
   ],
   "outputs": [],
   "metadata": {}
  },
  {
   "cell_type": "code",
   "execution_count": 114,
   "source": [
    "final_df = (gold_df[gold_df['flip_ratio'] > 1.2]\\\r\n",
    "    .sort_values('flip_ratio', ascending=False))"
   ],
   "outputs": [],
   "metadata": {}
  },
  {
   "cell_type": "code",
   "execution_count": 115,
   "source": [
    "final_df.to_csv(f\"{rel_location}db/out/predicted_{datetime.now(timezone.utc).strftime('%Y%m%d-%H%M')}.csv\", header=False, index=False)"
   ],
   "outputs": [],
   "metadata": {}
  },
  {
   "cell_type": "code",
   "execution_count": 116,
   "source": [
    "final_df"
   ],
   "outputs": [
    {
     "output_type": "execute_result",
     "data": {
      "text/html": [
       "<div>\n",
       "<style scoped>\n",
       "    .dataframe tbody tr th:only-of-type {\n",
       "        vertical-align: middle;\n",
       "    }\n",
       "\n",
       "    .dataframe tbody tr th {\n",
       "        vertical-align: top;\n",
       "    }\n",
       "\n",
       "    .dataframe thead th {\n",
       "        text-align: right;\n",
       "    }\n",
       "</style>\n",
       "<table border=\"1\" class=\"dataframe\">\n",
       "  <thead>\n",
       "    <tr style=\"text-align: right;\">\n",
       "      <th></th>\n",
       "      <th>ship_id</th>\n",
       "      <th>transaction_id</th>\n",
       "      <th>selling_price_USD</th>\n",
       "      <th>predicted_price_USD</th>\n",
       "      <th>selling_price_BNB</th>\n",
       "      <th>predicted_price_BNB</th>\n",
       "      <th>flip_ratio</th>\n",
       "    </tr>\n",
       "  </thead>\n",
       "  <tbody>\n",
       "    <tr>\n",
       "      <th>5</th>\n",
       "      <td>11453</td>\n",
       "      <td>19824</td>\n",
       "      <td>52.05</td>\n",
       "      <td>57.95</td>\n",
       "      <td>0.120</td>\n",
       "      <td>0.179</td>\n",
       "      <td>1.49</td>\n",
       "    </tr>\n",
       "    <tr>\n",
       "      <th>8</th>\n",
       "      <td>15078</td>\n",
       "      <td>19822</td>\n",
       "      <td>66.37</td>\n",
       "      <td>63.90</td>\n",
       "      <td>0.153</td>\n",
       "      <td>0.198</td>\n",
       "      <td>1.29</td>\n",
       "    </tr>\n",
       "    <tr>\n",
       "      <th>194</th>\n",
       "      <td>18031</td>\n",
       "      <td>19476</td>\n",
       "      <td>86.76</td>\n",
       "      <td>73.94</td>\n",
       "      <td>0.200</td>\n",
       "      <td>0.242</td>\n",
       "      <td>1.21</td>\n",
       "    </tr>\n",
       "  </tbody>\n",
       "</table>\n",
       "</div>"
      ],
      "text/plain": [
       "    ship_id transaction_id  selling_price_USD  predicted_price_USD  \\\n",
       "5     11453          19824              52.05                57.95   \n",
       "8     15078          19822              66.37                63.90   \n",
       "194   18031          19476              86.76                73.94   \n",
       "\n",
       "     selling_price_BNB  predicted_price_BNB  flip_ratio  \n",
       "5                0.120                0.179        1.49  \n",
       "8                0.153                0.198        1.29  \n",
       "194              0.200                0.242        1.21  "
      ]
     },
     "metadata": {},
     "execution_count": 116
    }
   ],
   "metadata": {}
  },
  {
   "cell_type": "code",
   "execution_count": 117,
   "source": [
    "# cols = [ col for col in _df.columns if 'attr' in col]\r\n",
    "# _df[cols].astype('float').sum(axis=1).sort_values(ascending=False)\r\n"
   ],
   "outputs": [],
   "metadata": {}
  },
  {
   "cell_type": "code",
   "execution_count": 118,
   "source": [
    "# zztest = _df.iloc[83].values[3:9]\r\n",
    "\r\n",
    "# zztest = np.array([5,13,15,5,7,12])\r\n",
    "# zztest = np.array([5,13,11,8,9,13])\r\n",
    "# zztest = np.array(zztest).reshape(1, -1)\r\n",
    "# model_USD.predict(zztest)\r\n",
    "# model_BNB.predict(zztest)"
   ],
   "outputs": [],
   "metadata": {}
  }
 ],
 "metadata": {
  "orig_nbformat": 4,
  "language_info": {
   "name": "python",
   "version": "3.8.8",
   "mimetype": "text/x-python",
   "codemirror_mode": {
    "name": "ipython",
    "version": 3
   },
   "pygments_lexer": "ipython3",
   "nbconvert_exporter": "python",
   "file_extension": ".py"
  },
  "kernelspec": {
   "name": "python3",
   "display_name": "Python 3.8.8 64-bit ('base': conda)"
  },
  "interpreter": {
   "hash": "63a3210ed32c8c5e8c5daf40c6fb71e88ea33494b3eaa8a6f1212a2d7aa3f0ac"
  }
 },
 "nbformat": 4,
 "nbformat_minor": 2
}