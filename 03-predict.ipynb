{
 "cells": [
  {
   "cell_type": "code",
   "execution_count": 353,
   "source": [
    "import pickle\r\n",
    "# import json\r\n",
    "import requests\r\n",
    "import numpy as np\r\n",
    "import pandas as pd\r\n",
    "from datetime import datetime, timezone\r\n",
    "# from sklearn.linear_model import Lasso"
   ],
   "outputs": [],
   "metadata": {}
  },
  {
   "cell_type": "code",
   "execution_count": 354,
   "source": [
    "number_of_entries = 500\r\n",
    "link = f\"https://api.cryptobay.io/bay/cryptobaygetauctionlist?\\\r\n",
    "data=%7B%22object%22%3A%7B%7D%2C%22token_type%22%3A1%2C%22state%22%3A%220%22%2C%22\\\r\n",
    "order_by%22%3A%222%22%2C%22page_num%22%3A0%2C%22page_size%22%3A{number_of_entries}%7D\"\r\n",
    "\r\n",
    "try:\r\n",
    "    relative_location\r\n",
    "except NameError:\r\n",
    "    relative_location = \"\"\r\n",
    "\r\n",
    "zzratio = 1.3       #minium ratio to appear\r\n",
    "discount = 0.85     #discount on what the boat should sell at\r\n",
    "\r\n",
    "r = requests.get(link)\r\n",
    "raw_json = r.json()"
   ],
   "outputs": [],
   "metadata": {}
  },
  {
   "cell_type": "code",
   "execution_count": 355,
   "source": [
    "def get_binance_price_coinograph() -> int:\r\n",
    "    \"\"\"\r\n",
    "    Example\r\n",
    "            {\r\n",
    "        \"exchange\": \"binance\",\r\n",
    "        \"pair\": \"bnbusdt\",\r\n",
    "        \"price\": 335.8,\r\n",
    "        \"ask\": 335.8,\r\n",
    "        \"bid\": 335.7\r\n",
    "        }\r\n",
    "    \"\"\"\r\n",
    "    price_json = requests.get(\"https://coinograph.io/ticker/?symbol=binance:bnbusdt\").json()\r\n",
    "    return price_json['price']\r\n"
   ],
   "outputs": [],
   "metadata": {}
  },
  {
   "cell_type": "code",
   "execution_count": 356,
   "source": [
    "def get_binance_price_coingecko() -> float:\r\n",
    "    \"\"\"\r\n",
    "    Example\r\n",
    "{'id': 'binancecoin',\r\n",
    " 'symbol': 'bnb',\r\n",
    " 'name': 'Binance Coin',\r\n",
    " 'image': 'https://assets.coingecko.com/coins/images/825/large/binance-coin-logo.png?1547034615',\r\n",
    " 'current_price': 400.07,\r\n",
    " 'market_cap': 61889077351,\r\n",
    " 'market_cap_rank': 5,\r\n",
    " 'fully_diluted_valuation': 68296906490,\r\n",
    " 'total_volume': 1565273152,\r\n",
    " 'high_24h': 401.01,\r\n",
    " 'low_24h': 372.01,\r\n",
    " 'price_change_24h': 25.8,\r\n",
    " 'price_change_percentage_24h': 6.89444,\r\n",
    " 'market_cap_change_24h': 3991379311,\r\n",
    " 'market_cap_change_percentage_24h': 6.89385,\r\n",
    " 'circulating_supply': 154533651.9,\r\n",
    " 'total_supply': 170533651.9,\r\n",
    " 'max_supply': 170533651.9,\r\n",
    " 'ath': 686.31,\r\n",
    " 'ath_change_percentage': -41.64571,\r\n",
    " 'ath_date': '2021-05-10T07:24:17.097Z',\r\n",
    " 'atl': 0.0398177,\r\n",
    " 'atl_change_percentage': 1005707.34064,\r\n",
    " 'atl_date': '2017-10-19T00:00:00.000Z',\r\n",
    " 'roi': None,\r\n",
    " 'last_updated': '2021-10-01T08:23:03.665Z'}\r\n",
    "    \"\"\"\r\n",
    "    url = \"https://api.coingecko.com/api/v3/coins/markets?vs_currency=usd&ids=binancecoin\"\r\n",
    "    price_json = requests.get(url).json()[0]['current_price']\r\n",
    "    return price_json"
   ],
   "outputs": [],
   "metadata": {}
  },
  {
   "cell_type": "code",
   "execution_count": 357,
   "source": [
    "def get_ship_stats_selling(bnb_price: float):\r\n",
    "    ship_id_list = pd.DataFrame([element['token_id'] for element in raw_json['data']['auctions']])\r\n",
    "    tranzaction_id_list = pd.DataFrame([element['idx'] for element in raw_json['data']['auctions']])\r\n",
    "    ship_class_list = pd.DataFrame([element['class'] for element in raw_json['data']['auctions']])\r\n",
    "    ship_price_list_BNB = pd.DataFrame([ round(int(element['buyout_price']) / 1000000000, 3) for element in raw_json['data']['auctions'] ])\r\n",
    "    ship_price_list_USD = pd.DataFrame([ round(int(element['buyout_price']) / 1000000000 * bnb_price, 2) for element in raw_json['data']['auctions'] ])\r\n",
    "\r\n",
    "    boat_space_list = pd.DataFrame([ element['raw_space'] for element in raw_json['data']['auctions']])\r\n",
    "    boat_speed_list = pd.DataFrame([ element['raw_speed'] for element in raw_json['data']['auctions']])\r\n",
    "    boat_skill_list = pd.DataFrame([ element['raw_skill'] for element in raw_json['data']['auctions']])\r\n",
    "    boat_defence_list = pd.DataFrame([ element['raw_defence'] for element in raw_json['data']['auctions']])\r\n",
    "    boat_attack_list = pd.DataFrame([ element['raw_attack'] for element in raw_json['data']['auctions']])\r\n",
    "    boat_morale_list = pd.DataFrame([ element['raw_morale'] for element in raw_json['data']['auctions']])\r\n",
    "    \r\n",
    "    concat_DF = pd.concat([ship_id_list, tranzaction_id_list, ship_class_list, \\\r\n",
    "                        boat_space_list, boat_speed_list, boat_skill_list, \\\r\n",
    "                        boat_defence_list, boat_attack_list, boat_morale_list,\\\r\n",
    "                        ship_price_list_USD, ship_price_list_BNB], axis=1)\r\n",
    "    \r\n",
    "    concat_DF.columns\r\n",
    "    \r\n",
    "    return concat_DF"
   ],
   "outputs": [],
   "metadata": {}
  },
  {
   "cell_type": "code",
   "execution_count": 358,
   "source": [
    "# IMPORT MODELS\r\n",
    "model_USD = pickle.load(open(f\"{relative_location}db/model_USD.sav\", 'rb'))\r\n",
    "model_BNB = pickle.load(open(f\"{relative_location}db/model_BNB.sav\", 'rb'))\r\n",
    "\r\n",
    "# zztest = np.array([5,13,15,6,11,5])\r\n",
    "# zztest = zztest.reshape(1, -1)\r\n",
    "\r\n",
    "# model_BNB.predict(zztest)\r\n"
   ],
   "outputs": [],
   "metadata": {}
  },
  {
   "cell_type": "code",
   "execution_count": 359,
   "source": [
    "columns = ['transaction_id', 'ship_id', 'ship_class', 'ship_durability', 'ship_owner', \\\r\n",
    "        'ship_attr_space', 'ship_attr_speed', 'ship_attr_skill', 'ship_attr_defence', 'ship_attr_attack', 'ship_attr_morale', \\\r\n",
    "        'ship_parts_keel', 'ship_parts_sail', 'ship_parts_side', 'ship_parts_bow', 'ship_parts_cabin', 'ship_parts_stern', \\\r\n",
    "        'ship_sold_price']"
   ],
   "outputs": [],
   "metadata": {}
  },
  {
   "cell_type": "code",
   "execution_count": 360,
   "source": [
    "#ship_price_list = [ round(int(element['buyout_price']) / 1000000000 * bnb_price, 2) for element in raw_json['data']['auctions']]"
   ],
   "outputs": [],
   "metadata": {}
  },
  {
   "cell_type": "code",
   "execution_count": 361,
   "source": [
    "type(get_binance_price_coingecko())"
   ],
   "outputs": [
    {
     "output_type": "execute_result",
     "data": {
      "text/plain": [
       "float"
      ]
     },
     "metadata": {},
     "execution_count": 361
    }
   ],
   "metadata": {}
  },
  {
   "cell_type": "code",
   "execution_count": 362,
   "source": [
    "try:\r\n",
    "    bnb_price\r\n",
    "except NameError:\r\n",
    "    bnb_price = get_binance_price_coingecko()\r\n",
    "\r\n",
    "# Force refresh for bnb_price \r\n",
    "#bnb_price = get_binance_price_coingecko()\r\n",
    "\r\n",
    "stats_df = get_ship_stats_selling(bnb_price)\r\n",
    "stats_df.columns = ['ship_id', 'transaction_id', 'ship_class','ship_attr_space', \\\r\n",
    "    'ship_attr_speed', 'ship_attr_skill', 'ship_attr_defence', \\\r\n",
    "    'ship_attr_attack', 'ship_attr_morale', 'selling_price_USD', 'selling_price_BNB']\r\n",
    "#stats_df.head(2)"
   ],
   "outputs": [],
   "metadata": {}
  },
  {
   "cell_type": "code",
   "execution_count": 363,
   "source": [
    "pred_columns = ['ship_attr_space', 'ship_attr_speed', 'ship_attr_skill', \\\r\n",
    "                'ship_attr_defence', 'ship_attr_attack', 'ship_attr_morale']\r\n",
    "\r\n",
    "X = stats_df[pred_columns]\r\n",
    "\r\n",
    "#X.head()"
   ],
   "outputs": [],
   "metadata": {}
  },
  {
   "cell_type": "code",
   "execution_count": 364,
   "source": [
    "y_pred_USD = model_USD.predict(X)\r\n",
    "y_pred_USD = pd.Series(y_pred_USD)\r\n",
    "y_pred_USD = y_pred_USD.round(2)"
   ],
   "outputs": [],
   "metadata": {}
  },
  {
   "cell_type": "code",
   "execution_count": 365,
   "source": [
    "y_pred_BNB = model_BNB.predict(X)\r\n",
    "y_pred_BNB = pd.Series(y_pred_BNB)\r\n",
    "y_pred_BNB = y_pred_BNB.round(3)"
   ],
   "outputs": [],
   "metadata": {}
  },
  {
   "cell_type": "code",
   "execution_count": 366,
   "source": [
    "_df = pd.concat([stats_df, y_pred_USD, y_pred_BNB], axis=1)\r\n",
    "_df.rename(columns={0: 'predicted_price_USD', 1: 'predicted_price_BNB'}, inplace=True)\r\n",
    "_df['flip_ratio'] = _df['predicted_price_BNB'] / _df['selling_price_BNB']\r\n",
    "_df['flip_ratio'] = _df['flip_ratio'].round(2)\r\n",
    "gold_df = _df[['ship_id', 'transaction_id', 'selling_price_USD', 'predicted_price_USD', 'selling_price_BNB', 'predicted_price_BNB', 'flip_ratio']]"
   ],
   "outputs": [],
   "metadata": {}
  },
  {
   "cell_type": "code",
   "execution_count": 367,
   "source": [
    "# gold_df.head()"
   ],
   "outputs": [],
   "metadata": {}
  },
  {
   "cell_type": "code",
   "execution_count": 368,
   "source": [
    "final_df = (gold_df[gold_df['flip_ratio'] >= zzratio]\\\r\n",
    "    .sort_values('flip_ratio', ascending=False))"
   ],
   "outputs": [],
   "metadata": {}
  },
  {
   "cell_type": "code",
   "execution_count": 369,
   "source": [
    "final_df.to_csv(f\"{relative_location}db/out/predicted_{datetime.now(timezone.utc).strftime('%Y%m%d-%H%M')}.csv\", header=False, index=False)"
   ],
   "outputs": [],
   "metadata": {}
  },
  {
   "cell_type": "code",
   "execution_count": 370,
   "source": [
    "final_df"
   ],
   "outputs": [
    {
     "output_type": "execute_result",
     "data": {
      "text/html": [
       "<div>\n",
       "<style scoped>\n",
       "    .dataframe tbody tr th:only-of-type {\n",
       "        vertical-align: middle;\n",
       "    }\n",
       "\n",
       "    .dataframe tbody tr th {\n",
       "        vertical-align: top;\n",
       "    }\n",
       "\n",
       "    .dataframe thead th {\n",
       "        text-align: right;\n",
       "    }\n",
       "</style>\n",
       "<table border=\"1\" class=\"dataframe\">\n",
       "  <thead>\n",
       "    <tr style=\"text-align: right;\">\n",
       "      <th></th>\n",
       "      <th>ship_id</th>\n",
       "      <th>transaction_id</th>\n",
       "      <th>selling_price_USD</th>\n",
       "      <th>predicted_price_USD</th>\n",
       "      <th>selling_price_BNB</th>\n",
       "      <th>predicted_price_BNB</th>\n",
       "      <th>flip_ratio</th>\n",
       "    </tr>\n",
       "  </thead>\n",
       "  <tbody>\n",
       "    <tr>\n",
       "      <th>345</th>\n",
       "      <td>15820</td>\n",
       "      <td>21514</td>\n",
       "      <td>48.72</td>\n",
       "      <td>56.86</td>\n",
       "      <td>0.11</td>\n",
       "      <td>0.152</td>\n",
       "      <td>1.38</td>\n",
       "    </tr>\n",
       "    <tr>\n",
       "      <th>60</th>\n",
       "      <td>27791</td>\n",
       "      <td>22121</td>\n",
       "      <td>48.72</td>\n",
       "      <td>59.89</td>\n",
       "      <td>0.11</td>\n",
       "      <td>0.150</td>\n",
       "      <td>1.36</td>\n",
       "    </tr>\n",
       "    <tr>\n",
       "      <th>284</th>\n",
       "      <td>6778</td>\n",
       "      <td>21708</td>\n",
       "      <td>48.72</td>\n",
       "      <td>56.14</td>\n",
       "      <td>0.11</td>\n",
       "      <td>0.146</td>\n",
       "      <td>1.33</td>\n",
       "    </tr>\n",
       "    <tr>\n",
       "      <th>8</th>\n",
       "      <td>11646</td>\n",
       "      <td>22200</td>\n",
       "      <td>48.72</td>\n",
       "      <td>53.01</td>\n",
       "      <td>0.11</td>\n",
       "      <td>0.145</td>\n",
       "      <td>1.32</td>\n",
       "    </tr>\n",
       "    <tr>\n",
       "      <th>306</th>\n",
       "      <td>12140</td>\n",
       "      <td>21642</td>\n",
       "      <td>53.15</td>\n",
       "      <td>59.46</td>\n",
       "      <td>0.12</td>\n",
       "      <td>0.156</td>\n",
       "      <td>1.30</td>\n",
       "    </tr>\n",
       "  </tbody>\n",
       "</table>\n",
       "</div>"
      ],
      "text/plain": [
       "    ship_id transaction_id  selling_price_USD  predicted_price_USD  \\\n",
       "345   15820          21514              48.72                56.86   \n",
       "60    27791          22121              48.72                59.89   \n",
       "284    6778          21708              48.72                56.14   \n",
       "8     11646          22200              48.72                53.01   \n",
       "306   12140          21642              53.15                59.46   \n",
       "\n",
       "     selling_price_BNB  predicted_price_BNB  flip_ratio  \n",
       "345               0.11                0.152        1.38  \n",
       "60                0.11                0.150        1.36  \n",
       "284               0.11                0.146        1.33  \n",
       "8                 0.11                0.145        1.32  \n",
       "306               0.12                0.156        1.30  "
      ]
     },
     "metadata": {},
     "execution_count": 370
    }
   ],
   "metadata": {}
  },
  {
   "cell_type": "code",
   "execution_count": 371,
   "source": [
    "#final_df['ship_id'].iloc[0]"
   ],
   "outputs": [],
   "metadata": {}
  },
  {
   "cell_type": "code",
   "execution_count": 372,
   "source": [
    "for i in range(len(final_df)):\r\n",
    "    profit = round((final_df['predicted_price_BNB'].iloc[i] * 0.95 * discount - final_df['selling_price_BNB'].iloc[i] - 0.002) * bnb_price, 2)\r\n",
    "    print(f\"https://marketplace.cryptobay.vip/ship/{final_df['ship_id'].iloc[i]}/{final_df['transaction_id'].iloc[i]} \\\r\n",
    "        ---> actual price: BNB {final_df['selling_price_BNB'].iloc[i]}; ratio {final_df['flip_ratio'].iloc[i]}; \\n\\\r\n",
    "                                                                predicted price: BNB {final_df['predicted_price_BNB'].iloc[i]} \\n\\\r\n",
    "                                                                suggested price: BNB {round(final_df['predicted_price_BNB'].iloc[i] * discount,2)} \\n\\\r\n",
    "                                                                possible profit: ${profit}\"\r\n",
    "        ) "
   ],
   "outputs": [
    {
     "output_type": "stream",
     "name": "stdout",
     "text": [
      "https://marketplace.cryptobay.vip/ship/15820/21514         ---> actual price: BNB 0.11; ratio 1.38; \n",
      "                                                                predicted price: BNB 0.152 \n",
      "                                                                suggested price: BNB 0.13 \n",
      "                                                                possible profit: $4.76\n",
      "https://marketplace.cryptobay.vip/ship/27791/22121         ---> actual price: BNB 0.11; ratio 1.36; \n",
      "                                                                predicted price: BNB 0.15 \n",
      "                                                                suggested price: BNB 0.13 \n",
      "                                                                possible profit: $4.04\n",
      "https://marketplace.cryptobay.vip/ship/6778/21708         ---> actual price: BNB 0.11; ratio 1.33; \n",
      "                                                                predicted price: BNB 0.146 \n",
      "                                                                suggested price: BNB 0.12 \n",
      "                                                                possible profit: $2.61\n",
      "https://marketplace.cryptobay.vip/ship/11646/22200         ---> actual price: BNB 0.11; ratio 1.32; \n",
      "                                                                predicted price: BNB 0.145 \n",
      "                                                                suggested price: BNB 0.12 \n",
      "                                                                possible profit: $2.25\n",
      "https://marketplace.cryptobay.vip/ship/12140/21642         ---> actual price: BNB 0.12; ratio 1.3; \n",
      "                                                                predicted price: BNB 0.156 \n",
      "                                                                suggested price: BNB 0.13 \n",
      "                                                                possible profit: $1.76\n"
     ]
    }
   ],
   "metadata": {}
  },
  {
   "cell_type": "code",
   "execution_count": 373,
   "source": [
    "# cols = [ col for col in _df.columns if 'attr' in col]\r\n",
    "# _df[cols].astype('float').sum(axis=1).sort_values(ascending=False)\r\n"
   ],
   "outputs": [],
   "metadata": {}
  },
  {
   "cell_type": "code",
   "execution_count": 374,
   "source": [
    "# zztest = _df.iloc[83].values[3:9]\r\n",
    "# import numpy as np\r\n",
    "zztest = np.array([6,12,10,11,14,11])\r\n",
    "# zztest = np.array([5,13,15,5,9,8])\r\n",
    "\r\n",
    "zztest = np.array(zztest).reshape(1, -1)\r\n",
    "pr_check = model_BNB.predict(zztest)*0.9 \r\n",
    "pr_check"
   ],
   "outputs": [
    {
     "output_type": "execute_result",
     "data": {
      "text/plain": [
       "array([0.14357784])"
      ]
     },
     "metadata": {},
     "execution_count": 374
    }
   ],
   "metadata": {}
  },
  {
   "cell_type": "code",
   "execution_count": 375,
   "source": [
    "(pr_check * 0.95 - 0.144) * bnb_price - 0.8"
   ],
   "outputs": [
    {
     "output_type": "execute_result",
     "data": {
      "text/plain": [
       "array([-4.16665824])"
      ]
     },
     "metadata": {},
     "execution_count": 375
    }
   ],
   "metadata": {}
  }
 ],
 "metadata": {
  "orig_nbformat": 4,
  "language_info": {
   "name": "python",
   "version": "3.8.8",
   "mimetype": "text/x-python",
   "codemirror_mode": {
    "name": "ipython",
    "version": 3
   },
   "pygments_lexer": "ipython3",
   "nbconvert_exporter": "python",
   "file_extension": ".py"
  },
  "kernelspec": {
   "name": "python3",
   "display_name": "Python 3.8.8 64-bit ('base': conda)"
  },
  "interpreter": {
   "hash": "63a3210ed32c8c5e8c5daf40c6fb71e88ea33494b3eaa8a6f1212a2d7aa3f0ac"
  }
 },
 "nbformat": 4,
 "nbformat_minor": 2
}