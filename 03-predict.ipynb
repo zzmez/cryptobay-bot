{
 "cells": [
  {
   "cell_type": "code",
   "execution_count": 237,
   "source": [
    "import pickle\r\n",
    "import json\r\n",
    "import requests\r\n",
    "import numpy as np\r\n",
    "import pandas as pd\r\n",
    "from sklearn.linear_model import Lasso"
   ],
   "outputs": [],
   "metadata": {}
  },
  {
   "cell_type": "code",
   "execution_count": 238,
   "source": [
    "number_of_entries = 100\r\n",
    "link = f\"https://api.cryptobay.io/bay/cryptobaygetauctionlist?\\\r\n",
    "data=%7B%22object%22%3A%7B%7D%2C%22token_type%22%3A1%2C%22state%22%3A%220%22%2C%22\\\r\n",
    "order_by%22%3A%222%22%2C%22page_num%22%3A0%2C%22page_size%22%3A{number_of_entries}%7D\"\r\n",
    "\r\n",
    "r = requests.get(link)\r\n",
    "\r\n",
    "raw_json = r.json()"
   ],
   "outputs": [],
   "metadata": {}
  },
  {
   "cell_type": "code",
   "execution_count": 239,
   "source": [
    "def get_binance_price() -> int:\r\n",
    "    \"\"\"\r\n",
    "    Example\r\n",
    "            {\r\n",
    "        \"exchange\": \"binance\",\r\n",
    "        \"pair\": \"bnbusdt\",\r\n",
    "        \"price\": 335.8,\r\n",
    "        \"ask\": 335.8,\r\n",
    "        \"bid\": 335.7\r\n",
    "        }\r\n",
    "    \"\"\"\r\n",
    "    price_json = requests.get(\"https://coinograph.io/ticker/?symbol=binance:bnbusdt\").json()\r\n",
    "    return price_json['price']\r\n"
   ],
   "outputs": [],
   "metadata": {}
  },
  {
   "cell_type": "code",
   "execution_count": 240,
   "source": [
    "def get_ship_stats_selling(bnb_price: int = get_binance_price()):\r\n",
    "    ship_id_list = pd.DataFrame([element['token_id'] for element in raw_json['data']['auctions']])\r\n",
    "    ship_class_list = pd.DataFrame([element['class'] for element in raw_json['data']['auctions']])\r\n",
    "    ship_price_list_BNB = pd.DataFrame([ round(int(element['buyout_price']) / 1000000000, 3) for element in raw_json['data']['auctions'] ])\r\n",
    "    ship_price_list_USD = pd.DataFrame([ round(int(element['buyout_price']) / 1000000000 * bnb_price, 2) for element in raw_json['data']['auctions'] ])\r\n",
    "\r\n",
    "    boat_space_list = pd.DataFrame([ element['raw_space'] for element in raw_json['data']['auctions']])\r\n",
    "    boat_speed_list = pd.DataFrame([ element['raw_speed'] for element in raw_json['data']['auctions']])\r\n",
    "    boat_skill_list = pd.DataFrame([ element['raw_skill'] for element in raw_json['data']['auctions']])\r\n",
    "    boat_defence_list = pd.DataFrame([ element['raw_defence'] for element in raw_json['data']['auctions']])\r\n",
    "    boat_attack_list = pd.DataFrame([ element['raw_attack'] for element in raw_json['data']['auctions']])\r\n",
    "    boat_morale_list = pd.DataFrame([ element['raw_morale'] for element in raw_json['data']['auctions']])\r\n",
    "    \r\n",
    "    concat_DF = pd.concat([ship_id_list, ship_class_list, \\\r\n",
    "                        boat_space_list, boat_speed_list, boat_skill_list, \\\r\n",
    "                        boat_defence_list, boat_attack_list, boat_morale_list,\\\r\n",
    "                        ship_price_list_USD, ship_price_list_BNB], axis=1)\r\n",
    "    \r\n",
    "    concat_DF.columns\r\n",
    "    \r\n",
    "    return concat_DF"
   ],
   "outputs": [],
   "metadata": {}
  },
  {
   "cell_type": "code",
   "execution_count": 241,
   "source": [
    "initial_bnb_price = 431\r\n",
    "bnb_price= get_binance_price()\r\n",
    "\r\n",
    "# IMPORT MODELS\r\n",
    "\r\n",
    "model_USD = pickle.load(open('db/model_USD.sav', 'rb'))\r\n",
    "\r\n",
    "zztest = np.array([5,13,15,6,11,5])\r\n",
    "zztest = zztest.reshape(1, -1)\r\n",
    "\r\n",
    "model_USD.predict(zztest)\r\n"
   ],
   "outputs": [
    {
     "output_type": "execute_result",
     "data": {
      "text/plain": [
       "array([61.35054854])"
      ]
     },
     "metadata": {},
     "execution_count": 241
    }
   ],
   "metadata": {}
  },
  {
   "cell_type": "code",
   "execution_count": 242,
   "source": [
    "columns = ['transaction_id', 'ship_id', 'ship_class', 'ship_durability', 'ship_owner', \\\r\n",
    "        'ship_attr_space', 'ship_attr_speed', 'ship_attr_skill', 'ship_attr_defence', 'ship_attr_attack', 'ship_attr_morale', \\\r\n",
    "        'ship_parts_keel', 'ship_parts_sail', 'ship_parts_side', 'ship_parts_bow', 'ship_parts_cabin', 'ship_parts_stern', \\\r\n",
    "        'ship_sold_price']"
   ],
   "outputs": [],
   "metadata": {}
  },
  {
   "cell_type": "code",
   "execution_count": 243,
   "source": [
    "#ship_price_list = [ round(int(element['buyout_price']) / 1000000000 * bnb_price, 2) for element in raw_json['data']['auctions']]"
   ],
   "outputs": [],
   "metadata": {}
  },
  {
   "cell_type": "code",
   "execution_count": 244,
   "source": [
    "test_df = get_ship_stats_selling()\r\n",
    "test_df.columns = ['ship_id', 'ship_class','ship_attr_space', \\\r\n",
    "    'ship_attr_speed', 'ship_attr_skill', 'ship_attr_defence', \\\r\n",
    "    'ship_attr_attack', 'ship_attr_morale', 'selling_price_USD', 'selling_price_BNB']\r\n",
    "test_df.head(2)"
   ],
   "outputs": [
    {
     "output_type": "execute_result",
     "data": {
      "text/html": [
       "<div>\n",
       "<style scoped>\n",
       "    .dataframe tbody tr th:only-of-type {\n",
       "        vertical-align: middle;\n",
       "    }\n",
       "\n",
       "    .dataframe tbody tr th {\n",
       "        vertical-align: top;\n",
       "    }\n",
       "\n",
       "    .dataframe thead th {\n",
       "        text-align: right;\n",
       "    }\n",
       "</style>\n",
       "<table border=\"1\" class=\"dataframe\">\n",
       "  <thead>\n",
       "    <tr style=\"text-align: right;\">\n",
       "      <th></th>\n",
       "      <th>ship_id</th>\n",
       "      <th>ship_class</th>\n",
       "      <th>ship_attr_space</th>\n",
       "      <th>ship_attr_speed</th>\n",
       "      <th>ship_attr_skill</th>\n",
       "      <th>ship_attr_defence</th>\n",
       "      <th>ship_attr_attack</th>\n",
       "      <th>ship_attr_morale</th>\n",
       "      <th>selling_price_USD</th>\n",
       "      <th>selling_price_BNB</th>\n",
       "    </tr>\n",
       "  </thead>\n",
       "  <tbody>\n",
       "    <tr>\n",
       "      <th>0</th>\n",
       "      <td>11745</td>\n",
       "      <td>0</td>\n",
       "      <td>12</td>\n",
       "      <td>9</td>\n",
       "      <td>15</td>\n",
       "      <td>15</td>\n",
       "      <td>9</td>\n",
       "      <td>7</td>\n",
       "      <td>192.80</td>\n",
       "      <td>0.5</td>\n",
       "    </tr>\n",
       "    <tr>\n",
       "      <th>1</th>\n",
       "      <td>16033</td>\n",
       "      <td>0</td>\n",
       "      <td>6</td>\n",
       "      <td>5</td>\n",
       "      <td>11</td>\n",
       "      <td>5</td>\n",
       "      <td>5</td>\n",
       "      <td>9</td>\n",
       "      <td>38.56</td>\n",
       "      <td>0.1</td>\n",
       "    </tr>\n",
       "  </tbody>\n",
       "</table>\n",
       "</div>"
      ],
      "text/plain": [
       "  ship_id ship_class ship_attr_space ship_attr_speed ship_attr_skill  \\\n",
       "0   11745          0              12               9              15   \n",
       "1   16033          0               6               5              11   \n",
       "\n",
       "  ship_attr_defence ship_attr_attack ship_attr_morale  selling_price_USD  \\\n",
       "0                15                9                7             192.80   \n",
       "1                 5                5                9              38.56   \n",
       "\n",
       "   selling_price_BNB  \n",
       "0                0.5  \n",
       "1                0.1  "
      ]
     },
     "metadata": {},
     "execution_count": 244
    }
   ],
   "metadata": {}
  },
  {
   "cell_type": "code",
   "execution_count": 245,
   "source": [
    "pred_columns = ['ship_attr_space', 'ship_attr_speed', 'ship_attr_skill', \\\r\n",
    "                'ship_attr_defence', 'ship_attr_attack', 'ship_attr_morale']\r\n",
    "\r\n",
    "test_predict_USD = test_df[pred_columns]\r\n",
    "\r\n",
    "test_predict_USD.head()"
   ],
   "outputs": [
    {
     "output_type": "execute_result",
     "data": {
      "text/html": [
       "<div>\n",
       "<style scoped>\n",
       "    .dataframe tbody tr th:only-of-type {\n",
       "        vertical-align: middle;\n",
       "    }\n",
       "\n",
       "    .dataframe tbody tr th {\n",
       "        vertical-align: top;\n",
       "    }\n",
       "\n",
       "    .dataframe thead th {\n",
       "        text-align: right;\n",
       "    }\n",
       "</style>\n",
       "<table border=\"1\" class=\"dataframe\">\n",
       "  <thead>\n",
       "    <tr style=\"text-align: right;\">\n",
       "      <th></th>\n",
       "      <th>ship_attr_space</th>\n",
       "      <th>ship_attr_speed</th>\n",
       "      <th>ship_attr_skill</th>\n",
       "      <th>ship_attr_defence</th>\n",
       "      <th>ship_attr_attack</th>\n",
       "      <th>ship_attr_morale</th>\n",
       "    </tr>\n",
       "  </thead>\n",
       "  <tbody>\n",
       "    <tr>\n",
       "      <th>0</th>\n",
       "      <td>12</td>\n",
       "      <td>9</td>\n",
       "      <td>15</td>\n",
       "      <td>15</td>\n",
       "      <td>9</td>\n",
       "      <td>7</td>\n",
       "    </tr>\n",
       "    <tr>\n",
       "      <th>1</th>\n",
       "      <td>6</td>\n",
       "      <td>5</td>\n",
       "      <td>11</td>\n",
       "      <td>5</td>\n",
       "      <td>5</td>\n",
       "      <td>9</td>\n",
       "    </tr>\n",
       "    <tr>\n",
       "      <th>2</th>\n",
       "      <td>9</td>\n",
       "      <td>15</td>\n",
       "      <td>8</td>\n",
       "      <td>11</td>\n",
       "      <td>7</td>\n",
       "      <td>11</td>\n",
       "    </tr>\n",
       "    <tr>\n",
       "      <th>3</th>\n",
       "      <td>6</td>\n",
       "      <td>10</td>\n",
       "      <td>14</td>\n",
       "      <td>14</td>\n",
       "      <td>9</td>\n",
       "      <td>13</td>\n",
       "    </tr>\n",
       "    <tr>\n",
       "      <th>4</th>\n",
       "      <td>6</td>\n",
       "      <td>14</td>\n",
       "      <td>13</td>\n",
       "      <td>14</td>\n",
       "      <td>12</td>\n",
       "      <td>13</td>\n",
       "    </tr>\n",
       "  </tbody>\n",
       "</table>\n",
       "</div>"
      ],
      "text/plain": [
       "  ship_attr_space ship_attr_speed ship_attr_skill ship_attr_defence  \\\n",
       "0              12               9              15                15   \n",
       "1               6               5              11                 5   \n",
       "2               9              15               8                11   \n",
       "3               6              10              14                14   \n",
       "4               6              14              13                14   \n",
       "\n",
       "  ship_attr_attack ship_attr_morale  \n",
       "0                9                7  \n",
       "1                5                9  \n",
       "2                7               11  \n",
       "3                9               13  \n",
       "4               12               13  "
      ]
     },
     "metadata": {},
     "execution_count": 245
    }
   ],
   "metadata": {}
  },
  {
   "cell_type": "code",
   "execution_count": 246,
   "source": [
    "predicted_y = model_USD.predict(test_predict_USD)\r\n",
    "predicted_y = pd.Series(predicted_y)\r\n",
    "predicted_y = predicted_y.round(2)"
   ],
   "outputs": [],
   "metadata": {}
  },
  {
   "cell_type": "code",
   "execution_count": 247,
   "source": [
    "_df = pd.concat([test_df, predicted_y], axis=1)\r\n",
    "_df.rename(columns={0: 'predicted_price_USD'}, inplace=True)\r\n",
    "_df['flip_ratio'] = _df['predicted_price_USD'] / _df['selling_price_USD']\r\n",
    "_df['flip_ratio'] = _df['flip_ratio'].round(2)\r\n",
    "gold_df = _df[['ship_id', 'selling_price_BNB', 'selling_price_USD', 'predicted_price_USD', 'flip_ratio']]"
   ],
   "outputs": [],
   "metadata": {}
  },
  {
   "cell_type": "code",
   "execution_count": 248,
   "source": [
    "(gold_df[gold_df['flip_ratio'] > 1.5]\\\r\n",
    "    .sort_values('flip_ratio', ascending=False))"
   ],
   "outputs": [
    {
     "output_type": "execute_result",
     "data": {
      "text/html": [
       "<div>\n",
       "<style scoped>\n",
       "    .dataframe tbody tr th:only-of-type {\n",
       "        vertical-align: middle;\n",
       "    }\n",
       "\n",
       "    .dataframe tbody tr th {\n",
       "        vertical-align: top;\n",
       "    }\n",
       "\n",
       "    .dataframe thead th {\n",
       "        text-align: right;\n",
       "    }\n",
       "</style>\n",
       "<table border=\"1\" class=\"dataframe\">\n",
       "  <thead>\n",
       "    <tr style=\"text-align: right;\">\n",
       "      <th></th>\n",
       "      <th>ship_id</th>\n",
       "      <th>selling_price_BNB</th>\n",
       "      <th>selling_price_USD</th>\n",
       "      <th>predicted_price_USD</th>\n",
       "      <th>flip_ratio</th>\n",
       "    </tr>\n",
       "  </thead>\n",
       "  <tbody>\n",
       "    <tr>\n",
       "      <th>81</th>\n",
       "      <td>519</td>\n",
       "      <td>0.12</td>\n",
       "      <td>46.27</td>\n",
       "      <td>83.62</td>\n",
       "      <td>1.81</td>\n",
       "    </tr>\n",
       "    <tr>\n",
       "      <th>3</th>\n",
       "      <td>17568</td>\n",
       "      <td>0.12</td>\n",
       "      <td>46.27</td>\n",
       "      <td>81.45</td>\n",
       "      <td>1.76</td>\n",
       "    </tr>\n",
       "    <tr>\n",
       "      <th>67</th>\n",
       "      <td>28018</td>\n",
       "      <td>0.11</td>\n",
       "      <td>42.42</td>\n",
       "      <td>68.03</td>\n",
       "      <td>1.60</td>\n",
       "    </tr>\n",
       "    <tr>\n",
       "      <th>96</th>\n",
       "      <td>11746</td>\n",
       "      <td>0.10</td>\n",
       "      <td>38.56</td>\n",
       "      <td>58.80</td>\n",
       "      <td>1.52</td>\n",
       "    </tr>\n",
       "  </tbody>\n",
       "</table>\n",
       "</div>"
      ],
      "text/plain": [
       "   ship_id  selling_price_BNB  selling_price_USD  predicted_price_USD  \\\n",
       "81     519               0.12              46.27                83.62   \n",
       "3    17568               0.12              46.27                81.45   \n",
       "67   28018               0.11              42.42                68.03   \n",
       "96   11746               0.10              38.56                58.80   \n",
       "\n",
       "    flip_ratio  \n",
       "81        1.81  \n",
       "3         1.76  \n",
       "67        1.60  \n",
       "96        1.52  "
      ]
     },
     "metadata": {},
     "execution_count": 248
    }
   ],
   "metadata": {}
  },
  {
   "cell_type": "code",
   "execution_count": null,
   "source": [],
   "outputs": [],
   "metadata": {}
  }
 ],
 "metadata": {
  "orig_nbformat": 4,
  "language_info": {
   "name": "python",
   "version": "3.8.8",
   "mimetype": "text/x-python",
   "codemirror_mode": {
    "name": "ipython",
    "version": 3
   },
   "pygments_lexer": "ipython3",
   "nbconvert_exporter": "python",
   "file_extension": ".py"
  },
  "kernelspec": {
   "name": "python3",
   "display_name": "Python 3.8.8 64-bit ('base': conda)"
  },
  "interpreter": {
   "hash": "63a3210ed32c8c5e8c5daf40c6fb71e88ea33494b3eaa8a6f1212a2d7aa3f0ac"
  }
 },
 "nbformat": 4,
 "nbformat_minor": 2
}