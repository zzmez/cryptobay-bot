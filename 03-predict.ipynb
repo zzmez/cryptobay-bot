{
 "cells": [
  {
   "cell_type": "code",
   "execution_count": 1,
   "metadata": {},
   "outputs": [],
   "source": [
    "#USED FOR AIRFLOW\n",
    "import os\n",
    "try:\n",
    "    relative_location\n",
    "except NameError:\n",
    "    relative_location = \"\"\n",
    "\n",
    "if relative_location != \"\":\n",
    "    os.chdir(relative_location)"
   ]
  },
  {
   "cell_type": "code",
   "execution_count": 2,
   "metadata": {},
   "outputs": [],
   "source": [
    "import pickle\n",
    "# import json\n",
    "import requests\n",
    "import numpy as np\n",
    "import pandas as pd\n",
    "from datetime import datetime, timezone\n",
    "from include.remote_calls import get_binance_price_coingecko, send_email\n",
    "# from sklearn.linear_model import Lasso"
   ]
  },
  {
   "cell_type": "code",
   "execution_count": 3,
   "metadata": {},
   "outputs": [],
   "source": [
    "number_of_entries = 100\n",
    "link = f\"https://api.cryptobay.io/bay/cryptobaygetauctionlist?\\\n",
    "data=%7B%22object%22%3A%7B%7D%2C%22token_type%22%3A1%2C%22state%22%3A%220%22%2C%22\\\n",
    "order_by%22%3A%222%22%2C%22page_num%22%3A0%2C%22page_size%22%3A{number_of_entries}%7D\"\n",
    "\n",
    "# link = f\"https://api.cryptobay.top/bay/cryptobaygetauctionlist?\\\n",
    "# data=%7B%22object%22%3A%7B%7D%2C%22token_type%22%3A1%2C%22state%22%3A%220%22%2C%22\\\n",
    "# order_by%22%3A%222%22%2C%22page_num%22%3A0%2C%22page_size%22%3A{number_of_entries}%7D\"\n",
    "\n",
    "zzratio = 1.7       #minium ratio to appear\n",
    "discount = 0.85     #discount on what the boat should sell at\n",
    "\n",
    "r = requests.get(link)\n",
    "raw_json = r.json()"
   ]
  },
  {
   "cell_type": "code",
   "execution_count": 4,
   "metadata": {},
   "outputs": [],
   "source": [
    "def get_binance_price_coinograph() -> int:\n",
    "    \"\"\"\n",
    "    Example\n",
    "            {\n",
    "        \"exchange\": \"binance\",\n",
    "        \"pair\": \"bnbusdt\",\n",
    "        \"price\": 335.8,\n",
    "        \"ask\": 335.8,\n",
    "        \"bid\": 335.7\n",
    "        }\n",
    "    \"\"\"\n",
    "    price_json = requests.get(\"https://coinograph.io/ticker/?symbol=binance:bnbusdt\").json()\n",
    "    return price_json['price']\n"
   ]
  },
  {
   "cell_type": "code",
   "execution_count": 5,
   "metadata": {},
   "outputs": [],
   "source": [
    "def get_binance_price_coingecko() -> float:\n",
    "    \"\"\"\n",
    "    Example\n",
    "{'id': 'binancecoin',\n",
    " 'symbol': 'bnb',\n",
    " 'name': 'Binance Coin',\n",
    " 'image': 'https://assets.coingecko.com/coins/images/825/large/binance-coin-logo.png?1547034615',\n",
    " 'current_price': 400.07,\n",
    " 'market_cap': 61889077351,\n",
    " 'market_cap_rank': 5,\n",
    " 'fully_diluted_valuation': 68296906490,\n",
    " 'total_volume': 1565273152,\n",
    " 'high_24h': 401.01,\n",
    " 'low_24h': 372.01,\n",
    " 'price_change_24h': 25.8,\n",
    " 'price_change_percentage_24h': 6.89444,\n",
    " 'market_cap_change_24h': 3991379311,\n",
    " 'market_cap_change_percentage_24h': 6.89385,\n",
    " 'circulating_supply': 154533651.9,\n",
    " 'total_supply': 170533651.9,\n",
    " 'max_supply': 170533651.9,\n",
    " 'ath': 686.31,\n",
    " 'ath_change_percentage': -41.64571,\n",
    " 'ath_date': '2021-05-10T07:24:17.097Z',\n",
    " 'atl': 0.0398177,\n",
    " 'atl_change_percentage': 1005707.34064,\n",
    " 'atl_date': '2017-10-19T00:00:00.000Z',\n",
    " 'roi': None,\n",
    " 'last_updated': '2021-10-01T08:23:03.665Z'}\n",
    "    \"\"\"\n",
    "    url = \"https://api.coingecko.com/api/v3/coins/markets?vs_currency=usd&ids=binancecoin\"\n",
    "    price_json = requests.get(url).json()[0]['current_price']\n",
    "    return price_json"
   ]
  },
  {
   "cell_type": "code",
   "execution_count": 6,
   "metadata": {},
   "outputs": [],
   "source": [
    "def get_ship_stats_selling(bnb_price: float):\n",
    "    ship_id_list = pd.DataFrame([element['token_id'] for element in raw_json['data']['auctions']])\n",
    "    tranzaction_id_list = pd.DataFrame([element['idx'] for element in raw_json['data']['auctions']])\n",
    "    ship_class_list = pd.DataFrame([element['class'] for element in raw_json['data']['auctions']])\n",
    "    ship_price_list_BNB = pd.DataFrame([ round(int(element['buyout_price']) / 1000000000, 3) for element in raw_json['data']['auctions'] ])\n",
    "    ship_price_list_USD = pd.DataFrame([ round(int(element['buyout_price']) / 1000000000 * bnb_price, 2) for element in raw_json['data']['auctions'] ])\n",
    "\n",
    "    boat_space_list = pd.DataFrame([ element['raw_space'] for element in raw_json['data']['auctions']])\n",
    "    boat_speed_list = pd.DataFrame([ element['raw_speed'] for element in raw_json['data']['auctions']])\n",
    "    boat_skill_list = pd.DataFrame([ element['raw_skill'] for element in raw_json['data']['auctions']])\n",
    "    boat_defence_list = pd.DataFrame([ element['raw_defence'] for element in raw_json['data']['auctions']])\n",
    "    boat_attack_list = pd.DataFrame([ element['raw_attack'] for element in raw_json['data']['auctions']])\n",
    "    boat_morale_list = pd.DataFrame([ element['raw_morale'] for element in raw_json['data']['auctions']])\n",
    "    \n",
    "    concat_DF = pd.concat([ship_id_list, tranzaction_id_list, ship_class_list, \\\n",
    "                        boat_space_list, boat_speed_list, boat_skill_list, \\\n",
    "                        boat_defence_list, boat_attack_list, boat_morale_list,\\\n",
    "                        ship_price_list_USD, ship_price_list_BNB], axis=1)\n",
    "    \n",
    "    concat_DF.columns\n",
    "    \n",
    "    return concat_DF"
   ]
  },
  {
   "cell_type": "code",
   "execution_count": 7,
   "metadata": {},
   "outputs": [
    {
     "name": "stderr",
     "output_type": "stream",
     "text": [
      "D:\\ProgramFiles\\anaconda\\lib\\site-packages\\sklearn\\base.py:324: UserWarning: Trying to unpickle estimator Lasso from version 0.24.2 when using version 1.0.1. This might lead to breaking code or invalid results. Use at your own risk. For more info please refer to:\n",
      "https://scikit-learn.org/stable/modules/model_persistence.html#security-maintainability-limitations\n",
      "  warnings.warn(\n",
      "D:\\ProgramFiles\\anaconda\\lib\\site-packages\\sklearn\\base.py:324: UserWarning: Trying to unpickle estimator LinearRegression from version 0.24.2 when using version 1.0.1. This might lead to breaking code or invalid results. Use at your own risk. For more info please refer to:\n",
      "https://scikit-learn.org/stable/modules/model_persistence.html#security-maintainability-limitations\n",
      "  warnings.warn(\n"
     ]
    }
   ],
   "source": [
    "# IMPORT MODELS\n",
    "model_USD = pickle.load(open(\"db/model_USD.sav\", 'rb'))\n",
    "model_BNB = pickle.load(open(\"db/model_BNB.sav\", 'rb'))\n",
    "\n",
    "# zztest = np.array([5,13,15,6,11,5])\n",
    "# zztest = zztest.reshape(1, -1)\n",
    "\n",
    "# model_BNB.predict(zztest)\n"
   ]
  },
  {
   "cell_type": "code",
   "execution_count": 8,
   "metadata": {},
   "outputs": [],
   "source": [
    "columns = ['transaction_id', 'ship_id', 'ship_class', 'ship_durability', 'ship_owner', \\\n",
    "        'ship_attr_space', 'ship_attr_speed', 'ship_attr_skill', 'ship_attr_defence', 'ship_attr_attack', 'ship_attr_morale', \\\n",
    "        'ship_parts_keel', 'ship_parts_sail', 'ship_parts_side', 'ship_parts_bow', 'ship_parts_cabin', 'ship_parts_stern', \\\n",
    "        'ship_sold_price']"
   ]
  },
  {
   "cell_type": "code",
   "execution_count": 9,
   "metadata": {},
   "outputs": [],
   "source": [
    "#ship_price_list = [ round(int(element['buyout_price']) / 1000000000 * bnb_price, 2) for element in raw_json['data']['auctions']]"
   ]
  },
  {
   "cell_type": "code",
   "execution_count": 10,
   "metadata": {},
   "outputs": [],
   "source": [
    "try:\n",
    "    bnb_price\n",
    "except NameError:\n",
    "    bnb_price = get_binance_price_coingecko()\n",
    "\n",
    "# Force refresh for bnb_price \n",
    "#bnb_price = get_binance_price_coingecko()\n",
    "\n",
    "stats_df = get_ship_stats_selling(bnb_price)\n",
    "stats_df.columns = ['ship_id', 'transaction_id', 'ship_class','ship_attr_space', \\\n",
    "    'ship_attr_speed', 'ship_attr_skill', 'ship_attr_defence', \\\n",
    "    'ship_attr_attack', 'ship_attr_morale', 'selling_price_USD', 'selling_price_BNB']\n",
    "#stats_df.head(2)"
   ]
  },
  {
   "cell_type": "code",
   "execution_count": 11,
   "metadata": {},
   "outputs": [],
   "source": [
    "pred_columns = ['ship_attr_space', 'ship_attr_speed', 'ship_attr_skill', \\\n",
    "                'ship_attr_defence', 'ship_attr_attack', 'ship_attr_morale']\n",
    "\n",
    "X = stats_df[pred_columns]\n",
    "\n",
    "#X.head()"
   ]
  },
  {
   "cell_type": "code",
   "execution_count": 12,
   "metadata": {},
   "outputs": [
    {
     "name": "stderr",
     "output_type": "stream",
     "text": [
      "D:\\ProgramFiles\\anaconda\\lib\\site-packages\\sklearn\\base.py:438: UserWarning: X has feature names, but Lasso was fitted without feature names\n",
      "  warnings.warn(\n"
     ]
    }
   ],
   "source": [
    "y_pred_USD = model_USD.predict(X)\n",
    "y_pred_USD = pd.Series(y_pred_USD)\n",
    "y_pred_USD = y_pred_USD.round(2)"
   ]
  },
  {
   "cell_type": "code",
   "execution_count": 13,
   "metadata": {},
   "outputs": [
    {
     "name": "stderr",
     "output_type": "stream",
     "text": [
      "D:\\ProgramFiles\\anaconda\\lib\\site-packages\\sklearn\\base.py:438: UserWarning: X has feature names, but LinearRegression was fitted without feature names\n",
      "  warnings.warn(\n"
     ]
    }
   ],
   "source": [
    "y_pred_BNB = model_BNB.predict(X)\n",
    "y_pred_BNB = pd.Series(y_pred_BNB)\n",
    "y_pred_BNB = y_pred_BNB.round(3)"
   ]
  },
  {
   "cell_type": "code",
   "execution_count": 14,
   "metadata": {},
   "outputs": [],
   "source": [
    "_df = pd.concat([stats_df, y_pred_USD, y_pred_BNB], axis=1)\n",
    "_df.rename(columns={0: 'predicted_price_USD', 1: 'predicted_price_BNB'}, inplace=True)\n",
    "_df['flip_ratio'] = _df['predicted_price_BNB' ] / _df['selling_price_BNB']\n",
    "_df['flip_ratio'] = _df['flip_ratio'].round(2)\n",
    "gold_df = _df[['ship_id', 'transaction_id', 'selling_price_USD', 'predicted_price_USD', 'selling_price_BNB', 'predicted_price_BNB', 'flip_ratio']]"
   ]
  },
  {
   "cell_type": "code",
   "execution_count": 15,
   "metadata": {},
   "outputs": [],
   "source": [
    "# gold_df.head()"
   ]
  },
  {
   "cell_type": "code",
   "execution_count": 16,
   "metadata": {},
   "outputs": [],
   "source": [
    "final_df = (gold_df[gold_df['flip_ratio'] >= zzratio]\\\n",
    "    .sort_values('flip_ratio', ascending=False))"
   ]
  },
  {
   "cell_type": "code",
   "execution_count": 17,
   "metadata": {},
   "outputs": [],
   "source": [
    "csv_file_out = f\"db/out/predicted_{datetime.now(timezone.utc).strftime('%Y%m%d-%H%M')}.csv\""
   ]
  },
  {
   "cell_type": "code",
   "execution_count": 18,
   "metadata": {},
   "outputs": [],
   "source": [
    "final_df.to_csv(csv_file_out, index=False)"
   ]
  },
  {
   "cell_type": "code",
   "execution_count": 19,
   "metadata": {},
   "outputs": [
    {
     "data": {
      "text/html": [
       "<div>\n",
       "<style scoped>\n",
       "    .dataframe tbody tr th:only-of-type {\n",
       "        vertical-align: middle;\n",
       "    }\n",
       "\n",
       "    .dataframe tbody tr th {\n",
       "        vertical-align: top;\n",
       "    }\n",
       "\n",
       "    .dataframe thead th {\n",
       "        text-align: right;\n",
       "    }\n",
       "</style>\n",
       "<table border=\"1\" class=\"dataframe\">\n",
       "  <thead>\n",
       "    <tr style=\"text-align: right;\">\n",
       "      <th></th>\n",
       "      <th>ship_id</th>\n",
       "      <th>transaction_id</th>\n",
       "      <th>selling_price_USD</th>\n",
       "      <th>predicted_price_USD</th>\n",
       "      <th>selling_price_BNB</th>\n",
       "      <th>predicted_price_BNB</th>\n",
       "      <th>flip_ratio</th>\n",
       "    </tr>\n",
       "  </thead>\n",
       "  <tbody>\n",
       "    <tr>\n",
       "      <th>5</th>\n",
       "      <td>18154</td>\n",
       "      <td>28041</td>\n",
       "      <td>31.33</td>\n",
       "      <td>49.83</td>\n",
       "      <td>0.048</td>\n",
       "      <td>0.149</td>\n",
       "      <td>3.10</td>\n",
       "    </tr>\n",
       "    <tr>\n",
       "      <th>6</th>\n",
       "      <td>18074</td>\n",
       "      <td>28040</td>\n",
       "      <td>31.33</td>\n",
       "      <td>46.39</td>\n",
       "      <td>0.048</td>\n",
       "      <td>0.119</td>\n",
       "      <td>2.48</td>\n",
       "    </tr>\n",
       "    <tr>\n",
       "      <th>38</th>\n",
       "      <td>28688</td>\n",
       "      <td>28000</td>\n",
       "      <td>65.26</td>\n",
       "      <td>71.85</td>\n",
       "      <td>0.100</td>\n",
       "      <td>0.214</td>\n",
       "      <td>2.14</td>\n",
       "    </tr>\n",
       "    <tr>\n",
       "      <th>34</th>\n",
       "      <td>52617</td>\n",
       "      <td>28004</td>\n",
       "      <td>52.21</td>\n",
       "      <td>59.84</td>\n",
       "      <td>0.080</td>\n",
       "      <td>0.167</td>\n",
       "      <td>2.09</td>\n",
       "    </tr>\n",
       "    <tr>\n",
       "      <th>97</th>\n",
       "      <td>19557</td>\n",
       "      <td>27921</td>\n",
       "      <td>39.16</td>\n",
       "      <td>53.26</td>\n",
       "      <td>0.060</td>\n",
       "      <td>0.124</td>\n",
       "      <td>2.07</td>\n",
       "    </tr>\n",
       "    <tr>\n",
       "      <th>3</th>\n",
       "      <td>25048</td>\n",
       "      <td>28046</td>\n",
       "      <td>32.63</td>\n",
       "      <td>46.05</td>\n",
       "      <td>0.050</td>\n",
       "      <td>0.101</td>\n",
       "      <td>2.02</td>\n",
       "    </tr>\n",
       "    <tr>\n",
       "      <th>16</th>\n",
       "      <td>26914</td>\n",
       "      <td>28030</td>\n",
       "      <td>55.47</td>\n",
       "      <td>61.73</td>\n",
       "      <td>0.085</td>\n",
       "      <td>0.166</td>\n",
       "      <td>1.95</td>\n",
       "    </tr>\n",
       "    <tr>\n",
       "      <th>61</th>\n",
       "      <td>18367</td>\n",
       "      <td>27968</td>\n",
       "      <td>58.74</td>\n",
       "      <td>61.88</td>\n",
       "      <td>0.090</td>\n",
       "      <td>0.175</td>\n",
       "      <td>1.94</td>\n",
       "    </tr>\n",
       "    <tr>\n",
       "      <th>87</th>\n",
       "      <td>6938</td>\n",
       "      <td>27934</td>\n",
       "      <td>52.21</td>\n",
       "      <td>53.71</td>\n",
       "      <td>0.080</td>\n",
       "      <td>0.149</td>\n",
       "      <td>1.86</td>\n",
       "    </tr>\n",
       "    <tr>\n",
       "      <th>35</th>\n",
       "      <td>45162</td>\n",
       "      <td>28003</td>\n",
       "      <td>52.21</td>\n",
       "      <td>55.32</td>\n",
       "      <td>0.080</td>\n",
       "      <td>0.144</td>\n",
       "      <td>1.80</td>\n",
       "    </tr>\n",
       "    <tr>\n",
       "      <th>43</th>\n",
       "      <td>2966</td>\n",
       "      <td>27994</td>\n",
       "      <td>35.89</td>\n",
       "      <td>35.11</td>\n",
       "      <td>0.055</td>\n",
       "      <td>0.099</td>\n",
       "      <td>1.80</td>\n",
       "    </tr>\n",
       "    <tr>\n",
       "      <th>1</th>\n",
       "      <td>25589</td>\n",
       "      <td>28048</td>\n",
       "      <td>53.51</td>\n",
       "      <td>58.10</td>\n",
       "      <td>0.082</td>\n",
       "      <td>0.146</td>\n",
       "      <td>1.78</td>\n",
       "    </tr>\n",
       "    <tr>\n",
       "      <th>56</th>\n",
       "      <td>10122</td>\n",
       "      <td>27974</td>\n",
       "      <td>37.85</td>\n",
       "      <td>42.90</td>\n",
       "      <td>0.058</td>\n",
       "      <td>0.102</td>\n",
       "      <td>1.76</td>\n",
       "    </tr>\n",
       "    <tr>\n",
       "      <th>42</th>\n",
       "      <td>7903</td>\n",
       "      <td>27995</td>\n",
       "      <td>65.26</td>\n",
       "      <td>68.97</td>\n",
       "      <td>0.100</td>\n",
       "      <td>0.174</td>\n",
       "      <td>1.74</td>\n",
       "    </tr>\n",
       "    <tr>\n",
       "      <th>20</th>\n",
       "      <td>18281</td>\n",
       "      <td>28026</td>\n",
       "      <td>32.63</td>\n",
       "      <td>34.32</td>\n",
       "      <td>0.050</td>\n",
       "      <td>0.085</td>\n",
       "      <td>1.70</td>\n",
       "    </tr>\n",
       "  </tbody>\n",
       "</table>\n",
       "</div>"
      ],
      "text/plain": [
       "   ship_id transaction_id  selling_price_USD  predicted_price_USD  \\\n",
       "5    18154          28041              31.33                49.83   \n",
       "6    18074          28040              31.33                46.39   \n",
       "38   28688          28000              65.26                71.85   \n",
       "34   52617          28004              52.21                59.84   \n",
       "97   19557          27921              39.16                53.26   \n",
       "3    25048          28046              32.63                46.05   \n",
       "16   26914          28030              55.47                61.73   \n",
       "61   18367          27968              58.74                61.88   \n",
       "87    6938          27934              52.21                53.71   \n",
       "35   45162          28003              52.21                55.32   \n",
       "43    2966          27994              35.89                35.11   \n",
       "1    25589          28048              53.51                58.10   \n",
       "56   10122          27974              37.85                42.90   \n",
       "42    7903          27995              65.26                68.97   \n",
       "20   18281          28026              32.63                34.32   \n",
       "\n",
       "    selling_price_BNB  predicted_price_BNB  flip_ratio  \n",
       "5               0.048                0.149        3.10  \n",
       "6               0.048                0.119        2.48  \n",
       "38              0.100                0.214        2.14  \n",
       "34              0.080                0.167        2.09  \n",
       "97              0.060                0.124        2.07  \n",
       "3               0.050                0.101        2.02  \n",
       "16              0.085                0.166        1.95  \n",
       "61              0.090                0.175        1.94  \n",
       "87              0.080                0.149        1.86  \n",
       "35              0.080                0.144        1.80  \n",
       "43              0.055                0.099        1.80  \n",
       "1               0.082                0.146        1.78  \n",
       "56              0.058                0.102        1.76  \n",
       "42              0.100                0.174        1.74  \n",
       "20              0.050                0.085        1.70  "
      ]
     },
     "execution_count": 19,
     "metadata": {},
     "output_type": "execute_result"
    }
   ],
   "source": [
    "final_df"
   ]
  },
  {
   "cell_type": "code",
   "execution_count": 20,
   "metadata": {},
   "outputs": [],
   "source": [
    "#final_df['ship_id'].iloc[0]"
   ]
  },
  {
   "cell_type": "code",
   "execution_count": 21,
   "metadata": {},
   "outputs": [],
   "source": [
    "#round((final_df['predicted_price_BNB'].iloc[i] * 0.95 * discount - final_df['selling_price_BNB'].iloc[i] - 0.002) * bnb_price, 2)"
   ]
  },
  {
   "cell_type": "code",
   "execution_count": 22,
   "metadata": {},
   "outputs": [
    {
     "name": "stdout",
     "output_type": "stream",
     "text": [
      "https://marketplace.cryptobay.top/ship/18154/28041         ---> actual price: BNB 0.048; ratio 3.1; \n",
      "                                                                predicted price: BNB 0.149 \n",
      "                                                                suggested price: BNB 0.13 \n",
      "                                                                possible profit: $45.89\n",
      "https://marketplace.cryptobay.top/ship/18074/28040         ---> actual price: BNB 0.048; ratio 2.48; \n",
      "                                                                predicted price: BNB 0.119 \n",
      "                                                                suggested price: BNB 0.1 \n",
      "                                                                possible profit: $30.08\n",
      "https://marketplace.cryptobay.top/ship/28688/28000         ---> actual price: BNB 0.1; ratio 2.14; \n",
      "                                                                predicted price: BNB 0.214 \n",
      "                                                                suggested price: BNB 0.18 \n",
      "                                                                possible profit: $46.21\n",
      "https://marketplace.cryptobay.top/ship/52617/28004         ---> actual price: BNB 0.08; ratio 2.09; \n",
      "                                                                predicted price: BNB 0.167 \n",
      "                                                                suggested price: BNB 0.14 \n",
      "                                                                possible profit: $34.49\n",
      "https://marketplace.cryptobay.top/ship/19557/27921         ---> actual price: BNB 0.06; ratio 2.07; \n",
      "                                                                predicted price: BNB 0.124 \n",
      "                                                                suggested price: BNB 0.11 \n",
      "                                                                possible profit: $24.88\n",
      "https://marketplace.cryptobay.top/ship/25048/28046         ---> actual price: BNB 0.05; ratio 2.02; \n",
      "                                                                predicted price: BNB 0.101 \n",
      "                                                                suggested price: BNB 0.09 \n",
      "                                                                possible profit: $19.29\n",
      "https://marketplace.cryptobay.top/ship/26914/28030         ---> actual price: BNB 0.085; ratio 1.95; \n",
      "                                                                predicted price: BNB 0.166 \n",
      "                                                                suggested price: BNB 0.14 \n",
      "                                                                possible profit: $30.7\n",
      "https://marketplace.cryptobay.top/ship/18367/27968         ---> actual price: BNB 0.09; ratio 1.94; \n",
      "                                                                predicted price: BNB 0.175 \n",
      "                                                                suggested price: BNB 0.15 \n",
      "                                                                possible profit: $32.18\n",
      "https://marketplace.cryptobay.top/ship/6938/27934         ---> actual price: BNB 0.08; ratio 1.86; \n",
      "                                                                predicted price: BNB 0.149 \n",
      "                                                                suggested price: BNB 0.13 \n",
      "                                                                possible profit: $25.01\n",
      "https://marketplace.cryptobay.top/ship/45162/28003         ---> actual price: BNB 0.08; ratio 1.8; \n",
      "                                                                predicted price: BNB 0.144 \n",
      "                                                                suggested price: BNB 0.12 \n",
      "                                                                possible profit: $22.37\n",
      "https://marketplace.cryptobay.top/ship/2966/27994         ---> actual price: BNB 0.055; ratio 1.8; \n",
      "                                                                predicted price: BNB 0.099 \n",
      "                                                                suggested price: BNB 0.08 \n",
      "                                                                possible profit: $14.97\n",
      "https://marketplace.cryptobay.top/ship/25589/28048         ---> actual price: BNB 0.082; ratio 1.78; \n",
      "                                                                predicted price: BNB 0.146 \n",
      "                                                                suggested price: BNB 0.12 \n",
      "                                                                possible profit: $22.12\n",
      "https://marketplace.cryptobay.top/ship/10122/27974         ---> actual price: BNB 0.058; ratio 1.76; \n",
      "                                                                predicted price: BNB 0.102 \n",
      "                                                                suggested price: BNB 0.09 \n",
      "                                                                possible profit: $14.6\n",
      "https://marketplace.cryptobay.top/ship/7903/27995         ---> actual price: BNB 0.1; ratio 1.74; \n",
      "                                                                predicted price: BNB 0.174 \n",
      "                                                                suggested price: BNB 0.15 \n",
      "                                                                possible profit: $25.13\n",
      "https://marketplace.cryptobay.top/ship/18281/28026         ---> actual price: BNB 0.05; ratio 1.7; \n",
      "                                                                predicted price: BNB 0.085 \n",
      "                                                                suggested price: BNB 0.07 \n",
      "                                                                possible profit: $10.86\n"
     ]
    }
   ],
   "source": [
    "for i in range(len(final_df)):\n",
    "    profit = round((final_df['predicted_price_BNB'].iloc[i] * 0.95 * discount - final_df['selling_price_BNB'].iloc[i] - 0.002) * bnb_price, 2)\n",
    "    print(f\"https://marketplace.cryptobay.top/ship/{final_df['ship_id'].iloc[i]}/{final_df['transaction_id'].iloc[i]} \\\n",
    "        ---> actual price: BNB {final_df['selling_price_BNB'].iloc[i]}; ratio {final_df['flip_ratio'].iloc[i]}; \\n\\\n",
    "                                                                predicted price: BNB {final_df['predicted_price_BNB'].iloc[i]} \\n\\\n",
    "                                                                suggested price: BNB {round(final_df['predicted_price_BNB'].iloc[i] * discount,2)} \\n\\\n",
    "                                                                possible profit: ${profit}\"\n",
    "        ) "
   ]
  },
  {
   "cell_type": "code",
   "execution_count": 23,
   "metadata": {},
   "outputs": [],
   "source": [
    "# cols = [ col for col in _df.columns if 'attr' in col]\n",
    "# _df[cols].astype('float').sum(axis=1).sort_values(ascending=False)\n"
   ]
  },
  {
   "cell_type": "code",
   "execution_count": 24,
   "metadata": {},
   "outputs": [],
   "source": [
    "#_df.iloc[426]\n",
    "#_df.iloc[269].values[3:9]"
   ]
  },
  {
   "cell_type": "code",
   "execution_count": 25,
   "metadata": {},
   "outputs": [
    {
     "data": {
      "text/plain": [
       "array([0.15325493])"
      ]
     },
     "execution_count": 25,
     "metadata": {},
     "output_type": "execute_result"
    }
   ],
   "source": [
    "\n",
    "import numpy as np\n",
    "zztest = np.array([7,12,14,12,11,13])\n",
    "\n",
    "zztest = np.array(zztest).reshape(1, -1)\n",
    "pr_check = model_BNB.predict(zztest)*0.9 \n",
    "pr_check"
   ]
  },
  {
   "cell_type": "code",
   "execution_count": 26,
   "metadata": {},
   "outputs": [],
   "source": [
    "# (pr_check * 0.95 - 0.144) * bnb_price - 0.8"
   ]
  },
  {
   "cell_type": "code",
   "execution_count": 27,
   "metadata": {},
   "outputs": [],
   "source": [
    "def scan_super_offer(flip_ratio: float = 3):\n",
    "    super_offer_df = pd.DataFrame\n",
    "    super_offer_df = final_df[final_df['flip_ratio'] > flip_ratio].head(1)\n",
    "    super_offer_df = super_offer_df.astype({\"ship_id\": \"int64\",\\\n",
    "                                        \"transaction_id\": \"int64\" })\n",
    "    super_offer_df.reset_index(inplace=True, drop=True)\n",
    "    df_cols = super_offer_df.columns\n",
    "    super_offer_file = \"db/transactions/super_offer.csv\"\n",
    "\n",
    "    try:\n",
    "        old_super_offer_df = super_offer_df.copy(deep=False)\n",
    "        old_super_offer_df = pd.read_csv(super_offer_file)\n",
    "    except:\n",
    "        old_super_offer_df = super_offer_df.copy(deep=False)\n",
    "        old_super_offer_df = pd.DataFrame(columns=df_cols)\n",
    "\n",
    "    if not super_offer_df.empty:\n",
    "        if not super_offer_df[['ship_id','transaction_id']]\\\n",
    "            .equals(old_super_offer_df[['ship_id','transaction_id']]):\n",
    "            super_offer_df.to_csv(super_offer_file, index=False)\n",
    "            curr_flip_ratio = super_offer_df['flip_ratio'].values[0]\n",
    "            send_email.on_super_offer(send_email(), super_offer_df, curr_flip_ratio)\n",
    "    else:\n",
    "        super_offer_df.to_csv(super_offer_file, index=False)"
   ]
  },
  {
   "cell_type": "code",
   "execution_count": 28,
   "metadata": {},
   "outputs": [],
   "source": [
    "scan_super_offer(4)"
   ]
  },
  {
   "cell_type": "code",
   "execution_count": 29,
   "metadata": {},
   "outputs": [
    {
     "ename": "FileNotFoundError",
     "evalue": "[WinError 2] The system cannot find the file specified: 'db/out/predicted_20211111-1254.csv'",
     "output_type": "error",
     "traceback": [
      "\u001b[1;31m---------------------------------------------------------------------------\u001b[0m",
      "\u001b[1;31mFileNotFoundError\u001b[0m                         Traceback (most recent call last)",
      "\u001b[1;32mC:\\Temp/ipykernel_17688/3912053933.py\u001b[0m in \u001b[0;36m<module>\u001b[1;34m\u001b[0m\n\u001b[0;32m     11\u001b[0m \u001b[1;32mfor\u001b[0m \u001b[0mi\u001b[0m \u001b[1;32min\u001b[0m \u001b[0mab\u001b[0m\u001b[1;33m[\u001b[0m\u001b[1;33m:\u001b[0m\u001b[1;33m-\u001b[0m\u001b[1;36m36\u001b[0m\u001b[1;33m]\u001b[0m\u001b[1;33m:\u001b[0m\u001b[1;33m\u001b[0m\u001b[1;33m\u001b[0m\u001b[0m\n\u001b[0;32m     12\u001b[0m     \u001b[0mi\u001b[0m \u001b[1;33m=\u001b[0m \u001b[0mi\u001b[0m\u001b[1;33m.\u001b[0m\u001b[0mreplace\u001b[0m\u001b[1;33m(\u001b[0m\u001b[1;34m\"\\\\\"\u001b[0m\u001b[1;33m,\u001b[0m\u001b[1;34m\"/\"\u001b[0m\u001b[1;33m)\u001b[0m\u001b[1;33m\u001b[0m\u001b[1;33m\u001b[0m\u001b[0m\n\u001b[1;32m---> 13\u001b[1;33m     \u001b[0mos\u001b[0m\u001b[1;33m.\u001b[0m\u001b[0mremove\u001b[0m\u001b[1;33m(\u001b[0m\u001b[0mi\u001b[0m\u001b[1;33m)\u001b[0m\u001b[1;33m\u001b[0m\u001b[1;33m\u001b[0m\u001b[0m\n\u001b[0m",
      "\u001b[1;31mFileNotFoundError\u001b[0m: [WinError 2] The system cannot find the file specified: 'db/out/predicted_20211111-1254.csv'"
     ]
    }
   ],
   "source": [
    "import os\n",
    "ab=[]\n",
    "for roots,dirs,files in os.walk(\"db\\out\"):\n",
    "    for file in files:\n",
    "        if file.endswith(\".csv\"):\n",
    "            ab.append(os.path.join(roots,file))\n",
    "# Windows\n",
    "for i in ab[:-36]:\n",
    "    os.remove(i)\n",
    "# Linux\n",
    "for i in ab[:-36]:\n",
    "    i = i.replace(\"\\\\\",\"/\")\n",
    "    os.remove(i)"
   ]
  }
 ],
 "metadata": {
  "interpreter": {
   "hash": "63a3210ed32c8c5e8c5daf40c6fb71e88ea33494b3eaa8a6f1212a2d7aa3f0ac"
  },
  "kernelspec": {
   "display_name": "Python 3.8.8 64-bit ('base': conda)",
   "name": "python3"
  },
  "language_info": {
   "codemirror_mode": {
    "name": "ipython",
    "version": 3
   },
   "file_extension": ".py",
   "mimetype": "text/x-python",
   "name": "python",
   "nbconvert_exporter": "python",
   "pygments_lexer": "ipython3",
   "version": "3.8.8"
  },
  "orig_nbformat": 4
 },
 "nbformat": 4,
 "nbformat_minor": 2
}
