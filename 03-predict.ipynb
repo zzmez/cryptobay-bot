{
 "cells": [
  {
   "cell_type": "code",
   "execution_count": 25,
   "metadata": {},
   "outputs": [],
   "source": [
    "import pickle\n",
    "# import json\n",
    "import requests\n",
    "import numpy as np\n",
    "import pandas as pd\n",
    "from datetime import datetime, timezone\n",
    "# from sklearn.linear_model import Lasso"
   ]
  },
  {
   "cell_type": "code",
   "execution_count": 26,
   "metadata": {},
   "outputs": [],
   "source": [
    "number_of_entries = 500\n",
    "link = f\"https://api.cryptobay.io/bay/cryptobaygetauctionlist?\\\n",
    "data=%7B%22object%22%3A%7B%7D%2C%22token_type%22%3A1%2C%22state%22%3A%220%22%2C%22\\\n",
    "order_by%22%3A%222%22%2C%22page_num%22%3A0%2C%22page_size%22%3A{number_of_entries}%7D\"\n",
    "\n",
    "try:\n",
    "    relative_location\n",
    "except NameError:\n",
    "    relative_location = \"\"\n",
    "\n",
    "zzratio = 1.4       #minium ratio to appear\n",
    "discount = 0.85     #discount on what the boat should sell at\n",
    "\n",
    "r = requests.get(link)\n",
    "raw_json = r.json()"
   ]
  },
  {
   "cell_type": "code",
   "execution_count": 27,
   "metadata": {},
   "outputs": [],
   "source": [
    "def get_binance_price_coinograph() -> int:\n",
    "    \"\"\"\n",
    "    Example\n",
    "            {\n",
    "        \"exchange\": \"binance\",\n",
    "        \"pair\": \"bnbusdt\",\n",
    "        \"price\": 335.8,\n",
    "        \"ask\": 335.8,\n",
    "        \"bid\": 335.7\n",
    "        }\n",
    "    \"\"\"\n",
    "    price_json = requests.get(\"https://coinograph.io/ticker/?symbol=binance:bnbusdt\").json()\n",
    "    return price_json['price']\n"
   ]
  },
  {
   "cell_type": "code",
   "execution_count": 28,
   "metadata": {},
   "outputs": [],
   "source": [
    "def get_binance_price_coingecko() -> float:\n",
    "    \"\"\"\n",
    "    Example\n",
    "{'id': 'binancecoin',\n",
    " 'symbol': 'bnb',\n",
    " 'name': 'Binance Coin',\n",
    " 'image': 'https://assets.coingecko.com/coins/images/825/large/binance-coin-logo.png?1547034615',\n",
    " 'current_price': 400.07,\n",
    " 'market_cap': 61889077351,\n",
    " 'market_cap_rank': 5,\n",
    " 'fully_diluted_valuation': 68296906490,\n",
    " 'total_volume': 1565273152,\n",
    " 'high_24h': 401.01,\n",
    " 'low_24h': 372.01,\n",
    " 'price_change_24h': 25.8,\n",
    " 'price_change_percentage_24h': 6.89444,\n",
    " 'market_cap_change_24h': 3991379311,\n",
    " 'market_cap_change_percentage_24h': 6.89385,\n",
    " 'circulating_supply': 154533651.9,\n",
    " 'total_supply': 170533651.9,\n",
    " 'max_supply': 170533651.9,\n",
    " 'ath': 686.31,\n",
    " 'ath_change_percentage': -41.64571,\n",
    " 'ath_date': '2021-05-10T07:24:17.097Z',\n",
    " 'atl': 0.0398177,\n",
    " 'atl_change_percentage': 1005707.34064,\n",
    " 'atl_date': '2017-10-19T00:00:00.000Z',\n",
    " 'roi': None,\n",
    " 'last_updated': '2021-10-01T08:23:03.665Z'}\n",
    "    \"\"\"\n",
    "    url = \"https://api.coingecko.com/api/v3/coins/markets?vs_currency=usd&ids=binancecoin\"\n",
    "    price_json = requests.get(url).json()[0]['current_price']\n",
    "    return price_json"
   ]
  },
  {
   "cell_type": "code",
   "execution_count": 29,
   "metadata": {},
   "outputs": [],
   "source": [
    "def get_ship_stats_selling(bnb_price: float):\n",
    "    ship_id_list = pd.DataFrame([element['token_id'] for element in raw_json['data']['auctions']])\n",
    "    tranzaction_id_list = pd.DataFrame([element['idx'] for element in raw_json['data']['auctions']])\n",
    "    ship_class_list = pd.DataFrame([element['class'] for element in raw_json['data']['auctions']])\n",
    "    ship_price_list_BNB = pd.DataFrame([ round(int(element['buyout_price']) / 1000000000, 3) for element in raw_json['data']['auctions'] ])\n",
    "    ship_price_list_USD = pd.DataFrame([ round(int(element['buyout_price']) / 1000000000 * bnb_price, 2) for element in raw_json['data']['auctions'] ])\n",
    "\n",
    "    boat_space_list = pd.DataFrame([ element['raw_space'] for element in raw_json['data']['auctions']])\n",
    "    boat_speed_list = pd.DataFrame([ element['raw_speed'] for element in raw_json['data']['auctions']])\n",
    "    boat_skill_list = pd.DataFrame([ element['raw_skill'] for element in raw_json['data']['auctions']])\n",
    "    boat_defence_list = pd.DataFrame([ element['raw_defence'] for element in raw_json['data']['auctions']])\n",
    "    boat_attack_list = pd.DataFrame([ element['raw_attack'] for element in raw_json['data']['auctions']])\n",
    "    boat_morale_list = pd.DataFrame([ element['raw_morale'] for element in raw_json['data']['auctions']])\n",
    "    \n",
    "    concat_DF = pd.concat([ship_id_list, tranzaction_id_list, ship_class_list, \\\n",
    "                        boat_space_list, boat_speed_list, boat_skill_list, \\\n",
    "                        boat_defence_list, boat_attack_list, boat_morale_list,\\\n",
    "                        ship_price_list_USD, ship_price_list_BNB], axis=1)\n",
    "    \n",
    "    concat_DF.columns\n",
    "    \n",
    "    return concat_DF"
   ]
  },
  {
   "cell_type": "code",
   "execution_count": 30,
   "metadata": {},
   "outputs": [
    {
     "name": "stderr",
     "output_type": "stream",
     "text": [
      "/Users/gabriel.sabau/miniconda/envs/py39/lib/python3.9/site-packages/sklearn/base.py:310: UserWarning: Trying to unpickle estimator Lasso from version 0.24.2 when using version 0.24.1. This might lead to breaking code or invalid results. Use at your own risk.\n",
      "  warnings.warn(\n",
      "/Users/gabriel.sabau/miniconda/envs/py39/lib/python3.9/site-packages/sklearn/base.py:310: UserWarning: Trying to unpickle estimator LinearRegression from version 0.24.2 when using version 0.24.1. This might lead to breaking code or invalid results. Use at your own risk.\n",
      "  warnings.warn(\n"
     ]
    }
   ],
   "source": [
    "# IMPORT MODELS\n",
    "model_USD = pickle.load(open(f\"{relative_location}db/model_USD.sav\", 'rb'))\n",
    "model_BNB = pickle.load(open(f\"{relative_location}db/model_BNB.sav\", 'rb'))\n",
    "\n",
    "# zztest = np.array([5,13,15,6,11,5])\n",
    "# zztest = zztest.reshape(1, -1)\n",
    "\n",
    "# model_BNB.predict(zztest)\n"
   ]
  },
  {
   "cell_type": "code",
   "execution_count": 31,
   "metadata": {},
   "outputs": [],
   "source": [
    "columns = ['transaction_id', 'ship_id', 'ship_class', 'ship_durability', 'ship_owner', \\\n",
    "        'ship_attr_space', 'ship_attr_speed', 'ship_attr_skill', 'ship_attr_defence', 'ship_attr_attack', 'ship_attr_morale', \\\n",
    "        'ship_parts_keel', 'ship_parts_sail', 'ship_parts_side', 'ship_parts_bow', 'ship_parts_cabin', 'ship_parts_stern', \\\n",
    "        'ship_sold_price']"
   ]
  },
  {
   "cell_type": "code",
   "execution_count": 32,
   "metadata": {},
   "outputs": [],
   "source": [
    "#ship_price_list = [ round(int(element['buyout_price']) / 1000000000 * bnb_price, 2) for element in raw_json['data']['auctions']]"
   ]
  },
  {
   "cell_type": "code",
   "execution_count": 33,
   "metadata": {},
   "outputs": [
    {
     "data": {
      "text/plain": [
       "float"
      ]
     },
     "execution_count": 33,
     "metadata": {},
     "output_type": "execute_result"
    }
   ],
   "source": [
    "type(get_binance_price_coingecko())"
   ]
  },
  {
   "cell_type": "code",
   "execution_count": 34,
   "metadata": {},
   "outputs": [],
   "source": [
    "try:\n",
    "    bnb_price\n",
    "except NameError:\n",
    "    bnb_price = get_binance_price_coingecko()\n",
    "\n",
    "# Force refresh for bnb_price \n",
    "#bnb_price = get_binance_price_coingecko()\n",
    "\n",
    "stats_df = get_ship_stats_selling(bnb_price)\n",
    "stats_df.columns = ['ship_id', 'transaction_id', 'ship_class','ship_attr_space', \\\n",
    "    'ship_attr_speed', 'ship_attr_skill', 'ship_attr_defence', \\\n",
    "    'ship_attr_attack', 'ship_attr_morale', 'selling_price_USD', 'selling_price_BNB']\n",
    "#stats_df.head(2)"
   ]
  },
  {
   "cell_type": "code",
   "execution_count": 35,
   "metadata": {},
   "outputs": [],
   "source": [
    "pred_columns = ['ship_attr_space', 'ship_attr_speed', 'ship_attr_skill', \\\n",
    "                'ship_attr_defence', 'ship_attr_attack', 'ship_attr_morale']\n",
    "\n",
    "X = stats_df[pred_columns]\n",
    "\n",
    "#X.head()"
   ]
  },
  {
   "cell_type": "code",
   "execution_count": 36,
   "metadata": {},
   "outputs": [],
   "source": [
    "y_pred_USD = model_USD.predict(X)\n",
    "y_pred_USD = pd.Series(y_pred_USD)\n",
    "y_pred_USD = y_pred_USD.round(2)"
   ]
  },
  {
   "cell_type": "code",
   "execution_count": 37,
   "metadata": {},
   "outputs": [],
   "source": [
    "y_pred_BNB = model_BNB.predict(X)\n",
    "y_pred_BNB = pd.Series(y_pred_BNB)\n",
    "y_pred_BNB = y_pred_BNB.round(3)"
   ]
  },
  {
   "cell_type": "code",
   "execution_count": 38,
   "metadata": {},
   "outputs": [],
   "source": [
    "_df = pd.concat([stats_df, y_pred_USD, y_pred_BNB], axis=1)\n",
    "_df.rename(columns={0: 'predicted_price_USD', 1: 'predicted_price_BNB'}, inplace=True)\n",
    "_df['flip_ratio'] = _df['predicted_price_BNB'] / _df['selling_price_BNB']\n",
    "_df['flip_ratio'] = _df['flip_ratio'].round(2)\n",
    "gold_df = _df[['ship_id', 'transaction_id', 'selling_price_USD', 'predicted_price_USD', 'selling_price_BNB', 'predicted_price_BNB', 'flip_ratio']]"
   ]
  },
  {
   "cell_type": "code",
   "execution_count": 39,
   "metadata": {},
   "outputs": [],
   "source": [
    "# gold_df.head()"
   ]
  },
  {
   "cell_type": "code",
   "execution_count": 40,
   "metadata": {},
   "outputs": [],
   "source": [
    "final_df = (gold_df[gold_df['flip_ratio'] >= zzratio]\\\n",
    "    .sort_values('flip_ratio', ascending=False))"
   ]
  },
  {
   "cell_type": "code",
   "execution_count": 41,
   "metadata": {},
   "outputs": [],
   "source": [
    "final_df.to_csv(f\"{relative_location}db/out/predicted_{datetime.now(timezone.utc).strftime('%Y%m%d-%H%M')}.csv\", header=False, index=False)"
   ]
  },
  {
   "cell_type": "code",
   "execution_count": 42,
   "metadata": {},
   "outputs": [
    {
     "data": {
      "text/html": [
       "<div>\n",
       "<style scoped>\n",
       "    .dataframe tbody tr th:only-of-type {\n",
       "        vertical-align: middle;\n",
       "    }\n",
       "\n",
       "    .dataframe tbody tr th {\n",
       "        vertical-align: top;\n",
       "    }\n",
       "\n",
       "    .dataframe thead th {\n",
       "        text-align: right;\n",
       "    }\n",
       "</style>\n",
       "<table border=\"1\" class=\"dataframe\">\n",
       "  <thead>\n",
       "    <tr style=\"text-align: right;\">\n",
       "      <th></th>\n",
       "      <th>ship_id</th>\n",
       "      <th>transaction_id</th>\n",
       "      <th>selling_price_USD</th>\n",
       "      <th>predicted_price_USD</th>\n",
       "      <th>selling_price_BNB</th>\n",
       "      <th>predicted_price_BNB</th>\n",
       "      <th>flip_ratio</th>\n",
       "    </tr>\n",
       "  </thead>\n",
       "  <tbody>\n",
       "  </tbody>\n",
       "</table>\n",
       "</div>"
      ],
      "text/plain": [
       "Empty DataFrame\n",
       "Columns: [ship_id, transaction_id, selling_price_USD, predicted_price_USD, selling_price_BNB, predicted_price_BNB, flip_ratio]\n",
       "Index: []"
      ]
     },
     "execution_count": 42,
     "metadata": {},
     "output_type": "execute_result"
    }
   ],
   "source": [
    "final_df"
   ]
  },
  {
   "cell_type": "code",
   "execution_count": 43,
   "metadata": {},
   "outputs": [],
   "source": [
    "#final_df['ship_id'].iloc[0]"
   ]
  },
  {
   "cell_type": "code",
   "execution_count": 44,
   "metadata": {},
   "outputs": [],
   "source": [
    "for i in range(len(final_df)):\n",
    "    profit = round((final_df['predicted_price_BNB'].iloc[i] * 0.95 * discount - final_df['selling_price_BNB'].iloc[i] - 0.002) * bnb_price, 2)\n",
    "    print(f\"https://marketplace.cryptobay.io/ship/{final_df['ship_id'].iloc[i]}/{final_df['transaction_id'].iloc[i]} \\\n",
    "        ---> actual price: BNB {final_df['selling_price_BNB'].iloc[i]}; ratio {final_df['flip_ratio'].iloc[i]}; \\n\\\n",
    "                                                                predicted price: BNB {final_df['predicted_price_BNB'].iloc[i]} \\n\\\n",
    "                                                                suggested price: BNB {round(final_df['predicted_price_BNB'].iloc[i] * discount,2)} \\n\\\n",
    "                                                                possible profit: ${profit}\"\n",
    "        ) "
   ]
  },
  {
   "cell_type": "code",
   "execution_count": 45,
   "metadata": {},
   "outputs": [],
   "source": [
    "# cols = [ col for col in _df.columns if 'attr' in col]\n",
    "# _df[cols].astype('float').sum(axis=1).sort_values(ascending=False)\n"
   ]
  },
  {
   "cell_type": "code",
   "execution_count": 46,
   "metadata": {},
   "outputs": [],
   "source": [
    "#_df.iloc[426]\n",
    "#_df.iloc[269].values[3:9]"
   ]
  },
  {
   "cell_type": "code",
   "execution_count": 47,
   "metadata": {},
   "outputs": [],
   "source": [
    "\n",
    "# import numpy as np\n",
    "# zztest = np.array([6,12,10,11,14,11])\n",
    "\n",
    "# zztest = np.array(zztest).reshape(1, -1)\n",
    "# pr_check = model_BNB.predict(zztest)*0.9 \n",
    "# pr_check"
   ]
  },
  {
   "cell_type": "code",
   "execution_count": 48,
   "metadata": {},
   "outputs": [],
   "source": [
    "# (pr_check * 0.95 - 0.144) * bnb_price - 0.8"
   ]
  }
 ],
 "metadata": {
  "interpreter": {
   "hash": "9250e57dea110412a9876b36b8c89a7b1b95cc36f4a2cb78f85d0c93eb93cf52"
  },
  "kernelspec": {
   "display_name": "Python 3.9.4 64-bit ('py39': conda)",
   "name": "python3"
  },
  "language_info": {
   "codemirror_mode": {
    "name": "ipython",
    "version": 3
   },
   "file_extension": ".py",
   "mimetype": "text/x-python",
   "name": "python",
   "nbconvert_exporter": "python",
   "pygments_lexer": "ipython3",
   "version": "3.9.4"
  },
  "orig_nbformat": 4
 },
 "nbformat": 4,
 "nbformat_minor": 2
}
