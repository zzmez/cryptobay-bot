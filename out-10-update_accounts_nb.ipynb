{
 "cells": [
  {
   "cell_type": "code",
   "execution_count": 1,
   "id": "d65eb63d",
   "metadata": {
    "execution": {
     "iopub.execute_input": "2021-11-06T10:10:02.464954Z",
     "iopub.status.busy": "2021-11-06T10:10:02.464387Z",
     "iopub.status.idle": "2021-11-06T10:10:02.466957Z",
     "shell.execute_reply": "2021-11-06T10:10:02.467426Z"
    },
    "jupyter": {
     "source_hidden": true
    },
    "papermill": {
     "duration": 0.027523,
     "end_time": "2021-11-06T10:10:02.467577",
     "exception": false,
     "start_time": "2021-11-06T10:10:02.440054",
     "status": "completed"
    },
    "tags": [
     "injected-parameters"
    ]
   },
   "outputs": [],
   "source": [
    "# Parameters\n",
    "relative_location = \"/opt/airflow/Projects/cryptobay/\"\n"
   ]
  },
  {
   "cell_type": "code",
   "execution_count": 2,
   "id": "5b382149",
   "metadata": {
    "execution": {
     "iopub.execute_input": "2021-11-06T10:10:02.485569Z",
     "iopub.status.busy": "2021-11-06T10:10:02.485033Z",
     "iopub.status.idle": "2021-11-06T10:10:02.487533Z",
     "shell.execute_reply": "2021-11-06T10:10:02.488116Z"
    },
    "jupyter": {
     "source_hidden": true
    },
    "papermill": {
     "duration": 0.013063,
     "end_time": "2021-11-06T10:10:02.488246",
     "exception": false,
     "start_time": "2021-11-06T10:10:02.475183",
     "status": "completed"
    },
    "tags": []
   },
   "outputs": [],
   "source": [
    "#USED FOR AIRFLOW\n",
    "import os\n",
    "try:\n",
    "    relative_location\n",
    "except NameError:\n",
    "    relative_location = \"\"\n",
    "\n",
    "if relative_location != \"\":\n",
    "    os.chdir(relative_location)"
   ]
  },
  {
   "cell_type": "code",
   "execution_count": 3,
   "id": "496313e3",
   "metadata": {
    "execution": {
     "iopub.execute_input": "2021-11-06T10:10:02.504060Z",
     "iopub.status.busy": "2021-11-06T10:10:02.503439Z",
     "iopub.status.idle": "2021-11-06T10:10:02.968819Z",
     "shell.execute_reply": "2021-11-06T10:10:02.968243Z"
    },
    "jupyter": {
     "source_hidden": true
    },
    "papermill": {
     "duration": 0.475322,
     "end_time": "2021-11-06T10:10:02.968938",
     "exception": false,
     "start_time": "2021-11-06T10:10:02.493616",
     "status": "completed"
    },
    "tags": []
   },
   "outputs": [],
   "source": [
    "from include.remote_calls import update_accounts"
   ]
  },
  {
   "cell_type": "code",
   "execution_count": 4,
   "id": "c8c49e9f",
   "metadata": {
    "execution": {
     "iopub.execute_input": "2021-11-06T10:10:02.990790Z",
     "iopub.status.busy": "2021-11-06T10:10:02.990222Z",
     "iopub.status.idle": "2021-11-06T10:10:04.365360Z",
     "shell.execute_reply": "2021-11-06T10:10:04.364845Z"
    },
    "jupyter": {
     "source_hidden": true
    },
    "papermill": {
     "duration": 1.390663,
     "end_time": "2021-11-06T10:10:04.365483",
     "exception": false,
     "start_time": "2021-11-06T10:10:02.974820",
     "status": "completed"
    },
    "tags": []
   },
   "outputs": [],
   "source": [
    "update_accounts()"
   ]
  }
 ],
 "metadata": {
  "interpreter": {
   "hash": "63a3210ed32c8c5e8c5daf40c6fb71e88ea33494b3eaa8a6f1212a2d7aa3f0ac"
  },
  "kernelspec": {
   "display_name": "Python 3.8.8 64-bit ('base': conda)",
   "name": "python3"
  },
  "language_info": {
   "codemirror_mode": {
    "name": "ipython",
    "version": 3
   },
   "file_extension": ".py",
   "mimetype": "text/x-python",
   "name": "python",
   "nbconvert_exporter": "python",
   "pygments_lexer": "ipython3",
   "version": "3.6.15"
  },
  "papermill": {
   "default_parameters": {},
   "duration": 3.397895,
   "end_time": "2021-11-06T10:10:04.680611",
   "environment_variables": {},
   "exception": null,
   "input_path": "/opt/airflow/Projects/cryptobay/10-update_accounts.ipynb",
   "output_path": "/opt/airflow/Projects/cryptobay/out-10-update_accounts_nb.ipynb",
   "parameters": {
    "relative_location": "/opt/airflow/Projects/cryptobay/"
   },
   "start_time": "2021-11-06T10:10:01.282716",
   "version": "2.3.3"
  }
 },
 "nbformat": 4,
 "nbformat_minor": 5
}