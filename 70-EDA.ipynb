{
 "cells": [
  {
   "cell_type": "code",
   "execution_count": null,
   "metadata": {},
   "outputs": [],
   "source": [
    "# TO DO  GENERATOR\n",
    "import random\n",
    "random.seed(1)\n",
    "\n",
    "def r_seq(n):\n",
    "    x = [i for i in random.random()]\n",
    "    return x \n",
    "\n",
    "r_seq(20)"
   ]
  },
  {
   "cell_type": "code",
   "execution_count": null,
   "metadata": {},
   "outputs": [],
   "source": [
    "# TO DO \n",
    "[ i for i in range(5) if i==3 or i==4]"
   ]
  },
  {
   "cell_type": "code",
   "execution_count": null,
   "metadata": {},
   "outputs": [],
   "source": [
    "# TO DO \n",
    "x = (1, 2, 3)\n",
    "s = set(x)\n",
    "s\n",
    "# {1, 2, 3}"
   ]
  },
  {
   "cell_type": "code",
   "execution_count": null,
   "metadata": {},
   "outputs": [],
   "source": [
    "# TO DO\n",
    "x = lambda : \"I know how to call this function.\"\n",
    "x()"
   ]
  },
  {
   "cell_type": "code",
   "execution_count": null,
   "metadata": {},
   "outputs": [],
   "source": [
    "# TO DO\n",
    "#The count_words() function takes a text file as input and prints the number of words contained in the text. The function should print an error message when the file cannot be found. The number of words in the file should be printed if the file can be found.\n",
    "def count_words(filename):\n",
    "  \"\"\"Count the number of words in a file\"\"\"\n",
    "  \n",
    "___ :\n",
    "    with open(filename, encoding='utf-8') as f:\n",
    "      contents = f.read()\n",
    "  \n",
    "___ FileNotFoundError:\n",
    "    print(\"The file {} cannot be found\".format(filename))\n",
    "  else:\n",
    "    words = contents.split()\n",
    "    num_words = len(words)\n",
    "    print(\"The file {} has about {} words.\".format(filename, num_words))\n",
    "    \n",
    "filename = \"peter_rabbit.txt\"\n",
    "count_words(filename)"
   ]
  }
 ],
 "metadata": {
  "interpreter": {
   "hash": "63a3210ed32c8c5e8c5daf40c6fb71e88ea33494b3eaa8a6f1212a2d7aa3f0ac"
  },
  "kernelspec": {
   "display_name": "Python 3.8.8 64-bit ('base': conda)",
   "name": "python3"
  },
  "language_info": {
   "codemirror_mode": {
    "name": "ipython",
    "version": 3
   },
   "file_extension": ".py",
   "mimetype": "text/x-python",
   "name": "python",
   "nbconvert_exporter": "python",
   "pygments_lexer": "ipython3",
   "version": "3.8.8"
  },
  "orig_nbformat": 4
 },
 "nbformat": 4,
 "nbformat_minor": 2
}
