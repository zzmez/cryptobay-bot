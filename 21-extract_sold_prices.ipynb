{
 "cells": [
  {
   "cell_type": "code",
   "execution_count": null,
   "metadata": {},
   "outputs": [],
   "source": [
    "#USED FOR AIRFLOW\n",
    "import os\n",
    "try:\n",
    "    relative_location\n",
    "except NameError:\n",
    "    relative_location = \"\"\n",
    "\n",
    "if relative_location != \"\":\n",
    "    os.chdir(relative_location)"
   ]
  },
  {
   "cell_type": "code",
   "execution_count": 15,
   "metadata": {},
   "outputs": [],
   "source": [
    "import requests\n",
    "import pandas as pd"
   ]
  },
  {
   "cell_type": "code",
   "execution_count": 50,
   "metadata": {},
   "outputs": [],
   "source": [
    "def create_df_from_json(raw_json: dict) -> pd.DataFrame:\n",
    "    columns = ['ship_id','trx_id','space','speed','skill','defence','attack','morale','price']\n",
    "    sold_df = pd.DataFrame(columns=columns)\n",
    "\n",
    "    for i,entry in enumerate(raw_json['data']['auctions']):\n",
    "        sold_df.loc[i,'trx_id'] = entry['idx']\n",
    "        sold_df.loc[i,'ship_id'] = entry['token_id']\n",
    "        sold_df.loc[i,'space'] = entry['raw_space']\n",
    "        sold_df.loc[i,'speed'] = entry['raw_speed']\n",
    "        sold_df.loc[i,'skill'] = entry['raw_skill']\n",
    "        sold_df.loc[i,'defence'] = entry['raw_defence']\n",
    "        sold_df.loc[i,'attack'] = entry['raw_attack']\n",
    "        sold_df.loc[i,'morale'] = entry['raw_morale']\n",
    "        sold_df.loc[i,'price'] = round(float(entry['buyout_price'])/10e+8, 3)\n",
    "        \n",
    "    sold_df = sold_df.iloc[::-1].reset_index(drop=True)\n",
    "    sold_df = sold_df.astype({'space': 'int64', 'speed': 'int64', 'skill': 'int64', 'defence': 'int64',\\\n",
    "        'attack': 'int64', 'morale': 'int64', 'price': 'float64'})\n",
    "    return sold_df"
   ]
  },
  {
   "cell_type": "code",
   "execution_count": 53,
   "metadata": {},
   "outputs": [],
   "source": [
    "n_lines = 100000\n",
    "url = f\"https://api.cryptobay.top/bay/cryptobaygetauctionlist?data=%7B%22object%22%3A%7B%7D%2C%22\\\n",
    "token_type%22%3A1%2C%22state%22%3A%221%22%2C%22\\\n",
    "order_by%22%3A%222%22%2C%22page_num%22%3A0%2C%22page_size%22%3A{n_lines}%7D\"\n",
    "\n",
    "raw_json = requests.get(url).json()\n",
    "sold_ships_file = \"db/extracted/all_sold_ships.csv\""
   ]
  },
  {
   "cell_type": "code",
   "execution_count": 54,
   "metadata": {},
   "outputs": [],
   "source": [
    "sold_df = create_df_from_json(raw_json)"
   ]
  },
  {
   "cell_type": "code",
   "execution_count": 61,
   "metadata": {},
   "outputs": [],
   "source": [
    "#sold_df"
   ]
  },
  {
   "cell_type": "code",
   "execution_count": 60,
   "metadata": {},
   "outputs": [],
   "source": [
    "sold_df.to_csv(sold_ships_file, index=False)"
   ]
  }
 ],
 "metadata": {
  "interpreter": {
   "hash": "63a3210ed32c8c5e8c5daf40c6fb71e88ea33494b3eaa8a6f1212a2d7aa3f0ac"
  },
  "kernelspec": {
   "display_name": "Python 3.8.8 64-bit ('base': conda)",
   "name": "python3"
  },
  "language_info": {
   "codemirror_mode": {
    "name": "ipython",
    "version": 3
   },
   "file_extension": ".py",
   "mimetype": "text/x-python",
   "name": "python",
   "nbconvert_exporter": "python",
   "pygments_lexer": "ipython3",
   "version": "3.8.8"
  },
  "orig_nbformat": 4
 },
 "nbformat": 4,
 "nbformat_minor": 2
}
