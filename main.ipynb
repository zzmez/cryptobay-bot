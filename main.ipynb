{
 "cells": [
  {
   "cell_type": "code",
   "execution_count": 290,
   "source": [
    "import mss\r\n",
    "import numpy as np\r\n",
    "import cv2 \r\n",
    "import matplotlib.pyplot as plt\r\n",
    "import pyautogui\r\n",
    "import time"
   ],
   "outputs": [],
   "metadata": {}
  },
  {
   "cell_type": "code",
   "execution_count": 291,
   "source": [
    "# Variables\r\n",
    "\r\n",
    "mon = 2 # set the screen capture on second monitor\r\n",
    "templates = \"./image_templates\"\r\n",
    "SCT = mss.mss()\r\n",
    "\r\n",
    "#mon1_offset = [3439, 118] #this is the monitor offset resolution\r\n",
    "mon1_offset = [3439, 118] #this is the monitor offset resolution\r\n"
   ],
   "outputs": [],
   "metadata": {}
  },
  {
   "cell_type": "code",
   "execution_count": 292,
   "source": [
    "[ print(f\"Monitor {x}\\n\" + str(SCT.monitors[x])) for x in [0, 1, 2] ]"
   ],
   "outputs": [
    {
     "output_type": "stream",
     "name": "stdout",
     "text": [
      "Monitor 0\n",
      "{'left': -3440, 'top': -118, 'width': 5360, 'height': 1440}\n",
      "Monitor 1\n",
      "{'left': 0, 'top': 0, 'width': 1920, 'height': 1080}\n",
      "Monitor 2\n",
      "{'left': -3440, 'top': -118, 'width': 3440, 'height': 1440}\n"
     ]
    },
    {
     "output_type": "execute_result",
     "data": {
      "text/plain": [
       "[None, None, None]"
      ]
     },
     "metadata": {},
     "execution_count": 292
    }
   ],
   "metadata": {}
  },
  {
   "cell_type": "code",
   "execution_count": 293,
   "source": [
    "#get_result('image_templates/button_adventure.png')\r\n",
    "\r\n",
    "# template = cv2.imread('image_templates/button_adventure.png', cv2.IMREAD_GRAYSCALE)\r\n",
    "# w, h = template.shape[::-1]"
   ],
   "outputs": [],
   "metadata": {}
  },
  {
   "cell_type": "code",
   "execution_count": 294,
   "source": [
    "# Functions\r\n",
    "\r\n",
    "def main_screen(height=1720):\r\n",
    "    scr = SCT.grab({\r\n",
    "                'left': SCT.monitors[2]['left'],\r\n",
    "                'top': SCT.monitors[2]['top'],\r\n",
    "                'width': 1720,\r\n",
    "                'height': SCT.monitors[2]['height']\r\n",
    "            })\r\n",
    "    img = np.array(scr)\r\n",
    "    return cv2.cvtColor(img, cv2.COLOR_BGR2GRAY)\r\n",
    "\r\n",
    "def get_result(template_source: str) -> tuple:\r\n",
    "    template = cv2.imread(template_source, cv2.IMREAD_GRAYSCALE)\r\n",
    "    \r\n",
    "    w, h = template.shape[::-1]\r\n",
    "\r\n",
    "    screenshot = main_screen()\r\n",
    "    result_matching = cv2.matchTemplate(screenshot,  template, cv2.TM_CCOEFF_NORMED)\r\n",
    "\r\n",
    "    return cv2.minMaxLoc(result_matching)\r\n",
    "\r\n",
    "def plot_match(template_source: str):\r\n",
    "    template = cv2.imread(template_source, cv2.IMREAD_GRAYSCALE)\r\n",
    "    \r\n",
    "    w, h = template.shape[::-1]\r\n",
    "\r\n",
    "    screenshot = main_screen()\r\n",
    "    result_matching = cv2.matchTemplate(screenshot,  template, cv2.TM_CCOEFF_NORMED)\r\n",
    "\r\n",
    "    min_val, max_val, min_loc, max_loc = cv2.minMaxLoc(result_matching)\r\n",
    "    plt.figure(figsize=(16,16))\r\n",
    "    plt.subplot(2, 1, 1)\r\n",
    "    plt.imshow(screenshot, cmap=\"gray\")\r\n",
    "    top_left = max_loc\r\n",
    "    bottom_right = (top_left[0] + w, top_left[1] + h)\r\n",
    "    cv2.rectangle(screenshot ,top_left, bottom_right, 255, 2)\r\n",
    "    plt.subplot(2, 1, 2)\r\n",
    "    plt.imshow(screenshot, cmap=\"gray\")\r\n",
    "\r\n",
    "def wait_for_template(template_source: str):\r\n",
    "    min_val, max_val, min_loc, max_loc = get_result(template_source)\r\n",
    "    retry_count = 0\r\n",
    "\r\n",
    "    while(max_val < 0.8 and retry_count < 12):\r\n",
    "        sleep(5)\r\n",
    "        min_val, max_val, min_loc, max_loc = get_result(template_source)\r\n",
    "        retry_count += 1\r\n",
    "        print(f\"{template_source} is not found yet. Confidence -> {max_val}\")\r\n",
    "        \r\n",
    "    if retry_count == 12:\r\n",
    "        raise NameError(\"Template matching not found\")\r\n",
    "\r\n",
    "def click_button(template: np.array, x_offset: int = 0, y_offset: int = 0, confidence: float = 0.8):\r\n",
    "    a = cv2.imread(template, cv2.IMREAD_GRAYSCALE)\r\n",
    "    w, h = a.shape\r\n",
    "\r\n",
    "    min_val, max_val, min_loc, max_loc = get_result(template)\r\n",
    "    if  max_val > 0.8:\r\n",
    "        x_click = (max_loc[0] + w/2) - mon1_offset[0] + x_offset\r\n",
    "        y_click = (max_loc[1] + h/2) - mon1_offset[1] + y_offset\r\n",
    "        pyautogui.moveTo(x_click, y_click)\r\n",
    "        pyautogui.click()\r\n",
    "    else:\r\n",
    "        print(f\"Confidence not high enough: {max_val} < {confidence}\")\r\n",
    "\r\n",
    "def sleep(sec: int = 2):\r\n",
    "    time.sleep(sec)\r\n"
   ],
   "outputs": [],
   "metadata": {}
  },
  {
   "cell_type": "code",
   "execution_count": 295,
   "source": [
    "# pyautogui.position()"
   ],
   "outputs": [],
   "metadata": {}
  },
  {
   "cell_type": "code",
   "execution_count": 296,
   "source": [
    "#DEBUG\r\n",
    "#get_result(\"image_templates/label_one.png\")\r\n",
    "#plot_match(\"image_templates/label_one.png\")\r\n",
    "# click_button(\"image_templates/label_one.png\")\r\n",
    "# pyautogui.position()\r\n",
    "\r\n",
    "#cv2.imread(\"image_templates/label_one.png\", cv2.IMREAD_GRAYSCALE).shape"
   ],
   "outputs": [],
   "metadata": {}
  },
  {
   "cell_type": "code",
   "execution_count": 297,
   "source": [
    "click_button(\"image_templates/button_adventure.png\")\r\n",
    "sleep()"
   ],
   "outputs": [],
   "metadata": {}
  },
  {
   "cell_type": "code",
   "execution_count": 298,
   "source": [
    "click_button(\"image_templates/button_fight1_v-weak.png\")#, y_offset=-30)\r\n",
    "sleep()"
   ],
   "outputs": [],
   "metadata": {}
  },
  {
   "cell_type": "code",
   "execution_count": 299,
   "source": [
    "click_button(\"image_templates/label_multiple_x.png\", x_offset=150, y_offset=-50) #dont know why this works\r\n",
    "sleep()"
   ],
   "outputs": [],
   "metadata": {}
  },
  {
   "cell_type": "code",
   "execution_count": 300,
   "source": [
    "click_button(\"image_templates/label_one.png\", y_offset=-20) #dont know why this works\r\n",
    "sleep()"
   ],
   "outputs": [],
   "metadata": {}
  },
  {
   "cell_type": "code",
   "execution_count": 301,
   "source": [
    "click_button(\"image_templates/button_fight_one_third.png\")\r\n",
    "sleep()"
   ],
   "outputs": [],
   "metadata": {}
  },
  {
   "cell_type": "code",
   "execution_count": 302,
   "source": [
    "click_button(\"image_templates/button_fight2.png\", y_offset=-30)\r\n",
    "sleep(5)"
   ],
   "outputs": [],
   "metadata": {}
  },
  {
   "cell_type": "code",
   "execution_count": 303,
   "source": [
    "wait_for_template(\"image_templates/button_confirm.png\")\r\n",
    "click_button(\"image_templates/button_confirm.png\", y_offset=-30)\r\n",
    "sleep()"
   ],
   "outputs": [],
   "metadata": {}
  },
  {
   "cell_type": "code",
   "execution_count": 304,
   "source": [
    "wait_for_template(\"image_templates/button_attack.png\")\r\n",
    "click_button(\"image_templates/button_attack.png\", y_offset=-30)\r\n",
    "sleep(10)"
   ],
   "outputs": [
    {
     "output_type": "stream",
     "name": "stdout",
     "text": [
      "image_templates/button_attack.png is not found yet. Confidence -> 0.582011342048645\n",
      "image_templates/button_attack.png is not found yet. Confidence -> 0.582010805606842\n",
      "image_templates/button_attack.png is not found yet. Confidence -> 0.9981313943862915\n"
     ]
    }
   ],
   "metadata": {}
  },
  {
   "cell_type": "code",
   "execution_count": 305,
   "source": [
    "click_button(\"image_templates/button_back.png\", y_offset=-30)\r\n",
    "sleep(5)"
   ],
   "outputs": [],
   "metadata": {}
  }
 ],
 "metadata": {
  "orig_nbformat": 4,
  "language_info": {
   "name": "python",
   "version": "3.8.8",
   "mimetype": "text/x-python",
   "codemirror_mode": {
    "name": "ipython",
    "version": 3
   },
   "pygments_lexer": "ipython3",
   "nbconvert_exporter": "python",
   "file_extension": ".py"
  },
  "kernelspec": {
   "name": "python3",
   "display_name": "Python 3.8.8 64-bit ('base': conda)"
  },
  "interpreter": {
   "hash": "63a3210ed32c8c5e8c5daf40c6fb71e88ea33494b3eaa8a6f1212a2d7aa3f0ac"
  }
 },
 "nbformat": 4,
 "nbformat_minor": 2
}