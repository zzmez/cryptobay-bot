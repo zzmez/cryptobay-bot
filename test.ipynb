{
 "cells": [
  {
   "cell_type": "code",
   "execution_count": 1,
   "metadata": {},
   "outputs": [],
   "source": [
    "import pandas as pd\n",
    "from selenium import webdriver\n",
    "from selenium.webdriver.common.keys import Keys\n",
    "import json\n",
    "import time\n",
    "\n",
    "# FUNCTIONS\n",
    "\n",
    "def login_with_metamask():\n",
    "    # Click \"Login\" on cryptobay page\n",
    "    driver.find_element_by_xpath('/html/body/div[1]/div/header/div/div[2]/a').click()\n",
    "    time.sleep(0.5)\n",
    "\n",
    "    # Select Metamask as a login\n",
    "    driver.find_element_by_xpath('/html/body/div/div/div/div/div[1]/span').click()\n",
    "    time.sleep(3)\n",
    "\n",
    "\n",
    "def wait_on_element(element: str):\n",
    "    x = 0\n",
    "    while x < 10:\n",
    "        try:\n",
    "            time.sleep(1)\n",
    "            driver.find_element_by_xpath(f\"{element}\")\n",
    "            break\n",
    "        except:\n",
    "            driver.refresh()\n",
    "            time.sleep(5)\n",
    "            x += 1\n",
    "            pass\n",
    "\n",
    "\n",
    "def go_to_page(page_number: int):\n",
    "    wait_on_element(\"/html/body/div/div/div/div[2]/div[2]/ul/div/input\")\n",
    "    element = driver.find_element_by_xpath(\"/html/body/div/div/div/div[2]/div[2]/ul/div/input\")\n",
    "    \n",
    "    driver.execute_script(\"arguments[0].scrollIntoView(true);\", element)\n",
    "    driver.find_element_by_xpath(\"/html/body/div/div/div/div[2]/div[2]/ul/div/input\").clear()\n",
    "    driver.find_element_by_xpath(\"/html/body/div/div/div/div[2]/div[2]/ul/div/input\").send_keys(page_number)\n",
    "    time.sleep(0.5)\n",
    "    driver.find_element_by_xpath(\"/html/body/div/div/div/div[2]/div[2]/ul/div/input\").send_keys(Keys.RETURN)\n",
    "    time.sleep(1)\n",
    "\n",
    "def get_initial_sold_from_marketplace(sold_already_exported: bool):\n",
    "    if(sold_already_exported):\n",
    "        return\n",
    "    #driver.maximize_window()\n",
    "    # Select \"Dashboard\" tab\n",
    "    driver.find_element_by_xpath('/html/body/div/div/header/div/div[1]/div/a[1]').click()\n",
    "    time.sleep(3)\n",
    "    wait_on_element(\"/html/body/div/div/div/div[2]/div[2]/ul/div\")\n",
    "    raw_no_of_pages = driver.find_element_by_xpath('/html/body/div/div/div/div[2]/div[2]/ul/div').text\n",
    "    no_of_pages = int(raw_no_of_pages.strip('/ '))\n",
    "    \n",
    "    with open(filename, mode='a+', buffering=1) as s:\n",
    "    # Iterate backwards to the first page\n",
    "        resume_page = no_of_pages - int(num_lines/10)\n",
    "\n",
    "        for i in range(resume_page, 0, -1):\n",
    "            go_to_page(i)\n",
    "\n",
    "            no_of_elements = len(driver.find_elements_by_xpath(\"//div[@class='list-c'][2]//div[@class='item']\"))\n",
    "            for j in range(no_of_elements,0,-1):\n",
    "                sold_price = driver.find_element_by_xpath(f\"/html/body/div/div/div/div[2]/div[2]/div[2]/div[2]/div[{j}]/div[4]/span[1]\").text.strip(\"Ξ \")\n",
    "                # driver.find_element_by_xpath(f\"//div[@class='list-c'][2]//div[@class='item'][{j}]\").click()\n",
    "                for attempt in range(5):\n",
    "                    try:\n",
    "                        # driver.find_element_by_xpath(f\"/html/body/div/div/div/div[2]/div[2]/div[2]/div[2]/div[{j}]\").click()\n",
    "                        element = driver.find_element_by_xpath(f\"/html/body/div/div/div/div[2]/div[2]/div[2]/div[2]/div[{j}]\")\n",
    "                        driver.execute_script(\"arguments[0].click();\", element)\n",
    "                        break\n",
    "                    except:\n",
    "                        print(\"Element ITEM not found (boat)\")\n",
    "                        time.sleep(2)\n",
    "                        continue\n",
    "\n",
    "\n",
    "                time.sleep(1)\n",
    "                stats = get_ship_stats(sold_price)\n",
    "                s.write(stats + \"\\n\")\n",
    "                driver.back()\n",
    "                time.sleep(2)\n",
    "                go_to_page(i)\n",
    "\n",
    "\n",
    "\n",
    "def cancel_auction(driver: webdriver.chrome.webdriver.WebDriver, account: int = 0) -> callable:\n",
    "    driver.get(\"https://marketplace.cryptobay.top/profile/inventory\")  # click on my account\n",
    "    time.sleep(3)\n",
    "    driver.find_element_by_xpath('/html/body/div/div/div/div[2]/div[2]/div[1]/div[2]/div[1]/div/span').click()   #click for dropdown menu\n",
    "    driver.find_element_by_xpath('/html/body/div/div/div/div[2]/div[2]/div[1]/div[2]/div[2]/ul[2]/li[1]').click()   #select for sale\n",
    "    time.sleep(3)\n",
    "    driver.find_element_by_xpath('/html/body/div/div/div/div[2]/div[3]/div').click()    #select ship\n",
    "    time.sleep(1)\n",
    "    driver.find_element_by_xpath('/html/body/div/div/div/div[2]/div[3]/div').click()    #select cancel\n",
    "    \n",
    "    \n",
    "    driver.switch_to.window(driver.window_handles[1])       # switch to metamask window\n",
    "    driver.find_element_by_xpath('//*[@id=\"app-content\"]/div/div[2]/div/div[4]/div[3]/footer/button[2]').click() # press Confirm\n",
    "    driver.switch_to.window(driver.window_handles[0])\n",
    "\n",
    "def get_ship_stats(ship_sold_price:int):\n",
    "    transaction_id = driver.current_url.split('/')[-1]\n",
    "    time.sleep(2)\n",
    "\n",
    "    # A gimmyck to retry until it finds the element\n",
    "    zztry = None\n",
    "    while zztry is None:\n",
    "        try:\n",
    "            ship_id = driver.find_element_by_xpath(\"//div[@class='tit']\").text.split('#')[1]\n",
    "            time.sleep(1)\n",
    "            zztry = True\n",
    "        except:\n",
    "            driver.refresh()\n",
    "            time.sleep(5)\n",
    "            pass\n",
    " \n",
    "    # for attempt in range(5):\n",
    "    #     try:\n",
    "    #         # driver.find_element_by_xpath(f\"/html/body/div/div/divd/div[2]/div[2]/div[2]/div[2]/div[{j}]\").click()\n",
    "    #         # there's a bug where it delogs you. you have to relog or refresh)\n",
    "    #         if (driver.find_element_by_xpath(\"/html/body/div/div/header/div/div[2]/a\")):\n",
    "    #             time.sleep(1)\n",
    "    #             ship_id = driver.find_element_by_xpath(\"//div[@class='tit']\").text.split('#')[1]\n",
    "    #             break\n",
    "    #         else:\n",
    "    #             driver.refresh()\n",
    "    #             login_with_metamask()\n",
    "\n",
    "    #     except:\n",
    "    #         print(\"Page not fully loaded... i think\")\n",
    "    #         time.sleep(2)\n",
    "    #         continue\n",
    "    \n",
    "    ship_class = driver.find_element_by_xpath(\"/html/body/div[1]/div/div/div[2]/div[2]/div[1]/div[2]/div[1]/div[1]/div[2]\").text\n",
    "    ship_durability = driver.find_element_by_xpath(\"/html/body/div[1]/div/div/div[2]/div[2]/div[1]/div[2]/div[1]/div[3]/div[2]\").text.split(' / ')[0]\n",
    "    ship_owner = driver.find_element_by_xpath(\"/html/body/div[1]/div/div/div[2]/div[2]/div[1]/div[2]/div[2]/div/a/div\").text\n",
    "   \n",
    "    ship_attr_space = driver.find_element_by_xpath(\"/html/body/div[1]/div/div/div[2]/div[2]/div[2]/div[2]/div[1]/div[2]\").text\n",
    "    ship_attr_speed = driver.find_element_by_xpath(\"/html/body/div[1]/div/div/div[2]/div[2]/div[2]/div[2]/div[2]/div[2]\").text\n",
    "    ship_attr_skill = driver.find_element_by_xpath(\"/html/body/div[1]/div/div/div[2]/div[2]/div[2]/div[2]/div[3]/div[2]\").text\n",
    "    ship_attr_defence = driver.find_element_by_xpath(\"/html/body/div[1]/div/div/div[2]/div[2]/div[2]/div[2]/div[4]/div[2]\").text\n",
    "    ship_attr_attack = driver.find_element_by_xpath(\"/html/body/div[1]/div/div/div[2]/div[2]/div[2]/div[2]/div[5]/div[2]\").text\n",
    "    ship_attr_morale = driver.find_element_by_xpath(\"/html/body/div[1]/div/div/div[2]/div[2]/div[2]/div[2]/div[6]/div[2]\").text\n",
    "\n",
    "    ship_parts_keel = driver.find_element_by_xpath(\"/html/body/div[1]/div/div/div[2]/div[2]/div[3]/div[2]/div[1]/div[2]\").text\n",
    "    ship_parts_sail = driver.find_element_by_xpath(\"/html/body/div[1]/div/div/div[2]/div[2]/div[3]/div[2]/div[2]/div[2]\").text\n",
    "    ship_parts_side = driver.find_element_by_xpath(\"/html/body/div[1]/div/div/div[2]/div[2]/div[3]/div[2]/div[3]/div[2]\").text\n",
    "    ship_parts_bow = driver.find_element_by_xpath(\"/html/body/div[1]/div/div/div[2]/div[2]/div[3]/div[2]/div[4]/div[2]\").text\n",
    "    ship_parts_cabin = driver.find_element_by_xpath(\"/html/body/div[1]/div/div/div[2]/div[2]/div[3]/div[2]/div[5]/div[2]\").text\n",
    "    ship_parts_stern = driver.find_element_by_xpath(\"/html/body/div[1]/div/div/div[2]/div[2]/div[3]/div[2]/div[6]/div[2]\").text\n",
    "\n",
    "    statsList = [transaction_id, ship_id, ship_class, ship_durability, ship_owner, \\\n",
    "        ship_attr_space, ship_attr_speed, ship_attr_skill, ship_attr_defence, ship_attr_attack, ship_attr_morale, \\\n",
    "        ship_parts_keel, ship_parts_sail, ship_parts_side, ship_parts_bow, ship_parts_cabin, ship_parts_stern, \\\n",
    "        ship_sold_price]\n",
    "\n",
    "    return ','.join(map(str, statsList)) \n",
    "\n",
    "\n",
    "\n",
    "\n",
    "# If the initial export script has been run, then set this to True. Only delta will be needed\n",
    "sold_already_exported = False\n",
    "filename = 'db/extracted_sold_BNB.csv'\n",
    "num_lines = sum(1 for line in open(filename))\n",
    "\n",
    "# Create dataframe sold DF\n",
    "header = ['transaction_id', 'ship_id', 'ship_class', 'ship_durability', 'ship_owner', \\\n",
    "        'ship_attr_space', 'ship_attr_speed', 'ship_attr_skill', 'ship_attr_defence', 'ship_attr_attack', 'ship_attr_morale', \\\n",
    "        'ship_parts_keel', 'ship_parts_sail', 'ship_parts_side', 'ship_parts_bow', 'ship_parts_cabin', 'ship_parts_stern', \\\n",
    "        'ship_sold_price']\n",
    "\n",
    "sold_df = pd.DataFrame(columns=header)\n",
    "\n",
    "\n",
    "with open('tools/zzsecrets.json') as f:\n",
    "    data = json.load(f)\n",
    "    SECRET_RECOVERY_PHRASE = data['SECRET_RECOVERY_PHRASE']\n",
    "    NEW_PASSWORD = data['NEW_PASSWORD']\n",
    "\n",
    "with open('tools/conf.json') as f:\n",
    "    data = json.load(f)\n",
    "    global MARKET_URL\n",
    "    MARKET_URL = data['marketUrl']\n",
    "    NETWORK = data['network']\n",
    "    NETWORK_URL = data['networkUrl']\n",
    "    CHAINID = data['chainId']\n",
    "    SYMBOL = data['symbol']\n",
    "    BLOCK_EXPLORER = data['blockExplorer']\n",
    "\n",
    "EXTENSION_PATH = 'tools/metamask_10.1.0_0.crx'\n",
    "opt = webdriver.ChromeOptions()\n",
    "opt.add_extension(EXTENSION_PATH)\n",
    "\n",
    "driver = webdriver.Chrome('tools\\chromedriver.exe',options=opt)\n",
    "\n",
    "driver.switch_to.window(driver.window_handles[0])\n",
    "time.sleep(1)\n",
    "\n",
    "driver.find_element_by_xpath('//button[text()=\"Get Started\"]').click()\n",
    "driver.find_element_by_xpath('//button[text()=\"Import wallet\"]').click()\n",
    "driver.find_element_by_xpath('//button[text()=\"No Thanks\"]').click()\n",
    "\n",
    "# After this you will need to enter you wallet details\n",
    "\n",
    "time.sleep(1)\n",
    "\n",
    "inputs = driver.find_elements_by_xpath('//input')\n",
    "inputs[0].send_keys(SECRET_RECOVERY_PHRASE)\n",
    "inputs[1].send_keys(NEW_PASSWORD)\n",
    "inputs[2].send_keys(NEW_PASSWORD)\n",
    "driver.find_element_by_css_selector('.first-time-flow__terms').click()\n",
    "driver.find_element_by_xpath('//button[text()=\"Import\"]').click()\n",
    "time.sleep(2)\n",
    "\n",
    "driver.find_element_by_xpath('//button[text()=\"All Done\"]').click()\n",
    "time.sleep(1)\n",
    "\n",
    "#Close the \"What's new\" page\n",
    "driver.find_element_by_xpath('//*[@id=\"popover-content\"]/div/div/section/header/div/button').click()\n",
    "\n",
    "# Click on networks\n",
    "driver.find_element_by_xpath('//*[@id=\"app-content\"]/div/div[1]/div/div[2]/div[1]/div/span').click()\n",
    "\n",
    "## Add BSC network to metamask\n",
    "driver.find_element_by_xpath('//*[@id=\"app-content\"]/div/div[3]/div/li[7]/span').click()\n",
    "inputs = driver.find_elements_by_xpath('//input')\n",
    "inputs[0].send_keys(NETWORK)\n",
    "time.sleep(0.2)\n",
    "inputs[1].send_keys(NETWORK_URL)\n",
    "time.sleep(0.2)\n",
    "inputs[2].send_keys(CHAINID)\n",
    "time.sleep(0.2)\n",
    "inputs[3].send_keys(SYMBOL)\n",
    "time.sleep(0.2)\n",
    "inputs[4].send_keys(BLOCK_EXPLORER)\n",
    "driver.find_element_by_xpath('//button[text()=\"Save\"]').click()\n",
    "time.sleep(0.2)\n",
    "\n",
    "# Open marketplace\n",
    "time.sleep(5)\n",
    "driver.get(MARKET_URL)\n",
    "time.sleep(2)\n",
    "\n",
    "login_with_metamask()\n",
    "\n",
    "# Get Metamask window\n",
    "driver.switch_to.window(driver.window_handles[2])\n",
    "driver.find_element_by_xpath('//button[text()=\"Next\"]').click()\n",
    "time.sleep(0.5)\n",
    "driver.find_element_by_xpath('//button[text()=\"Connect\"]').click()\n",
    "time.sleep(0.5)\n",
    "\n",
    "# Get cryptobay page \n",
    "driver.switch_to.window(driver.window_handles[0])\n",
    "\n",
    "# Select \"Marketplace\" tab\n",
    "driver.find_element_by_xpath('/html/body/div/div/header/div/div[1]/div/a[3]').click()\n",
    "\n",
    "# Select \"Dashboard\" tab\n",
    "driver.find_element_by_xpath('/html/body/div/div/header/div/div[1]/div/a[1]').click()\n",
    "\n"
   ]
  },
  {
   "cell_type": "code",
   "execution_count": null,
   "metadata": {},
   "outputs": [],
   "source": [
    "temp_DF = pd.read_csv(\"db/out/zz_predicted_20211014-2349_test.csv\")\n",
    "temp_DF\n",
    "to_buy_test_df = temp_DF.head(1)\n",
    "to_buy_test_df"
   ]
  },
  {
   "cell_type": "code",
   "execution_count": null,
   "metadata": {},
   "outputs": [],
   "source": [
    "from include.global_functions import create_accounts\n",
    "create_accounts(driver)"
   ]
  },
  {
   "cell_type": "code",
   "execution_count": null,
   "metadata": {},
   "outputs": [],
   "source": [
    "driver.window_handles"
   ]
  },
  {
   "cell_type": "code",
   "execution_count": null,
   "metadata": {},
   "outputs": [],
   "source": [
    "driver.current_window_handle"
   ]
  },
  {
   "cell_type": "code",
   "execution_count": null,
   "metadata": {},
   "outputs": [],
   "source": [
    "from selenium.webdriver.common.action_chains import A\n",
    "element = driver.find_element_by_xpath('/html/body/div/div/div/div[2]/div[2]/ul/div/input')\n",
    "element.clear()\n",
    "#element.send_keys(\"20\", Keys.ENTER)\n",
    "element.Act\n",
    "\n",
    "element"
   ]
  },
  {
   "cell_type": "code",
   "execution_count": null,
   "metadata": {},
   "outputs": [],
   "source": [
    "#del switch_account\n",
    "from include.global_functions import switch_account\n",
    "switch_account(driver, 3)"
   ]
  },
  {
   "cell_type": "code",
   "execution_count": null,
   "metadata": {},
   "outputs": [],
   "source": [
    "from include.cbfunctions import * \n",
    "buy_boat(driver, to_buy_test_df, 5)"
   ]
  },
  {
   "cell_type": "code",
   "execution_count": null,
   "metadata": {},
   "outputs": [],
   "source": [
    "\n",
    "# get_initial_sold_from_marketplace(False)\n",
    "\n",
    "# ###TEMP\n",
    "# # while True: \n",
    "# #     time.sleep(10)\n",
    "\n",
    "# driver.quit()"
   ]
  },
  {
   "cell_type": "code",
   "execution_count": 9,
   "metadata": {},
   "outputs": [],
   "source": [
    "import requests\n",
    "import json\n",
    "from lxml import html"
   ]
  },
  {
   "cell_type": "code",
   "execution_count": null,
   "metadata": {},
   "outputs": [],
   "source": [
    "{\"acc_id\"}"
   ]
  },
  {
   "cell_type": "code",
   "execution_count": 122,
   "metadata": {},
   "outputs": [],
   "source": [
    "headers = {'User-Agent' : 'Mozilla/5.0 (X11; Linux x86_64) AppleWebKit/537.36 (KHTML, like Gecko) Chrome/30.0.1599.101 Safari/537.36'}\n",
    "columns = ['acc_id', 'sold', 'available']\n",
    "accounts_df = pd.DataFrame(columns=columns)"
   ]
  },
  {
   "cell_type": "code",
   "execution_count": 101,
   "metadata": {},
   "outputs": [],
   "source": [
    "with open('tools/conf.json') as f:\n",
    "    data = json.load(f)\n"
   ]
  },
  {
   "cell_type": "code",
   "execution_count": 123,
   "metadata": {},
   "outputs": [
    {
     "name": "stdout",
     "output_type": "stream",
     "text": [
      "0x317Bb3Ab91690bFF7B512aE5F1D9B20A904375F2\n",
      "0.056\n",
      "0\n",
      "0xc021f3db6dc458Da781f378f162Bd63ce2707cCa\n",
      "0.027\n",
      "0\n",
      "0x95BDb34A9B152D41457e698624c78793a3c76f03\n",
      "0.047\n",
      "0\n",
      "0x650F66A63597134c1468e9d00d16Dc84ff01c0b8\n",
      "0.039\n",
      "0\n",
      "0x9FF1b76331839e82CA489afa5A1481BAB6c2b3Eb\n",
      "0.121\n",
      "1\n"
     ]
    }
   ],
   "source": [
    "\n",
    "for i in range(1,6):\n",
    "    acc_addr = data[f'account{i}']\n",
    "    print(acc_addr)\n",
    "    page = requests.get(f\"https://bscscan.com/address/{acc_addr}\", headers=headers)\n",
    "    tree = html.fromstring(page.content)\n",
    "\n",
    "    raw_list = tree.xpath('//*[@id=\"ContentPlaceHolder1_divSummary\"]/div[1]/div[1]/div/div[2]/div[1]/div[2]/text()')\n",
    "    sold = raw_list[0] + \".\" + raw_list[1].split()[0]\n",
    "    sold = round(float(sold), 3)\n",
    "    print(sold)\n",
    "\n",
    "    available = 1 if sold > 0.08 else 0\n",
    "    available = int(available)\n",
    "    print(available)\n",
    "    acc_series = pd.Series([i,sold,available], index=columns)\n",
    "    accounts_df = accounts_df.append(acc_series, ignore_index=True)\n",
    "\n",
    "accounts_df.to_csv('db/accounts/account_status.csv', index=False)\n"
   ]
  },
  {
   "cell_type": "code",
   "execution_count": 115,
   "metadata": {},
   "outputs": [],
   "source": [
    "_list = [1,2,3]\n",
    "acc_series = pd.Series(_list, index=columns)"
   ]
  },
  {
   "cell_type": "code",
   "execution_count": 116,
   "metadata": {},
   "outputs": [
    {
     "data": {
      "text/html": [
       "<div>\n",
       "<style scoped>\n",
       "    .dataframe tbody tr th:only-of-type {\n",
       "        vertical-align: middle;\n",
       "    }\n",
       "\n",
       "    .dataframe tbody tr th {\n",
       "        vertical-align: top;\n",
       "    }\n",
       "\n",
       "    .dataframe thead th {\n",
       "        text-align: right;\n",
       "    }\n",
       "</style>\n",
       "<table border=\"1\" class=\"dataframe\">\n",
       "  <thead>\n",
       "    <tr style=\"text-align: right;\">\n",
       "      <th></th>\n",
       "      <th>acc_id</th>\n",
       "      <th>sold</th>\n",
       "      <th>available</th>\n",
       "    </tr>\n",
       "  </thead>\n",
       "  <tbody>\n",
       "    <tr>\n",
       "      <th>0</th>\n",
       "      <td>1</td>\n",
       "      <td>2</td>\n",
       "      <td>3</td>\n",
       "    </tr>\n",
       "  </tbody>\n",
       "</table>\n",
       "</div>"
      ],
      "text/plain": [
       "  acc_id sold available\n",
       "0      1    2         3"
      ]
     },
     "execution_count": 116,
     "metadata": {},
     "output_type": "execute_result"
    }
   ],
   "source": [
    "accounts_df.append(acc_series, ignore_index=True)"
   ]
  },
  {
   "cell_type": "code",
   "execution_count": 117,
   "metadata": {},
   "outputs": [
    {
     "data": {
      "text/html": [
       "<div>\n",
       "<style scoped>\n",
       "    .dataframe tbody tr th:only-of-type {\n",
       "        vertical-align: middle;\n",
       "    }\n",
       "\n",
       "    .dataframe tbody tr th {\n",
       "        vertical-align: top;\n",
       "    }\n",
       "\n",
       "    .dataframe thead th {\n",
       "        text-align: right;\n",
       "    }\n",
       "</style>\n",
       "<table border=\"1\" class=\"dataframe\">\n",
       "  <thead>\n",
       "    <tr style=\"text-align: right;\">\n",
       "      <th></th>\n",
       "      <th>acc_id</th>\n",
       "      <th>sold</th>\n",
       "      <th>available</th>\n",
       "    </tr>\n",
       "  </thead>\n",
       "  <tbody>\n",
       "  </tbody>\n",
       "</table>\n",
       "</div>"
      ],
      "text/plain": [
       "Empty DataFrame\n",
       "Columns: [acc_id, sold, available]\n",
       "Index: []"
      ]
     },
     "execution_count": 117,
     "metadata": {},
     "output_type": "execute_result"
    }
   ],
   "source": [
    "accounts_df"
   ]
  },
  {
   "cell_type": "code",
   "execution_count": 65,
   "metadata": {},
   "outputs": [],
   "source": [
    "import pandas as pd"
   ]
  },
  {
   "cell_type": "code",
   "execution_count": 95,
   "metadata": {},
   "outputs": [],
   "source": [
    "\n",
    "zzdf = pd.DataFrame(columns=['a','b','c'])"
   ]
  },
  {
   "cell_type": "code",
   "execution_count": 108,
   "metadata": {},
   "outputs": [
    {
     "data": {
      "text/html": [
       "<div>\n",
       "<style scoped>\n",
       "    .dataframe tbody tr th:only-of-type {\n",
       "        vertical-align: middle;\n",
       "    }\n",
       "\n",
       "    .dataframe tbody tr th {\n",
       "        vertical-align: top;\n",
       "    }\n",
       "\n",
       "    .dataframe thead th {\n",
       "        text-align: right;\n",
       "    }\n",
       "</style>\n",
       "<table border=\"1\" class=\"dataframe\">\n",
       "  <thead>\n",
       "    <tr style=\"text-align: right;\">\n",
       "      <th></th>\n",
       "      <th>a</th>\n",
       "      <th>b</th>\n",
       "      <th>c</th>\n",
       "      <th>acc_id</th>\n",
       "      <th>available</th>\n",
       "      <th>sold</th>\n",
       "    </tr>\n",
       "  </thead>\n",
       "  <tbody>\n",
       "    <tr>\n",
       "      <th>0</th>\n",
       "      <td>NaN</td>\n",
       "      <td>NaN</td>\n",
       "      <td>NaN</td>\n",
       "      <td>5.0</td>\n",
       "      <td>1.0</td>\n",
       "      <td>0.121</td>\n",
       "    </tr>\n",
       "  </tbody>\n",
       "</table>\n",
       "</div>"
      ],
      "text/plain": [
       "     a    b    c  acc_id  available   sold\n",
       "0  NaN  NaN  NaN     5.0        1.0  0.121"
      ]
     },
     "execution_count": 108,
     "metadata": {},
     "output_type": "execute_result"
    }
   ],
   "source": [
    "_series = pd.Series([1,2,3], index=zzdf.columns)\n",
    "zzdf.append(acc_series, ignore_index=True)"
   ]
  },
  {
   "cell_type": "code",
   "execution_count": 67,
   "metadata": {},
   "outputs": [
    {
     "data": {
      "text/plain": [
       "'2021-11-04'"
      ]
     },
     "execution_count": 67,
     "metadata": {},
     "output_type": "execute_result"
    }
   ],
   "source": [
    "import pandas as pd\n",
    "from datetime import date\n",
    "df_tr = pd.read_csv('db/transactions/transactions_hist.csv')\n",
    "acc_id = 5\n",
    "today = date.today().strftime(\"%Y-%m-%d\")\n",
    "today"
   ]
  },
  {
   "cell_type": "code",
   "execution_count": 68,
   "metadata": {},
   "outputs": [],
   "source": [
    "if(df_tr[df_tr['acc_id'] == acc_id]['tr_type'].tail(1).values[0] == 'resell'):\n",
    "    sell_line = df_tr[(df_tr['acc_id'] == acc_id) & (df_tr['tr_type'] == 'resell')].tail(1)\n",
    "    sell_line['tr_type'] = 'sell'\n",
    "    sell_line['date'] = today\n",
    "    df = df_tr.append(sell_line, ignore_index=True)"
   ]
  },
  {
   "cell_type": "code",
   "execution_count": 69,
   "metadata": {},
   "outputs": [
    {
     "data": {
      "text/html": [
       "<div>\n",
       "<style scoped>\n",
       "    .dataframe tbody tr th:only-of-type {\n",
       "        vertical-align: middle;\n",
       "    }\n",
       "\n",
       "    .dataframe tbody tr th {\n",
       "        vertical-align: top;\n",
       "    }\n",
       "\n",
       "    .dataframe thead th {\n",
       "        text-align: right;\n",
       "    }\n",
       "</style>\n",
       "<table border=\"1\" class=\"dataframe\">\n",
       "  <thead>\n",
       "    <tr style=\"text-align: right;\">\n",
       "      <th></th>\n",
       "      <th>date</th>\n",
       "      <th>acc_id</th>\n",
       "      <th>tr_type</th>\n",
       "      <th>ship_id</th>\n",
       "      <th>tr_id</th>\n",
       "      <th>price</th>\n",
       "      <th>resale_discount</th>\n",
       "    </tr>\n",
       "  </thead>\n",
       "  <tbody>\n",
       "    <tr>\n",
       "      <th>26</th>\n",
       "      <td>2021-11-04</td>\n",
       "      <td>5</td>\n",
       "      <td>sell</td>\n",
       "      <td>10676</td>\n",
       "      <td>25573</td>\n",
       "      <td>0.11</td>\n",
       "      <td>0.72</td>\n",
       "    </tr>\n",
       "  </tbody>\n",
       "</table>\n",
       "</div>"
      ],
      "text/plain": [
       "          date  acc_id tr_type  ship_id  tr_id  price  resale_discount\n",
       "26  2021-11-04       5    sell    10676  25573   0.11             0.72"
      ]
     },
     "execution_count": 69,
     "metadata": {},
     "output_type": "execute_result"
    }
   ],
   "source": [
    "sell_line"
   ]
  },
  {
   "cell_type": "code",
   "execution_count": 70,
   "metadata": {},
   "outputs": [
    {
     "data": {
      "text/html": [
       "<div>\n",
       "<style scoped>\n",
       "    .dataframe tbody tr th:only-of-type {\n",
       "        vertical-align: middle;\n",
       "    }\n",
       "\n",
       "    .dataframe tbody tr th {\n",
       "        vertical-align: top;\n",
       "    }\n",
       "\n",
       "    .dataframe thead th {\n",
       "        text-align: right;\n",
       "    }\n",
       "</style>\n",
       "<table border=\"1\" class=\"dataframe\">\n",
       "  <thead>\n",
       "    <tr style=\"text-align: right;\">\n",
       "      <th></th>\n",
       "      <th>date</th>\n",
       "      <th>acc_id</th>\n",
       "      <th>tr_type</th>\n",
       "      <th>ship_id</th>\n",
       "      <th>tr_id</th>\n",
       "      <th>price</th>\n",
       "      <th>resale_discount</th>\n",
       "    </tr>\n",
       "  </thead>\n",
       "  <tbody>\n",
       "    <tr>\n",
       "      <th>27</th>\n",
       "      <td>2021-11-01</td>\n",
       "      <td>1</td>\n",
       "      <td>resell</td>\n",
       "      <td>14165</td>\n",
       "      <td>14165</td>\n",
       "      <td>0.092</td>\n",
       "      <td>0.85</td>\n",
       "    </tr>\n",
       "    <tr>\n",
       "      <th>28</th>\n",
       "      <td>2021-11-01</td>\n",
       "      <td>2</td>\n",
       "      <td>resell</td>\n",
       "      <td>20971</td>\n",
       "      <td>20971</td>\n",
       "      <td>0.096</td>\n",
       "      <td>0.85</td>\n",
       "    </tr>\n",
       "    <tr>\n",
       "      <th>29</th>\n",
       "      <td>2021-11-01</td>\n",
       "      <td>3</td>\n",
       "      <td>resell</td>\n",
       "      <td>18426</td>\n",
       "      <td>18426</td>\n",
       "      <td>0.135</td>\n",
       "      <td>0.85</td>\n",
       "    </tr>\n",
       "    <tr>\n",
       "      <th>30</th>\n",
       "      <td>2021-11-01</td>\n",
       "      <td>4</td>\n",
       "      <td>resell</td>\n",
       "      <td>9052</td>\n",
       "      <td>9052</td>\n",
       "      <td>0.076</td>\n",
       "      <td>0.85</td>\n",
       "    </tr>\n",
       "    <tr>\n",
       "      <th>31</th>\n",
       "      <td>2021-11-04</td>\n",
       "      <td>5</td>\n",
       "      <td>sell</td>\n",
       "      <td>10676</td>\n",
       "      <td>25573</td>\n",
       "      <td>0.110</td>\n",
       "      <td>0.72</td>\n",
       "    </tr>\n",
       "  </tbody>\n",
       "</table>\n",
       "</div>"
      ],
      "text/plain": [
       "          date  acc_id tr_type  ship_id  tr_id  price  resale_discount\n",
       "27  2021-11-01       1  resell    14165  14165  0.092             0.85\n",
       "28  2021-11-01       2  resell    20971  20971  0.096             0.85\n",
       "29  2021-11-01       3  resell    18426  18426  0.135             0.85\n",
       "30  2021-11-01       4  resell     9052   9052  0.076             0.85\n",
       "31  2021-11-04       5    sell    10676  25573  0.110             0.72"
      ]
     },
     "execution_count": 70,
     "metadata": {},
     "output_type": "execute_result"
    }
   ],
   "source": [
    "df.tail(5)"
   ]
  },
  {
   "cell_type": "code",
   "execution_count": 4,
   "metadata": {},
   "outputs": [],
   "source": [
    "import pandas as pd"
   ]
  },
  {
   "cell_type": "code",
   "execution_count": 5,
   "metadata": {},
   "outputs": [
    {
     "data": {
      "text/html": [
       "<div>\n",
       "<style scoped>\n",
       "    .dataframe tbody tr th:only-of-type {\n",
       "        vertical-align: middle;\n",
       "    }\n",
       "\n",
       "    .dataframe tbody tr th {\n",
       "        vertical-align: top;\n",
       "    }\n",
       "\n",
       "    .dataframe thead th {\n",
       "        text-align: right;\n",
       "    }\n",
       "</style>\n",
       "<table border=\"1\" class=\"dataframe\">\n",
       "  <thead>\n",
       "    <tr style=\"text-align: right;\">\n",
       "      <th></th>\n",
       "      <th>acc_id</th>\n",
       "      <th>sold</th>\n",
       "      <th>available</th>\n",
       "    </tr>\n",
       "  </thead>\n",
       "  <tbody>\n",
       "    <tr>\n",
       "      <th>0</th>\n",
       "      <td>1</td>\n",
       "      <td>0.054</td>\n",
       "      <td>False</td>\n",
       "    </tr>\n",
       "    <tr>\n",
       "      <th>1</th>\n",
       "      <td>2</td>\n",
       "      <td>0.025</td>\n",
       "      <td>False</td>\n",
       "    </tr>\n",
       "    <tr>\n",
       "      <th>2</th>\n",
       "      <td>3</td>\n",
       "      <td>0.047</td>\n",
       "      <td>False</td>\n",
       "    </tr>\n",
       "    <tr>\n",
       "      <th>3</th>\n",
       "      <td>4</td>\n",
       "      <td>0.039</td>\n",
       "      <td>False</td>\n",
       "    </tr>\n",
       "    <tr>\n",
       "      <th>4</th>\n",
       "      <td>5</td>\n",
       "      <td>0.121</td>\n",
       "      <td>True</td>\n",
       "    </tr>\n",
       "  </tbody>\n",
       "</table>\n",
       "</div>"
      ],
      "text/plain": [
       "   acc_id   sold  available\n",
       "0       1  0.054      False\n",
       "1       2  0.025      False\n",
       "2       3  0.047      False\n",
       "3       4  0.039      False\n",
       "4       5  0.121       True"
      ]
     },
     "execution_count": 5,
     "metadata": {},
     "output_type": "execute_result"
    }
   ],
   "source": [
    "a = pd.read_csv('db/accounts/account_status.csv')\n",
    "a"
   ]
  },
  {
   "cell_type": "code",
   "execution_count": 6,
   "metadata": {},
   "outputs": [
    {
     "data": {
      "text/plain": [
       "0    False\n",
       "Name: available, dtype: bool"
      ]
     },
     "execution_count": 6,
     "metadata": {},
     "output_type": "execute_result"
    }
   ],
   "source": [
    "a[a['acc_id'] == 1]['available']"
   ]
  }
 ],
 "metadata": {
  "interpreter": {
   "hash": "63a3210ed32c8c5e8c5daf40c6fb71e88ea33494b3eaa8a6f1212a2d7aa3f0ac"
  },
  "kernelspec": {
   "display_name": "Python 3.8.8 64-bit ('base': conda)",
   "name": "python3"
  },
  "language_info": {
   "codemirror_mode": {
    "name": "ipython",
    "version": 3
   },
   "file_extension": ".py",
   "mimetype": "text/x-python",
   "name": "python",
   "nbconvert_exporter": "python",
   "pygments_lexer": "ipython3",
   "version": "3.8.8"
  },
  "orig_nbformat": 4
 },
 "nbformat": 4,
 "nbformat_minor": 2
}
