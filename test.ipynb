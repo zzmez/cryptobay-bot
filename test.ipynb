{
 "cells": [
  {
   "cell_type": "code",
   "execution_count": 3,
   "source": [
    "from kafka import KafkaProducer, KafkaConsumer\r\n",
    "\r\n",
    "CLOUDKARAFKA_BROKERS=\"glider-01.srvs.cloudkafka.com:9094,glider-02.srvs.cloudkafka.com:9094,glider-03.srvs.cloudkafka.com:9094\"\r\n",
    "CLOUDKARAFKA_USERNAME=\"2b581ilu\"\r\n",
    "CLOUDKARAFKA_PASSWORD=\"bLWtMKWM4p-apnAFhH-umZni41Bbe3YT\"\r\n",
    "CLOUDKARAFKA_TOPIC_PREFIX=\"2b581ilu-\"\r\n",
    "\r\n",
    "producer = KafkaProducer(bootstrap_servers=CLOUDKARAFKA_BROKERS,\r\n",
    "                         sasl_plain_username=CLOUDKARAFKA_USERNAME,\r\n",
    "                         sasl_plain_password=CLOUDKARAFKA_PASSWORD,\r\n",
    "                         security_protocol='SASL_SSL',\r\n",
    "                         sasl_mechanism='SCRAM-SHA-256',\r\n",
    "                         ssl_cafile='tools/cafile.crt',\r\n",
    "                        #  api_version=(0,10),\r\n",
    "                         retries=5,\r\n",
    "                         )\r\n",
    "                        \r\n",
    "\r\n",
    "kafka_topic=\"predict\"\r\n",
    "kafka_topic = CLOUDKARAFKA_TOPIC_PREFIX+kafka_topic\r\n",
    "\r\n",
    "# for e in range(5):\r\n",
    "#     data = {'number' : e}\r\n",
    "#     producer.send(kafka_topic, value=data)\r\n",
    "#     sleep(1)"
   ],
   "outputs": [],
   "metadata": {}
  },
  {
   "cell_type": "code",
   "execution_count": 4,
   "source": [
    "# producer.send(kafka_topic, bytes(\"zzz\", encoding='utf8'))"
   ],
   "outputs": [],
   "metadata": {}
  },
  {
   "cell_type": "code",
   "execution_count": 5,
   "source": [
    "# consumer = KafkaConsumer( kafka_topic,\r\n",
    "#                         bootstrap_servers=CLOUDKARAFKA_BROKERS,\r\n",
    "#                          sasl_plain_username=CLOUDKARAFKA_USERNAME,\r\n",
    "#                          sasl_plain_password=CLOUDKARAFKA_PASSWORD,\r\n",
    "#                          security_protocol='SASL_SSL',\r\n",
    "#                          sasl_mechanism='SCRAM-SHA-256',\r\n",
    "#                          ssl_cafile='tools/cafile.crt',\r\n",
    "#                          api_version=(0,10),\r\n",
    "#                         )"
   ],
   "outputs": [],
   "metadata": {}
  },
  {
   "cell_type": "code",
   "execution_count": 6,
   "source": [
    "# for message in consumer:\r\n",
    "#     message = message.value\r\n",
    "#     print(message)"
   ],
   "outputs": [],
   "metadata": {}
  }
 ],
 "metadata": {
  "orig_nbformat": 4,
  "language_info": {
   "name": "python",
   "version": "3.8.8",
   "mimetype": "text/x-python",
   "codemirror_mode": {
    "name": "ipython",
    "version": 3
   },
   "pygments_lexer": "ipython3",
   "nbconvert_exporter": "python",
   "file_extension": ".py"
  },
  "kernelspec": {
   "name": "python3",
   "display_name": "Python 3.8.8 64-bit ('base': conda)"
  },
  "interpreter": {
   "hash": "63a3210ed32c8c5e8c5daf40c6fb71e88ea33494b3eaa8a6f1212a2d7aa3f0ac"
  }
 },
 "nbformat": 4,
 "nbformat_minor": 2
}