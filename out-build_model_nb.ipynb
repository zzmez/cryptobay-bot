{
 "cells": [
  {
   "cell_type": "code",
   "execution_count": 1,
   "id": "ef396e27",
   "metadata": {
    "execution": {
     "iopub.execute_input": "2021-11-05T07:57:39.127964Z",
     "iopub.status.busy": "2021-11-05T07:57:39.127401Z",
     "iopub.status.idle": "2021-11-05T07:57:39.130771Z",
     "shell.execute_reply": "2021-11-05T07:57:39.130218Z"
    },
    "jupyter": {
     "source_hidden": true
    },
    "papermill": {
     "duration": 0.05356,
     "end_time": "2021-11-05T07:57:39.130958",
     "exception": false,
     "start_time": "2021-11-05T07:57:39.077398",
     "status": "completed"
    },
    "tags": [
     "injected-parameters"
    ]
   },
   "outputs": [],
   "source": [
    "# Parameters\n",
    "relative_location = \"/opt/airflow/Projects/cryptobay/\"\n"
   ]
  },
  {
   "cell_type": "code",
   "execution_count": 2,
   "id": "8cee2ea4",
   "metadata": {
    "execution": {
     "iopub.execute_input": "2021-11-05T07:57:39.209839Z",
     "iopub.status.busy": "2021-11-05T07:57:39.208967Z",
     "iopub.status.idle": "2021-11-05T07:57:40.706782Z",
     "shell.execute_reply": "2021-11-05T07:57:40.707272Z"
    },
    "jupyter": {
     "source_hidden": true
    },
    "papermill": {
     "duration": 1.539059,
     "end_time": "2021-11-05T07:57:40.707410",
     "exception": false,
     "start_time": "2021-11-05T07:57:39.168351",
     "status": "completed"
    },
    "tags": []
   },
   "outputs": [],
   "source": [
    "import numpy as np\n",
    "import pandas as pd\n",
    "from sklearn.linear_model import Lasso, Ridge\n",
    "from sklearn.linear_model import LinearRegression\n",
    "from sklearn.model_selection import train_test_split, cross_val_score\n",
    "from sklearn.metrics import mean_squared_error\n",
    "# import  matplotlib.pyplot as plt\n",
    "import pickle"
   ]
  },
  {
   "cell_type": "code",
   "execution_count": 3,
   "id": "385255cd",
   "metadata": {
    "execution": {
     "iopub.execute_input": "2021-11-05T07:57:40.758940Z",
     "iopub.status.busy": "2021-11-05T07:57:40.758037Z",
     "iopub.status.idle": "2021-11-05T07:57:40.761213Z",
     "shell.execute_reply": "2021-11-05T07:57:40.760708Z"
    },
    "jupyter": {
     "source_hidden": true
    },
    "papermill": {
     "duration": 0.031974,
     "end_time": "2021-11-05T07:57:40.761331",
     "exception": false,
     "start_time": "2021-11-05T07:57:40.729357",
     "status": "completed"
    },
    "tags": []
   },
   "outputs": [],
   "source": [
    "#USED FOR AIRFLOW\n",
    "try:\n",
    "    relative_location\n",
    "except NameError:\n",
    "    relative_location = \"\""
   ]
  },
  {
   "cell_type": "code",
   "execution_count": 4,
   "id": "00b56f87",
   "metadata": {
    "execution": {
     "iopub.execute_input": "2021-11-05T07:57:40.821676Z",
     "iopub.status.busy": "2021-11-05T07:57:40.821083Z",
     "iopub.status.idle": "2021-11-05T07:57:40.887968Z",
     "shell.execute_reply": "2021-11-05T07:57:40.887453Z"
    },
    "jupyter": {
     "source_hidden": true
    },
    "papermill": {
     "duration": 0.104091,
     "end_time": "2021-11-05T07:57:40.888086",
     "exception": false,
     "start_time": "2021-11-05T07:57:40.783995",
     "status": "completed"
    },
    "tags": []
   },
   "outputs": [],
   "source": [
    "# RAW DF ingestion\n",
    "columns = ['transaction_id', 'ship_id', 'ship_class', 'ship_durability', 'ship_owner', \\\n",
    "        'ship_attr_space', 'ship_attr_speed', 'ship_attr_skill', 'ship_attr_defence', 'ship_attr_attack', 'ship_attr_morale', \\\n",
    "        'ship_parts_keel', 'ship_parts_sail', 'ship_parts_side', 'ship_parts_bow', 'ship_parts_cabin', 'ship_parts_stern', \\\n",
    "        'ship_sold_price']\n",
    "raw_df = pd.read_csv(f\"{relative_location}db/extracted_sold_USD.csv\", names=columns)\n",
    "raw_df_bnb = pd.read_csv(f\"{relative_location}db/extracted_sold_BNB.csv\", names=columns)\n",
    "##\n",
    "\n",
    "raw_df = raw_df.drop_duplicates(subset=['transaction_id', 'ship_id'], keep='last').reset_index()\n",
    "raw_df_bnb = raw_df_bnb.drop_duplicates(subset=['transaction_id', 'ship_id'], keep='last').reset_index()"
   ]
  },
  {
   "cell_type": "code",
   "execution_count": 5,
   "id": "08b49564",
   "metadata": {
    "execution": {
     "iopub.execute_input": "2021-11-05T07:57:40.935386Z",
     "iopub.status.busy": "2021-11-05T07:57:40.934829Z",
     "iopub.status.idle": "2021-11-05T07:57:40.937440Z",
     "shell.execute_reply": "2021-11-05T07:57:40.937870Z"
    },
    "jupyter": {
     "source_hidden": true
    },
    "papermill": {
     "duration": 0.028385,
     "end_time": "2021-11-05T07:57:40.937995",
     "exception": false,
     "start_time": "2021-11-05T07:57:40.909610",
     "status": "completed"
    },
    "tags": []
   },
   "outputs": [],
   "source": [
    "#GET ONLY LAST 500\n",
    "raw_df = raw_df.tail(1000)\n",
    "raw_df_bnb = raw_df_bnb.tail(1000)"
   ]
  },
  {
   "cell_type": "code",
   "execution_count": 6,
   "id": "898d2584",
   "metadata": {
    "execution": {
     "iopub.execute_input": "2021-11-05T07:57:40.990105Z",
     "iopub.status.busy": "2021-11-05T07:57:40.989479Z",
     "iopub.status.idle": "2021-11-05T07:57:41.001469Z",
     "shell.execute_reply": "2021-11-05T07:57:41.001955Z"
    },
    "jupyter": {
     "source_hidden": true
    },
    "papermill": {
     "duration": 0.042651,
     "end_time": "2021-11-05T07:57:41.002092",
     "exception": false,
     "start_time": "2021-11-05T07:57:40.959441",
     "status": "completed"
    },
    "tags": []
   },
   "outputs": [],
   "source": [
    "# CLEAN UP 1 AND UP TO 99 PERCENTILE\n",
    "raw_df = raw_df[(raw_df['ship_sold_price'] >= raw_df['ship_sold_price'].quantile(0.01)) & (raw_df['ship_sold_price'] <= raw_df['ship_sold_price'].quantile(0.99))]\n",
    "raw_df_bnb = raw_df_bnb[(raw_df_bnb['ship_sold_price'] >= raw_df_bnb['ship_sold_price'].quantile(0.01)) & (raw_df_bnb['ship_sold_price'] <= raw_df_bnb['ship_sold_price'].quantile(0.99))]"
   ]
  },
  {
   "cell_type": "code",
   "execution_count": 7,
   "id": "ccb6c2df",
   "metadata": {
    "execution": {
     "iopub.execute_input": "2021-11-05T07:57:41.066754Z",
     "iopub.status.busy": "2021-11-05T07:57:41.066167Z",
     "iopub.status.idle": "2021-11-05T07:57:41.069247Z",
     "shell.execute_reply": "2021-11-05T07:57:41.068766Z"
    },
    "jupyter": {
     "source_hidden": true
    },
    "papermill": {
     "duration": 0.043192,
     "end_time": "2021-11-05T07:57:41.069363",
     "exception": false,
     "start_time": "2021-11-05T07:57:41.026171",
     "status": "completed"
    },
    "tags": []
   },
   "outputs": [],
   "source": [
    "wo_cat_columns = ['ship_attr_space','ship_attr_speed','ship_attr_skill','ship_attr_defence','ship_attr_attack','ship_attr_morale', 'ship_sold_price']\n",
    "\n",
    "wo_cat_df = raw_df[wo_cat_columns]\n",
    "wo_cat_df_bnb = raw_df_bnb[wo_cat_columns]\n",
    "#wo_cat_df.head()\n",
    "\n",
    "wo_cat_X = wo_cat_df.drop('ship_sold_price', axis = 1)\n",
    "wo_cat_X_bnb = wo_cat_df_bnb.drop('ship_sold_price', axis = 1)\n",
    "wo_cat_y = wo_cat_df['ship_sold_price']\n",
    "wo_cat_y_bnb = wo_cat_df_bnb['ship_sold_price']"
   ]
  },
  {
   "cell_type": "code",
   "execution_count": 8,
   "id": "ed7c0db1",
   "metadata": {
    "execution": {
     "iopub.execute_input": "2021-11-05T07:57:41.139167Z",
     "iopub.status.busy": "2021-11-05T07:57:41.137133Z",
     "iopub.status.idle": "2021-11-05T07:57:41.150968Z",
     "shell.execute_reply": "2021-11-05T07:57:41.151515Z"
    },
    "jupyter": {
     "source_hidden": true
    },
    "papermill": {
     "duration": 0.055042,
     "end_time": "2021-11-05T07:57:41.151649",
     "exception": false,
     "start_time": "2021-11-05T07:57:41.096607",
     "status": "completed"
    },
    "tags": []
   },
   "outputs": [
    {
     "data": {
      "text/plain": [
       "LinearRegression()"
      ]
     },
     "execution_count": 8,
     "metadata": {},
     "output_type": "execute_result"
    }
   ],
   "source": [
    "# Training of the data\n",
    "X_train, X_test, y_train, y_test = train_test_split(wo_cat_X, wo_cat_y, test_size=0.3, random_state=42)\n",
    "reg = LinearRegression()\n",
    "reg.fit(X_train, y_train)\n",
    "\n",
    "X_train_bnb, X_test_bnb, y_train_bnb, y_test_bnb = train_test_split(wo_cat_X_bnb, wo_cat_y_bnb, test_size=0.3, random_state=42)\n",
    "reg_bnb = LinearRegression()\n",
    "reg_bnb.fit(X_train_bnb, y_train_bnb)"
   ]
  },
  {
   "cell_type": "code",
   "execution_count": 9,
   "id": "f468d7c8",
   "metadata": {
    "execution": {
     "iopub.execute_input": "2021-11-05T07:57:41.209329Z",
     "iopub.status.busy": "2021-11-05T07:57:41.208760Z",
     "iopub.status.idle": "2021-11-05T07:57:41.212763Z",
     "shell.execute_reply": "2021-11-05T07:57:41.213447Z"
    },
    "jupyter": {
     "source_hidden": true
    },
    "papermill": {
     "duration": 0.039367,
     "end_time": "2021-11-05T07:57:41.213628",
     "exception": false,
     "start_time": "2021-11-05T07:57:41.174261",
     "status": "completed"
    },
    "tags": []
   },
   "outputs": [
    {
     "data": {
      "text/plain": [
       "0.33687517103110054"
      ]
     },
     "execution_count": 9,
     "metadata": {},
     "output_type": "execute_result"
    }
   ],
   "source": [
    "# Predict on TEST dataset\n",
    "y_pred = reg.predict(X_test)\n",
    "y_pred_bnb = reg_bnb.predict(X_test_bnb)\n",
    "reg_bnb.score(X_test_bnb, y_test_bnb)"
   ]
  },
  {
   "cell_type": "code",
   "execution_count": 10,
   "id": "3c010e49",
   "metadata": {
    "execution": {
     "iopub.execute_input": "2021-11-05T07:57:41.268538Z",
     "iopub.status.busy": "2021-11-05T07:57:41.267959Z",
     "iopub.status.idle": "2021-11-05T07:57:41.271034Z",
     "shell.execute_reply": "2021-11-05T07:57:41.270509Z"
    },
    "jupyter": {
     "source_hidden": true
    },
    "papermill": {
     "duration": 0.033933,
     "end_time": "2021-11-05T07:57:41.271148",
     "exception": false,
     "start_time": "2021-11-05T07:57:41.237215",
     "status": "completed"
    },
    "tags": []
   },
   "outputs": [],
   "source": [
    "# zztest = np.array([5,13,5,6,11,5])\n",
    "# zztest = zztest.reshape(1, -1)\n",
    "\n",
    "# lasso_usd.predict(zztest)"
   ]
  },
  {
   "cell_type": "code",
   "execution_count": 11,
   "id": "b26762ea",
   "metadata": {
    "execution": {
     "iopub.execute_input": "2021-11-05T07:57:41.386357Z",
     "iopub.status.busy": "2021-11-05T07:57:41.385298Z",
     "iopub.status.idle": "2021-11-05T07:57:41.389318Z",
     "shell.execute_reply": "2021-11-05T07:57:41.390375Z"
    },
    "jupyter": {
     "source_hidden": true
    },
    "papermill": {
     "duration": 0.095301,
     "end_time": "2021-11-05T07:57:41.390594",
     "exception": false,
     "start_time": "2021-11-05T07:57:41.295293",
     "status": "completed"
    },
    "tags": []
   },
   "outputs": [
    {
     "data": {
      "text/plain": [
       "array([0.00927961, 0.00369444, 0.004589  , 0.00513787, 0.01034489,\n",
       "       0.00671091])"
      ]
     },
     "execution_count": 11,
     "metadata": {},
     "output_type": "execute_result"
    }
   ],
   "source": [
    "reg_bnb.fit(X_train_bnb, y_train_bnb).coef_"
   ]
  },
  {
   "cell_type": "code",
   "execution_count": 12,
   "id": "73bb6e4a",
   "metadata": {
    "execution": {
     "iopub.execute_input": "2021-11-05T07:57:41.494167Z",
     "iopub.status.busy": "2021-11-05T07:57:41.487777Z",
     "iopub.status.idle": "2021-11-05T07:57:41.545182Z",
     "shell.execute_reply": "2021-11-05T07:57:41.544438Z"
    },
    "jupyter": {
     "source_hidden": true
    },
    "papermill": {
     "duration": 0.112754,
     "end_time": "2021-11-05T07:57:41.545355",
     "exception": false,
     "start_time": "2021-11-05T07:57:41.432601",
     "status": "completed"
    },
    "tags": []
   },
   "outputs": [
    {
     "data": {
      "text/plain": [
       "0.4392831691223599"
      ]
     },
     "execution_count": 12,
     "metadata": {},
     "output_type": "execute_result"
    }
   ],
   "source": [
    "# LINIAR REGRESSION\n",
    "cv_scores = cross_val_score(reg, wo_cat_X, wo_cat_y, cv=5)\n",
    "cv_scores_bnb = cross_val_score(reg_bnb, wo_cat_X_bnb, wo_cat_y_bnb, cv=5)\n",
    "\n",
    "np.mean(cv_scores)\n",
    "#np.mean(cv_scores_bnb)"
   ]
  },
  {
   "cell_type": "code",
   "execution_count": 13,
   "id": "064c36a0",
   "metadata": {
    "execution": {
     "iopub.execute_input": "2021-11-05T07:57:41.620548Z",
     "iopub.status.busy": "2021-11-05T07:57:41.619995Z",
     "iopub.status.idle": "2021-11-05T07:57:41.623829Z",
     "shell.execute_reply": "2021-11-05T07:57:41.623354Z"
    },
    "jupyter": {
     "source_hidden": true
    },
    "papermill": {
     "duration": 0.043081,
     "end_time": "2021-11-05T07:57:41.623950",
     "exception": false,
     "start_time": "2021-11-05T07:57:41.580869",
     "status": "completed"
    },
    "tags": []
   },
   "outputs": [
    {
     "data": {
      "text/plain": [
       "21.441694538318803"
      ]
     },
     "execution_count": 13,
     "metadata": {},
     "output_type": "execute_result"
    }
   ],
   "source": [
    "np.sqrt(mean_squared_error(y_test, y_pred))"
   ]
  },
  {
   "cell_type": "code",
   "execution_count": 14,
   "id": "247d43ca",
   "metadata": {
    "execution": {
     "iopub.execute_input": "2021-11-05T07:57:41.678345Z",
     "iopub.status.busy": "2021-11-05T07:57:41.677765Z",
     "iopub.status.idle": "2021-11-05T07:57:41.680488Z",
     "shell.execute_reply": "2021-11-05T07:57:41.680924Z"
    },
    "jupyter": {
     "source_hidden": true
    },
    "papermill": {
     "duration": 0.032777,
     "end_time": "2021-11-05T07:57:41.681059",
     "exception": false,
     "start_time": "2021-11-05T07:57:41.648282",
     "status": "completed"
    },
    "tags": []
   },
   "outputs": [],
   "source": [
    "# # USING L2 REGULARIZATION - ridge\n",
    "\n",
    "# ridge = Ridge(alpha=0.1, normalize=True)\n",
    "# ridge_coef = ridge.fit(X_train, y_train).coef_\n",
    "# ridge_pred = ridge.predict(X_test)\n",
    "# ridge.score(X_test, y_test)\n",
    "\n",
    "# cv_scores_ridge = cross_val_score(ridge, wo_cat_X, wo_cat_y, cv=5)\n",
    "# np.mean(cv_scores_ridge)\n"
   ]
  },
  {
   "cell_type": "code",
   "execution_count": 15,
   "id": "dc3fcaea",
   "metadata": {
    "execution": {
     "iopub.execute_input": "2021-11-05T07:57:41.748712Z",
     "iopub.status.busy": "2021-11-05T07:57:41.748156Z",
     "iopub.status.idle": "2021-11-05T07:57:41.751429Z",
     "shell.execute_reply": "2021-11-05T07:57:41.750888Z"
    },
    "jupyter": {
     "source_hidden": true
    },
    "papermill": {
     "duration": 0.045033,
     "end_time": "2021-11-05T07:57:41.751546",
     "exception": false,
     "start_time": "2021-11-05T07:57:41.706513",
     "status": "completed"
    },
    "tags": []
   },
   "outputs": [],
   "source": [
    "# np.sqrt(mean_squared_error(y_test, ridge_pred))"
   ]
  },
  {
   "cell_type": "code",
   "execution_count": 16,
   "id": "39344973",
   "metadata": {
    "execution": {
     "iopub.execute_input": "2021-11-05T07:57:41.820986Z",
     "iopub.status.busy": "2021-11-05T07:57:41.817730Z",
     "iopub.status.idle": "2021-11-05T07:57:41.853980Z",
     "shell.execute_reply": "2021-11-05T07:57:41.854498Z"
    },
    "jupyter": {
     "source_hidden": true
    },
    "papermill": {
     "duration": 0.077941,
     "end_time": "2021-11-05T07:57:41.854631",
     "exception": false,
     "start_time": "2021-11-05T07:57:41.776690",
     "status": "completed"
    },
    "tags": []
   },
   "outputs": [
    {
     "data": {
      "text/plain": [
       "0.43951535871356723"
      ]
     },
     "execution_count": 16,
     "metadata": {},
     "output_type": "execute_result"
    }
   ],
   "source": [
    "# USING L1 regularization USD\n",
    "\n",
    "lasso_usd = Lasso(alpha=0.6)\n",
    "lasso_usd_coef = lasso_usd.fit(X_train, y_train).coef_\n",
    "lasso_pred_usd = lasso_usd.predict(X_test)\n",
    "\n",
    "lasso_usd.score(X_test, y_test)\n",
    "\n",
    "cv_scores_lasso_usd = cross_val_score(lasso_usd, wo_cat_X, wo_cat_y, cv=5)\n",
    "np.mean(cv_scores_lasso_usd)\n"
   ]
  },
  {
   "cell_type": "code",
   "execution_count": 17,
   "id": "8c8f6fee",
   "metadata": {
    "execution": {
     "iopub.execute_input": "2021-11-05T07:57:41.911924Z",
     "iopub.status.busy": "2021-11-05T07:57:41.911025Z",
     "iopub.status.idle": "2021-11-05T07:57:41.916166Z",
     "shell.execute_reply": "2021-11-05T07:57:41.915338Z"
    },
    "jupyter": {
     "source_hidden": true
    },
    "papermill": {
     "duration": 0.036968,
     "end_time": "2021-11-05T07:57:41.916376",
     "exception": false,
     "start_time": "2021-11-05T07:57:41.879408",
     "status": "completed"
    },
    "tags": []
   },
   "outputs": [
    {
     "data": {
      "text/plain": [
       "array([2.20960586, 2.44328838, 1.90630118, 2.00842144, 2.81724383,\n",
       "       1.79418332])"
      ]
     },
     "execution_count": 17,
     "metadata": {},
     "output_type": "execute_result"
    }
   ],
   "source": [
    "lasso_usd_coef"
   ]
  },
  {
   "cell_type": "code",
   "execution_count": 18,
   "id": "b58fecce",
   "metadata": {
    "execution": {
     "iopub.execute_input": "2021-11-05T07:57:41.990130Z",
     "iopub.status.busy": "2021-11-05T07:57:41.989473Z",
     "iopub.status.idle": "2021-11-05T07:57:41.992525Z",
     "shell.execute_reply": "2021-11-05T07:57:41.993202Z"
    },
    "jupyter": {
     "source_hidden": true
    },
    "papermill": {
     "duration": 0.044738,
     "end_time": "2021-11-05T07:57:41.993397",
     "exception": false,
     "start_time": "2021-11-05T07:57:41.948659",
     "status": "completed"
    },
    "tags": []
   },
   "outputs": [],
   "source": [
    "# USING L1 regularization BNB\n",
    "\n",
    "# lasso_bnb = Lasso(alpha=1)\n",
    "# lasso_bnb_coef = lasso_bnb.fit(X_train_bnb, y_train_bnb).coef_\n",
    "# lasso_pred_bnb = lasso_bnb.predict(X_test_bnb)\n",
    "\n",
    "# lasso_bnb.score(X_test_bnb, y_test_bnb)\n",
    "\n",
    "# cv_scores_lasso_bnb = cross_val_score(lasso_bnb, wo_cat_X_bnb, wo_cat_y_bnb, cv=5)\n",
    "# np.mean(cv_scores_lasso_bnb)"
   ]
  },
  {
   "cell_type": "code",
   "execution_count": null,
   "id": "d9daaa70",
   "metadata": {
    "jupyter": {
     "source_hidden": true
    },
    "papermill": {
     "duration": 0.030931,
     "end_time": "2021-11-05T07:57:42.066783",
     "exception": false,
     "start_time": "2021-11-05T07:57:42.035852",
     "status": "completed"
    },
    "tags": []
   },
   "outputs": [],
   "source": []
  },
  {
   "cell_type": "code",
   "execution_count": 19,
   "id": "131e6e8e",
   "metadata": {
    "execution": {
     "iopub.execute_input": "2021-11-05T07:57:42.139484Z",
     "iopub.status.busy": "2021-11-05T07:57:42.138613Z",
     "iopub.status.idle": "2021-11-05T07:57:42.142749Z",
     "shell.execute_reply": "2021-11-05T07:57:42.142001Z"
    },
    "jupyter": {
     "source_hidden": true
    },
    "papermill": {
     "duration": 0.037702,
     "end_time": "2021-11-05T07:57:42.142924",
     "exception": false,
     "start_time": "2021-11-05T07:57:42.105222",
     "status": "completed"
    },
    "tags": []
   },
   "outputs": [],
   "source": [
    "#np.sqrt(mean_squared_error(y_test, lasso_pred_usd))"
   ]
  },
  {
   "cell_type": "code",
   "execution_count": 20,
   "id": "078bdc2b",
   "metadata": {
    "execution": {
     "iopub.execute_input": "2021-11-05T07:57:42.219129Z",
     "iopub.status.busy": "2021-11-05T07:57:42.218160Z",
     "iopub.status.idle": "2021-11-05T07:57:42.220821Z",
     "shell.execute_reply": "2021-11-05T07:57:42.221512Z"
    },
    "jupyter": {
     "source_hidden": true
    },
    "papermill": {
     "duration": 0.045399,
     "end_time": "2021-11-05T07:57:42.221717",
     "exception": false,
     "start_time": "2021-11-05T07:57:42.176318",
     "status": "completed"
    },
    "tags": []
   },
   "outputs": [],
   "source": [
    "# Check the coefficient for penalization\n",
    "\n",
    "# names = wo_cat_df.drop('ship_sold_price', axis=1).columns\n",
    "# _ = plt.plot(range(len(names)), ridge_coef)\n",
    "# _ = plt.xticks(range(len(names)), names, rotation=60)\n",
    "# _ = plt.ylabel('Coefficients')\n",
    "# plt.show()"
   ]
  },
  {
   "cell_type": "code",
   "execution_count": 21,
   "id": "291fec42",
   "metadata": {
    "execution": {
     "iopub.execute_input": "2021-11-05T07:57:42.299250Z",
     "iopub.status.busy": "2021-11-05T07:57:42.298575Z",
     "iopub.status.idle": "2021-11-05T07:57:42.301527Z",
     "shell.execute_reply": "2021-11-05T07:57:42.302006Z"
    },
    "jupyter": {
     "source_hidden": true
    },
    "papermill": {
     "duration": 0.043774,
     "end_time": "2021-11-05T07:57:42.302143",
     "exception": false,
     "start_time": "2021-11-05T07:57:42.258369",
     "status": "completed"
    },
    "tags": []
   },
   "outputs": [],
   "source": [
    "# SINGLE PREDICTION\n",
    "# zztest = np.array([8,8,11,8,5,8])\n",
    "# zztest = np.array([5,13,15,6,11,5])\n",
    "# zztest = zztest.reshape(1, -1)\n",
    "\n",
    "# lasso_usd.predict(zztest)\n",
    "## actual 34"
   ]
  },
  {
   "cell_type": "code",
   "execution_count": 22,
   "id": "e3f8e586",
   "metadata": {
    "execution": {
     "iopub.execute_input": "2021-11-05T07:57:42.367449Z",
     "iopub.status.busy": "2021-11-05T07:57:42.366882Z",
     "iopub.status.idle": "2021-11-05T07:57:42.387559Z",
     "shell.execute_reply": "2021-11-05T07:57:42.388029Z"
    },
    "jupyter": {
     "source_hidden": true
    },
    "papermill": {
     "duration": 0.058732,
     "end_time": "2021-11-05T07:57:42.388164",
     "exception": false,
     "start_time": "2021-11-05T07:57:42.329432",
     "status": "completed"
    },
    "tags": []
   },
   "outputs": [
    {
     "data": {
      "text/html": [
       "<div>\n",
       "<style scoped>\n",
       "    .dataframe tbody tr th:only-of-type {\n",
       "        vertical-align: middle;\n",
       "    }\n",
       "\n",
       "    .dataframe tbody tr th {\n",
       "        vertical-align: top;\n",
       "    }\n",
       "\n",
       "    .dataframe thead tr th {\n",
       "        text-align: left;\n",
       "    }\n",
       "\n",
       "    .dataframe thead tr:last-of-type th {\n",
       "        text-align: right;\n",
       "    }\n",
       "</style>\n",
       "<table border=\"1\" class=\"dataframe\">\n",
       "  <thead>\n",
       "    <tr>\n",
       "      <th></th>\n",
       "      <th colspan=\"2\" halign=\"left\">ship_sold_price</th>\n",
       "    </tr>\n",
       "    <tr>\n",
       "      <th></th>\n",
       "      <th>count</th>\n",
       "      <th>mean</th>\n",
       "    </tr>\n",
       "    <tr>\n",
       "      <th>ship_id</th>\n",
       "      <th></th>\n",
       "      <th></th>\n",
       "    </tr>\n",
       "  </thead>\n",
       "  <tbody>\n",
       "    <tr>\n",
       "      <th>14593</th>\n",
       "      <td>4</td>\n",
       "      <td>0.0875</td>\n",
       "    </tr>\n",
       "    <tr>\n",
       "      <th>25115</th>\n",
       "      <td>4</td>\n",
       "      <td>0.1550</td>\n",
       "    </tr>\n",
       "    <tr>\n",
       "      <th>18183</th>\n",
       "      <td>4</td>\n",
       "      <td>0.4425</td>\n",
       "    </tr>\n",
       "    <tr>\n",
       "      <th>10466</th>\n",
       "      <td>4</td>\n",
       "      <td>0.0700</td>\n",
       "    </tr>\n",
       "    <tr>\n",
       "      <th>7463</th>\n",
       "      <td>3</td>\n",
       "      <td>0.0700</td>\n",
       "    </tr>\n",
       "    <tr>\n",
       "      <th>...</th>\n",
       "      <td>...</td>\n",
       "      <td>...</td>\n",
       "    </tr>\n",
       "    <tr>\n",
       "      <th>15029</th>\n",
       "      <td>1</td>\n",
       "      <td>0.1200</td>\n",
       "    </tr>\n",
       "    <tr>\n",
       "      <th>15093</th>\n",
       "      <td>1</td>\n",
       "      <td>0.2800</td>\n",
       "    </tr>\n",
       "    <tr>\n",
       "      <th>15163</th>\n",
       "      <td>1</td>\n",
       "      <td>0.0700</td>\n",
       "    </tr>\n",
       "    <tr>\n",
       "      <th>15170</th>\n",
       "      <td>1</td>\n",
       "      <td>0.1500</td>\n",
       "    </tr>\n",
       "    <tr>\n",
       "      <th>52630</th>\n",
       "      <td>1</td>\n",
       "      <td>0.0800</td>\n",
       "    </tr>\n",
       "  </tbody>\n",
       "</table>\n",
       "<p>786 rows × 2 columns</p>\n",
       "</div>"
      ],
      "text/plain": [
       "        ship_sold_price        \n",
       "                  count    mean\n",
       "ship_id                        \n",
       "14593                 4  0.0875\n",
       "25115                 4  0.1550\n",
       "18183                 4  0.4425\n",
       "10466                 4  0.0700\n",
       "7463                  3  0.0700\n",
       "...                 ...     ...\n",
       "15029                 1  0.1200\n",
       "15093                 1  0.2800\n",
       "15163                 1  0.0700\n",
       "15170                 1  0.1500\n",
       "52630                 1  0.0800\n",
       "\n",
       "[786 rows x 2 columns]"
      ]
     },
     "execution_count": 22,
     "metadata": {},
     "output_type": "execute_result"
    }
   ],
   "source": [
    "raw_df_bnb[['ship_id', 'ship_sold_price']].groupby(['ship_id'], as_index=False).agg(['count', 'mean']).sort_values(('ship_sold_price', 'count'), ascending=False)"
   ]
  },
  {
   "cell_type": "code",
   "execution_count": 23,
   "id": "358e657f",
   "metadata": {
    "execution": {
     "iopub.execute_input": "2021-11-05T07:57:42.450385Z",
     "iopub.status.busy": "2021-11-05T07:57:42.449838Z",
     "iopub.status.idle": "2021-11-05T07:57:42.453846Z",
     "shell.execute_reply": "2021-11-05T07:57:42.453041Z"
    },
    "jupyter": {
     "source_hidden": true
    },
    "papermill": {
     "duration": 0.036197,
     "end_time": "2021-11-05T07:57:42.454011",
     "exception": false,
     "start_time": "2021-11-05T07:57:42.417814",
     "status": "completed"
    },
    "tags": []
   },
   "outputs": [],
   "source": [
    "# times_sold = raw_df[['ship_id', 'ship_sold_price']].groupby('ship_id')['ship_sold_price'].apply(list).reset_index(name='ship_sold_price').agg({'ship_sold_price': lambda x: len(x)})\n",
    "\n",
    "# new_df = raw_df[['ship_id', 'ship_sold_price']].groupby('ship_id')['ship_sold_price'].apply(list).reset_index(name='ship_sold_price')\n",
    "# new_df['times_sold'] = times_sold\n",
    "# new_df.sort_values('times_sold', ascending=False, inplace=True)\n",
    "\n",
    "# multiple_sold = new_df[new_df['times_sold'] > 1]\n",
    "\n",
    "# multiple_sold"
   ]
  },
  {
   "cell_type": "code",
   "execution_count": 24,
   "id": "7ce7f69d",
   "metadata": {
    "execution": {
     "iopub.execute_input": "2021-11-05T07:57:42.532078Z",
     "iopub.status.busy": "2021-11-05T07:57:42.531163Z",
     "iopub.status.idle": "2021-11-05T07:57:42.540747Z",
     "shell.execute_reply": "2021-11-05T07:57:42.540260Z"
    },
    "jupyter": {
     "source_hidden": true
    },
    "papermill": {
     "duration": 0.046839,
     "end_time": "2021-11-05T07:57:42.540898",
     "exception": false,
     "start_time": "2021-11-05T07:57:42.494059",
     "status": "completed"
    },
    "tags": []
   },
   "outputs": [],
   "source": [
    "# SAVE MODEL\n",
    "\n",
    "pickle.dump(lasso_usd, open(f\"{relative_location}db/model_USD.sav\", 'wb'))\n",
    "pickle.dump(reg_bnb, open(f\"{relative_location}db/model_BNB.sav\", 'wb'))\n",
    "\n"
   ]
  },
  {
   "cell_type": "code",
   "execution_count": null,
   "id": "cef6f2d2",
   "metadata": {
    "jupyter": {
     "source_hidden": true
    },
    "papermill": {
     "duration": 0.033109,
     "end_time": "2021-11-05T07:57:42.604517",
     "exception": false,
     "start_time": "2021-11-05T07:57:42.571408",
     "status": "completed"
    },
    "tags": []
   },
   "outputs": [],
   "source": []
  }
 ],
 "metadata": {
  "interpreter": {
   "hash": "63a3210ed32c8c5e8c5daf40c6fb71e88ea33494b3eaa8a6f1212a2d7aa3f0ac"
  },
  "kernelspec": {
   "display_name": "Python 3.8.8 64-bit ('base': conda)",
   "name": "python3"
  },
  "language_info": {
   "codemirror_mode": {
    "name": "ipython",
    "version": 3
   },
   "file_extension": ".py",
   "mimetype": "text/x-python",
   "name": "python",
   "nbconvert_exporter": "python",
   "pygments_lexer": "ipython3",
   "version": "3.6.15"
  },
  "papermill": {
   "default_parameters": {},
   "duration": 5.336183,
   "end_time": "2021-11-05T07:57:43.081408",
   "environment_variables": {},
   "exception": null,
   "input_path": "/opt/airflow/Projects/cryptobay/02-transform.ipynb",
   "output_path": "/opt/airflow/Projects/cryptobay/out-build_model_nb.ipynb",
   "parameters": {
    "relative_location": "/opt/airflow/Projects/cryptobay/"
   },
   "start_time": "2021-11-05T07:57:37.745225",
   "version": "2.3.3"
  }
 },
 "nbformat": 4,
 "nbformat_minor": 5
}