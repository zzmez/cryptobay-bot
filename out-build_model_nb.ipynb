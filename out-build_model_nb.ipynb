{
 "cells": [
  {
   "cell_type": "code",
   "execution_count": 1,
   "id": "bb40f9ef",
   "metadata": {
    "execution": {
     "iopub.execute_input": "2021-10-07T17:23:57.935648Z",
     "iopub.status.busy": "2021-10-07T17:23:57.934941Z",
     "iopub.status.idle": "2021-10-07T17:23:57.938289Z",
     "shell.execute_reply": "2021-10-07T17:23:57.938837Z"
    },
    "jupyter": {
     "source_hidden": true
    },
    "papermill": {
     "duration": 0.055108,
     "end_time": "2021-10-07T17:23:57.939039",
     "exception": false,
     "start_time": "2021-10-07T17:23:57.883931",
     "status": "completed"
    },
    "tags": [
     "injected-parameters"
    ]
   },
   "outputs": [],
   "source": [
    "# Parameters\n",
    "relative_location = \"/opt/airflow/Projects/cryptobay/\"\n"
   ]
  },
  {
   "cell_type": "code",
   "execution_count": 2,
   "id": "b28d903d",
   "metadata": {
    "execution": {
     "iopub.execute_input": "2021-10-07T17:23:58.003606Z",
     "iopub.status.busy": "2021-10-07T17:23:58.002901Z",
     "iopub.status.idle": "2021-10-07T17:23:59.189460Z",
     "shell.execute_reply": "2021-10-07T17:23:59.188835Z"
    },
    "jupyter": {
     "source_hidden": true
    },
    "papermill": {
     "duration": 1.219935,
     "end_time": "2021-10-07T17:23:59.189604",
     "exception": false,
     "start_time": "2021-10-07T17:23:57.969669",
     "status": "completed"
    },
    "tags": []
   },
   "outputs": [],
   "source": [
    "import numpy as np\r\n",
    "import pandas as pd\r\n",
    "from sklearn.linear_model import Lasso, Ridge\r\n",
    "from sklearn.linear_model import LinearRegression\r\n",
    "from sklearn.model_selection import train_test_split, cross_val_score\r\n",
    "from sklearn.metrics import mean_squared_error\r\n",
    "#import  matplotlib.pyplot as plt\r\n",
    "import pickle"
   ]
  },
  {
   "cell_type": "code",
   "execution_count": 3,
   "id": "ab35571c",
   "metadata": {
    "execution": {
     "iopub.execute_input": "2021-10-07T17:23:59.250451Z",
     "iopub.status.busy": "2021-10-07T17:23:59.249754Z",
     "iopub.status.idle": "2021-10-07T17:23:59.253477Z",
     "shell.execute_reply": "2021-10-07T17:23:59.252873Z"
    },
    "jupyter": {
     "source_hidden": true
    },
    "papermill": {
     "duration": 0.03619,
     "end_time": "2021-10-07T17:23:59.253612",
     "exception": false,
     "start_time": "2021-10-07T17:23:59.217422",
     "status": "completed"
    },
    "tags": []
   },
   "outputs": [],
   "source": [
    "#USED FOR AIRFLOW\r\n",
    "try:\r\n",
    "    relative_location\r\n",
    "except NameError:\r\n",
    "    relative_location = \"\""
   ]
  },
  {
   "cell_type": "code",
   "execution_count": 4,
   "id": "4dd26cb7",
   "metadata": {
    "execution": {
     "iopub.execute_input": "2021-10-07T17:23:59.319120Z",
     "iopub.status.busy": "2021-10-07T17:23:59.318436Z",
     "iopub.status.idle": "2021-10-07T17:23:59.381158Z",
     "shell.execute_reply": "2021-10-07T17:23:59.380564Z"
    },
    "jupyter": {
     "source_hidden": true
    },
    "papermill": {
     "duration": 0.099596,
     "end_time": "2021-10-07T17:23:59.381304",
     "exception": false,
     "start_time": "2021-10-07T17:23:59.281708",
     "status": "completed"
    },
    "tags": []
   },
   "outputs": [],
   "source": [
    "# RAW DF ingestion\r\n",
    "columns = ['transaction_id', 'ship_id', 'ship_class', 'ship_durability', 'ship_owner', \\\r\n",
    "        'ship_attr_space', 'ship_attr_speed', 'ship_attr_skill', 'ship_attr_defence', 'ship_attr_attack', 'ship_attr_morale', \\\r\n",
    "        'ship_parts_keel', 'ship_parts_sail', 'ship_parts_side', 'ship_parts_bow', 'ship_parts_cabin', 'ship_parts_stern', \\\r\n",
    "        'ship_sold_price']\r\n",
    "raw_df = pd.read_csv(f\"{relative_location}db/extracted_sold_USD.csv\", names=columns)\r\n",
    "raw_df_bnb = pd.read_csv(f\"{relative_location}db/extracted_sold_BNB.csv\", names=columns)\r\n",
    "##\r\n",
    "\r\n",
    "raw_df = raw_df.drop_duplicates(subset=['transaction_id', 'ship_id'], keep='last').reset_index()\r\n",
    "raw_df_bnb = raw_df_bnb.drop_duplicates(subset=['transaction_id', 'ship_id'], keep='last').reset_index()"
   ]
  },
  {
   "cell_type": "code",
   "execution_count": 5,
   "id": "1f5aede4",
   "metadata": {
    "execution": {
     "iopub.execute_input": "2021-10-07T17:23:59.442770Z",
     "iopub.status.busy": "2021-10-07T17:23:59.442083Z",
     "iopub.status.idle": "2021-10-07T17:23:59.445027Z",
     "shell.execute_reply": "2021-10-07T17:23:59.445573Z"
    },
    "jupyter": {
     "source_hidden": true
    },
    "papermill": {
     "duration": 0.036201,
     "end_time": "2021-10-07T17:23:59.445746",
     "exception": false,
     "start_time": "2021-10-07T17:23:59.409545",
     "status": "completed"
    },
    "tags": []
   },
   "outputs": [],
   "source": [
    "#GET ONLY LAST 500\r\n",
    "raw_df = raw_df.tail(1000)\r\n",
    "raw_df_bnb = raw_df_bnb.tail(1000)"
   ]
  },
  {
   "cell_type": "code",
   "execution_count": 6,
   "id": "703738b4",
   "metadata": {
    "execution": {
     "iopub.execute_input": "2021-10-07T17:23:59.516492Z",
     "iopub.status.busy": "2021-10-07T17:23:59.515750Z",
     "iopub.status.idle": "2021-10-07T17:23:59.526505Z",
     "shell.execute_reply": "2021-10-07T17:23:59.525916Z"
    },
    "jupyter": {
     "source_hidden": true
    },
    "papermill": {
     "duration": 0.050358,
     "end_time": "2021-10-07T17:23:59.526646",
     "exception": false,
     "start_time": "2021-10-07T17:23:59.476288",
     "status": "completed"
    },
    "tags": []
   },
   "outputs": [],
   "source": [
    "# CLEAN UP 1 AND UP TO 99 PERCENTILE\r\n",
    "raw_df = raw_df[(raw_df['ship_sold_price'] >= raw_df['ship_sold_price'].quantile(0.01)) & (raw_df['ship_sold_price'] <= raw_df['ship_sold_price'].quantile(0.99))]\r\n",
    "raw_df_bnb = raw_df_bnb[(raw_df_bnb['ship_sold_price'] >= raw_df_bnb['ship_sold_price'].quantile(0.01)) & (raw_df_bnb['ship_sold_price'] <= raw_df_bnb['ship_sold_price'].quantile(0.99))]"
   ]
  },
  {
   "cell_type": "code",
   "execution_count": 7,
   "id": "279a6309",
   "metadata": {
    "execution": {
     "iopub.execute_input": "2021-10-07T17:23:59.595462Z",
     "iopub.status.busy": "2021-10-07T17:23:59.594744Z",
     "iopub.status.idle": "2021-10-07T17:23:59.597876Z",
     "shell.execute_reply": "2021-10-07T17:23:59.598390Z"
    },
    "jupyter": {
     "source_hidden": true
    },
    "papermill": {
     "duration": 0.043498,
     "end_time": "2021-10-07T17:23:59.598581",
     "exception": false,
     "start_time": "2021-10-07T17:23:59.555083",
     "status": "completed"
    },
    "tags": []
   },
   "outputs": [],
   "source": [
    "wo_cat_columns = ['ship_attr_space','ship_attr_speed','ship_attr_skill','ship_attr_defence','ship_attr_attack','ship_attr_morale', 'ship_sold_price']\r\n",
    "\r\n",
    "wo_cat_df = raw_df[wo_cat_columns]\r\n",
    "wo_cat_df_bnb = raw_df_bnb[wo_cat_columns]\r\n",
    "#wo_cat_df.head()\r\n",
    "\r\n",
    "wo_cat_X = wo_cat_df.drop('ship_sold_price', axis = 1)\r\n",
    "wo_cat_X_bnb = wo_cat_df_bnb.drop('ship_sold_price', axis = 1)\r\n",
    "wo_cat_y = wo_cat_df['ship_sold_price']\r\n",
    "wo_cat_y_bnb = wo_cat_df_bnb['ship_sold_price']"
   ]
  },
  {
   "cell_type": "code",
   "execution_count": 8,
   "id": "79394a77",
   "metadata": {
    "execution": {
     "iopub.execute_input": "2021-10-07T17:23:59.675130Z",
     "iopub.status.busy": "2021-10-07T17:23:59.667564Z",
     "iopub.status.idle": "2021-10-07T17:23:59.686878Z",
     "shell.execute_reply": "2021-10-07T17:23:59.686175Z"
    },
    "jupyter": {
     "source_hidden": true
    },
    "papermill": {
     "duration": 0.059397,
     "end_time": "2021-10-07T17:23:59.687014",
     "exception": false,
     "start_time": "2021-10-07T17:23:59.627617",
     "status": "completed"
    },
    "tags": []
   },
   "outputs": [
    {
     "data": {
      "text/plain": [
       "LinearRegression()"
      ]
     },
     "execution_count": 8,
     "metadata": {},
     "output_type": "execute_result"
    }
   ],
   "source": [
    "# Training of the data\r\n",
    "X_train, X_test, y_train, y_test = train_test_split(wo_cat_X, wo_cat_y, test_size=0.3, random_state=42)\r\n",
    "reg = LinearRegression()\r\n",
    "reg.fit(X_train, y_train)\r\n",
    "\r\n",
    "X_train_bnb, X_test_bnb, y_train_bnb, y_test_bnb = train_test_split(wo_cat_X_bnb, wo_cat_y_bnb, test_size=0.3, random_state=42)\r\n",
    "reg_bnb = LinearRegression()\r\n",
    "reg_bnb.fit(X_train_bnb, y_train_bnb)"
   ]
  },
  {
   "cell_type": "code",
   "execution_count": 9,
   "id": "7fbf144c",
   "metadata": {
    "execution": {
     "iopub.execute_input": "2021-10-07T17:23:59.758457Z",
     "iopub.status.busy": "2021-10-07T17:23:59.757755Z",
     "iopub.status.idle": "2021-10-07T17:23:59.762762Z",
     "shell.execute_reply": "2021-10-07T17:23:59.762197Z"
    },
    "jupyter": {
     "source_hidden": true
    },
    "papermill": {
     "duration": 0.046275,
     "end_time": "2021-10-07T17:23:59.762903",
     "exception": false,
     "start_time": "2021-10-07T17:23:59.716628",
     "status": "completed"
    },
    "tags": []
   },
   "outputs": [
    {
     "data": {
      "text/plain": [
       "0.3323414740525271"
      ]
     },
     "execution_count": 9,
     "metadata": {},
     "output_type": "execute_result"
    }
   ],
   "source": [
    "# Predict on TEST dataset\r\n",
    "y_pred = reg.predict(X_test)\r\n",
    "y_pred_bnb = reg_bnb.predict(X_test_bnb)\r\n",
    "reg_bnb.score(X_test_bnb, y_test_bnb)"
   ]
  },
  {
   "cell_type": "code",
   "execution_count": 10,
   "id": "de5a5688",
   "metadata": {
    "execution": {
     "iopub.execute_input": "2021-10-07T17:23:59.829735Z",
     "iopub.status.busy": "2021-10-07T17:23:59.829043Z",
     "iopub.status.idle": "2021-10-07T17:23:59.832205Z",
     "shell.execute_reply": "2021-10-07T17:23:59.832798Z"
    },
    "jupyter": {
     "source_hidden": true
    },
    "papermill": {
     "duration": 0.038928,
     "end_time": "2021-10-07T17:23:59.832954",
     "exception": false,
     "start_time": "2021-10-07T17:23:59.794026",
     "status": "completed"
    },
    "tags": []
   },
   "outputs": [],
   "source": [
    "# zztest = np.array([5,13,5,6,11,5])\r\n",
    "# zztest = zztest.reshape(1, -1)\r\n",
    "\r\n",
    "# lasso_usd.predict(zztest)"
   ]
  },
  {
   "cell_type": "code",
   "execution_count": 11,
   "id": "26a903be",
   "metadata": {
    "execution": {
     "iopub.execute_input": "2021-10-07T17:23:59.902544Z",
     "iopub.status.busy": "2021-10-07T17:23:59.901848Z",
     "iopub.status.idle": "2021-10-07T17:23:59.906637Z",
     "shell.execute_reply": "2021-10-07T17:23:59.905959Z"
    },
    "jupyter": {
     "source_hidden": true
    },
    "papermill": {
     "duration": 0.043767,
     "end_time": "2021-10-07T17:23:59.906772",
     "exception": false,
     "start_time": "2021-10-07T17:23:59.863005",
     "status": "completed"
    },
    "tags": []
   },
   "outputs": [
    {
     "data": {
      "text/plain": [
       "array([0.00795914, 0.00891192, 0.00628072, 0.00613043, 0.00886067,\n",
       "       0.00585652])"
      ]
     },
     "execution_count": 11,
     "metadata": {},
     "output_type": "execute_result"
    }
   ],
   "source": [
    "reg_bnb.fit(X_train_bnb, y_train_bnb).coef_"
   ]
  },
  {
   "cell_type": "code",
   "execution_count": 12,
   "id": "c7ddbb29",
   "metadata": {
    "execution": {
     "iopub.execute_input": "2021-10-07T17:24:00.003730Z",
     "iopub.status.busy": "2021-10-07T17:23:59.975588Z",
     "iopub.status.idle": "2021-10-07T17:24:00.047134Z",
     "shell.execute_reply": "2021-10-07T17:24:00.046346Z"
    },
    "jupyter": {
     "source_hidden": true
    },
    "papermill": {
     "duration": 0.110047,
     "end_time": "2021-10-07T17:24:00.047275",
     "exception": false,
     "start_time": "2021-10-07T17:23:59.937228",
     "status": "completed"
    },
    "tags": []
   },
   "outputs": [
    {
     "data": {
      "text/plain": [
       "0.4392831691223599"
      ]
     },
     "execution_count": 12,
     "metadata": {},
     "output_type": "execute_result"
    }
   ],
   "source": [
    "# LINIAR REGRESSION\r\n",
    "cv_scores = cross_val_score(reg, wo_cat_X, wo_cat_y, cv=5)\r\n",
    "cv_scores_bnb = cross_val_score(reg_bnb, wo_cat_X_bnb, wo_cat_y_bnb, cv=5)\r\n",
    "\r\n",
    "np.mean(cv_scores)\r\n",
    "#np.mean(cv_scores_bnb)"
   ]
  },
  {
   "cell_type": "code",
   "execution_count": 13,
   "id": "13eb97da",
   "metadata": {
    "execution": {
     "iopub.execute_input": "2021-10-07T17:24:00.117528Z",
     "iopub.status.busy": "2021-10-07T17:24:00.116870Z",
     "iopub.status.idle": "2021-10-07T17:24:00.121596Z",
     "shell.execute_reply": "2021-10-07T17:24:00.120946Z"
    },
    "jupyter": {
     "source_hidden": true
    },
    "papermill": {
     "duration": 0.042794,
     "end_time": "2021-10-07T17:24:00.121784",
     "exception": false,
     "start_time": "2021-10-07T17:24:00.078990",
     "status": "completed"
    },
    "tags": []
   },
   "outputs": [
    {
     "data": {
      "text/plain": [
       "21.441694538318803"
      ]
     },
     "execution_count": 13,
     "metadata": {},
     "output_type": "execute_result"
    }
   ],
   "source": [
    "np.sqrt(mean_squared_error(y_test, y_pred))"
   ]
  },
  {
   "cell_type": "code",
   "execution_count": 14,
   "id": "23d67394",
   "metadata": {
    "execution": {
     "iopub.execute_input": "2021-10-07T17:24:00.190086Z",
     "iopub.status.busy": "2021-10-07T17:24:00.189396Z",
     "iopub.status.idle": "2021-10-07T17:24:00.193104Z",
     "shell.execute_reply": "2021-10-07T17:24:00.192505Z"
    },
    "jupyter": {
     "source_hidden": true
    },
    "papermill": {
     "duration": 0.039772,
     "end_time": "2021-10-07T17:24:00.193243",
     "exception": false,
     "start_time": "2021-10-07T17:24:00.153471",
     "status": "completed"
    },
    "tags": []
   },
   "outputs": [],
   "source": [
    "# # USING L2 REGULARIZATION - ridge\r\n",
    "\r\n",
    "# ridge = Ridge(alpha=0.1, normalize=True)\r\n",
    "# ridge_coef = ridge.fit(X_train, y_train).coef_\r\n",
    "# ridge_pred = ridge.predict(X_test)\r\n",
    "# ridge.score(X_test, y_test)\r\n",
    "\r\n",
    "# cv_scores_ridge = cross_val_score(ridge, wo_cat_X, wo_cat_y, cv=5)\r\n",
    "# np.mean(cv_scores_ridge)\r\n"
   ]
  },
  {
   "cell_type": "code",
   "execution_count": 15,
   "id": "29793372",
   "metadata": {
    "execution": {
     "iopub.execute_input": "2021-10-07T17:24:00.395736Z",
     "iopub.status.busy": "2021-10-07T17:24:00.395049Z",
     "iopub.status.idle": "2021-10-07T17:24:00.398641Z",
     "shell.execute_reply": "2021-10-07T17:24:00.397948Z"
    },
    "jupyter": {
     "source_hidden": true
    },
    "papermill": {
     "duration": 0.173375,
     "end_time": "2021-10-07T17:24:00.398778",
     "exception": false,
     "start_time": "2021-10-07T17:24:00.225403",
     "status": "completed"
    },
    "tags": []
   },
   "outputs": [],
   "source": [
    "# np.sqrt(mean_squared_error(y_test, ridge_pred))"
   ]
  },
  {
   "cell_type": "code",
   "execution_count": 16,
   "id": "033349ba",
   "metadata": {
    "execution": {
     "iopub.execute_input": "2021-10-07T17:24:00.486421Z",
     "iopub.status.busy": "2021-10-07T17:24:00.478627Z",
     "iopub.status.idle": "2021-10-07T17:24:00.516260Z",
     "shell.execute_reply": "2021-10-07T17:24:00.515437Z"
    },
    "jupyter": {
     "source_hidden": true
    },
    "papermill": {
     "duration": 0.084299,
     "end_time": "2021-10-07T17:24:00.516402",
     "exception": false,
     "start_time": "2021-10-07T17:24:00.432103",
     "status": "completed"
    },
    "tags": []
   },
   "outputs": [
    {
     "data": {
      "text/plain": [
       "0.43951535871356723"
      ]
     },
     "execution_count": 16,
     "metadata": {},
     "output_type": "execute_result"
    }
   ],
   "source": [
    "# USING L1 regularization USD\r\n",
    "\r\n",
    "lasso_usd = Lasso(alpha=0.6)\r\n",
    "lasso_usd_coef = lasso_usd.fit(X_train, y_train).coef_\r\n",
    "lasso_pred_usd = lasso_usd.predict(X_test)\r\n",
    "\r\n",
    "lasso_usd.score(X_test, y_test)\r\n",
    "\r\n",
    "cv_scores_lasso_usd = cross_val_score(lasso_usd, wo_cat_X, wo_cat_y, cv=5)\r\n",
    "np.mean(cv_scores_lasso_usd)\r\n"
   ]
  },
  {
   "cell_type": "code",
   "execution_count": 17,
   "id": "f0770c4c",
   "metadata": {
    "execution": {
     "iopub.execute_input": "2021-10-07T17:24:00.588254Z",
     "iopub.status.busy": "2021-10-07T17:24:00.587570Z",
     "iopub.status.idle": "2021-10-07T17:24:00.592575Z",
     "shell.execute_reply": "2021-10-07T17:24:00.591983Z"
    },
    "jupyter": {
     "source_hidden": true
    },
    "papermill": {
     "duration": 0.04237,
     "end_time": "2021-10-07T17:24:00.592736",
     "exception": false,
     "start_time": "2021-10-07T17:24:00.550366",
     "status": "completed"
    },
    "tags": []
   },
   "outputs": [
    {
     "data": {
      "text/plain": [
       "array([2.20960586, 2.44328838, 1.90630118, 2.00842144, 2.81724383,\n",
       "       1.79418332])"
      ]
     },
     "execution_count": 17,
     "metadata": {},
     "output_type": "execute_result"
    }
   ],
   "source": [
    "lasso_usd_coef"
   ]
  },
  {
   "cell_type": "code",
   "execution_count": 18,
   "id": "58f47caf",
   "metadata": {
    "execution": {
     "iopub.execute_input": "2021-10-07T17:24:00.663256Z",
     "iopub.status.busy": "2021-10-07T17:24:00.662566Z",
     "iopub.status.idle": "2021-10-07T17:24:00.666241Z",
     "shell.execute_reply": "2021-10-07T17:24:00.665623Z"
    },
    "jupyter": {
     "source_hidden": true
    },
    "papermill": {
     "duration": 0.040608,
     "end_time": "2021-10-07T17:24:00.666375",
     "exception": false,
     "start_time": "2021-10-07T17:24:00.625767",
     "status": "completed"
    },
    "tags": []
   },
   "outputs": [],
   "source": [
    "# USING L1 regularization BNB\r\n",
    "\r\n",
    "# lasso_bnb = Lasso(alpha=1)\r\n",
    "# lasso_bnb_coef = lasso_bnb.fit(X_train_bnb, y_train_bnb).coef_\r\n",
    "# lasso_pred_bnb = lasso_bnb.predict(X_test_bnb)\r\n",
    "\r\n",
    "# lasso_bnb.score(X_test_bnb, y_test_bnb)\r\n",
    "\r\n",
    "# cv_scores_lasso_bnb = cross_val_score(lasso_bnb, wo_cat_X_bnb, wo_cat_y_bnb, cv=5)\r\n",
    "# np.mean(cv_scores_lasso_bnb)"
   ]
  },
  {
   "cell_type": "code",
   "execution_count": null,
   "id": "95cf4d47",
   "metadata": {
    "jupyter": {
     "source_hidden": true
    },
    "papermill": {
     "duration": 0.033982,
     "end_time": "2021-10-07T17:24:00.733557",
     "exception": false,
     "start_time": "2021-10-07T17:24:00.699575",
     "status": "completed"
    },
    "tags": []
   },
   "outputs": [],
   "source": []
  },
  {
   "cell_type": "code",
   "execution_count": 19,
   "id": "ea6f18d0",
   "metadata": {
    "execution": {
     "iopub.execute_input": "2021-10-07T17:24:00.806428Z",
     "iopub.status.busy": "2021-10-07T17:24:00.805735Z",
     "iopub.status.idle": "2021-10-07T17:24:00.808906Z",
     "shell.execute_reply": "2021-10-07T17:24:00.809453Z"
    },
    "jupyter": {
     "source_hidden": true
    },
    "papermill": {
     "duration": 0.040981,
     "end_time": "2021-10-07T17:24:00.809609",
     "exception": false,
     "start_time": "2021-10-07T17:24:00.768628",
     "status": "completed"
    },
    "tags": []
   },
   "outputs": [],
   "source": [
    "#np.sqrt(mean_squared_error(y_test, lasso_pred_usd))"
   ]
  },
  {
   "cell_type": "code",
   "execution_count": 20,
   "id": "79e56857",
   "metadata": {
    "execution": {
     "iopub.execute_input": "2021-10-07T17:24:00.881125Z",
     "iopub.status.busy": "2021-10-07T17:24:00.880436Z",
     "iopub.status.idle": "2021-10-07T17:24:00.884013Z",
     "shell.execute_reply": "2021-10-07T17:24:00.883307Z"
    },
    "jupyter": {
     "source_hidden": true
    },
    "papermill": {
     "duration": 0.041019,
     "end_time": "2021-10-07T17:24:00.884171",
     "exception": false,
     "start_time": "2021-10-07T17:24:00.843152",
     "status": "completed"
    },
    "tags": []
   },
   "outputs": [],
   "source": [
    "# Check the coefficient for penalization\r\n",
    "\r\n",
    "# names = wo_cat_df.drop('ship_sold_price', axis=1).columns\r\n",
    "# _ = plt.plot(range(len(names)), ridge_coef)\r\n",
    "# _ = plt.xticks(range(len(names)), names, rotation=60)\r\n",
    "# _ = plt.ylabel('Coefficients')\r\n",
    "# plt.show()"
   ]
  },
  {
   "cell_type": "code",
   "execution_count": 21,
   "id": "f096a205",
   "metadata": {
    "execution": {
     "iopub.execute_input": "2021-10-07T17:24:00.955437Z",
     "iopub.status.busy": "2021-10-07T17:24:00.954739Z",
     "iopub.status.idle": "2021-10-07T17:24:00.958587Z",
     "shell.execute_reply": "2021-10-07T17:24:00.957985Z"
    },
    "jupyter": {
     "source_hidden": true
    },
    "papermill": {
     "duration": 0.041122,
     "end_time": "2021-10-07T17:24:00.958720",
     "exception": false,
     "start_time": "2021-10-07T17:24:00.917598",
     "status": "completed"
    },
    "tags": []
   },
   "outputs": [],
   "source": [
    "# SINGLE PREDICTION\r\n",
    "# zztest = np.array([8,8,11,8,5,8])\r\n",
    "# zztest = np.array([5,13,15,6,11,5])\r\n",
    "# zztest = zztest.reshape(1, -1)\r\n",
    "\r\n",
    "# lasso_usd.predict(zztest)\r\n",
    "## actual 34"
   ]
  },
  {
   "cell_type": "code",
   "execution_count": 22,
   "id": "bee7de29",
   "metadata": {
    "execution": {
     "iopub.execute_input": "2021-10-07T17:24:01.037669Z",
     "iopub.status.busy": "2021-10-07T17:24:01.036954Z",
     "iopub.status.idle": "2021-10-07T17:24:01.061188Z",
     "shell.execute_reply": "2021-10-07T17:24:01.060515Z"
    },
    "jupyter": {
     "source_hidden": true
    },
    "papermill": {
     "duration": 0.068466,
     "end_time": "2021-10-07T17:24:01.061358",
     "exception": false,
     "start_time": "2021-10-07T17:24:00.992892",
     "status": "completed"
    },
    "tags": []
   },
   "outputs": [
    {
     "data": {
      "text/html": [
       "<div>\n",
       "<style scoped>\n",
       "    .dataframe tbody tr th:only-of-type {\n",
       "        vertical-align: middle;\n",
       "    }\n",
       "\n",
       "    .dataframe tbody tr th {\n",
       "        vertical-align: top;\n",
       "    }\n",
       "\n",
       "    .dataframe thead tr th {\n",
       "        text-align: left;\n",
       "    }\n",
       "\n",
       "    .dataframe thead tr:last-of-type th {\n",
       "        text-align: right;\n",
       "    }\n",
       "</style>\n",
       "<table border=\"1\" class=\"dataframe\">\n",
       "  <thead>\n",
       "    <tr>\n",
       "      <th></th>\n",
       "      <th colspan=\"2\" halign=\"left\">ship_sold_price</th>\n",
       "    </tr>\n",
       "    <tr>\n",
       "      <th></th>\n",
       "      <th>count</th>\n",
       "      <th>mean</th>\n",
       "    </tr>\n",
       "    <tr>\n",
       "      <th>ship_id</th>\n",
       "      <th></th>\n",
       "      <th></th>\n",
       "    </tr>\n",
       "  </thead>\n",
       "  <tbody>\n",
       "    <tr>\n",
       "      <th>2433</th>\n",
       "      <td>4</td>\n",
       "      <td>0.090000</td>\n",
       "    </tr>\n",
       "    <tr>\n",
       "      <th>13546</th>\n",
       "      <td>4</td>\n",
       "      <td>0.087500</td>\n",
       "    </tr>\n",
       "    <tr>\n",
       "      <th>11715</th>\n",
       "      <td>3</td>\n",
       "      <td>0.266667</td>\n",
       "    </tr>\n",
       "    <tr>\n",
       "      <th>27993</th>\n",
       "      <td>3</td>\n",
       "      <td>0.093333</td>\n",
       "    </tr>\n",
       "    <tr>\n",
       "      <th>8991</th>\n",
       "      <td>3</td>\n",
       "      <td>0.123333</td>\n",
       "    </tr>\n",
       "    <tr>\n",
       "      <th>...</th>\n",
       "      <td>...</td>\n",
       "      <td>...</td>\n",
       "    </tr>\n",
       "    <tr>\n",
       "      <th>12493</th>\n",
       "      <td>1</td>\n",
       "      <td>0.150000</td>\n",
       "    </tr>\n",
       "    <tr>\n",
       "      <th>12511</th>\n",
       "      <td>1</td>\n",
       "      <td>0.150000</td>\n",
       "    </tr>\n",
       "    <tr>\n",
       "      <th>12512</th>\n",
       "      <td>1</td>\n",
       "      <td>0.190000</td>\n",
       "    </tr>\n",
       "    <tr>\n",
       "      <th>12629</th>\n",
       "      <td>1</td>\n",
       "      <td>0.320000</td>\n",
       "    </tr>\n",
       "    <tr>\n",
       "      <th>52496</th>\n",
       "      <td>1</td>\n",
       "      <td>0.100000</td>\n",
       "    </tr>\n",
       "  </tbody>\n",
       "</table>\n",
       "<p>830 rows × 2 columns</p>\n",
       "</div>"
      ],
      "text/plain": [
       "        ship_sold_price          \n",
       "                  count      mean\n",
       "ship_id                          \n",
       "2433                  4  0.090000\n",
       "13546                 4  0.087500\n",
       "11715                 3  0.266667\n",
       "27993                 3  0.093333\n",
       "8991                  3  0.123333\n",
       "...                 ...       ...\n",
       "12493                 1  0.150000\n",
       "12511                 1  0.150000\n",
       "12512                 1  0.190000\n",
       "12629                 1  0.320000\n",
       "52496                 1  0.100000\n",
       "\n",
       "[830 rows x 2 columns]"
      ]
     },
     "execution_count": 22,
     "metadata": {},
     "output_type": "execute_result"
    }
   ],
   "source": [
    "raw_df_bnb[['ship_id', 'ship_sold_price']].groupby(['ship_id'], as_index=False).agg(['count', 'mean']).sort_values(('ship_sold_price', 'count'), ascending=False)"
   ]
  },
  {
   "cell_type": "code",
   "execution_count": 23,
   "id": "851025b2",
   "metadata": {
    "execution": {
     "iopub.execute_input": "2021-10-07T17:24:01.141871Z",
     "iopub.status.busy": "2021-10-07T17:24:01.141147Z",
     "iopub.status.idle": "2021-10-07T17:24:01.145173Z",
     "shell.execute_reply": "2021-10-07T17:24:01.144586Z"
    },
    "jupyter": {
     "source_hidden": true
    },
    "papermill": {
     "duration": 0.043566,
     "end_time": "2021-10-07T17:24:01.145315",
     "exception": false,
     "start_time": "2021-10-07T17:24:01.101749",
     "status": "completed"
    },
    "tags": []
   },
   "outputs": [],
   "source": [
    "# times_sold = raw_df[['ship_id', 'ship_sold_price']].groupby('ship_id')['ship_sold_price'].apply(list).reset_index(name='ship_sold_price').agg({'ship_sold_price': lambda x: len(x)})\r\n",
    "\r\n",
    "# new_df = raw_df[['ship_id', 'ship_sold_price']].groupby('ship_id')['ship_sold_price'].apply(list).reset_index(name='ship_sold_price')\r\n",
    "# new_df['times_sold'] = times_sold\r\n",
    "# new_df.sort_values('times_sold', ascending=False, inplace=True)\r\n",
    "\r\n",
    "# multiple_sold = new_df[new_df['times_sold'] > 1]\r\n",
    "\r\n",
    "# multiple_sold"
   ]
  },
  {
   "cell_type": "code",
   "execution_count": 24,
   "id": "ddafee6b",
   "metadata": {
    "execution": {
     "iopub.execute_input": "2021-10-07T17:24:01.223321Z",
     "iopub.status.busy": "2021-10-07T17:24:01.222637Z",
     "iopub.status.idle": "2021-10-07T17:24:01.232327Z",
     "shell.execute_reply": "2021-10-07T17:24:01.232903Z"
    },
    "jupyter": {
     "source_hidden": true
    },
    "papermill": {
     "duration": 0.052094,
     "end_time": "2021-10-07T17:24:01.233070",
     "exception": false,
     "start_time": "2021-10-07T17:24:01.180976",
     "status": "completed"
    },
    "tags": []
   },
   "outputs": [],
   "source": [
    "# SAVE MODEL\r\n",
    "\r\n",
    "pickle.dump(lasso_usd, open(f\"{relative_location}db/model_USD.sav\", 'wb'))\r\n",
    "pickle.dump(reg_bnb, open(f\"{relative_location}db/model_BNB.sav\", 'wb'))\r\n",
    "\r\n"
   ]
  },
  {
   "cell_type": "code",
   "execution_count": null,
   "id": "153bbff8",
   "metadata": {
    "jupyter": {
     "source_hidden": true
    },
    "papermill": {
     "duration": 0.035923,
     "end_time": "2021-10-07T17:24:01.304577",
     "exception": false,
     "start_time": "2021-10-07T17:24:01.268654",
     "status": "completed"
    },
    "tags": []
   },
   "outputs": [],
   "source": []
  }
 ],
 "metadata": {
  "interpreter": {
   "hash": "63a3210ed32c8c5e8c5daf40c6fb71e88ea33494b3eaa8a6f1212a2d7aa3f0ac"
  },
  "kernelspec": {
   "display_name": "Python 3.8.8 64-bit ('base': conda)",
   "name": "python3"
  },
  "language_info": {
   "codemirror_mode": {
    "name": "ipython",
    "version": 3
   },
   "file_extension": ".py",
   "mimetype": "text/x-python",
   "name": "python",
   "nbconvert_exporter": "python",
   "pygments_lexer": "ipython3",
   "version": "3.6.15"
  },
  "papermill": {
   "default_parameters": {},
   "duration": 5.513898,
   "end_time": "2021-10-07T17:24:01.750218",
   "environment_variables": {},
   "exception": null,
   "input_path": "/opt/airflow/Projects/cryptobay/02-transform.ipynb",
   "output_path": "/opt/airflow/Projects/cryptobay/out-build_model_nb.ipynb",
   "parameters": {
    "relative_location": "/opt/airflow/Projects/cryptobay/"
   },
   "start_time": "2021-10-07T17:23:56.236320",
   "version": "2.3.3"
  }
 },
 "nbformat": 4,
 "nbformat_minor": 5
}