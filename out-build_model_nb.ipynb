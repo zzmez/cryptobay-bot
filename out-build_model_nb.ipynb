{
 "cells": [
  {
   "cell_type": "code",
   "execution_count": 1,
   "id": "30813e72",
   "metadata": {
    "execution": {
     "iopub.execute_input": "2021-10-22T07:34:42.768996Z",
     "iopub.status.busy": "2021-10-22T07:34:42.763160Z",
     "iopub.status.idle": "2021-10-22T07:34:42.772432Z",
     "shell.execute_reply": "2021-10-22T07:34:42.773079Z"
    },
    "jupyter": {
     "source_hidden": true
    },
    "papermill": {
     "duration": 0.065815,
     "end_time": "2021-10-22T07:34:42.773278",
     "exception": false,
     "start_time": "2021-10-22T07:34:42.707463",
     "status": "completed"
    },
    "tags": [
     "injected-parameters"
    ]
   },
   "outputs": [],
   "source": [
    "# Parameters\n",
    "relative_location = \"/opt/airflow/Projects/cryptobay/\"\n"
   ]
  },
  {
   "cell_type": "code",
   "execution_count": 2,
   "id": "77026956",
   "metadata": {
    "execution": {
     "iopub.execute_input": "2021-10-22T07:34:42.848166Z",
     "iopub.status.busy": "2021-10-22T07:34:42.847212Z",
     "iopub.status.idle": "2021-10-22T07:34:44.591940Z",
     "shell.execute_reply": "2021-10-22T07:34:44.591485Z"
    },
    "jupyter": {
     "source_hidden": true
    },
    "papermill": {
     "duration": 1.79288,
     "end_time": "2021-10-22T07:34:44.592057",
     "exception": false,
     "start_time": "2021-10-22T07:34:42.799177",
     "status": "completed"
    },
    "tags": []
   },
   "outputs": [],
   "source": [
    "import numpy as np\n",
    "import pandas as pd\n",
    "from sklearn.linear_model import Lasso, Ridge\n",
    "from sklearn.linear_model import LinearRegression\n",
    "from sklearn.model_selection import train_test_split, cross_val_score\n",
    "from sklearn.metrics import mean_squared_error\n",
    "# import  matplotlib.pyplot as plt\n",
    "import pickle"
   ]
  },
  {
   "cell_type": "code",
   "execution_count": 3,
   "id": "4fa4fa65",
   "metadata": {
    "execution": {
     "iopub.execute_input": "2021-10-22T07:34:44.655105Z",
     "iopub.status.busy": "2021-10-22T07:34:44.654521Z",
     "iopub.status.idle": "2021-10-22T07:34:44.658272Z",
     "shell.execute_reply": "2021-10-22T07:34:44.657689Z"
    },
    "jupyter": {
     "source_hidden": true
    },
    "papermill": {
     "duration": 0.040517,
     "end_time": "2021-10-22T07:34:44.658384",
     "exception": false,
     "start_time": "2021-10-22T07:34:44.617867",
     "status": "completed"
    },
    "tags": []
   },
   "outputs": [],
   "source": [
    "#USED FOR AIRFLOW\n",
    "try:\n",
    "    relative_location\n",
    "except NameError:\n",
    "    relative_location = \"\""
   ]
  },
  {
   "cell_type": "code",
   "execution_count": 4,
   "id": "2498c3db",
   "metadata": {
    "execution": {
     "iopub.execute_input": "2021-10-22T07:34:44.735175Z",
     "iopub.status.busy": "2021-10-22T07:34:44.734611Z",
     "iopub.status.idle": "2021-10-22T07:34:44.820311Z",
     "shell.execute_reply": "2021-10-22T07:34:44.821021Z"
    },
    "jupyter": {
     "source_hidden": true
    },
    "papermill": {
     "duration": 0.136014,
     "end_time": "2021-10-22T07:34:44.821212",
     "exception": false,
     "start_time": "2021-10-22T07:34:44.685198",
     "status": "completed"
    },
    "tags": []
   },
   "outputs": [],
   "source": [
    "# RAW DF ingestion\n",
    "columns = ['transaction_id', 'ship_id', 'ship_class', 'ship_durability', 'ship_owner', \\\n",
    "        'ship_attr_space', 'ship_attr_speed', 'ship_attr_skill', 'ship_attr_defence', 'ship_attr_attack', 'ship_attr_morale', \\\n",
    "        'ship_parts_keel', 'ship_parts_sail', 'ship_parts_side', 'ship_parts_bow', 'ship_parts_cabin', 'ship_parts_stern', \\\n",
    "        'ship_sold_price']\n",
    "raw_df = pd.read_csv(f\"{relative_location}db/extracted_sold_USD.csv\", names=columns)\n",
    "raw_df_bnb = pd.read_csv(f\"{relative_location}db/extracted_sold_BNB.csv\", names=columns)\n",
    "##\n",
    "\n",
    "raw_df = raw_df.drop_duplicates(subset=['transaction_id', 'ship_id'], keep='last').reset_index()\n",
    "raw_df_bnb = raw_df_bnb.drop_duplicates(subset=['transaction_id', 'ship_id'], keep='last').reset_index()"
   ]
  },
  {
   "cell_type": "code",
   "execution_count": 5,
   "id": "2de571e0",
   "metadata": {
    "execution": {
     "iopub.execute_input": "2021-10-22T07:34:44.892603Z",
     "iopub.status.busy": "2021-10-22T07:34:44.891732Z",
     "iopub.status.idle": "2021-10-22T07:34:44.895295Z",
     "shell.execute_reply": "2021-10-22T07:34:44.895966Z"
    },
    "jupyter": {
     "source_hidden": true
    },
    "papermill": {
     "duration": 0.045033,
     "end_time": "2021-10-22T07:34:44.896181",
     "exception": false,
     "start_time": "2021-10-22T07:34:44.851148",
     "status": "completed"
    },
    "tags": []
   },
   "outputs": [],
   "source": [
    "#GET ONLY LAST 500\n",
    "raw_df = raw_df.tail(1000)\n",
    "raw_df_bnb = raw_df_bnb.tail(1000)"
   ]
  },
  {
   "cell_type": "code",
   "execution_count": 6,
   "id": "8e5eea6f",
   "metadata": {
    "execution": {
     "iopub.execute_input": "2021-10-22T07:34:44.980700Z",
     "iopub.status.busy": "2021-10-22T07:34:44.979670Z",
     "iopub.status.idle": "2021-10-22T07:34:45.000883Z",
     "shell.execute_reply": "2021-10-22T07:34:45.000184Z"
    },
    "jupyter": {
     "source_hidden": true
    },
    "papermill": {
     "duration": 0.068181,
     "end_time": "2021-10-22T07:34:45.001083",
     "exception": false,
     "start_time": "2021-10-22T07:34:44.932902",
     "status": "completed"
    },
    "tags": []
   },
   "outputs": [],
   "source": [
    "# CLEAN UP 1 AND UP TO 99 PERCENTILE\n",
    "raw_df = raw_df[(raw_df['ship_sold_price'] >= raw_df['ship_sold_price'].quantile(0.01)) & (raw_df['ship_sold_price'] <= raw_df['ship_sold_price'].quantile(0.99))]\n",
    "raw_df_bnb = raw_df_bnb[(raw_df_bnb['ship_sold_price'] >= raw_df_bnb['ship_sold_price'].quantile(0.01)) & (raw_df_bnb['ship_sold_price'] <= raw_df_bnb['ship_sold_price'].quantile(0.99))]"
   ]
  },
  {
   "cell_type": "code",
   "execution_count": 7,
   "id": "60abfc71",
   "metadata": {
    "execution": {
     "iopub.execute_input": "2021-10-22T07:34:45.075872Z",
     "iopub.status.busy": "2021-10-22T07:34:45.075227Z",
     "iopub.status.idle": "2021-10-22T07:34:45.078230Z",
     "shell.execute_reply": "2021-10-22T07:34:45.078868Z"
    },
    "jupyter": {
     "source_hidden": true
    },
    "papermill": {
     "duration": 0.045051,
     "end_time": "2021-10-22T07:34:45.079115",
     "exception": false,
     "start_time": "2021-10-22T07:34:45.034064",
     "status": "completed"
    },
    "tags": []
   },
   "outputs": [],
   "source": [
    "wo_cat_columns = ['ship_attr_space','ship_attr_speed','ship_attr_skill','ship_attr_defence','ship_attr_attack','ship_attr_morale', 'ship_sold_price']\n",
    "\n",
    "wo_cat_df = raw_df[wo_cat_columns]\n",
    "wo_cat_df_bnb = raw_df_bnb[wo_cat_columns]\n",
    "#wo_cat_df.head()\n",
    "\n",
    "wo_cat_X = wo_cat_df.drop('ship_sold_price', axis = 1)\n",
    "wo_cat_X_bnb = wo_cat_df_bnb.drop('ship_sold_price', axis = 1)\n",
    "wo_cat_y = wo_cat_df['ship_sold_price']\n",
    "wo_cat_y_bnb = wo_cat_df_bnb['ship_sold_price']"
   ]
  },
  {
   "cell_type": "code",
   "execution_count": 8,
   "id": "aaf1dc98",
   "metadata": {
    "execution": {
     "iopub.execute_input": "2021-10-22T07:34:45.174442Z",
     "iopub.status.busy": "2021-10-22T07:34:45.162664Z",
     "iopub.status.idle": "2021-10-22T07:34:45.194095Z",
     "shell.execute_reply": "2021-10-22T07:34:45.194863Z"
    },
    "jupyter": {
     "source_hidden": true
    },
    "papermill": {
     "duration": 0.079378,
     "end_time": "2021-10-22T07:34:45.195056",
     "exception": false,
     "start_time": "2021-10-22T07:34:45.115678",
     "status": "completed"
    },
    "tags": []
   },
   "outputs": [
    {
     "data": {
      "text/plain": [
       "LinearRegression()"
      ]
     },
     "execution_count": 8,
     "metadata": {},
     "output_type": "execute_result"
    }
   ],
   "source": [
    "# Training of the data\n",
    "X_train, X_test, y_train, y_test = train_test_split(wo_cat_X, wo_cat_y, test_size=0.3, random_state=42)\n",
    "reg = LinearRegression()\n",
    "reg.fit(X_train, y_train)\n",
    "\n",
    "X_train_bnb, X_test_bnb, y_train_bnb, y_test_bnb = train_test_split(wo_cat_X_bnb, wo_cat_y_bnb, test_size=0.3, random_state=42)\n",
    "reg_bnb = LinearRegression()\n",
    "reg_bnb.fit(X_train_bnb, y_train_bnb)"
   ]
  },
  {
   "cell_type": "code",
   "execution_count": 9,
   "id": "e83d4bc2",
   "metadata": {
    "execution": {
     "iopub.execute_input": "2021-10-22T07:34:45.313295Z",
     "iopub.status.busy": "2021-10-22T07:34:45.312423Z",
     "iopub.status.idle": "2021-10-22T07:34:45.317612Z",
     "shell.execute_reply": "2021-10-22T07:34:45.318428Z"
    },
    "jupyter": {
     "source_hidden": true
    },
    "papermill": {
     "duration": 0.089812,
     "end_time": "2021-10-22T07:34:45.318671",
     "exception": false,
     "start_time": "2021-10-22T07:34:45.228859",
     "status": "completed"
    },
    "tags": []
   },
   "outputs": [
    {
     "data": {
      "text/plain": [
       "0.37997409040949637"
      ]
     },
     "execution_count": 9,
     "metadata": {},
     "output_type": "execute_result"
    }
   ],
   "source": [
    "# Predict on TEST dataset\n",
    "y_pred = reg.predict(X_test)\n",
    "y_pred_bnb = reg_bnb.predict(X_test_bnb)\n",
    "reg_bnb.score(X_test_bnb, y_test_bnb)"
   ]
  },
  {
   "cell_type": "code",
   "execution_count": 10,
   "id": "34725f20",
   "metadata": {
    "execution": {
     "iopub.execute_input": "2021-10-22T07:34:45.417439Z",
     "iopub.status.busy": "2021-10-22T07:34:45.416251Z",
     "iopub.status.idle": "2021-10-22T07:34:45.419335Z",
     "shell.execute_reply": "2021-10-22T07:34:45.418338Z"
    },
    "jupyter": {
     "source_hidden": true
    },
    "papermill": {
     "duration": 0.051309,
     "end_time": "2021-10-22T07:34:45.419511",
     "exception": false,
     "start_time": "2021-10-22T07:34:45.368202",
     "status": "completed"
    },
    "tags": []
   },
   "outputs": [],
   "source": [
    "# zztest = np.array([5,13,5,6,11,5])\n",
    "# zztest = zztest.reshape(1, -1)\n",
    "\n",
    "# lasso_usd.predict(zztest)"
   ]
  },
  {
   "cell_type": "code",
   "execution_count": 11,
   "id": "f31bc0e9",
   "metadata": {
    "execution": {
     "iopub.execute_input": "2021-10-22T07:34:45.495457Z",
     "iopub.status.busy": "2021-10-22T07:34:45.494659Z",
     "iopub.status.idle": "2021-10-22T07:34:45.499560Z",
     "shell.execute_reply": "2021-10-22T07:34:45.499998Z"
    },
    "jupyter": {
     "source_hidden": true
    },
    "papermill": {
     "duration": 0.049158,
     "end_time": "2021-10-22T07:34:45.500129",
     "exception": false,
     "start_time": "2021-10-22T07:34:45.450971",
     "status": "completed"
    },
    "tags": []
   },
   "outputs": [
    {
     "data": {
      "text/plain": [
       "array([0.00871809, 0.00313299, 0.00592156, 0.00420103, 0.00870089,\n",
       "       0.00508272])"
      ]
     },
     "execution_count": 11,
     "metadata": {},
     "output_type": "execute_result"
    }
   ],
   "source": [
    "reg_bnb.fit(X_train_bnb, y_train_bnb).coef_"
   ]
  },
  {
   "cell_type": "code",
   "execution_count": 12,
   "id": "3ebcc442",
   "metadata": {
    "execution": {
     "iopub.execute_input": "2021-10-22T07:34:45.585646Z",
     "iopub.status.busy": "2021-10-22T07:34:45.584636Z",
     "iopub.status.idle": "2021-10-22T07:34:45.665743Z",
     "shell.execute_reply": "2021-10-22T07:34:45.665034Z"
    },
    "jupyter": {
     "source_hidden": true
    },
    "papermill": {
     "duration": 0.127874,
     "end_time": "2021-10-22T07:34:45.665928",
     "exception": false,
     "start_time": "2021-10-22T07:34:45.538054",
     "status": "completed"
    },
    "tags": []
   },
   "outputs": [
    {
     "data": {
      "text/plain": [
       "0.4392831691223599"
      ]
     },
     "execution_count": 12,
     "metadata": {},
     "output_type": "execute_result"
    }
   ],
   "source": [
    "# LINIAR REGRESSION\n",
    "cv_scores = cross_val_score(reg, wo_cat_X, wo_cat_y, cv=5)\n",
    "cv_scores_bnb = cross_val_score(reg_bnb, wo_cat_X_bnb, wo_cat_y_bnb, cv=5)\n",
    "\n",
    "np.mean(cv_scores)\n",
    "#np.mean(cv_scores_bnb)"
   ]
  },
  {
   "cell_type": "code",
   "execution_count": 13,
   "id": "1c791bd1",
   "metadata": {
    "execution": {
     "iopub.execute_input": "2021-10-22T07:34:45.749048Z",
     "iopub.status.busy": "2021-10-22T07:34:45.748170Z",
     "iopub.status.idle": "2021-10-22T07:34:45.753684Z",
     "shell.execute_reply": "2021-10-22T07:34:45.752945Z"
    },
    "jupyter": {
     "source_hidden": true
    },
    "papermill": {
     "duration": 0.051514,
     "end_time": "2021-10-22T07:34:45.753851",
     "exception": false,
     "start_time": "2021-10-22T07:34:45.702337",
     "status": "completed"
    },
    "tags": []
   },
   "outputs": [
    {
     "data": {
      "text/plain": [
       "21.441694538318803"
      ]
     },
     "execution_count": 13,
     "metadata": {},
     "output_type": "execute_result"
    }
   ],
   "source": [
    "np.sqrt(mean_squared_error(y_test, y_pred))"
   ]
  },
  {
   "cell_type": "code",
   "execution_count": 14,
   "id": "21cfd36d",
   "metadata": {
    "execution": {
     "iopub.execute_input": "2021-10-22T07:34:45.821155Z",
     "iopub.status.busy": "2021-10-22T07:34:45.820296Z",
     "iopub.status.idle": "2021-10-22T07:34:45.823210Z",
     "shell.execute_reply": "2021-10-22T07:34:45.823888Z"
    },
    "jupyter": {
     "source_hidden": true
    },
    "papermill": {
     "duration": 0.037657,
     "end_time": "2021-10-22T07:34:45.824122",
     "exception": false,
     "start_time": "2021-10-22T07:34:45.786465",
     "status": "completed"
    },
    "tags": []
   },
   "outputs": [],
   "source": [
    "# # USING L2 REGULARIZATION - ridge\n",
    "\n",
    "# ridge = Ridge(alpha=0.1, normalize=True)\n",
    "# ridge_coef = ridge.fit(X_train, y_train).coef_\n",
    "# ridge_pred = ridge.predict(X_test)\n",
    "# ridge.score(X_test, y_test)\n",
    "\n",
    "# cv_scores_ridge = cross_val_score(ridge, wo_cat_X, wo_cat_y, cv=5)\n",
    "# np.mean(cv_scores_ridge)\n"
   ]
  },
  {
   "cell_type": "code",
   "execution_count": 15,
   "id": "c1968d19",
   "metadata": {
    "execution": {
     "iopub.execute_input": "2021-10-22T07:34:45.911695Z",
     "iopub.status.busy": "2021-10-22T07:34:45.910879Z",
     "iopub.status.idle": "2021-10-22T07:34:45.914815Z",
     "shell.execute_reply": "2021-10-22T07:34:45.914084Z"
    },
    "jupyter": {
     "source_hidden": true
    },
    "papermill": {
     "duration": 0.04983,
     "end_time": "2021-10-22T07:34:45.914983",
     "exception": false,
     "start_time": "2021-10-22T07:34:45.865153",
     "status": "completed"
    },
    "tags": []
   },
   "outputs": [],
   "source": [
    "# np.sqrt(mean_squared_error(y_test, ridge_pred))"
   ]
  },
  {
   "cell_type": "code",
   "execution_count": 16,
   "id": "2254556e",
   "metadata": {
    "execution": {
     "iopub.execute_input": "2021-10-22T07:34:46.005991Z",
     "iopub.status.busy": "2021-10-22T07:34:46.005131Z",
     "iopub.status.idle": "2021-10-22T07:34:46.056637Z",
     "shell.execute_reply": "2021-10-22T07:34:46.055828Z"
    },
    "jupyter": {
     "source_hidden": true
    },
    "papermill": {
     "duration": 0.102052,
     "end_time": "2021-10-22T07:34:46.056832",
     "exception": false,
     "start_time": "2021-10-22T07:34:45.954780",
     "status": "completed"
    },
    "tags": []
   },
   "outputs": [
    {
     "data": {
      "text/plain": [
       "0.43951535871356723"
      ]
     },
     "execution_count": 16,
     "metadata": {},
     "output_type": "execute_result"
    }
   ],
   "source": [
    "# USING L1 regularization USD\n",
    "\n",
    "lasso_usd = Lasso(alpha=0.6)\n",
    "lasso_usd_coef = lasso_usd.fit(X_train, y_train).coef_\n",
    "lasso_pred_usd = lasso_usd.predict(X_test)\n",
    "\n",
    "lasso_usd.score(X_test, y_test)\n",
    "\n",
    "cv_scores_lasso_usd = cross_val_score(lasso_usd, wo_cat_X, wo_cat_y, cv=5)\n",
    "np.mean(cv_scores_lasso_usd)\n"
   ]
  },
  {
   "cell_type": "code",
   "execution_count": 17,
   "id": "8df76ff3",
   "metadata": {
    "execution": {
     "iopub.execute_input": "2021-10-22T07:34:46.150609Z",
     "iopub.status.busy": "2021-10-22T07:34:46.149857Z",
     "iopub.status.idle": "2021-10-22T07:34:46.154285Z",
     "shell.execute_reply": "2021-10-22T07:34:46.153749Z"
    },
    "jupyter": {
     "source_hidden": true
    },
    "papermill": {
     "duration": 0.056324,
     "end_time": "2021-10-22T07:34:46.154396",
     "exception": false,
     "start_time": "2021-10-22T07:34:46.098072",
     "status": "completed"
    },
    "tags": []
   },
   "outputs": [
    {
     "data": {
      "text/plain": [
       "array([2.20960586, 2.44328838, 1.90630118, 2.00842144, 2.81724383,\n",
       "       1.79418332])"
      ]
     },
     "execution_count": 17,
     "metadata": {},
     "output_type": "execute_result"
    }
   ],
   "source": [
    "lasso_usd_coef"
   ]
  },
  {
   "cell_type": "code",
   "execution_count": 18,
   "id": "1b607503",
   "metadata": {
    "execution": {
     "iopub.execute_input": "2021-10-22T07:34:46.235026Z",
     "iopub.status.busy": "2021-10-22T07:34:46.234399Z",
     "iopub.status.idle": "2021-10-22T07:34:46.238140Z",
     "shell.execute_reply": "2021-10-22T07:34:46.237552Z"
    },
    "jupyter": {
     "source_hidden": true
    },
    "papermill": {
     "duration": 0.048124,
     "end_time": "2021-10-22T07:34:46.238254",
     "exception": false,
     "start_time": "2021-10-22T07:34:46.190130",
     "status": "completed"
    },
    "tags": []
   },
   "outputs": [],
   "source": [
    "# USING L1 regularization BNB\n",
    "\n",
    "# lasso_bnb = Lasso(alpha=1)\n",
    "# lasso_bnb_coef = lasso_bnb.fit(X_train_bnb, y_train_bnb).coef_\n",
    "# lasso_pred_bnb = lasso_bnb.predict(X_test_bnb)\n",
    "\n",
    "# lasso_bnb.score(X_test_bnb, y_test_bnb)\n",
    "\n",
    "# cv_scores_lasso_bnb = cross_val_score(lasso_bnb, wo_cat_X_bnb, wo_cat_y_bnb, cv=5)\n",
    "# np.mean(cv_scores_lasso_bnb)"
   ]
  },
  {
   "cell_type": "code",
   "execution_count": null,
   "id": "f8a2f70a",
   "metadata": {
    "jupyter": {
     "source_hidden": true
    },
    "papermill": {
     "duration": 0.040658,
     "end_time": "2021-10-22T07:34:46.311001",
     "exception": false,
     "start_time": "2021-10-22T07:34:46.270343",
     "status": "completed"
    },
    "tags": []
   },
   "outputs": [],
   "source": []
  },
  {
   "cell_type": "code",
   "execution_count": 19,
   "id": "8eaf8561",
   "metadata": {
    "execution": {
     "iopub.execute_input": "2021-10-22T07:34:46.389261Z",
     "iopub.status.busy": "2021-10-22T07:34:46.388282Z",
     "iopub.status.idle": "2021-10-22T07:34:46.392546Z",
     "shell.execute_reply": "2021-10-22T07:34:46.391725Z"
    },
    "jupyter": {
     "source_hidden": true
    },
    "papermill": {
     "duration": 0.039544,
     "end_time": "2021-10-22T07:34:46.392745",
     "exception": false,
     "start_time": "2021-10-22T07:34:46.353201",
     "status": "completed"
    },
    "tags": []
   },
   "outputs": [],
   "source": [
    "#np.sqrt(mean_squared_error(y_test, lasso_pred_usd))"
   ]
  },
  {
   "cell_type": "code",
   "execution_count": 20,
   "id": "65bec37f",
   "metadata": {
    "execution": {
     "iopub.execute_input": "2021-10-22T07:34:46.467458Z",
     "iopub.status.busy": "2021-10-22T07:34:46.466805Z",
     "iopub.status.idle": "2021-10-22T07:34:46.469473Z",
     "shell.execute_reply": "2021-10-22T07:34:46.468900Z"
    },
    "jupyter": {
     "source_hidden": true
    },
    "papermill": {
     "duration": 0.033477,
     "end_time": "2021-10-22T07:34:46.469586",
     "exception": false,
     "start_time": "2021-10-22T07:34:46.436109",
     "status": "completed"
    },
    "tags": []
   },
   "outputs": [],
   "source": [
    "# Check the coefficient for penalization\n",
    "\n",
    "# names = wo_cat_df.drop('ship_sold_price', axis=1).columns\n",
    "# _ = plt.plot(range(len(names)), ridge_coef)\n",
    "# _ = plt.xticks(range(len(names)), names, rotation=60)\n",
    "# _ = plt.ylabel('Coefficients')\n",
    "# plt.show()"
   ]
  },
  {
   "cell_type": "code",
   "execution_count": 21,
   "id": "0f6ca63a",
   "metadata": {
    "execution": {
     "iopub.execute_input": "2021-10-22T07:34:46.540866Z",
     "iopub.status.busy": "2021-10-22T07:34:46.540143Z",
     "iopub.status.idle": "2021-10-22T07:34:46.543739Z",
     "shell.execute_reply": "2021-10-22T07:34:46.544384Z"
    },
    "jupyter": {
     "source_hidden": true
    },
    "papermill": {
     "duration": 0.047945,
     "end_time": "2021-10-22T07:34:46.544583",
     "exception": false,
     "start_time": "2021-10-22T07:34:46.496638",
     "status": "completed"
    },
    "tags": []
   },
   "outputs": [],
   "source": [
    "# SINGLE PREDICTION\n",
    "# zztest = np.array([8,8,11,8,5,8])\n",
    "# zztest = np.array([5,13,15,6,11,5])\n",
    "# zztest = zztest.reshape(1, -1)\n",
    "\n",
    "# lasso_usd.predict(zztest)\n",
    "## actual 34"
   ]
  },
  {
   "cell_type": "code",
   "execution_count": 22,
   "id": "44e6c468",
   "metadata": {
    "execution": {
     "iopub.execute_input": "2021-10-22T07:34:46.633439Z",
     "iopub.status.busy": "2021-10-22T07:34:46.632155Z",
     "iopub.status.idle": "2021-10-22T07:34:46.657154Z",
     "shell.execute_reply": "2021-10-22T07:34:46.656484Z"
    },
    "jupyter": {
     "source_hidden": true
    },
    "papermill": {
     "duration": 0.075254,
     "end_time": "2021-10-22T07:34:46.657277",
     "exception": false,
     "start_time": "2021-10-22T07:34:46.582023",
     "status": "completed"
    },
    "tags": []
   },
   "outputs": [
    {
     "data": {
      "text/html": [
       "<div>\n",
       "<style scoped>\n",
       "    .dataframe tbody tr th:only-of-type {\n",
       "        vertical-align: middle;\n",
       "    }\n",
       "\n",
       "    .dataframe tbody tr th {\n",
       "        vertical-align: top;\n",
       "    }\n",
       "\n",
       "    .dataframe thead tr th {\n",
       "        text-align: left;\n",
       "    }\n",
       "\n",
       "    .dataframe thead tr:last-of-type th {\n",
       "        text-align: right;\n",
       "    }\n",
       "</style>\n",
       "<table border=\"1\" class=\"dataframe\">\n",
       "  <thead>\n",
       "    <tr>\n",
       "      <th></th>\n",
       "      <th colspan=\"2\" halign=\"left\">ship_sold_price</th>\n",
       "    </tr>\n",
       "    <tr>\n",
       "      <th></th>\n",
       "      <th>count</th>\n",
       "      <th>mean</th>\n",
       "    </tr>\n",
       "    <tr>\n",
       "      <th>ship_id</th>\n",
       "      <th></th>\n",
       "      <th></th>\n",
       "    </tr>\n",
       "  </thead>\n",
       "  <tbody>\n",
       "    <tr>\n",
       "      <th>7463</th>\n",
       "      <td>5</td>\n",
       "      <td>0.0780</td>\n",
       "    </tr>\n",
       "    <tr>\n",
       "      <th>3086</th>\n",
       "      <td>5</td>\n",
       "      <td>0.0920</td>\n",
       "    </tr>\n",
       "    <tr>\n",
       "      <th>23008</th>\n",
       "      <td>4</td>\n",
       "      <td>0.1075</td>\n",
       "    </tr>\n",
       "    <tr>\n",
       "      <th>24982</th>\n",
       "      <td>3</td>\n",
       "      <td>0.1100</td>\n",
       "    </tr>\n",
       "    <tr>\n",
       "      <th>28052</th>\n",
       "      <td>3</td>\n",
       "      <td>0.0900</td>\n",
       "    </tr>\n",
       "    <tr>\n",
       "      <th>...</th>\n",
       "      <td>...</td>\n",
       "      <td>...</td>\n",
       "    </tr>\n",
       "    <tr>\n",
       "      <th>14176</th>\n",
       "      <td>1</td>\n",
       "      <td>0.1100</td>\n",
       "    </tr>\n",
       "    <tr>\n",
       "      <th>14206</th>\n",
       "      <td>1</td>\n",
       "      <td>0.1500</td>\n",
       "    </tr>\n",
       "    <tr>\n",
       "      <th>14210</th>\n",
       "      <td>1</td>\n",
       "      <td>0.1500</td>\n",
       "    </tr>\n",
       "    <tr>\n",
       "      <th>14242</th>\n",
       "      <td>1</td>\n",
       "      <td>0.1000</td>\n",
       "    </tr>\n",
       "    <tr>\n",
       "      <th>52578</th>\n",
       "      <td>1</td>\n",
       "      <td>0.1700</td>\n",
       "    </tr>\n",
       "  </tbody>\n",
       "</table>\n",
       "<p>791 rows × 2 columns</p>\n",
       "</div>"
      ],
      "text/plain": [
       "        ship_sold_price        \n",
       "                  count    mean\n",
       "ship_id                        \n",
       "7463                  5  0.0780\n",
       "3086                  5  0.0920\n",
       "23008                 4  0.1075\n",
       "24982                 3  0.1100\n",
       "28052                 3  0.0900\n",
       "...                 ...     ...\n",
       "14176                 1  0.1100\n",
       "14206                 1  0.1500\n",
       "14210                 1  0.1500\n",
       "14242                 1  0.1000\n",
       "52578                 1  0.1700\n",
       "\n",
       "[791 rows x 2 columns]"
      ]
     },
     "execution_count": 22,
     "metadata": {},
     "output_type": "execute_result"
    }
   ],
   "source": [
    "raw_df_bnb[['ship_id', 'ship_sold_price']].groupby(['ship_id'], as_index=False).agg(['count', 'mean']).sort_values(('ship_sold_price', 'count'), ascending=False)"
   ]
  },
  {
   "cell_type": "code",
   "execution_count": 23,
   "id": "39b62351",
   "metadata": {
    "execution": {
     "iopub.execute_input": "2021-10-22T07:34:46.736016Z",
     "iopub.status.busy": "2021-10-22T07:34:46.735163Z",
     "iopub.status.idle": "2021-10-22T07:34:46.737978Z",
     "shell.execute_reply": "2021-10-22T07:34:46.738509Z"
    },
    "jupyter": {
     "source_hidden": true
    },
    "papermill": {
     "duration": 0.04425,
     "end_time": "2021-10-22T07:34:46.738640",
     "exception": false,
     "start_time": "2021-10-22T07:34:46.694390",
     "status": "completed"
    },
    "tags": []
   },
   "outputs": [],
   "source": [
    "# times_sold = raw_df[['ship_id', 'ship_sold_price']].groupby('ship_id')['ship_sold_price'].apply(list).reset_index(name='ship_sold_price').agg({'ship_sold_price': lambda x: len(x)})\n",
    "\n",
    "# new_df = raw_df[['ship_id', 'ship_sold_price']].groupby('ship_id')['ship_sold_price'].apply(list).reset_index(name='ship_sold_price')\n",
    "# new_df['times_sold'] = times_sold\n",
    "# new_df.sort_values('times_sold', ascending=False, inplace=True)\n",
    "\n",
    "# multiple_sold = new_df[new_df['times_sold'] > 1]\n",
    "\n",
    "# multiple_sold"
   ]
  },
  {
   "cell_type": "code",
   "execution_count": 24,
   "id": "e248b923",
   "metadata": {
    "execution": {
     "iopub.execute_input": "2021-10-22T07:34:46.818056Z",
     "iopub.status.busy": "2021-10-22T07:34:46.817005Z",
     "iopub.status.idle": "2021-10-22T07:34:46.826767Z",
     "shell.execute_reply": "2021-10-22T07:34:46.825951Z"
    },
    "jupyter": {
     "source_hidden": true
    },
    "papermill": {
     "duration": 0.054995,
     "end_time": "2021-10-22T07:34:46.826954",
     "exception": false,
     "start_time": "2021-10-22T07:34:46.771959",
     "status": "completed"
    },
    "tags": []
   },
   "outputs": [],
   "source": [
    "# SAVE MODEL\n",
    "\n",
    "pickle.dump(lasso_usd, open(f\"{relative_location}db/model_USD.sav\", 'wb'))\n",
    "pickle.dump(reg_bnb, open(f\"{relative_location}db/model_BNB.sav\", 'wb'))\n",
    "\n"
   ]
  },
  {
   "cell_type": "code",
   "execution_count": null,
   "id": "ef3c8446",
   "metadata": {
    "jupyter": {
     "source_hidden": true
    },
    "papermill": {
     "duration": 0.033854,
     "end_time": "2021-10-22T07:34:46.900381",
     "exception": false,
     "start_time": "2021-10-22T07:34:46.866527",
     "status": "completed"
    },
    "tags": []
   },
   "outputs": [],
   "source": []
  }
 ],
 "metadata": {
  "interpreter": {
   "hash": "63a3210ed32c8c5e8c5daf40c6fb71e88ea33494b3eaa8a6f1212a2d7aa3f0ac"
  },
  "kernelspec": {
   "display_name": "Python 3.8.8 64-bit ('base': conda)",
   "name": "python3"
  },
  "language_info": {
   "codemirror_mode": {
    "name": "ipython",
    "version": 3
   },
   "file_extension": ".py",
   "mimetype": "text/x-python",
   "name": "python",
   "nbconvert_exporter": "python",
   "pygments_lexer": "ipython3",
   "version": "3.6.15"
  },
  "papermill": {
   "default_parameters": {},
   "duration": 6.089682,
   "end_time": "2021-10-22T07:34:47.450165",
   "environment_variables": {},
   "exception": null,
   "input_path": "/opt/airflow/Projects/cryptobay/02-transform.ipynb",
   "output_path": "/opt/airflow/Projects/cryptobay/out-build_model_nb.ipynb",
   "parameters": {
    "relative_location": "/opt/airflow/Projects/cryptobay/"
   },
   "start_time": "2021-10-22T07:34:41.360483",
   "version": "2.3.3"
  }
 },
 "nbformat": 4,
 "nbformat_minor": 5
}