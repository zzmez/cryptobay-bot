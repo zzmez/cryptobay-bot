{
 "cells": [
  {
   "cell_type": "code",
   "execution_count": 1,
   "id": "d208e23f",
   "metadata": {
    "execution": {
     "iopub.execute_input": "2021-10-14T10:27:00.114101Z",
     "iopub.status.busy": "2021-10-14T10:27:00.113537Z",
     "iopub.status.idle": "2021-10-14T10:27:00.116435Z",
     "shell.execute_reply": "2021-10-14T10:27:00.115921Z"
    },
    "jupyter": {
     "source_hidden": true
    },
    "papermill": {
     "duration": 0.041736,
     "end_time": "2021-10-14T10:27:00.116602",
     "exception": false,
     "start_time": "2021-10-14T10:27:00.074866",
     "status": "completed"
    },
    "tags": [
     "injected-parameters"
    ]
   },
   "outputs": [],
   "source": [
    "# Parameters\n",
    "relative_location = \"/opt/airflow/Projects/cryptobay/\"\n"
   ]
  },
  {
   "cell_type": "code",
   "execution_count": 2,
   "id": "4be65acf",
   "metadata": {
    "execution": {
     "iopub.execute_input": "2021-10-14T10:27:00.165999Z",
     "iopub.status.busy": "2021-10-14T10:27:00.165418Z",
     "iopub.status.idle": "2021-10-14T10:27:01.102348Z",
     "shell.execute_reply": "2021-10-14T10:27:01.102789Z"
    },
    "jupyter": {
     "source_hidden": true
    },
    "papermill": {
     "duration": 0.963268,
     "end_time": "2021-10-14T10:27:01.102942",
     "exception": false,
     "start_time": "2021-10-14T10:27:00.139674",
     "status": "completed"
    },
    "tags": []
   },
   "outputs": [],
   "source": [
    "import numpy as np\r\n",
    "import pandas as pd\r\n",
    "from sklearn.linear_model import Lasso, Ridge\r\n",
    "from sklearn.linear_model import LinearRegression\r\n",
    "from sklearn.model_selection import train_test_split, cross_val_score\r\n",
    "from sklearn.metrics import mean_squared_error\r\n",
    "# import  matplotlib.pyplot as plt\r\n",
    "import pickle"
   ]
  },
  {
   "cell_type": "code",
   "execution_count": 3,
   "id": "24646406",
   "metadata": {
    "execution": {
     "iopub.execute_input": "2021-10-14T10:27:01.150712Z",
     "iopub.status.busy": "2021-10-14T10:27:01.150155Z",
     "iopub.status.idle": "2021-10-14T10:27:01.152696Z",
     "shell.execute_reply": "2021-10-14T10:27:01.153123Z"
    },
    "jupyter": {
     "source_hidden": true
    },
    "papermill": {
     "duration": 0.028668,
     "end_time": "2021-10-14T10:27:01.153252",
     "exception": false,
     "start_time": "2021-10-14T10:27:01.124584",
     "status": "completed"
    },
    "tags": []
   },
   "outputs": [],
   "source": [
    "#USED FOR AIRFLOW\r\n",
    "try:\r\n",
    "    relative_location\r\n",
    "except NameError:\r\n",
    "    relative_location = \"\""
   ]
  },
  {
   "cell_type": "code",
   "execution_count": 4,
   "id": "6e6e1087",
   "metadata": {
    "execution": {
     "iopub.execute_input": "2021-10-14T10:27:01.214565Z",
     "iopub.status.busy": "2021-10-14T10:27:01.213991Z",
     "iopub.status.idle": "2021-10-14T10:27:01.275207Z",
     "shell.execute_reply": "2021-10-14T10:27:01.274716Z"
    },
    "jupyter": {
     "source_hidden": true
    },
    "papermill": {
     "duration": 0.100846,
     "end_time": "2021-10-14T10:27:01.275322",
     "exception": false,
     "start_time": "2021-10-14T10:27:01.174476",
     "status": "completed"
    },
    "tags": []
   },
   "outputs": [],
   "source": [
    "# RAW DF ingestion\r\n",
    "columns = ['transaction_id', 'ship_id', 'ship_class', 'ship_durability', 'ship_owner', \\\r\n",
    "        'ship_attr_space', 'ship_attr_speed', 'ship_attr_skill', 'ship_attr_defence', 'ship_attr_attack', 'ship_attr_morale', \\\r\n",
    "        'ship_parts_keel', 'ship_parts_sail', 'ship_parts_side', 'ship_parts_bow', 'ship_parts_cabin', 'ship_parts_stern', \\\r\n",
    "        'ship_sold_price']\r\n",
    "raw_df = pd.read_csv(f\"{relative_location}db/extracted_sold_USD.csv\", names=columns)\r\n",
    "raw_df_bnb = pd.read_csv(f\"{relative_location}db/extracted_sold_BNB.csv\", names=columns)\r\n",
    "##\r\n",
    "\r\n",
    "raw_df = raw_df.drop_duplicates(subset=['transaction_id', 'ship_id'], keep='last').reset_index()\r\n",
    "raw_df_bnb = raw_df_bnb.drop_duplicates(subset=['transaction_id', 'ship_id'], keep='last').reset_index()"
   ]
  },
  {
   "cell_type": "code",
   "execution_count": 5,
   "id": "dab84adc",
   "metadata": {
    "execution": {
     "iopub.execute_input": "2021-10-14T10:27:01.322355Z",
     "iopub.status.busy": "2021-10-14T10:27:01.321823Z",
     "iopub.status.idle": "2021-10-14T10:27:01.324728Z",
     "shell.execute_reply": "2021-10-14T10:27:01.324292Z"
    },
    "jupyter": {
     "source_hidden": true
    },
    "papermill": {
     "duration": 0.028226,
     "end_time": "2021-10-14T10:27:01.324884",
     "exception": false,
     "start_time": "2021-10-14T10:27:01.296658",
     "status": "completed"
    },
    "tags": []
   },
   "outputs": [],
   "source": [
    "#GET ONLY LAST 500\r\n",
    "raw_df = raw_df.tail(1000)\r\n",
    "raw_df_bnb = raw_df_bnb.tail(1000)"
   ]
  },
  {
   "cell_type": "code",
   "execution_count": 6,
   "id": "7791ff79",
   "metadata": {
    "execution": {
     "iopub.execute_input": "2021-10-14T10:27:01.376770Z",
     "iopub.status.busy": "2021-10-14T10:27:01.376030Z",
     "iopub.status.idle": "2021-10-14T10:27:01.387714Z",
     "shell.execute_reply": "2021-10-14T10:27:01.387244Z"
    },
    "jupyter": {
     "source_hidden": true
    },
    "papermill": {
     "duration": 0.041625,
     "end_time": "2021-10-14T10:27:01.387850",
     "exception": false,
     "start_time": "2021-10-14T10:27:01.346225",
     "status": "completed"
    },
    "tags": []
   },
   "outputs": [],
   "source": [
    "# CLEAN UP 1 AND UP TO 99 PERCENTILE\r\n",
    "raw_df = raw_df[(raw_df['ship_sold_price'] >= raw_df['ship_sold_price'].quantile(0.01)) & (raw_df['ship_sold_price'] <= raw_df['ship_sold_price'].quantile(0.99))]\r\n",
    "raw_df_bnb = raw_df_bnb[(raw_df_bnb['ship_sold_price'] >= raw_df_bnb['ship_sold_price'].quantile(0.01)) & (raw_df_bnb['ship_sold_price'] <= raw_df_bnb['ship_sold_price'].quantile(0.99))]"
   ]
  },
  {
   "cell_type": "code",
   "execution_count": 7,
   "id": "4d3969af",
   "metadata": {
    "execution": {
     "iopub.execute_input": "2021-10-14T10:27:01.441036Z",
     "iopub.status.busy": "2021-10-14T10:27:01.440464Z",
     "iopub.status.idle": "2021-10-14T10:27:01.443186Z",
     "shell.execute_reply": "2021-10-14T10:27:01.442671Z"
    },
    "jupyter": {
     "source_hidden": true
    },
    "papermill": {
     "duration": 0.03355,
     "end_time": "2021-10-14T10:27:01.443298",
     "exception": false,
     "start_time": "2021-10-14T10:27:01.409748",
     "status": "completed"
    },
    "tags": []
   },
   "outputs": [],
   "source": [
    "wo_cat_columns = ['ship_attr_space','ship_attr_speed','ship_attr_skill','ship_attr_defence','ship_attr_attack','ship_attr_morale', 'ship_sold_price']\r\n",
    "\r\n",
    "wo_cat_df = raw_df[wo_cat_columns]\r\n",
    "wo_cat_df_bnb = raw_df_bnb[wo_cat_columns]\r\n",
    "#wo_cat_df.head()\r\n",
    "\r\n",
    "wo_cat_X = wo_cat_df.drop('ship_sold_price', axis = 1)\r\n",
    "wo_cat_X_bnb = wo_cat_df_bnb.drop('ship_sold_price', axis = 1)\r\n",
    "wo_cat_y = wo_cat_df['ship_sold_price']\r\n",
    "wo_cat_y_bnb = wo_cat_df_bnb['ship_sold_price']"
   ]
  },
  {
   "cell_type": "code",
   "execution_count": 8,
   "id": "d7b6f3fb",
   "metadata": {
    "execution": {
     "iopub.execute_input": "2021-10-14T10:27:01.509530Z",
     "iopub.status.busy": "2021-10-14T10:27:01.508971Z",
     "iopub.status.idle": "2021-10-14T10:27:01.517801Z",
     "shell.execute_reply": "2021-10-14T10:27:01.518286Z"
    },
    "jupyter": {
     "source_hidden": true
    },
    "papermill": {
     "duration": 0.053517,
     "end_time": "2021-10-14T10:27:01.518433",
     "exception": false,
     "start_time": "2021-10-14T10:27:01.464916",
     "status": "completed"
    },
    "tags": []
   },
   "outputs": [
    {
     "data": {
      "text/plain": [
       "LinearRegression()"
      ]
     },
     "execution_count": 8,
     "metadata": {},
     "output_type": "execute_result"
    }
   ],
   "source": [
    "# Training of the data\r\n",
    "X_train, X_test, y_train, y_test = train_test_split(wo_cat_X, wo_cat_y, test_size=0.3, random_state=42)\r\n",
    "reg = LinearRegression()\r\n",
    "reg.fit(X_train, y_train)\r\n",
    "\r\n",
    "X_train_bnb, X_test_bnb, y_train_bnb, y_test_bnb = train_test_split(wo_cat_X_bnb, wo_cat_y_bnb, test_size=0.3, random_state=42)\r\n",
    "reg_bnb = LinearRegression()\r\n",
    "reg_bnb.fit(X_train_bnb, y_train_bnb)"
   ]
  },
  {
   "cell_type": "code",
   "execution_count": 9,
   "id": "8ce5214e",
   "metadata": {
    "execution": {
     "iopub.execute_input": "2021-10-14T10:27:01.572955Z",
     "iopub.status.busy": "2021-10-14T10:27:01.572414Z",
     "iopub.status.idle": "2021-10-14T10:27:01.576287Z",
     "shell.execute_reply": "2021-10-14T10:27:01.575849Z"
    },
    "jupyter": {
     "source_hidden": true
    },
    "papermill": {
     "duration": 0.035374,
     "end_time": "2021-10-14T10:27:01.576413",
     "exception": false,
     "start_time": "2021-10-14T10:27:01.541039",
     "status": "completed"
    },
    "tags": []
   },
   "outputs": [
    {
     "data": {
      "text/plain": [
       "0.3847755238313153"
      ]
     },
     "execution_count": 9,
     "metadata": {},
     "output_type": "execute_result"
    }
   ],
   "source": [
    "# Predict on TEST dataset\r\n",
    "y_pred = reg.predict(X_test)\r\n",
    "y_pred_bnb = reg_bnb.predict(X_test_bnb)\r\n",
    "reg_bnb.score(X_test_bnb, y_test_bnb)"
   ]
  },
  {
   "cell_type": "code",
   "execution_count": 10,
   "id": "e1e29fbf",
   "metadata": {
    "execution": {
     "iopub.execute_input": "2021-10-14T10:27:01.625015Z",
     "iopub.status.busy": "2021-10-14T10:27:01.624499Z",
     "iopub.status.idle": "2021-10-14T10:27:01.626910Z",
     "shell.execute_reply": "2021-10-14T10:27:01.627346Z"
    },
    "jupyter": {
     "source_hidden": true
    },
    "papermill": {
     "duration": 0.028148,
     "end_time": "2021-10-14T10:27:01.627470",
     "exception": false,
     "start_time": "2021-10-14T10:27:01.599322",
     "status": "completed"
    },
    "tags": []
   },
   "outputs": [],
   "source": [
    "# zztest = np.array([5,13,5,6,11,5])\r\n",
    "# zztest = zztest.reshape(1, -1)\r\n",
    "\r\n",
    "# lasso_usd.predict(zztest)"
   ]
  },
  {
   "cell_type": "code",
   "execution_count": 11,
   "id": "824773b1",
   "metadata": {
    "execution": {
     "iopub.execute_input": "2021-10-14T10:27:01.680029Z",
     "iopub.status.busy": "2021-10-14T10:27:01.679507Z",
     "iopub.status.idle": "2021-10-14T10:27:01.683482Z",
     "shell.execute_reply": "2021-10-14T10:27:01.683020Z"
    },
    "jupyter": {
     "source_hidden": true
    },
    "papermill": {
     "duration": 0.033276,
     "end_time": "2021-10-14T10:27:01.683593",
     "exception": false,
     "start_time": "2021-10-14T10:27:01.650317",
     "status": "completed"
    },
    "tags": []
   },
   "outputs": [
    {
     "data": {
      "text/plain": [
       "array([0.00633994, 0.0024577 , 0.00516897, 0.00355753, 0.00661595,\n",
       "       0.00364564])"
      ]
     },
     "execution_count": 11,
     "metadata": {},
     "output_type": "execute_result"
    }
   ],
   "source": [
    "reg_bnb.fit(X_train_bnb, y_train_bnb).coef_"
   ]
  },
  {
   "cell_type": "code",
   "execution_count": 12,
   "id": "e8557604",
   "metadata": {
    "execution": {
     "iopub.execute_input": "2021-10-14T10:27:01.741813Z",
     "iopub.status.busy": "2021-10-14T10:27:01.739787Z",
     "iopub.status.idle": "2021-10-14T10:27:01.788288Z",
     "shell.execute_reply": "2021-10-14T10:27:01.788712Z"
    },
    "jupyter": {
     "source_hidden": true
    },
    "papermill": {
     "duration": 0.082023,
     "end_time": "2021-10-14T10:27:01.788844",
     "exception": false,
     "start_time": "2021-10-14T10:27:01.706821",
     "status": "completed"
    },
    "tags": []
   },
   "outputs": [
    {
     "data": {
      "text/plain": [
       "0.4392831691223599"
      ]
     },
     "execution_count": 12,
     "metadata": {},
     "output_type": "execute_result"
    }
   ],
   "source": [
    "# LINIAR REGRESSION\r\n",
    "cv_scores = cross_val_score(reg, wo_cat_X, wo_cat_y, cv=5)\r\n",
    "cv_scores_bnb = cross_val_score(reg_bnb, wo_cat_X_bnb, wo_cat_y_bnb, cv=5)\r\n",
    "\r\n",
    "np.mean(cv_scores)\r\n",
    "#np.mean(cv_scores_bnb)"
   ]
  },
  {
   "cell_type": "code",
   "execution_count": 13,
   "id": "9f2b345e",
   "metadata": {
    "execution": {
     "iopub.execute_input": "2021-10-14T10:27:01.842814Z",
     "iopub.status.busy": "2021-10-14T10:27:01.842045Z",
     "iopub.status.idle": "2021-10-14T10:27:01.846995Z",
     "shell.execute_reply": "2021-10-14T10:27:01.846478Z"
    },
    "jupyter": {
     "source_hidden": true
    },
    "papermill": {
     "duration": 0.035338,
     "end_time": "2021-10-14T10:27:01.847114",
     "exception": false,
     "start_time": "2021-10-14T10:27:01.811776",
     "status": "completed"
    },
    "tags": []
   },
   "outputs": [
    {
     "data": {
      "text/plain": [
       "21.441694538318803"
      ]
     },
     "execution_count": 13,
     "metadata": {},
     "output_type": "execute_result"
    }
   ],
   "source": [
    "np.sqrt(mean_squared_error(y_test, y_pred))"
   ]
  },
  {
   "cell_type": "code",
   "execution_count": 14,
   "id": "ef35d45e",
   "metadata": {
    "execution": {
     "iopub.execute_input": "2021-10-14T10:27:01.903984Z",
     "iopub.status.busy": "2021-10-14T10:27:01.903471Z",
     "iopub.status.idle": "2021-10-14T10:27:01.905963Z",
     "shell.execute_reply": "2021-10-14T10:27:01.906405Z"
    },
    "jupyter": {
     "source_hidden": true
    },
    "papermill": {
     "duration": 0.031496,
     "end_time": "2021-10-14T10:27:01.906548",
     "exception": false,
     "start_time": "2021-10-14T10:27:01.875052",
     "status": "completed"
    },
    "tags": []
   },
   "outputs": [],
   "source": [
    "# # USING L2 REGULARIZATION - ridge\r\n",
    "\r\n",
    "# ridge = Ridge(alpha=0.1, normalize=True)\r\n",
    "# ridge_coef = ridge.fit(X_train, y_train).coef_\r\n",
    "# ridge_pred = ridge.predict(X_test)\r\n",
    "# ridge.score(X_test, y_test)\r\n",
    "\r\n",
    "# cv_scores_ridge = cross_val_score(ridge, wo_cat_X, wo_cat_y, cv=5)\r\n",
    "# np.mean(cv_scores_ridge)\r\n"
   ]
  },
  {
   "cell_type": "code",
   "execution_count": 15,
   "id": "17a2af60",
   "metadata": {
    "execution": {
     "iopub.execute_input": "2021-10-14T10:27:01.957896Z",
     "iopub.status.busy": "2021-10-14T10:27:01.957381Z",
     "iopub.status.idle": "2021-10-14T10:27:01.960387Z",
     "shell.execute_reply": "2021-10-14T10:27:01.959925Z"
    },
    "jupyter": {
     "source_hidden": true
    },
    "papermill": {
     "duration": 0.030157,
     "end_time": "2021-10-14T10:27:01.960498",
     "exception": false,
     "start_time": "2021-10-14T10:27:01.930341",
     "status": "completed"
    },
    "tags": []
   },
   "outputs": [],
   "source": [
    "# np.sqrt(mean_squared_error(y_test, ridge_pred))"
   ]
  },
  {
   "cell_type": "code",
   "execution_count": 16,
   "id": "9df24725",
   "metadata": {
    "execution": {
     "iopub.execute_input": "2021-10-14T10:27:02.016354Z",
     "iopub.status.busy": "2021-10-14T10:27:02.015801Z",
     "iopub.status.idle": "2021-10-14T10:27:02.047051Z",
     "shell.execute_reply": "2021-10-14T10:27:02.047488Z"
    },
    "jupyter": {
     "source_hidden": true
    },
    "papermill": {
     "duration": 0.063318,
     "end_time": "2021-10-14T10:27:02.047618",
     "exception": false,
     "start_time": "2021-10-14T10:27:01.984300",
     "status": "completed"
    },
    "tags": []
   },
   "outputs": [
    {
     "data": {
      "text/plain": [
       "0.43951535871356723"
      ]
     },
     "execution_count": 16,
     "metadata": {},
     "output_type": "execute_result"
    }
   ],
   "source": [
    "# USING L1 regularization USD\r\n",
    "\r\n",
    "lasso_usd = Lasso(alpha=0.6)\r\n",
    "lasso_usd_coef = lasso_usd.fit(X_train, y_train).coef_\r\n",
    "lasso_pred_usd = lasso_usd.predict(X_test)\r\n",
    "\r\n",
    "lasso_usd.score(X_test, y_test)\r\n",
    "\r\n",
    "cv_scores_lasso_usd = cross_val_score(lasso_usd, wo_cat_X, wo_cat_y, cv=5)\r\n",
    "np.mean(cv_scores_lasso_usd)\r\n"
   ]
  },
  {
   "cell_type": "code",
   "execution_count": 17,
   "id": "1c0a57e0",
   "metadata": {
    "execution": {
     "iopub.execute_input": "2021-10-14T10:27:02.100249Z",
     "iopub.status.busy": "2021-10-14T10:27:02.099717Z",
     "iopub.status.idle": "2021-10-14T10:27:02.103231Z",
     "shell.execute_reply": "2021-10-14T10:27:02.103669Z"
    },
    "jupyter": {
     "source_hidden": true
    },
    "papermill": {
     "duration": 0.031882,
     "end_time": "2021-10-14T10:27:02.103792",
     "exception": false,
     "start_time": "2021-10-14T10:27:02.071910",
     "status": "completed"
    },
    "tags": []
   },
   "outputs": [
    {
     "data": {
      "text/plain": [
       "array([2.20960586, 2.44328838, 1.90630118, 2.00842144, 2.81724383,\n",
       "       1.79418332])"
      ]
     },
     "execution_count": 17,
     "metadata": {},
     "output_type": "execute_result"
    }
   ],
   "source": [
    "lasso_usd_coef"
   ]
  },
  {
   "cell_type": "code",
   "execution_count": 18,
   "id": "294feb21",
   "metadata": {
    "execution": {
     "iopub.execute_input": "2021-10-14T10:27:02.156408Z",
     "iopub.status.busy": "2021-10-14T10:27:02.155868Z",
     "iopub.status.idle": "2021-10-14T10:27:02.158232Z",
     "shell.execute_reply": "2021-10-14T10:27:02.158707Z"
    },
    "jupyter": {
     "source_hidden": true
    },
    "papermill": {
     "duration": 0.030372,
     "end_time": "2021-10-14T10:27:02.158827",
     "exception": false,
     "start_time": "2021-10-14T10:27:02.128455",
     "status": "completed"
    },
    "tags": []
   },
   "outputs": [],
   "source": [
    "# USING L1 regularization BNB\r\n",
    "\r\n",
    "# lasso_bnb = Lasso(alpha=1)\r\n",
    "# lasso_bnb_coef = lasso_bnb.fit(X_train_bnb, y_train_bnb).coef_\r\n",
    "# lasso_pred_bnb = lasso_bnb.predict(X_test_bnb)\r\n",
    "\r\n",
    "# lasso_bnb.score(X_test_bnb, y_test_bnb)\r\n",
    "\r\n",
    "# cv_scores_lasso_bnb = cross_val_score(lasso_bnb, wo_cat_X_bnb, wo_cat_y_bnb, cv=5)\r\n",
    "# np.mean(cv_scores_lasso_bnb)"
   ]
  },
  {
   "cell_type": "code",
   "execution_count": null,
   "id": "78a3f824",
   "metadata": {
    "jupyter": {
     "source_hidden": true
    },
    "papermill": {
     "duration": 0.025056,
     "end_time": "2021-10-14T10:27:02.208975",
     "exception": false,
     "start_time": "2021-10-14T10:27:02.183919",
     "status": "completed"
    },
    "tags": []
   },
   "outputs": [],
   "source": []
  },
  {
   "cell_type": "code",
   "execution_count": 19,
   "id": "8d591072",
   "metadata": {
    "execution": {
     "iopub.execute_input": "2021-10-14T10:27:02.262547Z",
     "iopub.status.busy": "2021-10-14T10:27:02.262020Z",
     "iopub.status.idle": "2021-10-14T10:27:02.265041Z",
     "shell.execute_reply": "2021-10-14T10:27:02.264516Z"
    },
    "jupyter": {
     "source_hidden": true
    },
    "papermill": {
     "duration": 0.031378,
     "end_time": "2021-10-14T10:27:02.265149",
     "exception": false,
     "start_time": "2021-10-14T10:27:02.233771",
     "status": "completed"
    },
    "tags": []
   },
   "outputs": [],
   "source": [
    "#np.sqrt(mean_squared_error(y_test, lasso_pred_usd))"
   ]
  },
  {
   "cell_type": "code",
   "execution_count": 20,
   "id": "379cb166",
   "metadata": {
    "execution": {
     "iopub.execute_input": "2021-10-14T10:27:02.319551Z",
     "iopub.status.busy": "2021-10-14T10:27:02.318964Z",
     "iopub.status.idle": "2021-10-14T10:27:02.321459Z",
     "shell.execute_reply": "2021-10-14T10:27:02.321856Z"
    },
    "jupyter": {
     "source_hidden": true
    },
    "papermill": {
     "duration": 0.030764,
     "end_time": "2021-10-14T10:27:02.322001",
     "exception": false,
     "start_time": "2021-10-14T10:27:02.291237",
     "status": "completed"
    },
    "tags": []
   },
   "outputs": [],
   "source": [
    "# Check the coefficient for penalization\r\n",
    "\r\n",
    "# names = wo_cat_df.drop('ship_sold_price', axis=1).columns\r\n",
    "# _ = plt.plot(range(len(names)), ridge_coef)\r\n",
    "# _ = plt.xticks(range(len(names)), names, rotation=60)\r\n",
    "# _ = plt.ylabel('Coefficients')\r\n",
    "# plt.show()"
   ]
  },
  {
   "cell_type": "code",
   "execution_count": 21,
   "id": "238b79a1",
   "metadata": {
    "execution": {
     "iopub.execute_input": "2021-10-14T10:27:02.377002Z",
     "iopub.status.busy": "2021-10-14T10:27:02.376487Z",
     "iopub.status.idle": "2021-10-14T10:27:02.379026Z",
     "shell.execute_reply": "2021-10-14T10:27:02.379466Z"
    },
    "jupyter": {
     "source_hidden": true
    },
    "papermill": {
     "duration": 0.032572,
     "end_time": "2021-10-14T10:27:02.379592",
     "exception": false,
     "start_time": "2021-10-14T10:27:02.347020",
     "status": "completed"
    },
    "tags": []
   },
   "outputs": [],
   "source": [
    "# SINGLE PREDICTION\r\n",
    "# zztest = np.array([8,8,11,8,5,8])\r\n",
    "# zztest = np.array([5,13,15,6,11,5])\r\n",
    "# zztest = zztest.reshape(1, -1)\r\n",
    "\r\n",
    "# lasso_usd.predict(zztest)\r\n",
    "## actual 34"
   ]
  },
  {
   "cell_type": "code",
   "execution_count": 22,
   "id": "2e7ec459",
   "metadata": {
    "execution": {
     "iopub.execute_input": "2021-10-14T10:27:02.438734Z",
     "iopub.status.busy": "2021-10-14T10:27:02.438189Z",
     "iopub.status.idle": "2021-10-14T10:27:02.456174Z",
     "shell.execute_reply": "2021-10-14T10:27:02.456618Z"
    },
    "jupyter": {
     "source_hidden": true
    },
    "papermill": {
     "duration": 0.051371,
     "end_time": "2021-10-14T10:27:02.456748",
     "exception": false,
     "start_time": "2021-10-14T10:27:02.405377",
     "status": "completed"
    },
    "tags": []
   },
   "outputs": [
    {
     "data": {
      "text/html": [
       "<div>\n",
       "<style scoped>\n",
       "    .dataframe tbody tr th:only-of-type {\n",
       "        vertical-align: middle;\n",
       "    }\n",
       "\n",
       "    .dataframe tbody tr th {\n",
       "        vertical-align: top;\n",
       "    }\n",
       "\n",
       "    .dataframe thead tr th {\n",
       "        text-align: left;\n",
       "    }\n",
       "\n",
       "    .dataframe thead tr:last-of-type th {\n",
       "        text-align: right;\n",
       "    }\n",
       "</style>\n",
       "<table border=\"1\" class=\"dataframe\">\n",
       "  <thead>\n",
       "    <tr>\n",
       "      <th></th>\n",
       "      <th colspan=\"2\" halign=\"left\">ship_sold_price</th>\n",
       "    </tr>\n",
       "    <tr>\n",
       "      <th></th>\n",
       "      <th>count</th>\n",
       "      <th>mean</th>\n",
       "    </tr>\n",
       "    <tr>\n",
       "      <th>ship_id</th>\n",
       "      <th></th>\n",
       "      <th></th>\n",
       "    </tr>\n",
       "  </thead>\n",
       "  <tbody>\n",
       "    <tr>\n",
       "      <th>7463</th>\n",
       "      <td>7</td>\n",
       "      <td>0.104286</td>\n",
       "    </tr>\n",
       "    <tr>\n",
       "      <th>3086</th>\n",
       "      <td>5</td>\n",
       "      <td>0.092000</td>\n",
       "    </tr>\n",
       "    <tr>\n",
       "      <th>8132</th>\n",
       "      <td>5</td>\n",
       "      <td>0.098000</td>\n",
       "    </tr>\n",
       "    <tr>\n",
       "      <th>3484</th>\n",
       "      <td>3</td>\n",
       "      <td>0.070000</td>\n",
       "    </tr>\n",
       "    <tr>\n",
       "      <th>11871</th>\n",
       "      <td>3</td>\n",
       "      <td>0.110000</td>\n",
       "    </tr>\n",
       "    <tr>\n",
       "      <th>...</th>\n",
       "      <td>...</td>\n",
       "      <td>...</td>\n",
       "    </tr>\n",
       "    <tr>\n",
       "      <th>12261</th>\n",
       "      <td>1</td>\n",
       "      <td>0.180000</td>\n",
       "    </tr>\n",
       "    <tr>\n",
       "      <th>12268</th>\n",
       "      <td>1</td>\n",
       "      <td>0.080000</td>\n",
       "    </tr>\n",
       "    <tr>\n",
       "      <th>12319</th>\n",
       "      <td>1</td>\n",
       "      <td>0.150000</td>\n",
       "    </tr>\n",
       "    <tr>\n",
       "      <th>12347</th>\n",
       "      <td>1</td>\n",
       "      <td>0.100000</td>\n",
       "    </tr>\n",
       "    <tr>\n",
       "      <th>52513</th>\n",
       "      <td>1</td>\n",
       "      <td>0.110000</td>\n",
       "    </tr>\n",
       "  </tbody>\n",
       "</table>\n",
       "<p>814 rows × 2 columns</p>\n",
       "</div>"
      ],
      "text/plain": [
       "        ship_sold_price          \n",
       "                  count      mean\n",
       "ship_id                          \n",
       "7463                  7  0.104286\n",
       "3086                  5  0.092000\n",
       "8132                  5  0.098000\n",
       "3484                  3  0.070000\n",
       "11871                 3  0.110000\n",
       "...                 ...       ...\n",
       "12261                 1  0.180000\n",
       "12268                 1  0.080000\n",
       "12319                 1  0.150000\n",
       "12347                 1  0.100000\n",
       "52513                 1  0.110000\n",
       "\n",
       "[814 rows x 2 columns]"
      ]
     },
     "execution_count": 22,
     "metadata": {},
     "output_type": "execute_result"
    }
   ],
   "source": [
    "raw_df_bnb[['ship_id', 'ship_sold_price']].groupby(['ship_id'], as_index=False).agg(['count', 'mean']).sort_values(('ship_sold_price', 'count'), ascending=False)"
   ]
  },
  {
   "cell_type": "code",
   "execution_count": 23,
   "id": "f6b5a80b",
   "metadata": {
    "execution": {
     "iopub.execute_input": "2021-10-14T10:27:02.512991Z",
     "iopub.status.busy": "2021-10-14T10:27:02.512462Z",
     "iopub.status.idle": "2021-10-14T10:27:02.515474Z",
     "shell.execute_reply": "2021-10-14T10:27:02.515007Z"
    },
    "jupyter": {
     "source_hidden": true
    },
    "papermill": {
     "duration": 0.032944,
     "end_time": "2021-10-14T10:27:02.515586",
     "exception": false,
     "start_time": "2021-10-14T10:27:02.482642",
     "status": "completed"
    },
    "tags": []
   },
   "outputs": [],
   "source": [
    "# times_sold = raw_df[['ship_id', 'ship_sold_price']].groupby('ship_id')['ship_sold_price'].apply(list).reset_index(name='ship_sold_price').agg({'ship_sold_price': lambda x: len(x)})\r\n",
    "\r\n",
    "# new_df = raw_df[['ship_id', 'ship_sold_price']].groupby('ship_id')['ship_sold_price'].apply(list).reset_index(name='ship_sold_price')\r\n",
    "# new_df['times_sold'] = times_sold\r\n",
    "# new_df.sort_values('times_sold', ascending=False, inplace=True)\r\n",
    "\r\n",
    "# multiple_sold = new_df[new_df['times_sold'] > 1]\r\n",
    "\r\n",
    "# multiple_sold"
   ]
  },
  {
   "cell_type": "code",
   "execution_count": 24,
   "id": "1497aaa9",
   "metadata": {
    "execution": {
     "iopub.execute_input": "2021-10-14T10:27:02.572012Z",
     "iopub.status.busy": "2021-10-14T10:27:02.571472Z",
     "iopub.status.idle": "2021-10-14T10:27:02.578254Z",
     "shell.execute_reply": "2021-10-14T10:27:02.578681Z"
    },
    "jupyter": {
     "source_hidden": true
    },
    "papermill": {
     "duration": 0.037333,
     "end_time": "2021-10-14T10:27:02.578810",
     "exception": false,
     "start_time": "2021-10-14T10:27:02.541477",
     "status": "completed"
    },
    "tags": []
   },
   "outputs": [],
   "source": [
    "# SAVE MODEL\r\n",
    "\r\n",
    "pickle.dump(lasso_usd, open(f\"{relative_location}db/model_USD.sav\", 'wb'))\r\n",
    "pickle.dump(reg_bnb, open(f\"{relative_location}db/model_BNB.sav\", 'wb'))\r\n",
    "\r\n"
   ]
  },
  {
   "cell_type": "code",
   "execution_count": null,
   "id": "76b16bb7",
   "metadata": {
    "jupyter": {
     "source_hidden": true
    },
    "papermill": {
     "duration": 0.025811,
     "end_time": "2021-10-14T10:27:02.630698",
     "exception": false,
     "start_time": "2021-10-14T10:27:02.604887",
     "status": "completed"
    },
    "tags": []
   },
   "outputs": [],
   "source": []
  }
 ],
 "metadata": {
  "interpreter": {
   "hash": "63a3210ed32c8c5e8c5daf40c6fb71e88ea33494b3eaa8a6f1212a2d7aa3f0ac"
  },
  "kernelspec": {
   "display_name": "Python 3.8.8 64-bit ('base': conda)",
   "name": "python3"
  },
  "language_info": {
   "codemirror_mode": {
    "name": "ipython",
    "version": 3
   },
   "file_extension": ".py",
   "mimetype": "text/x-python",
   "name": "python",
   "nbconvert_exporter": "python",
   "pygments_lexer": "ipython3",
   "version": "3.6.15"
  },
  "papermill": {
   "default_parameters": {},
   "duration": 4.039024,
   "end_time": "2021-10-14T10:27:02.962750",
   "environment_variables": {},
   "exception": null,
   "input_path": "/opt/airflow/Projects/cryptobay/02-transform.ipynb",
   "output_path": "/opt/airflow/Projects/cryptobay/out-build_model_nb.ipynb",
   "parameters": {
    "relative_location": "/opt/airflow/Projects/cryptobay/"
   },
   "start_time": "2021-10-14T10:26:58.923726",
   "version": "2.3.3"
  }
 },
 "nbformat": 4,
 "nbformat_minor": 5
}