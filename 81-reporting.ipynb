{
 "cells": [
  {
   "cell_type": "code",
   "execution_count": 1,
   "metadata": {},
   "outputs": [],
   "source": [
    "import matplotlib.pyplot as plt\n",
    "import seaborn as sns\n",
    "import pandas as pd\n",
    "import numpy as np\n",
    "from include.remote_calls import get_binance_price_coingecko"
   ]
  },
  {
   "cell_type": "code",
   "execution_count": 2,
   "metadata": {},
   "outputs": [],
   "source": [
    "def intersection(resell_list, sell_list):\n",
    "    \"\"\"\n",
    "    All elements found in resell and not found in sell, thus, active sales.\n",
    "    \"\"\"\n",
    "    lst3 = [value for value in resell_list if value not in sell_list]\n",
    "    return lst3"
   ]
  },
  {
   "cell_type": "code",
   "execution_count": 3,
   "metadata": {},
   "outputs": [],
   "source": [
    "raw_df = pd.read_csv(\"db/transactions/transactions_hist.csv\", parse_dates=['date'])"
   ]
  },
  {
   "cell_type": "code",
   "execution_count": 4,
   "metadata": {},
   "outputs": [],
   "source": [
    "# Check active sales\n",
    "trx_resell_df = raw_df[raw_df['tr_type'] == 'resell']\n",
    "trx_resell = trx_resell_df['ship_id'].unique()\n",
    "\n",
    "trx_sell_df = raw_df[raw_df['tr_type'] == 'sell']\n",
    "trx_sell = trx_sell_df['ship_id'].unique()\n",
    "\n",
    "trx_active = intersection(trx_resell, trx_sell)\n"
   ]
  },
  {
   "cell_type": "code",
   "execution_count": 5,
   "metadata": {},
   "outputs": [
    {
     "data": {
      "text/plain": [
       "34.67"
      ]
     },
     "execution_count": 5,
     "metadata": {},
     "output_type": "execute_result"
    }
   ],
   "source": [
    "# Total profit\n",
    "hist_df = raw_df[~raw_df['ship_id'].isin(trx_active)]\n",
    "buy_df = hist_df[hist_df['tr_type'] == 'buy']\n",
    "sell_df = hist_df[hist_df['tr_type'] == 'sell']\n",
    "bnb_price = get_binance_price_coingecko()\n",
    "\n",
    "round((sell_df['price'].sum() - buy_df['price'].sum()) * bnb_price,2)"
   ]
  },
  {
   "cell_type": "code",
   "execution_count": 6,
   "metadata": {},
   "outputs": [
    {
     "data": {
      "text/plain": [
       "Timedelta('51 days 00:00:00')"
      ]
     },
     "execution_count": 6,
     "metadata": {},
     "output_type": "execute_result"
    }
   ],
   "source": [
    "# Period of time\n",
    "hist_df['date'].max() - hist_df['date'].min()"
   ]
  },
  {
   "cell_type": "code",
   "execution_count": 47,
   "metadata": {},
   "outputs": [
    {
     "data": {
      "text/html": [
       "<div>\n",
       "<style scoped>\n",
       "    .dataframe tbody tr th:only-of-type {\n",
       "        vertical-align: middle;\n",
       "    }\n",
       "\n",
       "    .dataframe tbody tr th {\n",
       "        vertical-align: top;\n",
       "    }\n",
       "\n",
       "    .dataframe thead th {\n",
       "        text-align: right;\n",
       "    }\n",
       "</style>\n",
       "<table border=\"1\" class=\"dataframe\">\n",
       "  <thead>\n",
       "    <tr style=\"text-align: right;\">\n",
       "      <th></th>\n",
       "      <th>ship_id</th>\n",
       "      <th>space</th>\n",
       "      <th>speed</th>\n",
       "      <th>skill</th>\n",
       "      <th>defence</th>\n",
       "      <th>attack</th>\n",
       "      <th>morale</th>\n",
       "      <th>total</th>\n",
       "      <th>price</th>\n",
       "    </tr>\n",
       "  </thead>\n",
       "  <tbody>\n",
       "    <tr>\n",
       "      <th>0</th>\n",
       "      <td>9052</td>\n",
       "      <td>5</td>\n",
       "      <td>15</td>\n",
       "      <td>9</td>\n",
       "      <td>9</td>\n",
       "      <td>13</td>\n",
       "      <td>5</td>\n",
       "      <td>56</td>\n",
       "      <td>0.059</td>\n",
       "    </tr>\n",
       "    <tr>\n",
       "      <th>1</th>\n",
       "      <td>20971</td>\n",
       "      <td>5</td>\n",
       "      <td>5</td>\n",
       "      <td>12</td>\n",
       "      <td>15</td>\n",
       "      <td>14</td>\n",
       "      <td>6</td>\n",
       "      <td>57</td>\n",
       "      <td>0.081</td>\n",
       "    </tr>\n",
       "    <tr>\n",
       "      <th>2</th>\n",
       "      <td>14165</td>\n",
       "      <td>5</td>\n",
       "      <td>15</td>\n",
       "      <td>5</td>\n",
       "      <td>9</td>\n",
       "      <td>14</td>\n",
       "      <td>11</td>\n",
       "      <td>59</td>\n",
       "      <td>0.086</td>\n",
       "    </tr>\n",
       "    <tr>\n",
       "      <th>3</th>\n",
       "      <td>18426</td>\n",
       "      <td>7</td>\n",
       "      <td>12</td>\n",
       "      <td>14</td>\n",
       "      <td>12</td>\n",
       "      <td>11</td>\n",
       "      <td>13</td>\n",
       "      <td>69</td>\n",
       "      <td>0.111</td>\n",
       "    </tr>\n",
       "  </tbody>\n",
       "</table>\n",
       "</div>"
      ],
      "text/plain": [
       "   ship_id  space  speed  skill  defence  attack  morale  total  price\n",
       "0     9052      5     15      9        9      13       5     56  0.059\n",
       "1    20971      5      5     12       15      14       6     57  0.081\n",
       "2    14165      5     15      5        9      14      11     59  0.086\n",
       "3    18426      7     12     14       12      11      13     69  0.111"
      ]
     },
     "execution_count": 47,
     "metadata": {},
     "output_type": "execute_result"
    }
   ],
   "source": [
    "# Active sales\n",
    "sold_ships_df = pd.read_csv(\"db/extracted_sold_BNB.csv\", header=None)\n",
    "sold_ships_df.drop_duplicates(subset=[1], keep='last', inplace=True)\n",
    "\n",
    "ships_active_df = sold_ships_df[sold_ships_df[1].isin(trx_active)][[1,5,6,7,8,9,10]]\n",
    "ships_active_df.reset_index(drop=True, inplace=True)\n",
    "columns = ['ship_id','space', 'speed', 'skill', 'defence', 'attack', 'morale']\n",
    "ships_active_df.columns=columns\n",
    "ships_active_df['total'] = ships_active_df.drop('ship_id',axis=1).sum(axis=1)\n",
    "tr_hist_resale_df = raw_df[raw_df['tr_type'] == 'resell']\\\n",
    "    .drop_duplicates(subset=['ship_id'], keep='last')[['ship_id','price']]\n",
    "ships_active_df.merge(tr_hist_resale_df, on='ship_id')"
   ]
  }
 ],
 "metadata": {
  "interpreter": {
   "hash": "63a3210ed32c8c5e8c5daf40c6fb71e88ea33494b3eaa8a6f1212a2d7aa3f0ac"
  },
  "kernelspec": {
   "display_name": "Python 3.8.8 64-bit ('base': conda)",
   "name": "python3"
  },
  "language_info": {
   "codemirror_mode": {
    "name": "ipython",
    "version": 3
   },
   "file_extension": ".py",
   "mimetype": "text/x-python",
   "name": "python",
   "nbconvert_exporter": "python",
   "pygments_lexer": "ipython3",
   "version": "3.8.8"
  },
  "orig_nbformat": 4
 },
 "nbformat": 4,
 "nbformat_minor": 2
}
