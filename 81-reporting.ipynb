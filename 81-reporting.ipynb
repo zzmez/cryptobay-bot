{
 "cells": [
  {
   "cell_type": "code",
   "execution_count": 1,
   "metadata": {},
   "outputs": [],
   "source": [
    "import matplotlib.pyplot as plt\n",
    "import seaborn as sns\n",
    "import pandas as pd\n",
    "import numpy as np\n",
    "from include.remote_calls import get_binance_price_coingecko"
   ]
  },
  {
   "cell_type": "code",
   "execution_count": 2,
   "metadata": {},
   "outputs": [],
   "source": [
    "def intersection(resell_list, sell_list):\n",
    "    \"\"\"\n",
    "    All elements found in resell and not found in sell, thus, active sales.\n",
    "    \"\"\"\n",
    "    lst3 = [value for value in resell_list if value not in sell_list]\n",
    "    return lst3"
   ]
  },
  {
   "cell_type": "code",
   "execution_count": 3,
   "metadata": {},
   "outputs": [],
   "source": [
    "trx_df = pd.read_csv(\"db/transactions/transactions_hist.csv\", parse_dates=['date'])"
   ]
  },
  {
   "cell_type": "code",
   "execution_count": 4,
   "metadata": {},
   "outputs": [],
   "source": [
    "# Check active sales\n",
    "trx_resell_df = trx_df[trx_df['tr_type'] == 'resell']\n",
    "trx_resell = trx_resell_df['ship_id'].unique()\n",
    "\n",
    "trx_sell_df = trx_df[trx_df['tr_type'] == 'sell']\n",
    "trx_sell = trx_sell_df['ship_id'].unique()\n",
    "\n",
    "trx_active = intersection(trx_resell, trx_sell)\n"
   ]
  },
  {
   "cell_type": "code",
   "execution_count": 5,
   "metadata": {},
   "outputs": [
    {
     "data": {
      "text/plain": [
       "33.15"
      ]
     },
     "execution_count": 5,
     "metadata": {},
     "output_type": "execute_result"
    }
   ],
   "source": [
    "# Total profit\n",
    "hist_df = trx_df[~trx_df['ship_id'].isin(trx_active)]\n",
    "buy_df = hist_df[hist_df['tr_type'] == 'buy']\n",
    "sell_df = hist_df[hist_df['tr_type'] == 'sell']\n",
    "bnb_price = get_binance_price_coingecko()\n",
    "\n",
    "round((sell_df['price'].sum() - buy_df['price'].sum()) * bnb_price,2)"
   ]
  },
  {
   "cell_type": "code",
   "execution_count": 6,
   "metadata": {},
   "outputs": [
    {
     "data": {
      "text/plain": [
       "Timedelta('56 days 00:00:00')"
      ]
     },
     "execution_count": 6,
     "metadata": {},
     "output_type": "execute_result"
    }
   ],
   "source": [
    "# Period of time\n",
    "hist_df['date'].max() - hist_df['date'].min()"
   ]
  },
  {
   "cell_type": "code",
   "execution_count": 7,
   "metadata": {},
   "outputs": [
    {
     "data": {
      "text/html": [
       "<div>\n",
       "<style scoped>\n",
       "    .dataframe tbody tr th:only-of-type {\n",
       "        vertical-align: middle;\n",
       "    }\n",
       "\n",
       "    .dataframe tbody tr th {\n",
       "        vertical-align: top;\n",
       "    }\n",
       "\n",
       "    .dataframe thead th {\n",
       "        text-align: right;\n",
       "    }\n",
       "</style>\n",
       "<table border=\"1\" class=\"dataframe\">\n",
       "  <thead>\n",
       "    <tr style=\"text-align: right;\">\n",
       "      <th></th>\n",
       "      <th>ship_id</th>\n",
       "      <th>space</th>\n",
       "      <th>speed</th>\n",
       "      <th>skill</th>\n",
       "      <th>defence</th>\n",
       "      <th>attack</th>\n",
       "      <th>morale</th>\n",
       "      <th>total</th>\n",
       "      <th>price</th>\n",
       "    </tr>\n",
       "  </thead>\n",
       "  <tbody>\n",
       "    <tr>\n",
       "      <th>0</th>\n",
       "      <td>14165</td>\n",
       "      <td>5</td>\n",
       "      <td>15</td>\n",
       "      <td>5</td>\n",
       "      <td>9</td>\n",
       "      <td>14</td>\n",
       "      <td>11</td>\n",
       "      <td>59</td>\n",
       "      <td>0.086</td>\n",
       "    </tr>\n",
       "    <tr>\n",
       "      <th>1</th>\n",
       "      <td>18426</td>\n",
       "      <td>7</td>\n",
       "      <td>12</td>\n",
       "      <td>14</td>\n",
       "      <td>12</td>\n",
       "      <td>11</td>\n",
       "      <td>13</td>\n",
       "      <td>69</td>\n",
       "      <td>0.100</td>\n",
       "    </tr>\n",
       "  </tbody>\n",
       "</table>\n",
       "</div>"
      ],
      "text/plain": [
       "   ship_id  space  speed  skill  defence  attack  morale  total  price\n",
       "0    14165      5     15      5        9      14      11     59  0.086\n",
       "1    18426      7     12     14       12      11      13     69  0.100"
      ]
     },
     "execution_count": 7,
     "metadata": {},
     "output_type": "execute_result"
    }
   ],
   "source": [
    "# [WIP] Active sales. [!!! Get ship stats online not offline]\n",
    "sold_ships_df = pd.read_csv(\"db/extracted_sold_BNB_old.csv\", header=None)\n",
    "sold_ships_df.drop_duplicates(subset=[1], keep='last', inplace=True)\n",
    "\n",
    "ships_active_df = sold_ships_df[sold_ships_df[1].isin(trx_active)][[1,5,6,7,8,9,10]]\n",
    "ships_active_df.reset_index(drop=True, inplace=True)\n",
    "columns = ['ship_id','space', 'speed', 'skill', 'defence', 'attack', 'morale']\n",
    "ships_active_df.columns=columns\n",
    "ships_active_df['total'] = ships_active_df.drop('ship_id',axis=1).sum(axis=1)\n",
    "tr_hist_resale_df = trx_df[trx_df['tr_type'] == 'resell']\\\n",
    "    .drop_duplicates(subset=['ship_id'], keep='last')[['ship_id','price']]\n",
    "ships_active_df.merge(tr_hist_resale_df, on='ship_id')"
   ]
  },
  {
   "cell_type": "code",
   "execution_count": 8,
   "metadata": {},
   "outputs": [],
   "source": [
    "# see a total of each stats for all ships sold. bar chart\n",
    "sold_df = pd.read_csv(\"db/extracted/all_sold_ships.csv\")\n",
    "# df_agg_sold = sold_df.groupby(['space','speed']).agg('sum')\n",
    "# df_agg_sold"
   ]
  },
  {
   "cell_type": "code",
   "execution_count": 9,
   "metadata": {},
   "outputs": [],
   "source": [
    "#"
   ]
  }
 ],
 "metadata": {
  "interpreter": {
   "hash": "63a3210ed32c8c5e8c5daf40c6fb71e88ea33494b3eaa8a6f1212a2d7aa3f0ac"
  },
  "kernelspec": {
   "display_name": "Python 3.8.8 64-bit ('base': conda)",
   "name": "python3"
  },
  "language_info": {
   "codemirror_mode": {
    "name": "ipython",
    "version": 3
   },
   "file_extension": ".py",
   "mimetype": "text/x-python",
   "name": "python",
   "nbconvert_exporter": "python",
   "pygments_lexer": "ipython3",
   "version": "3.8.8"
  },
  "orig_nbformat": 4
 },
 "nbformat": 4,
 "nbformat_minor": 2
}
