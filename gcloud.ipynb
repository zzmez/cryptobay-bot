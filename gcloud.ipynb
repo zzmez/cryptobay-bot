{
 "cells": [
  {
   "cell_type": "code",
   "execution_count": 1,
   "source": [
    "#from include.utils import *\r\n",
    "import requests"
   ],
   "outputs": [],
   "metadata": {}
  },
  {
   "cell_type": "code",
   "execution_count": 7,
   "source": [
    "r = requests.get('https://api.cryptobay.io/bay/cryptobaygetobject?data=%7B%22token_type%22%3A1%2C%22token_id%22%3A6850%2C%22with_powerpoints%22%3Atrue%2C%22with_level%22%3Atrue%7D')\\\r\n",
    "    .json()"
   ],
   "outputs": [],
   "metadata": {}
  },
  {
   "cell_type": "code",
   "execution_count": 8,
   "source": [
    "r"
   ],
   "outputs": [
    {
     "output_type": "execute_result",
     "data": {
      "text/plain": [
       "{'errno': 0,\n",
       " 'data': {'id': '7851',\n",
       "  'channel_type': 'bnb',\n",
       "  'token_id': '6850',\n",
       "  'owner': '0xB163D78586d8b408D51A5CbA374CD5ef52656baA',\n",
       "  'name': '',\n",
       "  'exp': '1',\n",
       "  'level': '1',\n",
       "  'source': '0',\n",
       "  'skill': '13',\n",
       "  'speed': '11',\n",
       "  'defence': '7',\n",
       "  'attack': '8',\n",
       "  'space': '9',\n",
       "  'morale': '5',\n",
       "  'k_skill': '126',\n",
       "  'k_speed': '139',\n",
       "  'k_defence': '70',\n",
       "  'k_attack': '43',\n",
       "  'k_space': '11',\n",
       "  'k_morale': '98',\n",
       "  'durability': '89',\n",
       "  'dismantle': '0',\n",
       "  'class': '0',\n",
       "  'mystic': '0',\n",
       "  'pureness': '1',\n",
       "  'raw_skill': '13',\n",
       "  'raw_speed': '11',\n",
       "  'raw_defence': '7',\n",
       "  'raw_attack': '8',\n",
       "  'raw_space': '9',\n",
       "  'raw_morale': '5',\n",
       "  'raw_class': '0',\n",
       "  'energy_time': '1634075074',\n",
       "  'state': '0',\n",
       "  'create_time': '1630548340',\n",
       "  'update_time': '1634137819',\n",
       "  'powerpoints': {'min': 0, 'available': 0},\n",
       "  'max_level_exp': 5},\n",
       " 'errmsg': ''}"
      ]
     },
     "metadata": {},
     "execution_count": 8
    }
   ],
   "metadata": {}
  }
 ],
 "metadata": {
  "orig_nbformat": 4,
  "language_info": {
   "name": "python",
   "version": "3.8.8",
   "mimetype": "text/x-python",
   "codemirror_mode": {
    "name": "ipython",
    "version": 3
   },
   "pygments_lexer": "ipython3",
   "nbconvert_exporter": "python",
   "file_extension": ".py"
  },
  "kernelspec": {
   "name": "python3",
   "display_name": "Python 3.8.8 64-bit ('base': conda)"
  },
  "interpreter": {
   "hash": "63a3210ed32c8c5e8c5daf40c6fb71e88ea33494b3eaa8a6f1212a2d7aa3f0ac"
  }
 },
 "nbformat": 4,
 "nbformat_minor": 2
}