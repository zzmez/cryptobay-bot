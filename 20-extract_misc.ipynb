{
 "cells": [
  {
   "cell_type": "code",
   "execution_count": 7,
   "metadata": {},
   "outputs": [],
   "source": [
    "#USED FOR AIRFLOW\n",
    "import os\n",
    "try:\n",
    "    relative_location\n",
    "except NameError:\n",
    "    relative_location = \"\"\n",
    "\n",
    "if relative_location != \"\":\n",
    "    os.chdir(relative_location)"
   ]
  },
  {
   "cell_type": "code",
   "execution_count": 8,
   "metadata": {},
   "outputs": [],
   "source": [
    "import pandas as pd\n",
    "import csv\n",
    "import time\n",
    "import requests\n",
    "from os.path import exists\n",
    "from datetime import date, datetime, timezone"
   ]
  },
  {
   "cell_type": "code",
   "execution_count": 9,
   "metadata": {},
   "outputs": [],
   "source": [
    "sold_stats_url = f'https://api.cryptobay.top/bay/cryptobaygetauctionsummary?data=%7B%22timestamp%22%3A{int(time.time())}%7D'\n",
    "raw_json = requests.get(sold_stats_url).json()\n",
    "raw_json\n",
    "columns = ['date', 'time', 'total_sale_24h', 'total_sold_24h',\\\n",
    "    'total_sale_7d', 'total_sold_7d', 'total_sale_31d', 'total_sold_31d']"
   ]
  },
  {
   "cell_type": "code",
   "execution_count": 10,
   "metadata": {},
   "outputs": [],
   "source": [
    "day = datetime.today().strftime('%Y-%m-%d')\n",
    "time = datetime.now(timezone.utc).strftime('%H:%M:%S')\n",
    "total_sale_24h = raw_json['data']['24h']['total_sale']\n",
    "total_sold_24h = raw_json['data']['24h']['total_sold']\n",
    "\n",
    "total_sale_7d = raw_json['data']['7days']['total_sale']\n",
    "total_sold_7d = raw_json['data']['7days']['total_sold']\n",
    "\n",
    "total_sale_31d = raw_json['data']['30days']['total_sale']\n",
    "total_sold_31d = raw_json['data']['30days']['total_sold']"
   ]
  },
  {
   "cell_type": "code",
   "execution_count": 11,
   "metadata": {},
   "outputs": [],
   "source": [
    "# Create file if it doesn't exist\n",
    "sold_stats_file = \"db/misc/total_sold_stats.csv\"\n",
    "sold_stats_df = pd.DataFrame(columns=columns)"
   ]
  },
  {
   "cell_type": "code",
   "execution_count": 13,
   "metadata": {},
   "outputs": [],
   "source": [
    "# If file exists, then append extracted data\n",
    "_series = pd.Series([day, time, total_sale_24h, total_sold_24h,\\\n",
    "        total_sale_7d, total_sold_7d, total_sale_31d, total_sold_31d], index=columns)\n",
    "sold_stats_df = sold_stats_df.append(_series, ignore_index=True)\n",
    "sold_stats_df.to_csv(sold_stats_file, index=False, mode='a', header=False)"
   ]
  }
 ],
 "metadata": {
  "interpreter": {
   "hash": "63a3210ed32c8c5e8c5daf40c6fb71e88ea33494b3eaa8a6f1212a2d7aa3f0ac"
  },
  "kernelspec": {
   "display_name": "Python 3.8.8 64-bit ('base': conda)",
   "name": "python3"
  },
  "language_info": {
   "codemirror_mode": {
    "name": "ipython",
    "version": 3
   },
   "file_extension": ".py",
   "mimetype": "text/x-python",
   "name": "python",
   "nbconvert_exporter": "python",
   "pygments_lexer": "ipython3",
   "version": "3.8.8"
  },
  "orig_nbformat": 4
 },
 "nbformat": 4,
 "nbformat_minor": 2
}
